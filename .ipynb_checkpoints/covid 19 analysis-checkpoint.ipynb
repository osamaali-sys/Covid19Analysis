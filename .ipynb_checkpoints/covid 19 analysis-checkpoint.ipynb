{
 "cells": [
  {
   "cell_type": "code",
   "execution_count": 1,
   "metadata": {},
   "outputs": [
    {
     "data": {
      "text/html": [
       "        <script type=\"text/javascript\">\n",
       "        window.PlotlyConfig = {MathJaxConfig: 'local'};\n",
       "        if (window.MathJax) {MathJax.Hub.Config({SVG: {font: \"STIX-Web\"}});}\n",
       "        if (typeof require !== 'undefined') {\n",
       "        require.undef(\"plotly\");\n",
       "        requirejs.config({\n",
       "            paths: {\n",
       "                'plotly': ['https://cdn.plot.ly/plotly-latest.min']\n",
       "            }\n",
       "        });\n",
       "        require(['plotly'], function(Plotly) {\n",
       "            window._Plotly = Plotly;\n",
       "        });\n",
       "        }\n",
       "        </script>\n",
       "        "
      ]
     },
     "metadata": {},
     "output_type": "display_data"
    }
   ],
   "source": [
    "# Import libraries\n",
    "import numpy as np \n",
    "import pandas as pd \n",
    "import plotly as py\n",
    "import plotly.express as px\n",
    "import plotly.graph_objs as go\n",
    "from plotly.subplots import make_subplots\n",
    "from plotly.offline import download_plotlyjs, init_notebook_mode, plot, iplot\n",
    "init_notebook_mode(connected=True)\n",
    "from config import API_key"
   ]
  },
  {
   "cell_type": "code",
   "execution_count": 2,
   "metadata": {},
   "outputs": [],
   "source": [
    "# Read Data\n",
    "day_df = pd.read_csv(\"covid19 dataset/day_wise.csv\")\n",
    "clean_df= pd.read_csv(\"covid19 dataset/covid_19_clean_complete.csv\")\n",
    "grouped_df= pd.read_csv(\"covid19 dataset/full_grouped.csv\")\n",
    "usa_df= pd.read_csv(\"covid19 dataset/usa_county_wise.csv\")\n",
    "countries_df= pd.read_csv(\"covid19 dataset/country_wise_latest.csv\")"
   ]
  },
  {
   "cell_type": "code",
   "execution_count": 3,
   "metadata": {},
   "outputs": [
    {
     "data": {
      "text/html": [
       "<div>\n",
       "<style scoped>\n",
       "    .dataframe tbody tr th:only-of-type {\n",
       "        vertical-align: middle;\n",
       "    }\n",
       "\n",
       "    .dataframe tbody tr th {\n",
       "        vertical-align: top;\n",
       "    }\n",
       "\n",
       "    .dataframe thead th {\n",
       "        text-align: right;\n",
       "    }\n",
       "</style>\n",
       "<table border=\"1\" class=\"dataframe\">\n",
       "  <thead>\n",
       "    <tr style=\"text-align: right;\">\n",
       "      <th></th>\n",
       "      <th>UID</th>\n",
       "      <th>iso2</th>\n",
       "      <th>iso3</th>\n",
       "      <th>code3</th>\n",
       "      <th>FIPS</th>\n",
       "      <th>Admin2</th>\n",
       "      <th>Province_State</th>\n",
       "      <th>Country_Region</th>\n",
       "      <th>Lat</th>\n",
       "      <th>Long_</th>\n",
       "      <th>Combined_Key</th>\n",
       "      <th>Date</th>\n",
       "      <th>Confirmed</th>\n",
       "      <th>Deaths</th>\n",
       "    </tr>\n",
       "  </thead>\n",
       "  <tbody>\n",
       "    <tr>\n",
       "      <th>0</th>\n",
       "      <td>16</td>\n",
       "      <td>AS</td>\n",
       "      <td>ASM</td>\n",
       "      <td>16</td>\n",
       "      <td>60.0</td>\n",
       "      <td>NaN</td>\n",
       "      <td>American Samoa</td>\n",
       "      <td>US</td>\n",
       "      <td>-14.271000</td>\n",
       "      <td>-170.132000</td>\n",
       "      <td>American Samoa, US</td>\n",
       "      <td>1/22/20</td>\n",
       "      <td>0</td>\n",
       "      <td>0</td>\n",
       "    </tr>\n",
       "    <tr>\n",
       "      <th>1</th>\n",
       "      <td>316</td>\n",
       "      <td>GU</td>\n",
       "      <td>GUM</td>\n",
       "      <td>316</td>\n",
       "      <td>66.0</td>\n",
       "      <td>NaN</td>\n",
       "      <td>Guam</td>\n",
       "      <td>US</td>\n",
       "      <td>13.444300</td>\n",
       "      <td>144.793700</td>\n",
       "      <td>Guam, US</td>\n",
       "      <td>1/22/20</td>\n",
       "      <td>0</td>\n",
       "      <td>0</td>\n",
       "    </tr>\n",
       "    <tr>\n",
       "      <th>2</th>\n",
       "      <td>580</td>\n",
       "      <td>MP</td>\n",
       "      <td>MNP</td>\n",
       "      <td>580</td>\n",
       "      <td>69.0</td>\n",
       "      <td>NaN</td>\n",
       "      <td>Northern Mariana Islands</td>\n",
       "      <td>US</td>\n",
       "      <td>15.097900</td>\n",
       "      <td>145.673900</td>\n",
       "      <td>Northern Mariana Islands, US</td>\n",
       "      <td>1/22/20</td>\n",
       "      <td>0</td>\n",
       "      <td>0</td>\n",
       "    </tr>\n",
       "    <tr>\n",
       "      <th>3</th>\n",
       "      <td>63072001</td>\n",
       "      <td>PR</td>\n",
       "      <td>PRI</td>\n",
       "      <td>630</td>\n",
       "      <td>72001.0</td>\n",
       "      <td>Adjuntas</td>\n",
       "      <td>Puerto Rico</td>\n",
       "      <td>US</td>\n",
       "      <td>18.180117</td>\n",
       "      <td>-66.754367</td>\n",
       "      <td>Adjuntas, Puerto Rico, US</td>\n",
       "      <td>1/22/20</td>\n",
       "      <td>0</td>\n",
       "      <td>0</td>\n",
       "    </tr>\n",
       "    <tr>\n",
       "      <th>4</th>\n",
       "      <td>63072003</td>\n",
       "      <td>PR</td>\n",
       "      <td>PRI</td>\n",
       "      <td>630</td>\n",
       "      <td>72003.0</td>\n",
       "      <td>Aguada</td>\n",
       "      <td>Puerto Rico</td>\n",
       "      <td>US</td>\n",
       "      <td>18.360255</td>\n",
       "      <td>-67.175131</td>\n",
       "      <td>Aguada, Puerto Rico, US</td>\n",
       "      <td>1/22/20</td>\n",
       "      <td>0</td>\n",
       "      <td>0</td>\n",
       "    </tr>\n",
       "    <tr>\n",
       "      <th>...</th>\n",
       "      <td>...</td>\n",
       "      <td>...</td>\n",
       "      <td>...</td>\n",
       "      <td>...</td>\n",
       "      <td>...</td>\n",
       "      <td>...</td>\n",
       "      <td>...</td>\n",
       "      <td>...</td>\n",
       "      <td>...</td>\n",
       "      <td>...</td>\n",
       "      <td>...</td>\n",
       "      <td>...</td>\n",
       "      <td>...</td>\n",
       "      <td>...</td>\n",
       "    </tr>\n",
       "    <tr>\n",
       "      <th>627915</th>\n",
       "      <td>84070016</td>\n",
       "      <td>US</td>\n",
       "      <td>USA</td>\n",
       "      <td>840</td>\n",
       "      <td>NaN</td>\n",
       "      <td>Central Utah</td>\n",
       "      <td>Utah</td>\n",
       "      <td>US</td>\n",
       "      <td>39.372319</td>\n",
       "      <td>-111.575868</td>\n",
       "      <td>Central Utah, Utah, US</td>\n",
       "      <td>7/27/20</td>\n",
       "      <td>347</td>\n",
       "      <td>1</td>\n",
       "    </tr>\n",
       "    <tr>\n",
       "      <th>627916</th>\n",
       "      <td>84070017</td>\n",
       "      <td>US</td>\n",
       "      <td>USA</td>\n",
       "      <td>840</td>\n",
       "      <td>NaN</td>\n",
       "      <td>Southeast Utah</td>\n",
       "      <td>Utah</td>\n",
       "      <td>US</td>\n",
       "      <td>38.996171</td>\n",
       "      <td>-110.701396</td>\n",
       "      <td>Southeast Utah, Utah, US</td>\n",
       "      <td>7/27/20</td>\n",
       "      <td>70</td>\n",
       "      <td>0</td>\n",
       "    </tr>\n",
       "    <tr>\n",
       "      <th>627917</th>\n",
       "      <td>84070018</td>\n",
       "      <td>US</td>\n",
       "      <td>USA</td>\n",
       "      <td>840</td>\n",
       "      <td>NaN</td>\n",
       "      <td>Southwest Utah</td>\n",
       "      <td>Utah</td>\n",
       "      <td>US</td>\n",
       "      <td>37.854472</td>\n",
       "      <td>-111.441876</td>\n",
       "      <td>Southwest Utah, Utah, US</td>\n",
       "      <td>7/27/20</td>\n",
       "      <td>2781</td>\n",
       "      <td>23</td>\n",
       "    </tr>\n",
       "    <tr>\n",
       "      <th>627918</th>\n",
       "      <td>84070019</td>\n",
       "      <td>US</td>\n",
       "      <td>USA</td>\n",
       "      <td>840</td>\n",
       "      <td>NaN</td>\n",
       "      <td>TriCounty</td>\n",
       "      <td>Utah</td>\n",
       "      <td>US</td>\n",
       "      <td>40.124915</td>\n",
       "      <td>-109.517442</td>\n",
       "      <td>TriCounty, Utah, US</td>\n",
       "      <td>7/27/20</td>\n",
       "      <td>142</td>\n",
       "      <td>0</td>\n",
       "    </tr>\n",
       "    <tr>\n",
       "      <th>627919</th>\n",
       "      <td>84070020</td>\n",
       "      <td>US</td>\n",
       "      <td>USA</td>\n",
       "      <td>840</td>\n",
       "      <td>NaN</td>\n",
       "      <td>Weber-Morgan</td>\n",
       "      <td>Utah</td>\n",
       "      <td>US</td>\n",
       "      <td>41.271160</td>\n",
       "      <td>-111.914512</td>\n",
       "      <td>Weber-Morgan, Utah, US</td>\n",
       "      <td>7/27/20</td>\n",
       "      <td>2375</td>\n",
       "      <td>24</td>\n",
       "    </tr>\n",
       "  </tbody>\n",
       "</table>\n",
       "<p>627920 rows × 14 columns</p>\n",
       "</div>"
      ],
      "text/plain": [
       "             UID iso2 iso3  code3     FIPS          Admin2  \\\n",
       "0             16   AS  ASM     16     60.0             NaN   \n",
       "1            316   GU  GUM    316     66.0             NaN   \n",
       "2            580   MP  MNP    580     69.0             NaN   \n",
       "3       63072001   PR  PRI    630  72001.0        Adjuntas   \n",
       "4       63072003   PR  PRI    630  72003.0          Aguada   \n",
       "...          ...  ...  ...    ...      ...             ...   \n",
       "627915  84070016   US  USA    840      NaN    Central Utah   \n",
       "627916  84070017   US  USA    840      NaN  Southeast Utah   \n",
       "627917  84070018   US  USA    840      NaN  Southwest Utah   \n",
       "627918  84070019   US  USA    840      NaN       TriCounty   \n",
       "627919  84070020   US  USA    840      NaN    Weber-Morgan   \n",
       "\n",
       "                  Province_State Country_Region        Lat       Long_  \\\n",
       "0                 American Samoa             US -14.271000 -170.132000   \n",
       "1                           Guam             US  13.444300  144.793700   \n",
       "2       Northern Mariana Islands             US  15.097900  145.673900   \n",
       "3                    Puerto Rico             US  18.180117  -66.754367   \n",
       "4                    Puerto Rico             US  18.360255  -67.175131   \n",
       "...                          ...            ...        ...         ...   \n",
       "627915                      Utah             US  39.372319 -111.575868   \n",
       "627916                      Utah             US  38.996171 -110.701396   \n",
       "627917                      Utah             US  37.854472 -111.441876   \n",
       "627918                      Utah             US  40.124915 -109.517442   \n",
       "627919                      Utah             US  41.271160 -111.914512   \n",
       "\n",
       "                        Combined_Key     Date  Confirmed  Deaths  \n",
       "0                 American Samoa, US  1/22/20          0       0  \n",
       "1                           Guam, US  1/22/20          0       0  \n",
       "2       Northern Mariana Islands, US  1/22/20          0       0  \n",
       "3          Adjuntas, Puerto Rico, US  1/22/20          0       0  \n",
       "4            Aguada, Puerto Rico, US  1/22/20          0       0  \n",
       "...                              ...      ...        ...     ...  \n",
       "627915        Central Utah, Utah, US  7/27/20        347       1  \n",
       "627916      Southeast Utah, Utah, US  7/27/20         70       0  \n",
       "627917      Southwest Utah, Utah, US  7/27/20       2781      23  \n",
       "627918           TriCounty, Utah, US  7/27/20        142       0  \n",
       "627919        Weber-Morgan, Utah, US  7/27/20       2375      24  \n",
       "\n",
       "[627920 rows x 14 columns]"
      ]
     },
     "execution_count": 3,
     "metadata": {},
     "output_type": "execute_result"
    }
   ],
   "source": [
    "usa_df"
   ]
  },
  {
   "cell_type": "code",
   "execution_count": 4,
   "metadata": {},
   "outputs": [],
   "source": [
    "# Rename columns\n",
    "usa_df = usa_df.rename(columns={'Province_State':'USA-states'})"
   ]
  },
  {
   "cell_type": "code",
   "execution_count": 5,
   "metadata": {},
   "outputs": [
    {
     "data": {
      "text/html": [
       "<div>\n",
       "<style scoped>\n",
       "    .dataframe tbody tr th:only-of-type {\n",
       "        vertical-align: middle;\n",
       "    }\n",
       "\n",
       "    .dataframe tbody tr th {\n",
       "        vertical-align: top;\n",
       "    }\n",
       "\n",
       "    .dataframe thead th {\n",
       "        text-align: right;\n",
       "    }\n",
       "</style>\n",
       "<table border=\"1\" class=\"dataframe\">\n",
       "  <thead>\n",
       "    <tr style=\"text-align: right;\">\n",
       "      <th></th>\n",
       "      <th>UID</th>\n",
       "      <th>iso2</th>\n",
       "      <th>iso3</th>\n",
       "      <th>code3</th>\n",
       "      <th>FIPS</th>\n",
       "      <th>Admin2</th>\n",
       "      <th>USA-states</th>\n",
       "      <th>Country_Region</th>\n",
       "      <th>Lat</th>\n",
       "      <th>Long_</th>\n",
       "      <th>Combined_Key</th>\n",
       "      <th>Date</th>\n",
       "      <th>Confirmed</th>\n",
       "      <th>Deaths</th>\n",
       "    </tr>\n",
       "  </thead>\n",
       "  <tbody>\n",
       "    <tr>\n",
       "      <th>0</th>\n",
       "      <td>16</td>\n",
       "      <td>AS</td>\n",
       "      <td>ASM</td>\n",
       "      <td>16</td>\n",
       "      <td>60.0</td>\n",
       "      <td>NaN</td>\n",
       "      <td>American Samoa</td>\n",
       "      <td>US</td>\n",
       "      <td>-14.271000</td>\n",
       "      <td>-170.132000</td>\n",
       "      <td>American Samoa, US</td>\n",
       "      <td>1/22/20</td>\n",
       "      <td>0</td>\n",
       "      <td>0</td>\n",
       "    </tr>\n",
       "    <tr>\n",
       "      <th>1</th>\n",
       "      <td>316</td>\n",
       "      <td>GU</td>\n",
       "      <td>GUM</td>\n",
       "      <td>316</td>\n",
       "      <td>66.0</td>\n",
       "      <td>NaN</td>\n",
       "      <td>Guam</td>\n",
       "      <td>US</td>\n",
       "      <td>13.444300</td>\n",
       "      <td>144.793700</td>\n",
       "      <td>Guam, US</td>\n",
       "      <td>1/22/20</td>\n",
       "      <td>0</td>\n",
       "      <td>0</td>\n",
       "    </tr>\n",
       "    <tr>\n",
       "      <th>2</th>\n",
       "      <td>580</td>\n",
       "      <td>MP</td>\n",
       "      <td>MNP</td>\n",
       "      <td>580</td>\n",
       "      <td>69.0</td>\n",
       "      <td>NaN</td>\n",
       "      <td>Northern Mariana Islands</td>\n",
       "      <td>US</td>\n",
       "      <td>15.097900</td>\n",
       "      <td>145.673900</td>\n",
       "      <td>Northern Mariana Islands, US</td>\n",
       "      <td>1/22/20</td>\n",
       "      <td>0</td>\n",
       "      <td>0</td>\n",
       "    </tr>\n",
       "    <tr>\n",
       "      <th>3</th>\n",
       "      <td>63072001</td>\n",
       "      <td>PR</td>\n",
       "      <td>PRI</td>\n",
       "      <td>630</td>\n",
       "      <td>72001.0</td>\n",
       "      <td>Adjuntas</td>\n",
       "      <td>Puerto Rico</td>\n",
       "      <td>US</td>\n",
       "      <td>18.180117</td>\n",
       "      <td>-66.754367</td>\n",
       "      <td>Adjuntas, Puerto Rico, US</td>\n",
       "      <td>1/22/20</td>\n",
       "      <td>0</td>\n",
       "      <td>0</td>\n",
       "    </tr>\n",
       "    <tr>\n",
       "      <th>4</th>\n",
       "      <td>63072003</td>\n",
       "      <td>PR</td>\n",
       "      <td>PRI</td>\n",
       "      <td>630</td>\n",
       "      <td>72003.0</td>\n",
       "      <td>Aguada</td>\n",
       "      <td>Puerto Rico</td>\n",
       "      <td>US</td>\n",
       "      <td>18.360255</td>\n",
       "      <td>-67.175131</td>\n",
       "      <td>Aguada, Puerto Rico, US</td>\n",
       "      <td>1/22/20</td>\n",
       "      <td>0</td>\n",
       "      <td>0</td>\n",
       "    </tr>\n",
       "    <tr>\n",
       "      <th>...</th>\n",
       "      <td>...</td>\n",
       "      <td>...</td>\n",
       "      <td>...</td>\n",
       "      <td>...</td>\n",
       "      <td>...</td>\n",
       "      <td>...</td>\n",
       "      <td>...</td>\n",
       "      <td>...</td>\n",
       "      <td>...</td>\n",
       "      <td>...</td>\n",
       "      <td>...</td>\n",
       "      <td>...</td>\n",
       "      <td>...</td>\n",
       "      <td>...</td>\n",
       "    </tr>\n",
       "    <tr>\n",
       "      <th>627915</th>\n",
       "      <td>84070016</td>\n",
       "      <td>US</td>\n",
       "      <td>USA</td>\n",
       "      <td>840</td>\n",
       "      <td>NaN</td>\n",
       "      <td>Central Utah</td>\n",
       "      <td>Utah</td>\n",
       "      <td>US</td>\n",
       "      <td>39.372319</td>\n",
       "      <td>-111.575868</td>\n",
       "      <td>Central Utah, Utah, US</td>\n",
       "      <td>7/27/20</td>\n",
       "      <td>347</td>\n",
       "      <td>1</td>\n",
       "    </tr>\n",
       "    <tr>\n",
       "      <th>627916</th>\n",
       "      <td>84070017</td>\n",
       "      <td>US</td>\n",
       "      <td>USA</td>\n",
       "      <td>840</td>\n",
       "      <td>NaN</td>\n",
       "      <td>Southeast Utah</td>\n",
       "      <td>Utah</td>\n",
       "      <td>US</td>\n",
       "      <td>38.996171</td>\n",
       "      <td>-110.701396</td>\n",
       "      <td>Southeast Utah, Utah, US</td>\n",
       "      <td>7/27/20</td>\n",
       "      <td>70</td>\n",
       "      <td>0</td>\n",
       "    </tr>\n",
       "    <tr>\n",
       "      <th>627917</th>\n",
       "      <td>84070018</td>\n",
       "      <td>US</td>\n",
       "      <td>USA</td>\n",
       "      <td>840</td>\n",
       "      <td>NaN</td>\n",
       "      <td>Southwest Utah</td>\n",
       "      <td>Utah</td>\n",
       "      <td>US</td>\n",
       "      <td>37.854472</td>\n",
       "      <td>-111.441876</td>\n",
       "      <td>Southwest Utah, Utah, US</td>\n",
       "      <td>7/27/20</td>\n",
       "      <td>2781</td>\n",
       "      <td>23</td>\n",
       "    </tr>\n",
       "    <tr>\n",
       "      <th>627918</th>\n",
       "      <td>84070019</td>\n",
       "      <td>US</td>\n",
       "      <td>USA</td>\n",
       "      <td>840</td>\n",
       "      <td>NaN</td>\n",
       "      <td>TriCounty</td>\n",
       "      <td>Utah</td>\n",
       "      <td>US</td>\n",
       "      <td>40.124915</td>\n",
       "      <td>-109.517442</td>\n",
       "      <td>TriCounty, Utah, US</td>\n",
       "      <td>7/27/20</td>\n",
       "      <td>142</td>\n",
       "      <td>0</td>\n",
       "    </tr>\n",
       "    <tr>\n",
       "      <th>627919</th>\n",
       "      <td>84070020</td>\n",
       "      <td>US</td>\n",
       "      <td>USA</td>\n",
       "      <td>840</td>\n",
       "      <td>NaN</td>\n",
       "      <td>Weber-Morgan</td>\n",
       "      <td>Utah</td>\n",
       "      <td>US</td>\n",
       "      <td>41.271160</td>\n",
       "      <td>-111.914512</td>\n",
       "      <td>Weber-Morgan, Utah, US</td>\n",
       "      <td>7/27/20</td>\n",
       "      <td>2375</td>\n",
       "      <td>24</td>\n",
       "    </tr>\n",
       "  </tbody>\n",
       "</table>\n",
       "<p>627920 rows × 14 columns</p>\n",
       "</div>"
      ],
      "text/plain": [
       "             UID iso2 iso3  code3     FIPS          Admin2  \\\n",
       "0             16   AS  ASM     16     60.0             NaN   \n",
       "1            316   GU  GUM    316     66.0             NaN   \n",
       "2            580   MP  MNP    580     69.0             NaN   \n",
       "3       63072001   PR  PRI    630  72001.0        Adjuntas   \n",
       "4       63072003   PR  PRI    630  72003.0          Aguada   \n",
       "...          ...  ...  ...    ...      ...             ...   \n",
       "627915  84070016   US  USA    840      NaN    Central Utah   \n",
       "627916  84070017   US  USA    840      NaN  Southeast Utah   \n",
       "627917  84070018   US  USA    840      NaN  Southwest Utah   \n",
       "627918  84070019   US  USA    840      NaN       TriCounty   \n",
       "627919  84070020   US  USA    840      NaN    Weber-Morgan   \n",
       "\n",
       "                      USA-states Country_Region        Lat       Long_  \\\n",
       "0                 American Samoa             US -14.271000 -170.132000   \n",
       "1                           Guam             US  13.444300  144.793700   \n",
       "2       Northern Mariana Islands             US  15.097900  145.673900   \n",
       "3                    Puerto Rico             US  18.180117  -66.754367   \n",
       "4                    Puerto Rico             US  18.360255  -67.175131   \n",
       "...                          ...            ...        ...         ...   \n",
       "627915                      Utah             US  39.372319 -111.575868   \n",
       "627916                      Utah             US  38.996171 -110.701396   \n",
       "627917                      Utah             US  37.854472 -111.441876   \n",
       "627918                      Utah             US  40.124915 -109.517442   \n",
       "627919                      Utah             US  41.271160 -111.914512   \n",
       "\n",
       "                        Combined_Key     Date  Confirmed  Deaths  \n",
       "0                 American Samoa, US  1/22/20          0       0  \n",
       "1                           Guam, US  1/22/20          0       0  \n",
       "2       Northern Mariana Islands, US  1/22/20          0       0  \n",
       "3          Adjuntas, Puerto Rico, US  1/22/20          0       0  \n",
       "4            Aguada, Puerto Rico, US  1/22/20          0       0  \n",
       "...                              ...      ...        ...     ...  \n",
       "627915        Central Utah, Utah, US  7/27/20        347       1  \n",
       "627916      Southeast Utah, Utah, US  7/27/20         70       0  \n",
       "627917      Southwest Utah, Utah, US  7/27/20       2781      23  \n",
       "627918           TriCounty, Utah, US  7/27/20        142       0  \n",
       "627919        Weber-Morgan, Utah, US  7/27/20       2375      24  \n",
       "\n",
       "[627920 rows x 14 columns]"
      ]
     },
     "execution_count": 5,
     "metadata": {},
     "output_type": "execute_result"
    }
   ],
   "source": [
    "usa_df"
   ]
  },
  {
   "cell_type": "code",
   "execution_count": 6,
   "metadata": {},
   "outputs": [
    {
     "data": {
      "text/html": [
       "<div>\n",
       "<style scoped>\n",
       "    .dataframe tbody tr th:only-of-type {\n",
       "        vertical-align: middle;\n",
       "    }\n",
       "\n",
       "    .dataframe tbody tr th {\n",
       "        vertical-align: top;\n",
       "    }\n",
       "\n",
       "    .dataframe thead th {\n",
       "        text-align: right;\n",
       "    }\n",
       "</style>\n",
       "<table border=\"1\" class=\"dataframe\">\n",
       "  <thead>\n",
       "    <tr style=\"text-align: right;\">\n",
       "      <th></th>\n",
       "      <th>USA-states</th>\n",
       "      <th>Date</th>\n",
       "      <th>UID</th>\n",
       "      <th>code3</th>\n",
       "      <th>FIPS</th>\n",
       "      <th>Lat</th>\n",
       "      <th>Long_</th>\n",
       "      <th>Confirmed</th>\n",
       "      <th>Deaths</th>\n",
       "    </tr>\n",
       "  </thead>\n",
       "  <tbody>\n",
       "    <tr>\n",
       "      <th>10903</th>\n",
       "      <td>Wyoming</td>\n",
       "      <td>7/9/20</td>\n",
       "      <td>2101458641</td>\n",
       "      <td>21000</td>\n",
       "      <td>1458641.0</td>\n",
       "      <td>990.998367</td>\n",
       "      <td>-2464.524571</td>\n",
       "      <td>1769</td>\n",
       "      <td>1</td>\n",
       "    </tr>\n",
       "    <tr>\n",
       "      <th>7331</th>\n",
       "      <td>North Dakota</td>\n",
       "      <td>7/9/20</td>\n",
       "      <td>4622186885</td>\n",
       "      <td>46200</td>\n",
       "      <td>2186885.0</td>\n",
       "      <td>2511.855857</td>\n",
       "      <td>-5313.217852</td>\n",
       "      <td>4071</td>\n",
       "      <td>85</td>\n",
       "    </tr>\n",
       "    <tr>\n",
       "      <th>3383</th>\n",
       "      <td>Illinois</td>\n",
       "      <td>7/9/20</td>\n",
       "      <td>8737914438</td>\n",
       "      <td>87360</td>\n",
       "      <td>1914438.0</td>\n",
       "      <td>4064.049006</td>\n",
       "      <td>-9096.189667</td>\n",
       "      <td>151572</td>\n",
       "      <td>7118</td>\n",
       "    </tr>\n",
       "    <tr>\n",
       "      <th>1503</th>\n",
       "      <td>Connecticut</td>\n",
       "      <td>7/9/20</td>\n",
       "      <td>840242082</td>\n",
       "      <td>8400</td>\n",
       "      <td>242082.0</td>\n",
       "      <td>332.909441</td>\n",
       "      <td>-581.254637</td>\n",
       "      <td>47209</td>\n",
       "      <td>4348</td>\n",
       "    </tr>\n",
       "    <tr>\n",
       "      <th>9587</th>\n",
       "      <td>Utah</td>\n",
       "      <td>7/9/20</td>\n",
       "      <td>3110012044</td>\n",
       "      <td>31080</td>\n",
       "      <td>1591939.0</td>\n",
       "      <td>1388.550986</td>\n",
       "      <td>-3904.519943</td>\n",
       "      <td>27356</td>\n",
       "      <td>217</td>\n",
       "    </tr>\n",
       "    <tr>\n",
       "      <th>10339</th>\n",
       "      <td>Washington</td>\n",
       "      <td>7/9/20</td>\n",
       "      <td>3446238627</td>\n",
       "      <td>34440</td>\n",
       "      <td>2238627.0</td>\n",
       "      <td>1842.117670</td>\n",
       "      <td>-4708.049596</td>\n",
       "      <td>38581</td>\n",
       "      <td>1409</td>\n",
       "    </tr>\n",
       "    <tr>\n",
       "      <th>6579</th>\n",
       "      <td>New Jersey</td>\n",
       "      <td>7/9/20</td>\n",
       "      <td>1932884509</td>\n",
       "      <td>19320</td>\n",
       "      <td>884509.0</td>\n",
       "      <td>846.015259</td>\n",
       "      <td>-1567.071444</td>\n",
       "      <td>174270</td>\n",
       "      <td>15448</td>\n",
       "    </tr>\n",
       "    <tr>\n",
       "      <th>751</th>\n",
       "      <td>Arizona</td>\n",
       "      <td>7/9/20</td>\n",
       "      <td>1428230216</td>\n",
       "      <td>14280</td>\n",
       "      <td>230216.0</td>\n",
       "      <td>505.138555</td>\n",
       "      <td>-1671.948482</td>\n",
       "      <td>112671</td>\n",
       "      <td>2063</td>\n",
       "    </tr>\n",
       "    <tr>\n",
       "      <th>2067</th>\n",
       "      <td>District of Columbia</td>\n",
       "      <td>7/9/20</td>\n",
       "      <td>252181023</td>\n",
       "      <td>2520</td>\n",
       "      <td>181023.0</td>\n",
       "      <td>38.904178</td>\n",
       "      <td>-77.016560</td>\n",
       "      <td>10679</td>\n",
       "      <td>568</td>\n",
       "    </tr>\n",
       "    <tr>\n",
       "      <th>3195</th>\n",
       "      <td>Idaho</td>\n",
       "      <td>7/9/20</td>\n",
       "      <td>3864875968</td>\n",
       "      <td>38640</td>\n",
       "      <td>875968.0</td>\n",
       "      <td>1947.589655</td>\n",
       "      <td>-5036.245496</td>\n",
       "      <td>9429</td>\n",
       "      <td>152</td>\n",
       "    </tr>\n",
       "    <tr>\n",
       "      <th>9399</th>\n",
       "      <td>Texas</td>\n",
       "      <td>7/9/20</td>\n",
       "      <td>21516426612</td>\n",
       "      <td>215040</td>\n",
       "      <td>12426612.0</td>\n",
       "      <td>8041.803434</td>\n",
       "      <td>-25057.879425</td>\n",
       "      <td>236541</td>\n",
       "      <td>3006</td>\n",
       "    </tr>\n",
       "    <tr>\n",
       "      <th>3947</th>\n",
       "      <td>Kansas</td>\n",
       "      <td>7/9/20</td>\n",
       "      <td>8990281065</td>\n",
       "      <td>89880</td>\n",
       "      <td>2281065.0</td>\n",
       "      <td>4040.964784</td>\n",
       "      <td>-10298.877911</td>\n",
       "      <td>17785</td>\n",
       "      <td>485</td>\n",
       "    </tr>\n",
       "    <tr>\n",
       "      <th>5263</th>\n",
       "      <td>Minnesota</td>\n",
       "      <td>7/9/20</td>\n",
       "      <td>7478526623</td>\n",
       "      <td>74760</td>\n",
       "      <td>2526623.0</td>\n",
       "      <td>3963.025129</td>\n",
       "      <td>-8215.492913</td>\n",
       "      <td>40163</td>\n",
       "      <td>1497</td>\n",
       "    </tr>\n",
       "    <tr>\n",
       "      <th>6767</th>\n",
       "      <td>New Mexico</td>\n",
       "      <td>7/9/20</td>\n",
       "      <td>2941326065</td>\n",
       "      <td>29400</td>\n",
       "      <td>1326065.0</td>\n",
       "      <td>1140.128846</td>\n",
       "      <td>-3494.274545</td>\n",
       "      <td>14251</td>\n",
       "      <td>533</td>\n",
       "    </tr>\n",
       "    <tr>\n",
       "      <th>6955</th>\n",
       "      <td>New York</td>\n",
       "      <td>7/9/20</td>\n",
       "      <td>5378405916</td>\n",
       "      <td>53760</td>\n",
       "      <td>2405916.0</td>\n",
       "      <td>2637.737383</td>\n",
       "      <td>-4679.399365</td>\n",
       "      <td>399513</td>\n",
       "      <td>32283</td>\n",
       "    </tr>\n",
       "    <tr>\n",
       "      <th>7143</th>\n",
       "      <td>North Carolina</td>\n",
       "      <td>7/9/20</td>\n",
       "      <td>8571880074</td>\n",
       "      <td>85680</td>\n",
       "      <td>3880074.0</td>\n",
       "      <td>3562.420971</td>\n",
       "      <td>-7950.109874</td>\n",
       "      <td>79656</td>\n",
       "      <td>1477</td>\n",
       "    </tr>\n",
       "    <tr>\n",
       "      <th>3007</th>\n",
       "      <td>Hawaii</td>\n",
       "      <td>7/9/20</td>\n",
       "      <td>588245055</td>\n",
       "      <td>5880</td>\n",
       "      <td>245055.0</td>\n",
       "      <td>105.141415</td>\n",
       "      <td>-786.616182</td>\n",
       "      <td>1130</td>\n",
       "      <td>19</td>\n",
       "    </tr>\n",
       "    <tr>\n",
       "      <th>6391</th>\n",
       "      <td>New Hampshire</td>\n",
       "      <td>7/9/20</td>\n",
       "      <td>1008500166</td>\n",
       "      <td>10080</td>\n",
       "      <td>500166.0</td>\n",
       "      <td>434.789729</td>\n",
       "      <td>-715.776567</td>\n",
       "      <td>5973</td>\n",
       "      <td>387</td>\n",
       "    </tr>\n",
       "    <tr>\n",
       "      <th>187</th>\n",
       "      <td>Alabama</td>\n",
       "      <td>7/9/20</td>\n",
       "      <td>5796241491</td>\n",
       "      <td>57960</td>\n",
       "      <td>241491.0</td>\n",
       "      <td>2203.246784</td>\n",
       "      <td>-5809.578199</td>\n",
       "      <td>49174</td>\n",
       "      <td>1043</td>\n",
       "    </tr>\n",
       "    <tr>\n",
       "      <th>6203</th>\n",
       "      <td>Nevada</td>\n",
       "      <td>7/9/20</td>\n",
       "      <td>1596714838</td>\n",
       "      <td>15960</td>\n",
       "      <td>714838.0</td>\n",
       "      <td>667.351945</td>\n",
       "      <td>-1998.587890</td>\n",
       "      <td>24904</td>\n",
       "      <td>571</td>\n",
       "    </tr>\n",
       "    <tr>\n",
       "      <th>1879</th>\n",
       "      <td>Diamond Princess</td>\n",
       "      <td>7/9/20</td>\n",
       "      <td>84088888</td>\n",
       "      <td>840</td>\n",
       "      <td>88888.0</td>\n",
       "      <td>0.000000</td>\n",
       "      <td>0.000000</td>\n",
       "      <td>49</td>\n",
       "      <td>0</td>\n",
       "    </tr>\n",
       "    <tr>\n",
       "      <th>5451</th>\n",
       "      <td>Mississippi</td>\n",
       "      <td>7/9/20</td>\n",
       "      <td>7058472780</td>\n",
       "      <td>70560</td>\n",
       "      <td>2472780.0</td>\n",
       "      <td>2689.003578</td>\n",
       "      <td>-7350.949516</td>\n",
       "      <td>33591</td>\n",
       "      <td>1204</td>\n",
       "    </tr>\n",
       "    <tr>\n",
       "      <th>3571</th>\n",
       "      <td>Indiana</td>\n",
       "      <td>7/9/20</td>\n",
       "      <td>7897834500</td>\n",
       "      <td>78960</td>\n",
       "      <td>1834500.0</td>\n",
       "      <td>3665.036491</td>\n",
       "      <td>-7932.108297</td>\n",
       "      <td>49575</td>\n",
       "      <td>2546</td>\n",
       "    </tr>\n",
       "    <tr>\n",
       "      <th>939</th>\n",
       "      <td>Arkansas</td>\n",
       "      <td>7/9/20</td>\n",
       "      <td>6468550635</td>\n",
       "      <td>64680</td>\n",
       "      <td>550635.0</td>\n",
       "      <td>2618.391704</td>\n",
       "      <td>-6932.548370</td>\n",
       "      <td>26052</td>\n",
       "      <td>311</td>\n",
       "    </tr>\n",
       "    <tr>\n",
       "      <th>9963</th>\n",
       "      <td>Virgin Islands</td>\n",
       "      <td>7/9/20</td>\n",
       "      <td>850</td>\n",
       "      <td>850</td>\n",
       "      <td>78.0</td>\n",
       "      <td>18.335800</td>\n",
       "      <td>-64.896300</td>\n",
       "      <td>144</td>\n",
       "      <td>6</td>\n",
       "    </tr>\n",
       "    <tr>\n",
       "      <th>5639</th>\n",
       "      <td>Missouri</td>\n",
       "      <td>7/9/20</td>\n",
       "      <td>9915588598</td>\n",
       "      <td>99120</td>\n",
       "      <td>3518595.0</td>\n",
       "      <td>4460.984726</td>\n",
       "      <td>-10729.940479</td>\n",
       "      <td>26410</td>\n",
       "      <td>1083</td>\n",
       "    </tr>\n",
       "    <tr>\n",
       "      <th>10151</th>\n",
       "      <td>Virginia</td>\n",
       "      <td>7/9/20</td>\n",
       "      <td>11346988213</td>\n",
       "      <td>113400</td>\n",
       "      <td>6988213.0</td>\n",
       "      <td>4996.297993</td>\n",
       "      <td>-10442.323661</td>\n",
       "      <td>67988</td>\n",
       "      <td>1937</td>\n",
       "    </tr>\n",
       "    <tr>\n",
       "      <th>9775</th>\n",
       "      <td>Vermont</td>\n",
       "      <td>7/9/20</td>\n",
       "      <td>1344870296</td>\n",
       "      <td>13440</td>\n",
       "      <td>870296.0</td>\n",
       "      <td>618.232941</td>\n",
       "      <td>-1017.581330</td>\n",
       "      <td>1272</td>\n",
       "      <td>56</td>\n",
       "    </tr>\n",
       "    <tr>\n",
       "      <th>4887</th>\n",
       "      <td>Massachusetts</td>\n",
       "      <td>7/9/20</td>\n",
       "      <td>1428590248</td>\n",
       "      <td>14280</td>\n",
       "      <td>520246.0</td>\n",
       "      <td>630.994149</td>\n",
       "      <td>-1071.277031</td>\n",
       "      <td>110897</td>\n",
       "      <td>8280</td>\n",
       "    </tr>\n",
       "    <tr>\n",
       "      <th>3759</th>\n",
       "      <td>Iowa</td>\n",
       "      <td>7/9/20</td>\n",
       "      <td>8486060839</td>\n",
       "      <td>84840</td>\n",
       "      <td>2060839.0</td>\n",
       "      <td>4160.961092</td>\n",
       "      <td>-9253.086423</td>\n",
       "      <td>33254</td>\n",
       "      <td>952</td>\n",
       "    </tr>\n",
       "    <tr>\n",
       "      <th>5075</th>\n",
       "      <td>Michigan</td>\n",
       "      <td>7/9/20</td>\n",
       "      <td>7310474950</td>\n",
       "      <td>73080</td>\n",
       "      <td>2334941.0</td>\n",
       "      <td>3655.620467</td>\n",
       "      <td>-7070.080729</td>\n",
       "      <td>75063</td>\n",
       "      <td>6292</td>\n",
       "    </tr>\n",
       "    <tr>\n",
       "      <th>5827</th>\n",
       "      <td>Montana</td>\n",
       "      <td>7/9/20</td>\n",
       "      <td>4873853196</td>\n",
       "      <td>48720</td>\n",
       "      <td>1853196.0</td>\n",
       "      <td>2630.582703</td>\n",
       "      <td>-6143.222113</td>\n",
       "      <td>1466</td>\n",
       "      <td>25</td>\n",
       "    </tr>\n",
       "    <tr>\n",
       "      <th>1691</th>\n",
       "      <td>Delaware</td>\n",
       "      <td>7/9/20</td>\n",
       "      <td>420200029</td>\n",
       "      <td>4200</td>\n",
       "      <td>200029.0</td>\n",
       "      <td>117.327830</td>\n",
       "      <td>-226.599712</td>\n",
       "      <td>12531</td>\n",
       "      <td>508</td>\n",
       "    </tr>\n",
       "    <tr>\n",
       "      <th>1315</th>\n",
       "      <td>Colorado</td>\n",
       "      <td>7/9/20</td>\n",
       "      <td>5544685999</td>\n",
       "      <td>55440</td>\n",
       "      <td>685999.0</td>\n",
       "      <td>2491.870366</td>\n",
       "      <td>-6751.119357</td>\n",
       "      <td>35507</td>\n",
       "      <td>1706</td>\n",
       "    </tr>\n",
       "    <tr>\n",
       "      <th>6015</th>\n",
       "      <td>Nebraska</td>\n",
       "      <td>7/9/20</td>\n",
       "      <td>7983061711</td>\n",
       "      <td>79800</td>\n",
       "      <td>3061711.0</td>\n",
       "      <td>3842.926930</td>\n",
       "      <td>-9210.628137</td>\n",
       "      <td>20623</td>\n",
       "      <td>284</td>\n",
       "    </tr>\n",
       "    <tr>\n",
       "      <th>9211</th>\n",
       "      <td>Tennessee</td>\n",
       "      <td>7/9/20</td>\n",
       "      <td>8152644119</td>\n",
       "      <td>81480</td>\n",
       "      <td>4644119.0</td>\n",
       "      <td>3409.084710</td>\n",
       "      <td>-8180.328684</td>\n",
       "      <td>57591</td>\n",
       "      <td>698</td>\n",
       "    </tr>\n",
       "    <tr>\n",
       "      <th>4699</th>\n",
       "      <td>Maryland</td>\n",
       "      <td>7/9/20</td>\n",
       "      <td>2184747127</td>\n",
       "      <td>21840</td>\n",
       "      <td>747127.0</td>\n",
       "      <td>936.358097</td>\n",
       "      <td>-1840.211223</td>\n",
       "      <td>71447</td>\n",
       "      <td>3375</td>\n",
       "    </tr>\n",
       "    <tr>\n",
       "      <th>10527</th>\n",
       "      <td>West Virginia</td>\n",
       "      <td>7/9/20</td>\n",
       "      <td>4791143133</td>\n",
       "      <td>47880</td>\n",
       "      <td>3143133.0</td>\n",
       "      <td>2134.783954</td>\n",
       "      <td>-4433.959998</td>\n",
       "      <td>3826</td>\n",
       "      <td>95</td>\n",
       "    </tr>\n",
       "    <tr>\n",
       "      <th>7707</th>\n",
       "      <td>Ohio</td>\n",
       "      <td>7/9/20</td>\n",
       "      <td>7563609822</td>\n",
       "      <td>75600</td>\n",
       "      <td>3609822.0</td>\n",
       "      <td>3547.338944</td>\n",
       "      <td>-7289.515905</td>\n",
       "      <td>61331</td>\n",
       "      <td>3006</td>\n",
       "    </tr>\n",
       "    <tr>\n",
       "      <th>4135</th>\n",
       "      <td>Kentucky</td>\n",
       "      <td>7/9/20</td>\n",
       "      <td>10250704442</td>\n",
       "      <td>102480</td>\n",
       "      <td>2704442.0</td>\n",
       "      <td>4514.657262</td>\n",
       "      <td>-10223.986874</td>\n",
       "      <td>18245</td>\n",
       "      <td>612</td>\n",
       "    </tr>\n",
       "    <tr>\n",
       "      <th>8271</th>\n",
       "      <td>Pennsylvania</td>\n",
       "      <td>7/9/20</td>\n",
       "      <td>5798988573</td>\n",
       "      <td>57960</td>\n",
       "      <td>2988573.0</td>\n",
       "      <td>2734.811250</td>\n",
       "      <td>-5200.226295</td>\n",
       "      <td>97542</td>\n",
       "      <td>6848</td>\n",
       "    </tr>\n",
       "    <tr>\n",
       "      <th>4511</th>\n",
       "      <td>Maine</td>\n",
       "      <td>7/9/20</td>\n",
       "      <td>1512538302</td>\n",
       "      <td>15120</td>\n",
       "      <td>538302.0</td>\n",
       "      <td>715.003014</td>\n",
       "      <td>-1112.380298</td>\n",
       "      <td>3486</td>\n",
       "      <td>111</td>\n",
       "    </tr>\n",
       "    <tr>\n",
       "      <th>2443</th>\n",
       "      <td>Georgia</td>\n",
       "      <td>7/9/20</td>\n",
       "      <td>13526262703</td>\n",
       "      <td>135240</td>\n",
       "      <td>2262703.0</td>\n",
       "      <td>5216.556611</td>\n",
       "      <td>-13288.811358</td>\n",
       "      <td>106727</td>\n",
       "      <td>2878</td>\n",
       "    </tr>\n",
       "    <tr>\n",
       "      <th>8459</th>\n",
       "      <td>Puerto Rico</td>\n",
       "      <td>7/9/20</td>\n",
       "      <td>5045767870</td>\n",
       "      <td>50400</td>\n",
       "      <td>5767870.0</td>\n",
       "      <td>1422.703430</td>\n",
       "      <td>-5179.780199</td>\n",
       "      <td>8862</td>\n",
       "      <td>0</td>\n",
       "    </tr>\n",
       "    <tr>\n",
       "      <th>2255</th>\n",
       "      <td>Florida</td>\n",
       "      <td>7/9/20</td>\n",
       "      <td>5796978574</td>\n",
       "      <td>57960</td>\n",
       "      <td>978574.0</td>\n",
       "      <td>1939.030577</td>\n",
       "      <td>-5540.949842</td>\n",
       "      <td>232718</td>\n",
       "      <td>4018</td>\n",
       "    </tr>\n",
       "    <tr>\n",
       "      <th>2819</th>\n",
       "      <td>Guam</td>\n",
       "      <td>7/9/20</td>\n",
       "      <td>316</td>\n",
       "      <td>316</td>\n",
       "      <td>66.0</td>\n",
       "      <td>13.444300</td>\n",
       "      <td>144.793700</td>\n",
       "      <td>309</td>\n",
       "      <td>5</td>\n",
       "    </tr>\n",
       "    <tr>\n",
       "      <th>8083</th>\n",
       "      <td>Oregon</td>\n",
       "      <td>7/9/20</td>\n",
       "      <td>3193647378</td>\n",
       "      <td>31920</td>\n",
       "      <td>1647378.0</td>\n",
       "      <td>1601.726424</td>\n",
       "      <td>-4373.169106</td>\n",
       "      <td>11188</td>\n",
       "      <td>230</td>\n",
       "    </tr>\n",
       "    <tr>\n",
       "      <th>1127</th>\n",
       "      <td>California</td>\n",
       "      <td>7/9/20</td>\n",
       "      <td>5040521376</td>\n",
       "      <td>50400</td>\n",
       "      <td>521376.0</td>\n",
       "      <td>2194.949775</td>\n",
       "      <td>-7002.258461</td>\n",
       "      <td>302484</td>\n",
       "      <td>6860</td>\n",
       "    </tr>\n",
       "    <tr>\n",
       "      <th>4323</th>\n",
       "      <td>Louisiana</td>\n",
       "      <td>7/9/20</td>\n",
       "      <td>5545582140</td>\n",
       "      <td>55440</td>\n",
       "      <td>1582140.0</td>\n",
       "      <td>1989.915353</td>\n",
       "      <td>-5876.747946</td>\n",
       "      <td>71994</td>\n",
       "      <td>3248</td>\n",
       "    </tr>\n",
       "    <tr>\n",
       "      <th>7895</th>\n",
       "      <td>Oklahoma</td>\n",
       "      <td>7/9/20</td>\n",
       "      <td>6639256009</td>\n",
       "      <td>66360</td>\n",
       "      <td>3256009.0</td>\n",
       "      <td>2733.647411</td>\n",
       "      <td>-7488.357767</td>\n",
       "      <td>18497</td>\n",
       "      <td>410</td>\n",
       "    </tr>\n",
       "    <tr>\n",
       "      <th>375</th>\n",
       "      <td>Alaska</td>\n",
       "      <td>7/9/20</td>\n",
       "      <td>2604232344</td>\n",
       "      <td>26040</td>\n",
       "      <td>232344.0</td>\n",
       "      <td>1747.177765</td>\n",
       "      <td>-4293.070291</td>\n",
       "      <td>1268</td>\n",
       "      <td>46</td>\n",
       "    </tr>\n",
       "    <tr>\n",
       "      <th>9023</th>\n",
       "      <td>South Dakota</td>\n",
       "      <td>7/9/20</td>\n",
       "      <td>5715210577</td>\n",
       "      <td>57120</td>\n",
       "      <td>3210577.0</td>\n",
       "      <td>2921.997865</td>\n",
       "      <td>-6554.501988</td>\n",
       "      <td>7336</td>\n",
       "      <td>1075</td>\n",
       "    </tr>\n",
       "    <tr>\n",
       "      <th>7519</th>\n",
       "      <td>Northern Mariana Islands</td>\n",
       "      <td>7/9/20</td>\n",
       "      <td>580</td>\n",
       "      <td>580</td>\n",
       "      <td>69.0</td>\n",
       "      <td>15.097900</td>\n",
       "      <td>145.673900</td>\n",
       "      <td>31</td>\n",
       "      <td>2</td>\n",
       "    </tr>\n",
       "    <tr>\n",
       "      <th>8647</th>\n",
       "      <td>Rhode Island</td>\n",
       "      <td>7/9/20</td>\n",
       "      <td>588390113</td>\n",
       "      <td>5880</td>\n",
       "      <td>390113.0</td>\n",
       "      <td>208.275711</td>\n",
       "      <td>-357.320525</td>\n",
       "      <td>17243</td>\n",
       "      <td>0</td>\n",
       "    </tr>\n",
       "    <tr>\n",
       "      <th>2631</th>\n",
       "      <td>Grand Princess</td>\n",
       "      <td>7/9/20</td>\n",
       "      <td>84099999</td>\n",
       "      <td>840</td>\n",
       "      <td>99999.0</td>\n",
       "      <td>0.000000</td>\n",
       "      <td>0.000000</td>\n",
       "      <td>103</td>\n",
       "      <td>0</td>\n",
       "    </tr>\n",
       "    <tr>\n",
       "      <th>10715</th>\n",
       "      <td>Wisconsin</td>\n",
       "      <td>7/9/20</td>\n",
       "      <td>6220135229</td>\n",
       "      <td>62160</td>\n",
       "      <td>4135229.0</td>\n",
       "      <td>3196.450332</td>\n",
       "      <td>-6465.454559</td>\n",
       "      <td>33908</td>\n",
       "      <td>809</td>\n",
       "    </tr>\n",
       "    <tr>\n",
       "      <th>8835</th>\n",
       "      <td>South Carolina</td>\n",
       "      <td>7/9/20</td>\n",
       "      <td>4034242206</td>\n",
       "      <td>40320</td>\n",
       "      <td>2242206.0</td>\n",
       "      <td>1562.043718</td>\n",
       "      <td>-3725.236386</td>\n",
       "      <td>50691</td>\n",
       "      <td>1064</td>\n",
       "    </tr>\n",
       "  </tbody>\n",
       "</table>\n",
       "</div>"
      ],
      "text/plain": [
       "                     USA-states    Date          UID   code3        FIPS  \\\n",
       "10903                   Wyoming  7/9/20   2101458641   21000   1458641.0   \n",
       "7331               North Dakota  7/9/20   4622186885   46200   2186885.0   \n",
       "3383                   Illinois  7/9/20   8737914438   87360   1914438.0   \n",
       "1503                Connecticut  7/9/20    840242082    8400    242082.0   \n",
       "9587                       Utah  7/9/20   3110012044   31080   1591939.0   \n",
       "10339                Washington  7/9/20   3446238627   34440   2238627.0   \n",
       "6579                 New Jersey  7/9/20   1932884509   19320    884509.0   \n",
       "751                     Arizona  7/9/20   1428230216   14280    230216.0   \n",
       "2067       District of Columbia  7/9/20    252181023    2520    181023.0   \n",
       "3195                      Idaho  7/9/20   3864875968   38640    875968.0   \n",
       "9399                      Texas  7/9/20  21516426612  215040  12426612.0   \n",
       "3947                     Kansas  7/9/20   8990281065   89880   2281065.0   \n",
       "5263                  Minnesota  7/9/20   7478526623   74760   2526623.0   \n",
       "6767                 New Mexico  7/9/20   2941326065   29400   1326065.0   \n",
       "6955                   New York  7/9/20   5378405916   53760   2405916.0   \n",
       "7143             North Carolina  7/9/20   8571880074   85680   3880074.0   \n",
       "3007                     Hawaii  7/9/20    588245055    5880    245055.0   \n",
       "6391              New Hampshire  7/9/20   1008500166   10080    500166.0   \n",
       "187                     Alabama  7/9/20   5796241491   57960    241491.0   \n",
       "6203                     Nevada  7/9/20   1596714838   15960    714838.0   \n",
       "1879           Diamond Princess  7/9/20     84088888     840     88888.0   \n",
       "5451                Mississippi  7/9/20   7058472780   70560   2472780.0   \n",
       "3571                    Indiana  7/9/20   7897834500   78960   1834500.0   \n",
       "939                    Arkansas  7/9/20   6468550635   64680    550635.0   \n",
       "9963             Virgin Islands  7/9/20          850     850        78.0   \n",
       "5639                   Missouri  7/9/20   9915588598   99120   3518595.0   \n",
       "10151                  Virginia  7/9/20  11346988213  113400   6988213.0   \n",
       "9775                    Vermont  7/9/20   1344870296   13440    870296.0   \n",
       "4887              Massachusetts  7/9/20   1428590248   14280    520246.0   \n",
       "3759                       Iowa  7/9/20   8486060839   84840   2060839.0   \n",
       "5075                   Michigan  7/9/20   7310474950   73080   2334941.0   \n",
       "5827                    Montana  7/9/20   4873853196   48720   1853196.0   \n",
       "1691                   Delaware  7/9/20    420200029    4200    200029.0   \n",
       "1315                   Colorado  7/9/20   5544685999   55440    685999.0   \n",
       "6015                   Nebraska  7/9/20   7983061711   79800   3061711.0   \n",
       "9211                  Tennessee  7/9/20   8152644119   81480   4644119.0   \n",
       "4699                   Maryland  7/9/20   2184747127   21840    747127.0   \n",
       "10527             West Virginia  7/9/20   4791143133   47880   3143133.0   \n",
       "7707                       Ohio  7/9/20   7563609822   75600   3609822.0   \n",
       "4135                   Kentucky  7/9/20  10250704442  102480   2704442.0   \n",
       "8271               Pennsylvania  7/9/20   5798988573   57960   2988573.0   \n",
       "4511                      Maine  7/9/20   1512538302   15120    538302.0   \n",
       "2443                    Georgia  7/9/20  13526262703  135240   2262703.0   \n",
       "8459                Puerto Rico  7/9/20   5045767870   50400   5767870.0   \n",
       "2255                    Florida  7/9/20   5796978574   57960    978574.0   \n",
       "2819                       Guam  7/9/20          316     316        66.0   \n",
       "8083                     Oregon  7/9/20   3193647378   31920   1647378.0   \n",
       "1127                 California  7/9/20   5040521376   50400    521376.0   \n",
       "4323                  Louisiana  7/9/20   5545582140   55440   1582140.0   \n",
       "7895                   Oklahoma  7/9/20   6639256009   66360   3256009.0   \n",
       "375                      Alaska  7/9/20   2604232344   26040    232344.0   \n",
       "9023               South Dakota  7/9/20   5715210577   57120   3210577.0   \n",
       "7519   Northern Mariana Islands  7/9/20          580     580        69.0   \n",
       "8647               Rhode Island  7/9/20    588390113    5880    390113.0   \n",
       "2631             Grand Princess  7/9/20     84099999     840     99999.0   \n",
       "10715                 Wisconsin  7/9/20   6220135229   62160   4135229.0   \n",
       "8835             South Carolina  7/9/20   4034242206   40320   2242206.0   \n",
       "\n",
       "               Lat         Long_  Confirmed  Deaths  \n",
       "10903   990.998367  -2464.524571       1769       1  \n",
       "7331   2511.855857  -5313.217852       4071      85  \n",
       "3383   4064.049006  -9096.189667     151572    7118  \n",
       "1503    332.909441   -581.254637      47209    4348  \n",
       "9587   1388.550986  -3904.519943      27356     217  \n",
       "10339  1842.117670  -4708.049596      38581    1409  \n",
       "6579    846.015259  -1567.071444     174270   15448  \n",
       "751     505.138555  -1671.948482     112671    2063  \n",
       "2067     38.904178    -77.016560      10679     568  \n",
       "3195   1947.589655  -5036.245496       9429     152  \n",
       "9399   8041.803434 -25057.879425     236541    3006  \n",
       "3947   4040.964784 -10298.877911      17785     485  \n",
       "5263   3963.025129  -8215.492913      40163    1497  \n",
       "6767   1140.128846  -3494.274545      14251     533  \n",
       "6955   2637.737383  -4679.399365     399513   32283  \n",
       "7143   3562.420971  -7950.109874      79656    1477  \n",
       "3007    105.141415   -786.616182       1130      19  \n",
       "6391    434.789729   -715.776567       5973     387  \n",
       "187    2203.246784  -5809.578199      49174    1043  \n",
       "6203    667.351945  -1998.587890      24904     571  \n",
       "1879      0.000000      0.000000         49       0  \n",
       "5451   2689.003578  -7350.949516      33591    1204  \n",
       "3571   3665.036491  -7932.108297      49575    2546  \n",
       "939    2618.391704  -6932.548370      26052     311  \n",
       "9963     18.335800    -64.896300        144       6  \n",
       "5639   4460.984726 -10729.940479      26410    1083  \n",
       "10151  4996.297993 -10442.323661      67988    1937  \n",
       "9775    618.232941  -1017.581330       1272      56  \n",
       "4887    630.994149  -1071.277031     110897    8280  \n",
       "3759   4160.961092  -9253.086423      33254     952  \n",
       "5075   3655.620467  -7070.080729      75063    6292  \n",
       "5827   2630.582703  -6143.222113       1466      25  \n",
       "1691    117.327830   -226.599712      12531     508  \n",
       "1315   2491.870366  -6751.119357      35507    1706  \n",
       "6015   3842.926930  -9210.628137      20623     284  \n",
       "9211   3409.084710  -8180.328684      57591     698  \n",
       "4699    936.358097  -1840.211223      71447    3375  \n",
       "10527  2134.783954  -4433.959998       3826      95  \n",
       "7707   3547.338944  -7289.515905      61331    3006  \n",
       "4135   4514.657262 -10223.986874      18245     612  \n",
       "8271   2734.811250  -5200.226295      97542    6848  \n",
       "4511    715.003014  -1112.380298       3486     111  \n",
       "2443   5216.556611 -13288.811358     106727    2878  \n",
       "8459   1422.703430  -5179.780199       8862       0  \n",
       "2255   1939.030577  -5540.949842     232718    4018  \n",
       "2819     13.444300    144.793700        309       5  \n",
       "8083   1601.726424  -4373.169106      11188     230  \n",
       "1127   2194.949775  -7002.258461     302484    6860  \n",
       "4323   1989.915353  -5876.747946      71994    3248  \n",
       "7895   2733.647411  -7488.357767      18497     410  \n",
       "375    1747.177765  -4293.070291       1268      46  \n",
       "9023   2921.997865  -6554.501988       7336    1075  \n",
       "7519     15.097900    145.673900         31       2  \n",
       "8647    208.275711   -357.320525      17243       0  \n",
       "2631      0.000000      0.000000        103       0  \n",
       "10715  3196.450332  -6465.454559      33908     809  \n",
       "8835   1562.043718  -3725.236386      50691    1064  "
      ]
     },
     "execution_count": 6,
     "metadata": {},
     "output_type": "execute_result"
    }
   ],
   "source": [
    "# Manipulate Dataframe\n",
    "df_states = usa_df.groupby(['USA-states', 'Date']).sum().reset_index().sort_values('Date', ascending=False)\n",
    "df_states = df_states.drop_duplicates(subset = ['USA-states'])\n",
    "df_states = df_states[df_states['Confirmed']>0]\n",
    "df_states"
   ]
  },
  {
   "cell_type": "code",
   "execution_count": 53,
   "metadata": {},
   "outputs": [
    {
     "data": {
      "application/vnd.plotly.v1+json": {
       "config": {
        "plotlyServerURL": "https://plot.ly"
       },
       "data": [
        {
         "colorscale": [
          [
           0,
           "rgb(255,245,240)"
          ],
          [
           0.125,
           "rgb(254,224,210)"
          ],
          [
           0.25,
           "rgb(252,187,161)"
          ],
          [
           0.375,
           "rgb(252,146,114)"
          ],
          [
           0.5,
           "rgb(251,106,74)"
          ],
          [
           0.625,
           "rgb(239,59,44)"
          ],
          [
           0.75,
           "rgb(203,24,29)"
          ],
          [
           0.875,
           "rgb(165,15,21)"
          ],
          [
           1,
           "rgb(103,0,13)"
          ]
         ],
         "locationmode": "USA-states",
         "locations": [
          1458641,
          2186885,
          1914438,
          242082,
          1591939,
          2238627,
          884509,
          230216,
          181023,
          875968,
          12426612,
          2281065,
          2526623,
          1326065,
          2405916,
          3880074,
          245055,
          500166,
          241491,
          714838,
          88888,
          2472780,
          1834500,
          550635,
          78,
          3518595,
          6988213,
          870296,
          520246,
          2060839,
          2334941,
          1853196,
          200029,
          685999,
          3061711,
          4644119,
          747127,
          3143133,
          3609822,
          2704442,
          2988573,
          538302,
          2262703,
          5767870,
          978574,
          66,
          1647378,
          521376,
          1582140,
          3256009,
          232344,
          3210577,
          69,
          390113,
          99999,
          4135229,
          2242206
         ],
         "marker": {
          "line": {
           "color": "black",
           "width": 0.5
          }
         },
         "type": "choropleth",
         "z": [
          1769,
          4071,
          151572,
          47209,
          27356,
          38581,
          174270,
          112671,
          10679,
          9429,
          236541,
          17785,
          40163,
          14251,
          399513,
          79656,
          1130,
          5973,
          49174,
          24904,
          49,
          33591,
          49575,
          26052,
          144,
          26410,
          67988,
          1272,
          110897,
          33254,
          75063,
          1466,
          12531,
          35507,
          20623,
          57591,
          71447,
          3826,
          61331,
          18245,
          97542,
          3486,
          106727,
          8862,
          232718,
          309,
          11188,
          302484,
          71994,
          18497,
          1268,
          7336,
          31,
          17243,
          103,
          33908,
          50691
         ],
         "zmax": 12,
         "zmin": 0
        }
       ],
       "layout": {
        "geo": {
         "scope": "usa"
        },
        "template": {
         "data": {
          "bar": [
           {
            "error_x": {
             "color": "#2a3f5f"
            },
            "error_y": {
             "color": "#2a3f5f"
            },
            "marker": {
             "line": {
              "color": "#E5ECF6",
              "width": 0.5
             }
            },
            "type": "bar"
           }
          ],
          "barpolar": [
           {
            "marker": {
             "line": {
              "color": "#E5ECF6",
              "width": 0.5
             }
            },
            "type": "barpolar"
           }
          ],
          "carpet": [
           {
            "aaxis": {
             "endlinecolor": "#2a3f5f",
             "gridcolor": "white",
             "linecolor": "white",
             "minorgridcolor": "white",
             "startlinecolor": "#2a3f5f"
            },
            "baxis": {
             "endlinecolor": "#2a3f5f",
             "gridcolor": "white",
             "linecolor": "white",
             "minorgridcolor": "white",
             "startlinecolor": "#2a3f5f"
            },
            "type": "carpet"
           }
          ],
          "choropleth": [
           {
            "colorbar": {
             "outlinewidth": 0,
             "ticks": ""
            },
            "type": "choropleth"
           }
          ],
          "contour": [
           {
            "colorbar": {
             "outlinewidth": 0,
             "ticks": ""
            },
            "colorscale": [
             [
              0,
              "#0d0887"
             ],
             [
              0.1111111111111111,
              "#46039f"
             ],
             [
              0.2222222222222222,
              "#7201a8"
             ],
             [
              0.3333333333333333,
              "#9c179e"
             ],
             [
              0.4444444444444444,
              "#bd3786"
             ],
             [
              0.5555555555555556,
              "#d8576b"
             ],
             [
              0.6666666666666666,
              "#ed7953"
             ],
             [
              0.7777777777777778,
              "#fb9f3a"
             ],
             [
              0.8888888888888888,
              "#fdca26"
             ],
             [
              1,
              "#f0f921"
             ]
            ],
            "type": "contour"
           }
          ],
          "contourcarpet": [
           {
            "colorbar": {
             "outlinewidth": 0,
             "ticks": ""
            },
            "type": "contourcarpet"
           }
          ],
          "heatmap": [
           {
            "colorbar": {
             "outlinewidth": 0,
             "ticks": ""
            },
            "colorscale": [
             [
              0,
              "#0d0887"
             ],
             [
              0.1111111111111111,
              "#46039f"
             ],
             [
              0.2222222222222222,
              "#7201a8"
             ],
             [
              0.3333333333333333,
              "#9c179e"
             ],
             [
              0.4444444444444444,
              "#bd3786"
             ],
             [
              0.5555555555555556,
              "#d8576b"
             ],
             [
              0.6666666666666666,
              "#ed7953"
             ],
             [
              0.7777777777777778,
              "#fb9f3a"
             ],
             [
              0.8888888888888888,
              "#fdca26"
             ],
             [
              1,
              "#f0f921"
             ]
            ],
            "type": "heatmap"
           }
          ],
          "heatmapgl": [
           {
            "colorbar": {
             "outlinewidth": 0,
             "ticks": ""
            },
            "colorscale": [
             [
              0,
              "#0d0887"
             ],
             [
              0.1111111111111111,
              "#46039f"
             ],
             [
              0.2222222222222222,
              "#7201a8"
             ],
             [
              0.3333333333333333,
              "#9c179e"
             ],
             [
              0.4444444444444444,
              "#bd3786"
             ],
             [
              0.5555555555555556,
              "#d8576b"
             ],
             [
              0.6666666666666666,
              "#ed7953"
             ],
             [
              0.7777777777777778,
              "#fb9f3a"
             ],
             [
              0.8888888888888888,
              "#fdca26"
             ],
             [
              1,
              "#f0f921"
             ]
            ],
            "type": "heatmapgl"
           }
          ],
          "histogram": [
           {
            "marker": {
             "colorbar": {
              "outlinewidth": 0,
              "ticks": ""
             }
            },
            "type": "histogram"
           }
          ],
          "histogram2d": [
           {
            "colorbar": {
             "outlinewidth": 0,
             "ticks": ""
            },
            "colorscale": [
             [
              0,
              "#0d0887"
             ],
             [
              0.1111111111111111,
              "#46039f"
             ],
             [
              0.2222222222222222,
              "#7201a8"
             ],
             [
              0.3333333333333333,
              "#9c179e"
             ],
             [
              0.4444444444444444,
              "#bd3786"
             ],
             [
              0.5555555555555556,
              "#d8576b"
             ],
             [
              0.6666666666666666,
              "#ed7953"
             ],
             [
              0.7777777777777778,
              "#fb9f3a"
             ],
             [
              0.8888888888888888,
              "#fdca26"
             ],
             [
              1,
              "#f0f921"
             ]
            ],
            "type": "histogram2d"
           }
          ],
          "histogram2dcontour": [
           {
            "colorbar": {
             "outlinewidth": 0,
             "ticks": ""
            },
            "colorscale": [
             [
              0,
              "#0d0887"
             ],
             [
              0.1111111111111111,
              "#46039f"
             ],
             [
              0.2222222222222222,
              "#7201a8"
             ],
             [
              0.3333333333333333,
              "#9c179e"
             ],
             [
              0.4444444444444444,
              "#bd3786"
             ],
             [
              0.5555555555555556,
              "#d8576b"
             ],
             [
              0.6666666666666666,
              "#ed7953"
             ],
             [
              0.7777777777777778,
              "#fb9f3a"
             ],
             [
              0.8888888888888888,
              "#fdca26"
             ],
             [
              1,
              "#f0f921"
             ]
            ],
            "type": "histogram2dcontour"
           }
          ],
          "mesh3d": [
           {
            "colorbar": {
             "outlinewidth": 0,
             "ticks": ""
            },
            "type": "mesh3d"
           }
          ],
          "parcoords": [
           {
            "line": {
             "colorbar": {
              "outlinewidth": 0,
              "ticks": ""
             }
            },
            "type": "parcoords"
           }
          ],
          "pie": [
           {
            "automargin": true,
            "type": "pie"
           }
          ],
          "scatter": [
           {
            "marker": {
             "colorbar": {
              "outlinewidth": 0,
              "ticks": ""
             }
            },
            "type": "scatter"
           }
          ],
          "scatter3d": [
           {
            "line": {
             "colorbar": {
              "outlinewidth": 0,
              "ticks": ""
             }
            },
            "marker": {
             "colorbar": {
              "outlinewidth": 0,
              "ticks": ""
             }
            },
            "type": "scatter3d"
           }
          ],
          "scattercarpet": [
           {
            "marker": {
             "colorbar": {
              "outlinewidth": 0,
              "ticks": ""
             }
            },
            "type": "scattercarpet"
           }
          ],
          "scattergeo": [
           {
            "marker": {
             "colorbar": {
              "outlinewidth": 0,
              "ticks": ""
             }
            },
            "type": "scattergeo"
           }
          ],
          "scattergl": [
           {
            "marker": {
             "colorbar": {
              "outlinewidth": 0,
              "ticks": ""
             }
            },
            "type": "scattergl"
           }
          ],
          "scattermapbox": [
           {
            "marker": {
             "colorbar": {
              "outlinewidth": 0,
              "ticks": ""
             }
            },
            "type": "scattermapbox"
           }
          ],
          "scatterpolar": [
           {
            "marker": {
             "colorbar": {
              "outlinewidth": 0,
              "ticks": ""
             }
            },
            "type": "scatterpolar"
           }
          ],
          "scatterpolargl": [
           {
            "marker": {
             "colorbar": {
              "outlinewidth": 0,
              "ticks": ""
             }
            },
            "type": "scatterpolargl"
           }
          ],
          "scatterternary": [
           {
            "marker": {
             "colorbar": {
              "outlinewidth": 0,
              "ticks": ""
             }
            },
            "type": "scatterternary"
           }
          ],
          "surface": [
           {
            "colorbar": {
             "outlinewidth": 0,
             "ticks": ""
            },
            "colorscale": [
             [
              0,
              "#0d0887"
             ],
             [
              0.1111111111111111,
              "#46039f"
             ],
             [
              0.2222222222222222,
              "#7201a8"
             ],
             [
              0.3333333333333333,
              "#9c179e"
             ],
             [
              0.4444444444444444,
              "#bd3786"
             ],
             [
              0.5555555555555556,
              "#d8576b"
             ],
             [
              0.6666666666666666,
              "#ed7953"
             ],
             [
              0.7777777777777778,
              "#fb9f3a"
             ],
             [
              0.8888888888888888,
              "#fdca26"
             ],
             [
              1,
              "#f0f921"
             ]
            ],
            "type": "surface"
           }
          ],
          "table": [
           {
            "cells": {
             "fill": {
              "color": "#EBF0F8"
             },
             "line": {
              "color": "white"
             }
            },
            "header": {
             "fill": {
              "color": "#C8D4E3"
             },
             "line": {
              "color": "white"
             }
            },
            "type": "table"
           }
          ]
         },
         "layout": {
          "annotationdefaults": {
           "arrowcolor": "#2a3f5f",
           "arrowhead": 0,
           "arrowwidth": 1
          },
          "coloraxis": {
           "colorbar": {
            "outlinewidth": 0,
            "ticks": ""
           }
          },
          "colorscale": {
           "diverging": [
            [
             0,
             "#8e0152"
            ],
            [
             0.1,
             "#c51b7d"
            ],
            [
             0.2,
             "#de77ae"
            ],
            [
             0.3,
             "#f1b6da"
            ],
            [
             0.4,
             "#fde0ef"
            ],
            [
             0.5,
             "#f7f7f7"
            ],
            [
             0.6,
             "#e6f5d0"
            ],
            [
             0.7,
             "#b8e186"
            ],
            [
             0.8,
             "#7fbc41"
            ],
            [
             0.9,
             "#4d9221"
            ],
            [
             1,
             "#276419"
            ]
           ],
           "sequential": [
            [
             0,
             "#0d0887"
            ],
            [
             0.1111111111111111,
             "#46039f"
            ],
            [
             0.2222222222222222,
             "#7201a8"
            ],
            [
             0.3333333333333333,
             "#9c179e"
            ],
            [
             0.4444444444444444,
             "#bd3786"
            ],
            [
             0.5555555555555556,
             "#d8576b"
            ],
            [
             0.6666666666666666,
             "#ed7953"
            ],
            [
             0.7777777777777778,
             "#fb9f3a"
            ],
            [
             0.8888888888888888,
             "#fdca26"
            ],
            [
             1,
             "#f0f921"
            ]
           ],
           "sequentialminus": [
            [
             0,
             "#0d0887"
            ],
            [
             0.1111111111111111,
             "#46039f"
            ],
            [
             0.2222222222222222,
             "#7201a8"
            ],
            [
             0.3333333333333333,
             "#9c179e"
            ],
            [
             0.4444444444444444,
             "#bd3786"
            ],
            [
             0.5555555555555556,
             "#d8576b"
            ],
            [
             0.6666666666666666,
             "#ed7953"
            ],
            [
             0.7777777777777778,
             "#fb9f3a"
            ],
            [
             0.8888888888888888,
             "#fdca26"
            ],
            [
             1,
             "#f0f921"
            ]
           ]
          },
          "colorway": [
           "#636efa",
           "#EF553B",
           "#00cc96",
           "#ab63fa",
           "#FFA15A",
           "#19d3f3",
           "#FF6692",
           "#B6E880",
           "#FF97FF",
           "#FECB52"
          ],
          "font": {
           "color": "#2a3f5f"
          },
          "geo": {
           "bgcolor": "white",
           "lakecolor": "white",
           "landcolor": "#E5ECF6",
           "showlakes": true,
           "showland": true,
           "subunitcolor": "white"
          },
          "hoverlabel": {
           "align": "left"
          },
          "hovermode": "closest",
          "mapbox": {
           "style": "light"
          },
          "paper_bgcolor": "white",
          "plot_bgcolor": "#E5ECF6",
          "polar": {
           "angularaxis": {
            "gridcolor": "white",
            "linecolor": "white",
            "ticks": ""
           },
           "bgcolor": "#E5ECF6",
           "radialaxis": {
            "gridcolor": "white",
            "linecolor": "white",
            "ticks": ""
           }
          },
          "scene": {
           "xaxis": {
            "backgroundcolor": "#E5ECF6",
            "gridcolor": "white",
            "gridwidth": 2,
            "linecolor": "white",
            "showbackground": true,
            "ticks": "",
            "zerolinecolor": "white"
           },
           "yaxis": {
            "backgroundcolor": "#E5ECF6",
            "gridcolor": "white",
            "gridwidth": 2,
            "linecolor": "white",
            "showbackground": true,
            "ticks": "",
            "zerolinecolor": "white"
           },
           "zaxis": {
            "backgroundcolor": "#E5ECF6",
            "gridcolor": "white",
            "gridwidth": 2,
            "linecolor": "white",
            "showbackground": true,
            "ticks": "",
            "zerolinecolor": "white"
           }
          },
          "shapedefaults": {
           "line": {
            "color": "#2a3f5f"
           }
          },
          "ternary": {
           "aaxis": {
            "gridcolor": "white",
            "linecolor": "white",
            "ticks": ""
           },
           "baxis": {
            "gridcolor": "white",
            "linecolor": "white",
            "ticks": ""
           },
           "bgcolor": "#E5ECF6",
           "caxis": {
            "gridcolor": "white",
            "linecolor": "white",
            "ticks": ""
           }
          },
          "title": {
           "x": 0.05
          },
          "xaxis": {
           "automargin": true,
           "gridcolor": "white",
           "linecolor": "white",
           "ticks": "",
           "title": {
            "standoff": 15
           },
           "zerolinecolor": "white",
           "zerolinewidth": 2
          },
          "yaxis": {
           "automargin": true,
           "gridcolor": "white",
           "linecolor": "white",
           "ticks": "",
           "title": {
            "standoff": 15
           },
           "zerolinecolor": "white",
           "zerolinewidth": 2
          }
         }
        },
        "title": {
         "text": "Confirmed Cases as of July 27, 2020",
         "x": 0.5
        }
       }
      },
      "text/html": [
       "<div>\n",
       "        \n",
       "        \n",
       "            <div id=\"55a9f941-df10-4b78-ae8d-30c6caa3e385\" class=\"plotly-graph-div\" style=\"height:525px; width:100%;\"></div>\n",
       "            <script type=\"text/javascript\">\n",
       "                require([\"plotly\"], function(Plotly) {\n",
       "                    window.PLOTLYENV=window.PLOTLYENV || {};\n",
       "                    \n",
       "                if (document.getElementById(\"55a9f941-df10-4b78-ae8d-30c6caa3e385\")) {\n",
       "                    Plotly.newPlot(\n",
       "                        '55a9f941-df10-4b78-ae8d-30c6caa3e385',\n",
       "                        [{\"colorscale\": [[0.0, \"rgb(255,245,240)\"], [0.125, \"rgb(254,224,210)\"], [0.25, \"rgb(252,187,161)\"], [0.375, \"rgb(252,146,114)\"], [0.5, \"rgb(251,106,74)\"], [0.625, \"rgb(239,59,44)\"], [0.75, \"rgb(203,24,29)\"], [0.875, \"rgb(165,15,21)\"], [1.0, \"rgb(103,0,13)\"]], \"locationmode\": \"USA-states\", \"locations\": [1458641.0, 2186885.0, 1914438.0, 242082.0, 1591939.0, 2238627.0, 884509.0, 230216.0, 181023.0, 875968.0, 12426612.0, 2281065.0, 2526623.0, 1326065.0, 2405916.0, 3880074.0, 245055.0, 500166.0, 241491.0, 714838.0, 88888.0, 2472780.0, 1834500.0, 550635.0, 78.0, 3518595.0, 6988213.0, 870296.0, 520246.0, 2060839.0, 2334941.0, 1853196.0, 200029.0, 685999.0, 3061711.0, 4644119.0, 747127.0, 3143133.0, 3609822.0, 2704442.0, 2988573.0, 538302.0, 2262703.0, 5767870.0, 978574.0, 66.0, 1647378.0, 521376.0, 1582140.0, 3256009.0, 232344.0, 3210577.0, 69.0, 390113.0, 99999.0, 4135229.0, 2242206.0], \"marker\": {\"line\": {\"color\": \"black\", \"width\": 0.5}}, \"type\": \"choropleth\", \"z\": [1769, 4071, 151572, 47209, 27356, 38581, 174270, 112671, 10679, 9429, 236541, 17785, 40163, 14251, 399513, 79656, 1130, 5973, 49174, 24904, 49, 33591, 49575, 26052, 144, 26410, 67988, 1272, 110897, 33254, 75063, 1466, 12531, 35507, 20623, 57591, 71447, 3826, 61331, 18245, 97542, 3486, 106727, 8862, 232718, 309, 11188, 302484, 71994, 18497, 1268, 7336, 31, 17243, 103, 33908, 50691], \"zmax\": 12, \"zmin\": 0}],\n",
       "                        {\"geo\": {\"scope\": \"usa\"}, \"template\": {\"data\": {\"bar\": [{\"error_x\": {\"color\": \"#2a3f5f\"}, \"error_y\": {\"color\": \"#2a3f5f\"}, \"marker\": {\"line\": {\"color\": \"#E5ECF6\", \"width\": 0.5}}, \"type\": \"bar\"}], \"barpolar\": [{\"marker\": {\"line\": {\"color\": \"#E5ECF6\", \"width\": 0.5}}, \"type\": \"barpolar\"}], \"carpet\": [{\"aaxis\": {\"endlinecolor\": \"#2a3f5f\", \"gridcolor\": \"white\", \"linecolor\": \"white\", \"minorgridcolor\": \"white\", \"startlinecolor\": \"#2a3f5f\"}, \"baxis\": {\"endlinecolor\": \"#2a3f5f\", \"gridcolor\": \"white\", \"linecolor\": \"white\", \"minorgridcolor\": \"white\", \"startlinecolor\": \"#2a3f5f\"}, \"type\": \"carpet\"}], \"choropleth\": [{\"colorbar\": {\"outlinewidth\": 0, \"ticks\": \"\"}, \"type\": \"choropleth\"}], \"contour\": [{\"colorbar\": {\"outlinewidth\": 0, \"ticks\": \"\"}, \"colorscale\": [[0.0, \"#0d0887\"], [0.1111111111111111, \"#46039f\"], [0.2222222222222222, \"#7201a8\"], [0.3333333333333333, \"#9c179e\"], [0.4444444444444444, \"#bd3786\"], [0.5555555555555556, \"#d8576b\"], [0.6666666666666666, \"#ed7953\"], [0.7777777777777778, \"#fb9f3a\"], [0.8888888888888888, \"#fdca26\"], [1.0, \"#f0f921\"]], \"type\": \"contour\"}], \"contourcarpet\": [{\"colorbar\": {\"outlinewidth\": 0, \"ticks\": \"\"}, \"type\": \"contourcarpet\"}], \"heatmap\": [{\"colorbar\": {\"outlinewidth\": 0, \"ticks\": \"\"}, \"colorscale\": [[0.0, \"#0d0887\"], [0.1111111111111111, \"#46039f\"], [0.2222222222222222, \"#7201a8\"], [0.3333333333333333, \"#9c179e\"], [0.4444444444444444, \"#bd3786\"], [0.5555555555555556, \"#d8576b\"], [0.6666666666666666, \"#ed7953\"], [0.7777777777777778, \"#fb9f3a\"], [0.8888888888888888, \"#fdca26\"], [1.0, \"#f0f921\"]], \"type\": \"heatmap\"}], \"heatmapgl\": [{\"colorbar\": {\"outlinewidth\": 0, \"ticks\": \"\"}, \"colorscale\": [[0.0, \"#0d0887\"], [0.1111111111111111, \"#46039f\"], [0.2222222222222222, \"#7201a8\"], [0.3333333333333333, \"#9c179e\"], [0.4444444444444444, \"#bd3786\"], [0.5555555555555556, \"#d8576b\"], [0.6666666666666666, \"#ed7953\"], [0.7777777777777778, \"#fb9f3a\"], [0.8888888888888888, \"#fdca26\"], [1.0, \"#f0f921\"]], \"type\": \"heatmapgl\"}], \"histogram\": [{\"marker\": {\"colorbar\": {\"outlinewidth\": 0, \"ticks\": \"\"}}, \"type\": \"histogram\"}], \"histogram2d\": [{\"colorbar\": {\"outlinewidth\": 0, \"ticks\": \"\"}, \"colorscale\": [[0.0, \"#0d0887\"], [0.1111111111111111, \"#46039f\"], [0.2222222222222222, \"#7201a8\"], [0.3333333333333333, \"#9c179e\"], [0.4444444444444444, \"#bd3786\"], [0.5555555555555556, \"#d8576b\"], [0.6666666666666666, \"#ed7953\"], [0.7777777777777778, \"#fb9f3a\"], [0.8888888888888888, \"#fdca26\"], [1.0, \"#f0f921\"]], \"type\": \"histogram2d\"}], \"histogram2dcontour\": [{\"colorbar\": {\"outlinewidth\": 0, \"ticks\": \"\"}, \"colorscale\": [[0.0, \"#0d0887\"], [0.1111111111111111, \"#46039f\"], [0.2222222222222222, \"#7201a8\"], [0.3333333333333333, \"#9c179e\"], [0.4444444444444444, \"#bd3786\"], [0.5555555555555556, \"#d8576b\"], [0.6666666666666666, \"#ed7953\"], [0.7777777777777778, \"#fb9f3a\"], [0.8888888888888888, \"#fdca26\"], [1.0, \"#f0f921\"]], \"type\": \"histogram2dcontour\"}], \"mesh3d\": [{\"colorbar\": {\"outlinewidth\": 0, \"ticks\": \"\"}, \"type\": \"mesh3d\"}], \"parcoords\": [{\"line\": {\"colorbar\": {\"outlinewidth\": 0, \"ticks\": \"\"}}, \"type\": \"parcoords\"}], \"pie\": [{\"automargin\": true, \"type\": \"pie\"}], \"scatter\": [{\"marker\": {\"colorbar\": {\"outlinewidth\": 0, \"ticks\": \"\"}}, \"type\": \"scatter\"}], \"scatter3d\": [{\"line\": {\"colorbar\": {\"outlinewidth\": 0, \"ticks\": \"\"}}, \"marker\": {\"colorbar\": {\"outlinewidth\": 0, \"ticks\": \"\"}}, \"type\": \"scatter3d\"}], \"scattercarpet\": [{\"marker\": {\"colorbar\": {\"outlinewidth\": 0, \"ticks\": \"\"}}, \"type\": \"scattercarpet\"}], \"scattergeo\": [{\"marker\": {\"colorbar\": {\"outlinewidth\": 0, \"ticks\": \"\"}}, \"type\": \"scattergeo\"}], \"scattergl\": [{\"marker\": {\"colorbar\": {\"outlinewidth\": 0, \"ticks\": \"\"}}, \"type\": \"scattergl\"}], \"scattermapbox\": [{\"marker\": {\"colorbar\": {\"outlinewidth\": 0, \"ticks\": \"\"}}, \"type\": \"scattermapbox\"}], \"scatterpolar\": [{\"marker\": {\"colorbar\": {\"outlinewidth\": 0, \"ticks\": \"\"}}, \"type\": \"scatterpolar\"}], \"scatterpolargl\": [{\"marker\": {\"colorbar\": {\"outlinewidth\": 0, \"ticks\": \"\"}}, \"type\": \"scatterpolargl\"}], \"scatterternary\": [{\"marker\": {\"colorbar\": {\"outlinewidth\": 0, \"ticks\": \"\"}}, \"type\": \"scatterternary\"}], \"surface\": [{\"colorbar\": {\"outlinewidth\": 0, \"ticks\": \"\"}, \"colorscale\": [[0.0, \"#0d0887\"], [0.1111111111111111, \"#46039f\"], [0.2222222222222222, \"#7201a8\"], [0.3333333333333333, \"#9c179e\"], [0.4444444444444444, \"#bd3786\"], [0.5555555555555556, \"#d8576b\"], [0.6666666666666666, \"#ed7953\"], [0.7777777777777778, \"#fb9f3a\"], [0.8888888888888888, \"#fdca26\"], [1.0, \"#f0f921\"]], \"type\": \"surface\"}], \"table\": [{\"cells\": {\"fill\": {\"color\": \"#EBF0F8\"}, \"line\": {\"color\": \"white\"}}, \"header\": {\"fill\": {\"color\": \"#C8D4E3\"}, \"line\": {\"color\": \"white\"}}, \"type\": \"table\"}]}, \"layout\": {\"annotationdefaults\": {\"arrowcolor\": \"#2a3f5f\", \"arrowhead\": 0, \"arrowwidth\": 1}, \"coloraxis\": {\"colorbar\": {\"outlinewidth\": 0, \"ticks\": \"\"}}, \"colorscale\": {\"diverging\": [[0, \"#8e0152\"], [0.1, \"#c51b7d\"], [0.2, \"#de77ae\"], [0.3, \"#f1b6da\"], [0.4, \"#fde0ef\"], [0.5, \"#f7f7f7\"], [0.6, \"#e6f5d0\"], [0.7, \"#b8e186\"], [0.8, \"#7fbc41\"], [0.9, \"#4d9221\"], [1, \"#276419\"]], \"sequential\": [[0.0, \"#0d0887\"], [0.1111111111111111, \"#46039f\"], [0.2222222222222222, \"#7201a8\"], [0.3333333333333333, \"#9c179e\"], [0.4444444444444444, \"#bd3786\"], [0.5555555555555556, \"#d8576b\"], [0.6666666666666666, \"#ed7953\"], [0.7777777777777778, \"#fb9f3a\"], [0.8888888888888888, \"#fdca26\"], [1.0, \"#f0f921\"]], \"sequentialminus\": [[0.0, \"#0d0887\"], [0.1111111111111111, \"#46039f\"], [0.2222222222222222, \"#7201a8\"], [0.3333333333333333, \"#9c179e\"], [0.4444444444444444, \"#bd3786\"], [0.5555555555555556, \"#d8576b\"], [0.6666666666666666, \"#ed7953\"], [0.7777777777777778, \"#fb9f3a\"], [0.8888888888888888, \"#fdca26\"], [1.0, \"#f0f921\"]]}, \"colorway\": [\"#636efa\", \"#EF553B\", \"#00cc96\", \"#ab63fa\", \"#FFA15A\", \"#19d3f3\", \"#FF6692\", \"#B6E880\", \"#FF97FF\", \"#FECB52\"], \"font\": {\"color\": \"#2a3f5f\"}, \"geo\": {\"bgcolor\": \"white\", \"lakecolor\": \"white\", \"landcolor\": \"#E5ECF6\", \"showlakes\": true, \"showland\": true, \"subunitcolor\": \"white\"}, \"hoverlabel\": {\"align\": \"left\"}, \"hovermode\": \"closest\", \"mapbox\": {\"style\": \"light\"}, \"paper_bgcolor\": \"white\", \"plot_bgcolor\": \"#E5ECF6\", \"polar\": {\"angularaxis\": {\"gridcolor\": \"white\", \"linecolor\": \"white\", \"ticks\": \"\"}, \"bgcolor\": \"#E5ECF6\", \"radialaxis\": {\"gridcolor\": \"white\", \"linecolor\": \"white\", \"ticks\": \"\"}}, \"scene\": {\"xaxis\": {\"backgroundcolor\": \"#E5ECF6\", \"gridcolor\": \"white\", \"gridwidth\": 2, \"linecolor\": \"white\", \"showbackground\": true, \"ticks\": \"\", \"zerolinecolor\": \"white\"}, \"yaxis\": {\"backgroundcolor\": \"#E5ECF6\", \"gridcolor\": \"white\", \"gridwidth\": 2, \"linecolor\": \"white\", \"showbackground\": true, \"ticks\": \"\", \"zerolinecolor\": \"white\"}, \"zaxis\": {\"backgroundcolor\": \"#E5ECF6\", \"gridcolor\": \"white\", \"gridwidth\": 2, \"linecolor\": \"white\", \"showbackground\": true, \"ticks\": \"\", \"zerolinecolor\": \"white\"}}, \"shapedefaults\": {\"line\": {\"color\": \"#2a3f5f\"}}, \"ternary\": {\"aaxis\": {\"gridcolor\": \"white\", \"linecolor\": \"white\", \"ticks\": \"\"}, \"baxis\": {\"gridcolor\": \"white\", \"linecolor\": \"white\", \"ticks\": \"\"}, \"bgcolor\": \"#E5ECF6\", \"caxis\": {\"gridcolor\": \"white\", \"linecolor\": \"white\", \"ticks\": \"\"}}, \"title\": {\"x\": 0.05}, \"xaxis\": {\"automargin\": true, \"gridcolor\": \"white\", \"linecolor\": \"white\", \"ticks\": \"\", \"title\": {\"standoff\": 15}, \"zerolinecolor\": \"white\", \"zerolinewidth\": 2}, \"yaxis\": {\"automargin\": true, \"gridcolor\": \"white\", \"linecolor\": \"white\", \"ticks\": \"\", \"title\": {\"standoff\": 15}, \"zerolinecolor\": \"white\", \"zerolinewidth\": 2}}}, \"title\": {\"text\": \"Confirmed Cases as of July 27, 2020\", \"x\": 0.5}},\n",
       "                        {\"responsive\": true}\n",
       "                    ).then(function(){\n",
       "                            \n",
       "var gd = document.getElementById('55a9f941-df10-4b78-ae8d-30c6caa3e385');\n",
       "var x = new MutationObserver(function (mutations, observer) {{\n",
       "        var display = window.getComputedStyle(gd).display;\n",
       "        if (!display || display === 'none') {{\n",
       "            console.log([gd, 'removed!']);\n",
       "            Plotly.purge(gd);\n",
       "            observer.disconnect();\n",
       "        }}\n",
       "}});\n",
       "\n",
       "// Listen for the removal of the full notebook cells\n",
       "var notebookContainer = gd.closest('#notebook-container');\n",
       "if (notebookContainer) {{\n",
       "    x.observe(notebookContainer, {childList: true});\n",
       "}}\n",
       "\n",
       "// Listen for the clearing of the current output cell\n",
       "var outputEl = gd.closest('.output');\n",
       "if (outputEl) {{\n",
       "    x.observe(outputEl, {childList: true});\n",
       "}}\n",
       "\n",
       "                        })\n",
       "                };\n",
       "                });\n",
       "            </script>\n",
       "        </div>"
      ]
     },
     "metadata": {},
     "output_type": "display_data"
    }
   ],
   "source": [
    "# Create the Choropleth\n",
    "fig = go.Figure(data=go.Choropleth(\n",
    "    locations = df_states[\"FIPS\"],\n",
    "    locationmode = 'USA-states', # set of locations match entries in `locations`\n",
    "    z = df_states['Confirmed'],\n",
    "    colorscale = 'Reds',\n",
    "    marker_line_color = 'black',\n",
    "    marker_line_width = 0.5,\n",
    "    zmin=0, zmax=12,\n",
    "))\n",
    "\n",
    "fig.update_layout(title_text = 'Confirmed Cases as of July 27, 2020',\n",
    "                  title_x = 0.5,\n",
    "                  geo_scope='usa', # limite map scope to USA/\n",
    "                 )\n",
    "fig.show()"
   ]
  },
  {
   "cell_type": "code",
   "execution_count": 52,
   "metadata": {},
   "outputs": [
    {
     "data": {
      "application/vnd.plotly.v1+json": {
       "config": {
        "plotlyServerURL": "https://plot.ly"
       },
       "data": [
        {
         "coloraxis": "coloraxis",
         "geo": "geo",
         "hoverlabel": {
          "namelength": 0
         },
         "hovertemplate": "Date=1/22/20<br>FIPS=%{location}<br>Confirmed=%{z}",
         "locations": [
          53033
         ],
         "name": "",
         "type": "choropleth",
         "z": [
          1
         ]
        }
       ],
       "frames": [
        {
         "data": [
          {
           "coloraxis": "coloraxis",
           "geo": "geo",
           "hoverlabel": {
            "namelength": 0
           },
           "hovertemplate": "Date=1/22/20<br>FIPS=%{location}<br>Confirmed=%{z}",
           "locations": [
            53033
           ],
           "name": "",
           "type": "choropleth",
           "z": [
            1
           ]
          }
         ],
         "name": "1/22/20"
        },
        {
         "data": [
          {
           "coloraxis": "coloraxis",
           "geo": "geo",
           "hoverlabel": {
            "namelength": 0
           },
           "hovertemplate": "Date=1/23/20<br>FIPS=%{location}<br>Confirmed=%{z}",
           "locations": [
            53033
           ],
           "name": "",
           "type": "choropleth",
           "z": [
            1
           ]
          }
         ],
         "name": "1/23/20"
        },
        {
         "data": [
          {
           "coloraxis": "coloraxis",
           "geo": "geo",
           "hoverlabel": {
            "namelength": 0
           },
           "hovertemplate": "Date=1/24/20<br>FIPS=%{location}<br>Confirmed=%{z}",
           "locations": [
            17031,
            53033
           ],
           "name": "",
           "type": "choropleth",
           "z": [
            1,
            1
           ]
          }
         ],
         "name": "1/24/20"
        },
        {
         "data": [
          {
           "coloraxis": "coloraxis",
           "geo": "geo",
           "hoverlabel": {
            "namelength": 0
           },
           "hovertemplate": "Date=1/25/20<br>FIPS=%{location}<br>Confirmed=%{z}",
           "locations": [
            17031,
            53033
           ],
           "name": "",
           "type": "choropleth",
           "z": [
            1,
            1
           ]
          }
         ],
         "name": "1/25/20"
        },
        {
         "data": [
          {
           "coloraxis": "coloraxis",
           "geo": "geo",
           "hoverlabel": {
            "namelength": 0
           },
           "hovertemplate": "Date=1/26/20<br>FIPS=%{location}<br>Confirmed=%{z}",
           "locations": [
            4013,
            12096,
            17031,
            53033
           ],
           "name": "",
           "type": "choropleth",
           "z": [
            1,
            2,
            1,
            1
           ]
          }
         ],
         "name": "1/26/20"
        },
        {
         "data": [
          {
           "coloraxis": "coloraxis",
           "geo": "geo",
           "hoverlabel": {
            "namelength": 0
           },
           "hovertemplate": "Date=1/27/20<br>FIPS=%{location}<br>Confirmed=%{z}",
           "locations": [
            4013,
            12096,
            17031,
            53033
           ],
           "name": "",
           "type": "choropleth",
           "z": [
            1,
            2,
            1,
            1
           ]
          }
         ],
         "name": "1/27/20"
        },
        {
         "data": [
          {
           "coloraxis": "coloraxis",
           "geo": "geo",
           "hoverlabel": {
            "namelength": 0
           },
           "hovertemplate": "Date=1/28/20<br>FIPS=%{location}<br>Confirmed=%{z}",
           "locations": [
            4013,
            12096,
            17031,
            53033
           ],
           "name": "",
           "type": "choropleth",
           "z": [
            1,
            2,
            1,
            1
           ]
          }
         ],
         "name": "1/28/20"
        },
        {
         "data": [
          {
           "coloraxis": "coloraxis",
           "geo": "geo",
           "hoverlabel": {
            "namelength": 0
           },
           "hovertemplate": "Date=1/29/20<br>FIPS=%{location}<br>Confirmed=%{z}",
           "locations": [
            4013,
            12096,
            17031,
            53033
           ],
           "name": "",
           "type": "choropleth",
           "z": [
            1,
            2,
            1,
            1
           ]
          }
         ],
         "name": "1/29/20"
        },
        {
         "data": [
          {
           "coloraxis": "coloraxis",
           "geo": "geo",
           "hoverlabel": {
            "namelength": 0
           },
           "hovertemplate": "Date=1/30/20<br>FIPS=%{location}<br>Confirmed=%{z}",
           "locations": [
            4013,
            12096,
            17031,
            53033
           ],
           "name": "",
           "type": "choropleth",
           "z": [
            1,
            2,
            1,
            1
           ]
          }
         ],
         "name": "1/30/20"
        },
        {
         "data": [
          {
           "coloraxis": "coloraxis",
           "geo": "geo",
           "hoverlabel": {
            "namelength": 0
           },
           "hovertemplate": "Date=1/31/20<br>FIPS=%{location}<br>Confirmed=%{z}",
           "locations": [
            4013,
            18181,
            17031,
            53033
           ],
           "name": "",
           "type": "choropleth",
           "z": [
            1,
            3,
            2,
            1
           ]
          }
         ],
         "name": "1/31/20"
        },
        {
         "data": [
          {
           "coloraxis": "coloraxis",
           "geo": "geo",
           "hoverlabel": {
            "namelength": 0
           },
           "hovertemplate": "Date=2/1/20<br>FIPS=%{location}<br>Confirmed=%{z}",
           "locations": [
            4013,
            18181,
            17031,
            25025,
            53033
           ],
           "name": "",
           "type": "choropleth",
           "z": [
            1,
            3,
            2,
            1,
            1
           ]
          }
         ],
         "name": "2/1/20"
        },
        {
         "data": [
          {
           "coloraxis": "coloraxis",
           "geo": "geo",
           "hoverlabel": {
            "namelength": 0
           },
           "hovertemplate": "Date=2/10/20<br>FIPS=%{location}<br>Confirmed=%{z}",
           "locations": [
            4013,
            24250,
            17031,
            25025,
            53033
           ],
           "name": "",
           "type": "choropleth",
           "z": [
            1,
            6,
            2,
            1,
            1
           ]
          }
         ],
         "name": "2/10/20"
        },
        {
         "data": [
          {
           "coloraxis": "coloraxis",
           "geo": "geo",
           "hoverlabel": {
            "namelength": 0
           },
           "hovertemplate": "Date=2/11/20<br>FIPS=%{location}<br>Confirmed=%{z}",
           "locations": [
            4013,
            30323,
            17031,
            25025,
            53033
           ],
           "name": "",
           "type": "choropleth",
           "z": [
            1,
            7,
            2,
            1,
            1
           ]
          }
         ],
         "name": "2/11/20"
        },
        {
         "data": [
          {
           "coloraxis": "coloraxis",
           "geo": "geo",
           "hoverlabel": {
            "namelength": 0
           },
           "hovertemplate": "Date=2/12/20<br>FIPS=%{location}<br>Confirmed=%{z}",
           "locations": [
            4013,
            30323,
            17031,
            25025,
            53033
           ],
           "name": "",
           "type": "choropleth",
           "z": [
            1,
            7,
            2,
            1,
            1
           ]
          }
         ],
         "name": "2/12/20"
        },
        {
         "data": [
          {
           "coloraxis": "coloraxis",
           "geo": "geo",
           "hoverlabel": {
            "namelength": 0
           },
           "hovertemplate": "Date=2/13/20<br>FIPS=%{location}<br>Confirmed=%{z}",
           "locations": [
            4013,
            30323,
            17031,
            25025,
            53033
           ],
           "name": "",
           "type": "choropleth",
           "z": [
            1,
            8,
            2,
            1,
            1
           ]
          }
         ],
         "name": "2/13/20"
        },
        {
         "data": [
          {
           "coloraxis": "coloraxis",
           "geo": "geo",
           "hoverlabel": {
            "namelength": 0
           },
           "hovertemplate": "Date=2/14/20<br>FIPS=%{location}<br>Confirmed=%{z}",
           "locations": [
            4013,
            30323,
            17031,
            25025,
            53033
           ],
           "name": "",
           "type": "choropleth",
           "z": [
            1,
            8,
            2,
            1,
            1
           ]
          }
         ],
         "name": "2/14/20"
        },
        {
         "data": [
          {
           "coloraxis": "coloraxis",
           "geo": "geo",
           "hoverlabel": {
            "namelength": 0
           },
           "hovertemplate": "Date=2/15/20<br>FIPS=%{location}<br>Confirmed=%{z}",
           "locations": [
            4013,
            30323,
            17031,
            25025,
            53033
           ],
           "name": "",
           "type": "choropleth",
           "z": [
            1,
            8,
            2,
            1,
            1
           ]
          }
         ],
         "name": "2/15/20"
        },
        {
         "data": [
          {
           "coloraxis": "coloraxis",
           "geo": "geo",
           "hoverlabel": {
            "namelength": 0
           },
           "hovertemplate": "Date=2/16/20<br>FIPS=%{location}<br>Confirmed=%{z}",
           "locations": [
            4013,
            30323,
            17031,
            25025,
            53033
           ],
           "name": "",
           "type": "choropleth",
           "z": [
            1,
            8,
            2,
            1,
            1
           ]
          }
         ],
         "name": "2/16/20"
        },
        {
         "data": [
          {
           "coloraxis": "coloraxis",
           "geo": "geo",
           "hoverlabel": {
            "namelength": 0
           },
           "hovertemplate": "Date=2/17/20<br>FIPS=%{location}<br>Confirmed=%{z}",
           "locations": [
            4013,
            30323,
            17031,
            25025,
            53033
           ],
           "name": "",
           "type": "choropleth",
           "z": [
            1,
            8,
            2,
            1,
            1
           ]
          }
         ],
         "name": "2/17/20"
        },
        {
         "data": [
          {
           "coloraxis": "coloraxis",
           "geo": "geo",
           "hoverlabel": {
            "namelength": 0
           },
           "hovertemplate": "Date=2/18/20<br>FIPS=%{location}<br>Confirmed=%{z}",
           "locations": [
            4013,
            30323,
            17031,
            25025,
            53033
           ],
           "name": "",
           "type": "choropleth",
           "z": [
            1,
            8,
            2,
            1,
            1
           ]
          }
         ],
         "name": "2/18/20"
        },
        {
         "data": [
          {
           "coloraxis": "coloraxis",
           "geo": "geo",
           "hoverlabel": {
            "namelength": 0
           },
           "hovertemplate": "Date=2/19/20<br>FIPS=%{location}<br>Confirmed=%{z}",
           "locations": [
            4013,
            30323,
            17031,
            25025,
            53033
           ],
           "name": "",
           "type": "choropleth",
           "z": [
            1,
            8,
            2,
            1,
            1
           ]
          }
         ],
         "name": "2/19/20"
        },
        {
         "data": [
          {
           "coloraxis": "coloraxis",
           "geo": "geo",
           "hoverlabel": {
            "namelength": 0
           },
           "hovertemplate": "Date=2/2/20<br>FIPS=%{location}<br>Confirmed=%{z}",
           "locations": [
            4013,
            18181,
            17031,
            25025,
            53033
           ],
           "name": "",
           "type": "choropleth",
           "z": [
            1,
            3,
            2,
            1,
            1
           ]
          }
         ],
         "name": "2/2/20"
        },
        {
         "data": [
          {
           "coloraxis": "coloraxis",
           "geo": "geo",
           "hoverlabel": {
            "namelength": 0
           },
           "hovertemplate": "Date=2/20/20<br>FIPS=%{location}<br>Confirmed=%{z}",
           "locations": [
            4013,
            30323,
            17031,
            25025,
            53033
           ],
           "name": "",
           "type": "choropleth",
           "z": [
            1,
            8,
            2,
            1,
            1
           ]
          }
         ],
         "name": "2/20/20"
        },
        {
         "data": [
          {
           "coloraxis": "coloraxis",
           "geo": "geo",
           "hoverlabel": {
            "namelength": 0
           },
           "hovertemplate": "Date=2/21/20<br>FIPS=%{location}<br>Confirmed=%{z}",
           "locations": [
            4013,
            42413,
            17031,
            25025,
            53033
           ],
           "name": "",
           "type": "choropleth",
           "z": [
            1,
            10,
            2,
            1,
            1
           ]
          }
         ],
         "name": "2/21/20"
        },
        {
         "data": [
          {
           "coloraxis": "coloraxis",
           "geo": "geo",
           "hoverlabel": {
            "namelength": 0
           },
           "hovertemplate": "Date=2/22/20<br>FIPS=%{location}<br>Confirmed=%{z}",
           "locations": [
            4013,
            42413,
            17031,
            25025,
            53033
           ],
           "name": "",
           "type": "choropleth",
           "z": [
            1,
            10,
            2,
            1,
            1
           ]
          }
         ],
         "name": "2/22/20"
        },
        {
         "data": [
          {
           "coloraxis": "coloraxis",
           "geo": "geo",
           "hoverlabel": {
            "namelength": 0
           },
           "hovertemplate": "Date=2/23/20<br>FIPS=%{location}<br>Confirmed=%{z}",
           "locations": [
            4013,
            42413,
            17031,
            25025,
            53033
           ],
           "name": "",
           "type": "choropleth",
           "z": [
            1,
            10,
            2,
            1,
            1
           ]
          }
         ],
         "name": "2/23/20"
        },
        {
         "data": [
          {
           "coloraxis": "coloraxis",
           "geo": "geo",
           "hoverlabel": {
            "namelength": 0
           },
           "hovertemplate": "Date=2/24/20<br>FIPS=%{location}<br>Confirmed=%{z}",
           "locations": [
            4013,
            42413,
            17031,
            25025,
            53033
           ],
           "name": "",
           "type": "choropleth",
           "z": [
            1,
            10,
            2,
            1,
            1
           ]
          }
         ],
         "name": "2/24/20"
        },
        {
         "data": [
          {
           "coloraxis": "coloraxis",
           "geo": "geo",
           "hoverlabel": {
            "namelength": 0
           },
           "hovertemplate": "Date=2/25/20<br>FIPS=%{location}<br>Confirmed=%{z}",
           "locations": [
            4013,
            42413,
            17031,
            25025,
            53033
           ],
           "name": "",
           "type": "choropleth",
           "z": [
            1,
            10,
            2,
            1,
            1
           ]
          }
         ],
         "name": "2/25/20"
        },
        {
         "data": [
          {
           "coloraxis": "coloraxis",
           "geo": "geo",
           "hoverlabel": {
            "namelength": 0
           },
           "hovertemplate": "Date=2/26/20<br>FIPS=%{location}<br>Confirmed=%{z}",
           "locations": [
            4013,
            42413,
            17031,
            25025,
            53033
           ],
           "name": "",
           "type": "choropleth",
           "z": [
            1,
            10,
            2,
            1,
            1
           ]
          }
         ],
         "name": "2/26/20"
        },
        {
         "data": [
          {
           "coloraxis": "coloraxis",
           "geo": "geo",
           "hoverlabel": {
            "namelength": 0
           },
           "hovertemplate": "Date=2/27/20<br>FIPS=%{location}<br>Confirmed=%{z}",
           "locations": [
            4013,
            42413,
            17031,
            25025,
            53033
           ],
           "name": "",
           "type": "choropleth",
           "z": [
            1,
            11,
            2,
            1,
            1
           ]
          }
         ],
         "name": "2/27/20"
        },
        {
         "data": [
          {
           "coloraxis": "coloraxis",
           "geo": "geo",
           "hoverlabel": {
            "namelength": 0
           },
           "hovertemplate": "Date=2/28/20<br>FIPS=%{location}<br>Confirmed=%{z}",
           "locations": [
            4013,
            42413,
            17031,
            25025,
            53033
           ],
           "name": "",
           "type": "choropleth",
           "z": [
            1,
            11,
            2,
            1,
            1
           ]
          }
         ],
         "name": "2/28/20"
        },
        {
         "data": [
          {
           "coloraxis": "coloraxis",
           "geo": "geo",
           "hoverlabel": {
            "namelength": 0
           },
           "hovertemplate": "Date=2/29/20<br>FIPS=%{location}<br>Confirmed=%{z}",
           "locations": [
            4013,
            42413,
            17031,
            25025,
            41067,
            106094
           ],
           "name": "",
           "type": "choropleth",
           "z": [
            1,
            12,
            2,
            1,
            1,
            7
           ]
          }
         ],
         "name": "2/29/20"
        },
        {
         "data": [
          {
           "coloraxis": "coloraxis",
           "geo": "geo",
           "hoverlabel": {
            "namelength": 0
           },
           "hovertemplate": "Date=2/3/20<br>FIPS=%{location}<br>Confirmed=%{z}",
           "locations": [
            4013,
            24250,
            17031,
            25025,
            53033
           ],
           "name": "",
           "type": "choropleth",
           "z": [
            1,
            6,
            2,
            1,
            1
           ]
          }
         ],
         "name": "2/3/20"
        },
        {
         "data": [
          {
           "coloraxis": "coloraxis",
           "geo": "geo",
           "hoverlabel": {
            "namelength": 0
           },
           "hovertemplate": "Date=2/4/20<br>FIPS=%{location}<br>Confirmed=%{z}",
           "locations": [
            4013,
            24250,
            17031,
            25025,
            53033
           ],
           "name": "",
           "type": "choropleth",
           "z": [
            1,
            6,
            2,
            1,
            1
           ]
          }
         ],
         "name": "2/4/20"
        },
        {
         "data": [
          {
           "coloraxis": "coloraxis",
           "geo": "geo",
           "hoverlabel": {
            "namelength": 0
           },
           "hovertemplate": "Date=2/5/20<br>FIPS=%{location}<br>Confirmed=%{z}",
           "locations": [
            4013,
            24250,
            17031,
            25025,
            53033
           ],
           "name": "",
           "type": "choropleth",
           "z": [
            1,
            6,
            2,
            1,
            1
           ]
          }
         ],
         "name": "2/5/20"
        },
        {
         "data": [
          {
           "coloraxis": "coloraxis",
           "geo": "geo",
           "hoverlabel": {
            "namelength": 0
           },
           "hovertemplate": "Date=2/6/20<br>FIPS=%{location}<br>Confirmed=%{z}",
           "locations": [
            4013,
            24250,
            17031,
            25025,
            53033
           ],
           "name": "",
           "type": "choropleth",
           "z": [
            1,
            6,
            2,
            1,
            1
           ]
          }
         ],
         "name": "2/6/20"
        },
        {
         "data": [
          {
           "coloraxis": "coloraxis",
           "geo": "geo",
           "hoverlabel": {
            "namelength": 0
           },
           "hovertemplate": "Date=2/7/20<br>FIPS=%{location}<br>Confirmed=%{z}",
           "locations": [
            4013,
            24250,
            17031,
            25025,
            53033
           ],
           "name": "",
           "type": "choropleth",
           "z": [
            1,
            6,
            2,
            1,
            1
           ]
          }
         ],
         "name": "2/7/20"
        },
        {
         "data": [
          {
           "coloraxis": "coloraxis",
           "geo": "geo",
           "hoverlabel": {
            "namelength": 0
           },
           "hovertemplate": "Date=2/8/20<br>FIPS=%{location}<br>Confirmed=%{z}",
           "locations": [
            4013,
            24250,
            17031,
            25025,
            53033
           ],
           "name": "",
           "type": "choropleth",
           "z": [
            1,
            6,
            2,
            1,
            1
           ]
          }
         ],
         "name": "2/8/20"
        },
        {
         "data": [
          {
           "coloraxis": "coloraxis",
           "geo": "geo",
           "hoverlabel": {
            "namelength": 0
           },
           "hovertemplate": "Date=2/9/20<br>FIPS=%{location}<br>Confirmed=%{z}",
           "locations": [
            4013,
            24250,
            17031,
            25025,
            53033
           ],
           "name": "",
           "type": "choropleth",
           "z": [
            1,
            6,
            2,
            1,
            1
           ]
          }
         ],
         "name": "2/9/20"
        },
        {
         "data": [
          {
           "coloraxis": "coloraxis",
           "geo": "geo",
           "hoverlabel": {
            "namelength": 0
           },
           "hovertemplate": "Date=3/1/20<br>FIPS=%{location}<br>Confirmed=%{z}",
           "locations": [
            4013,
            42413,
            17031,
            25025,
            41067,
            44007,
            106094
           ],
           "name": "",
           "type": "choropleth",
           "z": [
            1,
            12,
            3,
            1,
            1,
            1,
            11
           ]
          }
         ],
         "name": "3/1/20"
        },
        {
         "data": [
          {
           "coloraxis": "coloraxis",
           "geo": "geo",
           "hoverlabel": {
            "namelength": 0
           },
           "hovertemplate": "Date=3/10/20<br>FIPS=%{location}<br>Confirmed=%{z}",
           "locations": [
            12053,
            139455,
            64328,
            9001,
            96566,
            104930,
            30004,
            34120,
            90285,
            38258,
            20091,
            63275,
            72089,
            125093,
            54142,
            29189,
            31055,
            64034,
            66024,
            238127,
            252631,
            74220,
            39035,
            40143,
            246256,
            210453,
            44007,
            135157,
            141381,
            192626,
            49011,
            50003,
            256066,
            514339,
            110118
           ],
           "name": "",
           "type": "choropleth",
           "z": [
            6,
            144,
            17,
            1,
            15,
            17,
            3,
            12,
            6,
            8,
            1,
            5,
            8,
            41,
            2,
            1,
            3,
            4,
            4,
            15,
            150,
            7,
            3,
            2,
            14,
            12,
            3,
            7,
            3,
            16,
            2,
            1,
            8,
            167,
            3
           ]
          }
         ],
         "name": "3/10/20"
        },
        {
         "data": [
          {
           "coloraxis": "coloraxis",
           "geo": "geo",
           "hoverlabel": {
            "namelength": 0
           },
           "hovertemplate": "Date=3/11/20<br>FIPS=%{location}<br>Confirmed=%{z}",
           "locations": [
            12053,
            157640,
            72425,
            18006,
            10003,
            156881,
            117979,
            15003,
            68328,
            144574,
            38258,
            20091,
            63275,
            22071,
            72089,
            150102,
            52288,
            108254,
            29189,
            62162,
            64034,
            66024,
            272150,
            70054,
            252631,
            74220,
            78186,
            40143,
            369377,
            252470,
            44007,
            180214,
            276274,
            188544,
            337517,
            98054,
            50003,
            307151,
            636512,
            110118
           ],
           "name": "",
           "type": "choropleth",
           "z": [
            9,
            178,
            34,
            3,
            1,
            24,
            23,
            2,
            25,
            11,
            13,
            1,
            8,
            5,
            9,
            92,
            2,
            5,
            1,
            5,
            7,
            5,
            23,
            3,
            220,
            7,
            4,
            2,
            19,
            16,
            5,
            10,
            8,
            9,
            21,
            3,
            1,
            9,
            282,
            4
           ]
          }
         ],
         "name": "3/11/20"
        },
        {
         "data": [
          {
           "coloraxis": "coloraxis",
           "geo": "geo",
           "hoverlabel": {
            "namelength": 0
           },
           "hovertemplate": "Date=3/12/20<br>FIPS=%{location}<br>Confirmed=%{z}",
           "locations": [
            12053,
            163717,
            80426,
            18006,
            10003,
            193193,
            157356,
            15003,
            68328,
            162633,
            38258,
            20091,
            63275,
            110287,
            23001,
            96094,
            150102,
            78309,
            189489,
            28035,
            29189,
            62162,
            64034,
            66024,
            374225,
            105103,
            468853,
            222570,
            38101,
            117341,
            80208,
            451425,
            336668,
            44007,
            180214,
            230239,
            235637,
            337517,
            98054,
            100010,
            306634,
            726565,
            220290,
            56033
           ],
           "name": "",
           "type": "choropleth",
           "z": [
            9,
            221,
            49,
            5,
            1,
            30,
            31,
            2,
            32,
            13,
            14,
            4,
            10,
            19,
            1,
            12,
            107,
            3,
            9,
            1,
            1,
            10,
            10,
            6,
            29,
            5,
            327,
            15,
            1,
            5,
            3,
            24,
            22,
            3,
            7,
            7,
            18,
            27,
            3,
            2,
            12,
            442,
            8,
            1
           ]
          }
         ],
         "name": "3/12/20"
        },
        {
         "data": [
          {
           "coloraxis": "coloraxis",
           "geo": "geo",
           "hoverlabel": {
            "namelength": 0
           },
           "hovertemplate": "Date=3/13/20<br>FIPS=%{location}<br>Confirmed=%{z}",
           "locations": [
            92175,
            90002,
            12053,
            90005,
            163717,
            120893,
            18006,
            10003,
            331469,
            196601,
            15003,
            90016,
            68328,
            162633,
            76370,
            60473,
            174469,
            66191,
            113024,
            168127,
            150102,
            325017,
            306687,
            146146,
            148295,
            90030,
            93187,
            64034,
            66024,
            442275,
            105103,
            540953,
            333919,
            38101,
            195507,
            80208,
            451425,
            462863,
            134051,
            180214,
            276326,
            376940,
            482422,
            237138,
            100010,
            550547,
            885682,
            385587,
            56033
           ],
           "name": "",
           "type": "choropleth",
           "z": [
            5,
            1,
            9,
            9,
            281,
            78,
            11,
            4,
            50,
            42,
            2,
            1,
            46,
            13,
            17,
            6,
            14,
            29,
            3,
            18,
            123,
            24,
            14,
            6,
            4,
            1,
            14,
            18,
            6,
            49,
            10,
            421,
            17,
            1,
            12,
            3,
            30,
            41,
            12,
            8,
            8,
            26,
            44,
            9,
            2,
            27,
            568,
            19,
            1
           ]
          }
         ],
         "name": "3/13/20"
        },
        {
         "data": [
          {
           "coloraxis": "coloraxis",
           "geo": "geo",
           "hoverlabel": {
            "namelength": 0
           },
           "hovertemplate": "Date=3/14/20<br>FIPS=%{location}<br>Confirmed=%{z}",
           "locations": [
            96523,
            2020,
            16062,
            95074,
            253723,
            136983,
            36018,
            10003,
            343552,
            209808,
            30010,
            32014,
            153801,
            198903,
            76370,
            80374,
            105627,
            288629,
            113024,
            258151,
            200108,
            403162,
            243789,
            112256,
            87349,
            210314,
            93187,
            64034,
            66024,
            442275,
            140146,
            739234,
            445072,
            38101,
            312666,
            120317,
            451425,
            504866,
            44007,
            270290,
            276326,
            423953,
            723081,
            237138,
            200060,
            511537,
            938745,
            440726,
            112046
           ],
           "name": "",
           "type": "choropleth",
           "z": [
            7,
            1,
            12,
            12,
            372,
            103,
            23,
            6,
            76,
            73,
            4,
            2,
            64,
            16,
            17,
            8,
            16,
            77,
            3,
            27,
            138,
            36,
            21,
            6,
            4,
            5,
            18,
            20,
            7,
            69,
            13,
            613,
            25,
            1,
            26,
            4,
            36,
            47,
            20,
            19,
            8,
            32,
            60,
            10,
            5,
            37,
            642,
            27,
            2
           ]
          }
         ],
         "name": "3/14/20"
        },
        {
         "data": [
          {
           "coloraxis": "coloraxis",
           "geo": "geo",
           "hoverlabel": {
            "namelength": 0
           },
           "hovertemplate": "Date=3/15/20<br>FIPS=%{location}<br>Confirmed=%{z}",
           "locations": [
            6436,
            2020,
            16062,
            5069,
            169796,
            145028,
            36018,
            10003,
            277666,
            249147,
            45019,
            48095,
            170968,
            216960,
            95419,
            80374,
            105627,
            198607,
            46006,
            192637,
            200108,
            339251,
            243789,
            112256,
            87349,
            150347,
            93187,
            64034,
            66024,
            476294,
            140146,
            649198,
            482261,
            38101,
            390918,
            120317,
            451425,
            504866,
            44007,
            270290,
            276326,
            423953,
            771290,
            147089,
            200060,
            511537,
            848692,
            440726,
            112046
           ],
           "name": "",
           "type": "choropleth",
           "z": [
            11,
            1,
            12,
            3,
            373,
            136,
            24,
            6,
            100,
            99,
            6,
            4,
            66,
            20,
            18,
            8,
            18,
            87,
            2,
            24,
            138,
            45,
            21,
            6,
            5,
            6,
            17,
            20,
            7,
            72,
            13,
            615,
            32,
            1,
            30,
            4,
            36,
            47,
            20,
            19,
            8,
            32,
            63,
            18,
            5,
            37,
            603,
            28,
            2
           ]
          }
         ],
         "name": "3/15/20"
        },
        {
         "data": [
          {
           "coloraxis": "coloraxis",
           "geo": "geo",
           "hoverlabel": {
            "namelength": 0
           },
           "hovertemplate": "Date=3/16/20<br>FIPS=%{location}<br>Confirmed=%{z}",
           "locations": [
            8634,
            2020,
            16062,
            5069,
            188007,
            145028,
            36018,
            10003,
            11001,
            289699,
            301911,
            99999,
            66,
            45019,
            48095,
            188155,
            253008,
            133577,
            80374,
            147693,
            242699,
            92034,
            264726,
            250144,
            391465,
            325122,
            196445,
            116859,
            150347,
            93187,
            96544,
            132038,
            476294,
            140146,
            865512,
            556553,
            38101,
            469076,
            280551,
            492496,
            589022,
            72999,
            44007,
            405393,
            322361,
            471108,
            915769,
            245185,
            250077,
            78,
            717484,
            1007791,
            606013,
            112046
           ],
           "name": "",
           "type": "choropleth",
           "z": [
            29,
            1,
            18,
            3,
            557,
            161,
            41,
            8,
            22,
            101,
            121,
            20,
            3,
            8,
            4,
            83,
            25,
            23,
            11,
            21,
            115,
            17,
            42,
            187,
            76,
            53,
            12,
            8,
            6,
            18,
            45,
            17,
            176,
            21,
            967,
            39,
            1,
            50,
            10,
            39,
            79,
            5,
            21,
            30,
            10,
            52,
            85,
            28,
            12,
            1,
            49,
            779,
            48,
            2
           ]
          }
         ],
         "name": "3/16/20"
        },
        {
         "data": [
          {
           "coloraxis": "coloraxis",
           "geo": "geo",
           "hoverlabel": {
            "namelength": 0
           },
           "hovertemplate": "Date=3/17/20<br>FIPS=%{location}<br>Confirmed=%{z}",
           "locations": [
            10838,
            4110,
            20079,
            5069,
            200089,
            145028,
            36018,
            20008,
            88888,
            11001,
            325882,
            328411,
            99999,
            66,
            45019,
            64160,
            256721,
            271085,
            133577,
            120476,
            168836,
            286849,
            161093,
            264726,
            250144,
            443691,
            325122,
            252551,
            233061,
            150305,
            124340,
            96544,
            132038,
            510309,
            175201,
            1081936,
            705041,
            76118,
            625328,
            320668,
            533499,
            631029,
            72999,
            44007,
            585619,
            322361,
            471108,
            1060690,
            245185,
            250077,
            78,
            922767,
            1113837,
            606013,
            168067
           ],
           "name": "",
           "type": "choropleth",
           "z": [
            39,
            3,
            20,
            3,
            700,
            183,
            68,
            16,
            47,
            22,
            190,
            146,
            21,
            3,
            10,
            8,
            161,
            30,
            23,
            18,
            26,
            196,
            26,
            60,
            217,
            90,
            59,
            21,
            14,
            8,
            23,
            55,
            26,
            250,
            23,
            1578,
            64,
            3,
            67,
            17,
            66,
            112,
            5,
            23,
            47,
            11,
            74,
            110,
            39,
            12,
            2,
            67,
            955,
            73,
            11
           ]
          }
         ],
         "name": "3/17/20"
        },
        {
         "data": [
          {
           "coloraxis": "coloraxis",
           "geo": "geo",
           "hoverlabel": {
            "namelength": 0
           },
           "hovertemplate": "Date=3/18/20<br>FIPS=%{location}<br>Confirmed=%{z}",
           "locations": [
            11853,
            4110,
            20079,
            10212,
            200089,
            153153,
            45025,
            30009,
            88888,
            11001,
            325888,
            367708,
            99999,
            66,
            45019,
            64160,
            290933,
            325224,
            209965,
            140579,
            168836,
            286849,
            161099,
            264726,
            275155,
            469784,
            433468,
            364733,
            233061,
            150305,
            155451,
            96544,
            165051,
            578351,
            175201,
            1262259,
            890524,
            152192,
            781564,
            320668,
            574538,
            841362,
            72999,
            44007,
            630680,
            322361,
            612441,
            1687569,
            294234,
            300078,
            78,
            1128953,
            1219903,
            54037,
            826343,
            224096
           ],
           "name": "",
           "type": "choropleth",
           "z": [
            51,
            5,
            27,
            4,
            831,
            216,
            96,
            19,
            47,
            31,
            306,
            197,
            21,
            5,
            15,
            9,
            272,
            38,
            38,
            22,
            28,
            257,
            35,
            85,
            252,
            159,
            77,
            34,
            21,
            10,
            24,
            55,
            37,
            397,
            28,
            3038,
            92,
            6,
            89,
            17,
            75,
            155,
            5,
            33,
            60,
            11,
            100,
            196,
            47,
            13,
            2,
            79,
            1022,
            1,
            111,
            16
           ]
          }
         ],
         "name": "3/18/20"
        },
        {
         "data": [
          {
           "coloraxis": "coloraxis",
           "geo": "geo",
           "hoverlabel": {
            "namelength": 0
           },
           "hovertemplate": "Date=3/19/20<br>FIPS=%{location}<br>Confirmed=%{z}",
           "locations": [
            16215,
            6240,
            24084,
            100217,
            206134,
            177314,
            144047,
            30009,
            88888,
            11001,
            422506,
            536583,
            99999,
            66,
            135034,
            96298,
            466605,
            452047,
            248165,
            200862,
            322134,
            465215,
            274131,
            288735,
            390195,
            611892,
            514857,
            617766,
            410485,
            240335,
            186452,
            186576,
            255084,
            736431,
            210248,
            1424453,
            1076077,
            152192,
            937896,
            521075,
            574538,
            925566,
            72999,
            44007,
            765797,
            322361,
            749523,
            1874501,
            343239,
            390128,
            78,
            1423903,
            1309956,
            108092,
            1266763,
            280135
           ],
           "name": "",
           "type": "choropleth",
           "z": [
            78,
            8,
            45,
            62,
            1009,
            278,
            159,
            30,
            47,
            40,
            432,
            287,
            22,
            12,
            25,
            23,
            422,
            60,
            44,
            35,
            50,
            392,
            52,
            107,
            328,
            314,
            89,
            50,
            42,
            11,
            29,
            95,
            42,
            741,
            35,
            5704,
            136,
            19,
            119,
            44,
            88,
            206,
            5,
            44,
            80,
            14,
            154,
            306,
            62,
            22,
            3,
            103,
            1374,
            2,
            159,
            18
           ]
          }
         ],
         "name": "3/19/20"
        },
        {
         "data": [
          {
           "coloraxis": "coloraxis",
           "geo": "geo",
           "hoverlabel": {
            "namelength": 0
           },
           "hovertemplate": "Date=3/2/20<br>FIPS=%{location}<br>Confirmed=%{z}",
           "locations": [
            4013,
            60652,
            12057,
            17031,
            25025,
            33009,
            36061,
            82126,
            44007,
            106094
           ],
           "name": "",
           "type": "choropleth",
           "z": [
            1,
            21,
            1,
            4,
            1,
            1,
            1,
            3,
            2,
            18
           ]
          }
         ],
         "name": "3/2/20"
        },
        {
         "data": [
          {
           "coloraxis": "coloraxis",
           "geo": "geo",
           "hoverlabel": {
            "namelength": 0
           },
           "hovertemplate": "Date=3/20/20<br>FIPS=%{location}<br>Confirmed=%{z}",
           "locations": [
            20567,
            6240,
            40162,
            100217,
            206134,
            201534,
            72064,
            30009,
            88888,
            11001,
            434593,
            787302,
            99999,
            66,
            45019,
            144379,
            500719,
            506338,
            248165,
            261351,
            400977,
            707852,
            251122,
            336827,
            390195,
            547915,
            541750,
            898636,
            468755,
            360555,
            338719,
            218583,
            288089,
            770442,
            245279,
            1532692,
            1372539,
            228332,
            1211499,
            561124,
            656622,
            1093754,
            72999,
            134051,
            1126151,
            322361,
            1267248,
            2356747,
            343239,
            390128,
            78,
            1538220,
            1415970,
            324320,
            1597089,
            336140
           ],
           "name": "",
           "type": "choropleth",
           "z": [
            106,
            11,
            68,
            100,
            1243,
            364,
            194,
            39,
            49,
            71,
            564,
            485,
            23,
            14,
            36,
            36,
            585,
            86,
            45,
            48,
            64,
            537,
            56,
            149,
            413,
            471,
            113,
            80,
            79,
            20,
            37,
            161,
            53,
            890,
            42,
            8403,
            189,
            26,
            173,
            49,
            114,
            311,
            14,
            54,
            126,
            14,
            223,
            429,
            95,
            29,
            3,
            123,
            1524,
            8,
            219,
            21
           ]
          }
         ],
         "name": "3/20/20"
        },
        {
         "data": [
          {
           "coloraxis": "coloraxis",
           "geo": "geo",
           "hoverlabel": {
            "namelength": 0
           },
           "hovertemplate": "Date=3/21/20<br>FIPS=%{location}<br>Confirmed=%{z}",
           "locations": [
            22703,
            6240,
            44163,
            100217,
            218190,
            323734,
            72064,
            30009,
            88888,
            11001,
            584914,
            826679,
            99999,
            66,
            45019,
            128336,
            534777,
            596739,
            343762,
            281474,
            490998,
            862125,
            274145,
            408912,
            390195,
            782418,
            677293,
            1072771,
            436824,
            390636,
            279707,
            218583,
            264080,
            770442,
            280304,
            1550787,
            1558042,
            228332,
            1289577,
            561124,
            697655,
            1219909,
            72999,
            310069,
            1396437,
            322361,
            1554139,
            2550367,
            343239,
            450135,
            78,
            1640418,
            1575161,
            378371,
            1597089,
            448172
           ],
           "name": "",
           "type": "choropleth",
           "z": [
            131,
            13,
            104,
            122,
            1412,
            475,
            194,
            45,
            49,
            98,
            763,
            555,
            23,
            15,
            36,
            42,
            753,
            128,
            69,
            57,
            87,
            763,
            70,
            193,
            523,
            625,
            134,
            140,
            89,
            27,
            38,
            161,
            61,
            1327,
            55,
            11727,
            256,
            28,
            247,
            53,
            137,
            399,
            21,
            66,
            174,
            14,
            304,
            582,
            118,
            49,
            6,
            157,
            1793,
            12,
            282,
            23
           ]
          }
         ],
         "name": "3/21/20"
        },
        {
         "data": [
          {
           "coloraxis": "coloraxis",
           "geo": "geo",
           "hoverlabel": {
            "namelength": 0
           },
           "hovertemplate": "Date=3/22/20<br>FIPS=%{location}<br>Confirmed=%{z}",
           "locations": [
            22703,
            6240,
            44163,
            227078,
            242460,
            331809,
            72064,
            30009,
            88888,
            11001,
            645061,
            879123,
            99999,
            66,
            45019,
            128336,
            603305,
            723592,
            458592,
            281474,
            490998,
            862125,
            274145,
            456992,
            390195,
            912871,
            731393,
            1460458,
            494938,
            420649,
            279707,
            218583,
            264092,
            804475,
            315317,
            1676846,
            1669423,
            228332,
            1680425,
            641328,
            697655,
            1388189,
            72999,
            310069,
            1486539,
            368374,
            1930811,
            2845749,
            343239,
            450135,
            78,
            1997821,
            1681259,
            432450,
            1597089,
            448172
           ],
           "name": "",
           "type": "choropleth",
           "z": [
            157,
            18,
            152,
            165,
            1651,
            595,
            327,
            56,
            49,
            102,
            1004,
            621,
            30,
            27,
            53,
            42,
            1049,
            204,
            90,
            65,
            103,
            837,
            89,
            244,
            640,
            1131,
            167,
            207,
            122,
            34,
            51,
            190,
            73,
            1914,
            57,
            15800,
            305,
            28,
            356,
            67,
            161,
            509,
            23,
            83,
            196,
            21,
            393,
            643,
            162,
            52,
            6,
            220,
            1997,
            16,
            381,
            26
           ]
          }
         ],
         "name": "3/22/20"
        },
        {
         "data": [
          {
           "coloraxis": "coloraxis",
           "geo": "geo",
           "hoverlabel": {
            "namelength": 0
           },
           "hovertemplate": "Date=3/23/20<br>FIPS=%{location}<br>Confirmed=%{z}",
           "locations": [
            25954,
            10472,
            44163,
            262613,
            254524,
            339928,
            72064,
            30009,
            88888,
            11001,
            555049,
            971444,
            99999,
            66,
            60020,
            176457,
            620438,
            831759,
            496852,
            341621,
            639003,
            994385,
            297158,
            505030,
            390195,
            1097303,
            902617,
            1544757,
            876083,
            420649,
            279707,
            218583,
            387126,
            804475,
            385367,
            1821066,
            1892251,
            228332,
            1797730,
            681451,
            738682,
            1430210,
            72999,
            310069,
            1531560,
            506553,
            2289287,
            3376382,
            472341,
            600174,
            78,
            1998422,
            1734254,
            432450,
            1652116,
            448172
           ],
           "name": "",
           "type": "choropleth",
           "z": [
            196,
            30,
            235,
            192,
            2113,
            723,
            415,
            68,
            49,
            120,
            1227,
            772,
            28,
            29,
            56,
            68,
            1285,
            270,
            105,
            84,
            123,
            1172,
            107,
            290,
            777,
            1454,
            234,
            249,
            225,
            34,
            51,
            245,
            101,
            2844,
            83,
            20884,
            353,
            30,
            443,
            81,
            191,
            698,
            31,
            106,
            298,
            28,
            614,
            758,
            257,
            75,
            7,
            254,
            2221,
            16,
            425,
            26
           ]
          }
         ],
         "name": "3/23/20"
        },
        {
         "data": [
          {
           "coloraxis": "coloraxis",
           "geo": "geo",
           "hoverlabel": {
            "namelength": 0
           },
           "hovertemplate": "Date=3/24/20<br>FIPS=%{location}<br>Confirmed=%{z}",
           "locations": [
            28058,
            10472,
            44163,
            277816,
            254524,
            372122,
            72064,
            30009,
            88888,
            11001,
            555049,
            1207878,
            99999,
            66,
            150035,
            192508,
            530285,
            904374,
            663201,
            381871,
            808121,
            1038599,
            230162,
            505030,
            390195,
            1253805,
            812590,
            1628980,
            963512,
            420649,
            404225,
            282611,
            297093,
            804475,
            455382,
            1839143,
            2114585,
            304456,
            1953976,
            721548,
            779689,
            1682466,
            72999,
            310069,
            1621654,
            552564,
            2383411,
            3714521,
            472341,
            600174,
            78,
            2254430,
            1734254,
            486483,
            1707165,
            448172
           ],
           "name": "",
           "type": "choropleth",
           "z": [
            242,
            34,
            326,
            219,
            2542,
            912,
            618,
            104,
            49,
            141,
            1412,
            1026,
            28,
            32,
            90,
            81,
            1537,
            368,
            124,
            100,
            162,
            1388,
            118,
            349,
            1159,
            1942,
            261,
            320,
            291,
            51,
            66,
            278,
            101,
            3675,
            100,
            25681,
            495,
            36,
            567,
            106,
            210,
            946,
            39,
            124,
            342,
            30,
            772,
            955,
            298,
            95,
            17,
            293,
            2328,
            22,
            481,
            29
           ]
          }
         ],
         "name": "3/24/20"
        },
        {
         "data": [
          {
           "coloraxis": "coloraxis",
           "geo": "geo",
           "hoverlabel": {
            "namelength": 0
           },
           "hovertemplate": "Date=3/25/20<br>FIPS=%{location}<br>Confirmed=%{z}",
           "locations": [
            41811,
            10472,
            44163,
            277800,
            254436,
            380211,
            72064,
            30009,
            88888,
            11001,
            555049,
            1366190,
            99999,
            66,
            150035,
            208577,
            671573,
            958605,
            611250,
            422181,
            829124,
            1149006,
            320185,
            529059,
            390195,
            1384370,
            866808,
            1713115,
            1106419,
            390703,
            404225,
            314630,
            297093,
            804475,
            525436,
            1875176,
            2225812,
            380576,
            2149515,
            1082179,
            820730,
            1850802,
            72999,
            310069,
            1756897,
            644740,
            2571773,
            4342432,
            423336,
            690224,
            78,
            2716741,
            1734254,
            648670,
            1872308,
            560210
           ],
           "name": "",
           "type": "choropleth",
           "z": [
            381,
            41,
            401,
            280,
            3009,
            1087,
            875,
            119,
            49,
            187,
            1682,
            1247,
            28,
            37,
            91,
            91,
            1865,
            477,
            146,
            134,
            197,
            1795,
            142,
            425,
            1838,
            2468,
            286,
            377,
            382,
            65,
            71,
            323,
            108,
            4402,
            113,
            30841,
            590,
            45,
            704,
            164,
            266,
            1260,
            51,
            132,
            424,
            41,
            916,
            1229,
            340,
            125,
            17,
            396,
            2591,
            39,
            621,
            44
           ]
          }
         ],
         "name": "3/25/20"
        },
        {
         "data": [
          {
           "coloraxis": "coloraxis",
           "geo": "geo",
           "hoverlabel": {
            "namelength": 0
           },
           "hovertemplate": "Date=3/26/20<br>FIPS=%{location}<br>Confirmed=%{z}",
           "locations": [
            51272,
            10472,
            52190,
            298124,
            266652,
            404500,
            72064,
            30009,
            88888,
            11001,
            555049,
            1366382,
            99999,
            66,
            150035,
            272781,
            671573,
            1085516,
            706701,
            482620,
            829124,
            1237298,
            343192,
            529059,
            390195,
            1514875,
            948185,
            1825479,
            1280811,
            480916,
            404225,
            314630,
            297093,
            804475,
            525436,
            1911249,
            2300104,
            418625,
            2345048,
            1322687,
            902852,
            2019032,
            72999,
            310069,
            1756897,
            644740,
            2760025,
            4825096,
            423336,
            690224,
            78,
            3075715,
            1840320,
            918943,
            2092722,
            616229
           ],
           "name": "",
           "type": "choropleth",
           "z": [
            517,
            56,
            508,
            335,
            3910,
            1430,
            1012,
            130,
            49,
            231,
            2357,
            1525,
            28,
            45,
            95,
            146,
            2538,
            645,
            179,
            172,
            247,
            2304,
            155,
            583,
            2417,
            3032,
            344,
            485,
            577,
            90,
            74,
            420,
            137,
            6876,
            113,
            37877,
            738,
            51,
            868,
            248,
            316,
            1795,
            64,
            165,
            424,
            46,
            1097,
            1563,
            396,
            158,
            17,
            466,
            3207,
            52,
            728,
            53
           ]
          }
         ],
         "name": "3/26/20"
        },
        {
         "data": [
          {
           "coloraxis": "coloraxis",
           "geo": "geo",
           "hoverlabel": {
            "namelength": 0
           },
           "hovertemplate": "Date=3/27/20<br>FIPS=%{location}<br>Confirmed=%{z}",
           "locations": [
            55628,
            10472,
            52190,
            303141,
            356658,
            436608,
            72064,
            30009,
            88888,
            11001,
            579303,
            1432111,
            99999,
            66,
            150035,
            272781,
            667079,
            1212063,
            878654,
            623215,
            829124,
            1237298,
            343192,
            529059,
            390195,
            1619087,
            1056403,
            1909830,
            1455653,
            541030,
            525355,
            346643,
            387126,
            804475,
            525436,
            1911249,
            2411509,
            456676,
            2384099,
            1522944,
            984910,
            2061151,
            72999,
            310069,
            1756897,
            875121,
            2854355,
            5308418,
            423336,
            690224,
            78,
            3588672,
            1840320,
            973064,
            2292903,
            728287
           ],
           "name": "",
           "type": "choropleth",
           "z": [
            587,
            58,
            665,
            381,
            4679,
            1738,
            1291,
            163,
            49,
            271,
            2900,
            2000,
            28,
            51,
            106,
            205,
            3024,
            979,
            235,
            206,
            301,
            2744,
            168,
            775,
            3240,
            3848,
            396,
            579,
            744,
            109,
            82,
            536,
            158,
            8825,
            136,
            44876,
            887,
            68,
            1137,
            322,
            416,
            2345,
            79,
            203,
            542,
            58,
            1318,
            1937,
            472,
            184,
            19,
            607,
            3477,
            76,
            926,
            70
           ]
          }
         ],
         "name": "3/27/20"
        },
        {
         "data": [
          {
           "coloraxis": "coloraxis",
           "geo": "geo",
           "hoverlabel": {
            "namelength": 0
           },
           "hovertemplate": "Date=3/28/20<br>FIPS=%{location}<br>Confirmed=%{z}",
           "locations": [
            57780,
            12642,
            56197,
            313221,
            278694,
            444689,
            72064,
            30009,
            88888,
            11001,
            591378,
            1511269,
            99999,
            66,
            150035,
            320908,
            825376,
            1338868,
            955114,
            643272,
            871364,
            1325558,
            343192,
            529059,
            390195,
            1709213,
            1110505,
            1993887,
            1484662,
            541030,
            528503,
            346643,
            297093,
            804475,
            595538,
            1983355,
            2745248,
            684960,
            2579528,
            1603128,
            984910,
            2355652,
            72999,
            310069,
            1801956,
            1059419,
            3278184,
            5645223,
            521378,
            690224,
            78,
            3793630,
            1803326,
            1135191,
            2313036,
            840331
           ],
           "name": "",
           "type": "choropleth",
           "z": [
            694,
            85,
            773,
            409,
            5110,
            2061,
            1524,
            214,
            49,
            304,
            3763,
            2366,
            103,
            55,
            149,
            234,
            3491,
            1233,
            298,
            266,
            380,
            3315,
            211,
            995,
            4257,
            4890,
            441,
            663,
            864,
            129,
            96,
            626,
            187,
            11124,
            208,
            52410,
            1020,
            94,
            1406,
            377,
            479,
            2845,
            100,
            239,
            660,
            68,
            1511,
            2455,
            602,
            211,
            22,
            740,
            4030,
            96,
            1055,
            82
           ]
          }
         ],
         "name": "3/28/20"
        },
        {
         "data": [
          {
           "coloraxis": "coloraxis",
           "geo": "geo",
           "hoverlabel": {
            "namelength": 0
           },
           "hovertemplate": "Date=3/29/20<br>FIPS=%{location}<br>Confirmed=%{z}",
           "locations": [
            58867,
            12642,
            56197,
            323323,
            284715,
            460851,
            72064,
            30009,
            88888,
            11001,
            603429,
            1576684,
            99999,
            66,
            150035,
            352998,
            893740,
            1411178,
            955114,
            703771,
            1314803,
            1391745,
            366217,
            529059,
            390195,
            1709213,
            1218749,
            2106077,
            1572187,
            571053,
            649607,
            346643,
            297093,
            804475,
            595538,
            1983355,
            2819488,
            684960,
            2579528,
            1763578,
            984910,
            2439860,
            72999,
            310069,
            1801956,
            1289752,
            3560700,
            5741809,
            717436,
            690224,
            78,
            4102388,
            1893379,
            1135191,
            2313036,
            840331
           ],
           "name": "",
           "type": "choropleth",
           "z": [
            825,
            102,
            919,
            426,
            5863,
            2308,
            1993,
            232,
            49,
            342,
            4246,
            2651,
            103,
            56,
            149,
            281,
            4596,
            1513,
            336,
            330,
            438,
            3540,
            253,
            1239,
            4955,
            5753,
            503,
            759,
            934,
            154,
            108,
            920,
            214,
            13386,
            237,
            59648,
            1191,
            98,
            1653,
            429,
            548,
            3432,
            127,
            294,
            774,
            90,
            1720,
            2792,
            720,
            235,
            23,
            890,
            4465,
            113,
            1164,
            86
           ]
          }
         ],
         "name": "3/29/20"
        },
        {
         "data": [
          {
           "coloraxis": "coloraxis",
           "geo": "geo",
           "hoverlabel": {
            "namelength": 0
           },
           "hovertemplate": "Date=3/3/20<br>FIPS=%{location}<br>Confirmed=%{z}",
           "locations": [
            4013,
            66653,
            12057,
            13121,
            17031,
            50046,
            33009,
            72180,
            37183,
            82126,
            44007,
            106094
           ],
           "name": "",
           "type": "choropleth",
           "z": [
            1,
            25,
            2,
            2,
            4,
            2,
            2,
            2,
            1,
            3,
            2,
            27
           ]
          }
         ],
         "name": "3/3/20"
        },
        {
         "data": [
          {
           "coloraxis": "coloraxis",
           "geo": "geo",
           "hoverlabel": {
            "namelength": 0
           },
           "hovertemplate": "Date=3/30/20<br>FIPS=%{location}<br>Confirmed=%{z}",
           "locations": [
            61996,
            12642,
            60208,
            338486,
            284715,
            468858,
            162073,
            30009,
            88888,
            11001,
            717613,
            1668555,
            99999,
            66,
            150035,
            352998,
            979239,
            1429195,
            1069626,
            764000,
            1314803,
            1391745,
            366217,
            529059,
            390195,
            1813569,
            1300068,
            2168102,
            1834362,
            571053,
            712023,
            346643,
            387126,
            804475,
            595538,
            1983355,
            2856711,
            723003,
            2735894,
            1883705,
            984910,
            2481979,
            72999,
            310069,
            1846967,
            1381862,
            3607755,
            6080116,
            472373,
            690224,
            78,
            4410086,
            1893379,
            1459645,
            2423166,
            840331
           ],
           "name": "",
           "type": "choropleth",
           "z": [
            899,
            114,
            1157,
            473,
            7155,
            2627,
            2571,
            264,
            49,
            401,
            5473,
            2808,
            103,
            58,
            175,
            340,
            5056,
            1786,
            424,
            372,
            479,
            4025,
            275,
            1413,
            5752,
            6803,
            576,
            847,
            1289,
            171,
            145,
            1012,
            314,
            16636,
            237,
            66663,
            1313,
            109,
            1933,
            481,
            606,
            4155,
            174,
            408,
            925,
            101,
            1917,
            3147,
            798,
            256,
            30,
            1020,
            4923,
            145,
            1230,
            94
           ]
          }
         ],
         "name": "3/30/20"
        },
        {
         "data": [
          {
           "coloraxis": "coloraxis",
           "geo": "geo",
           "hoverlabel": {
            "namelength": 0
           },
           "hovertemplate": "Date=3/31/20<br>FIPS=%{location}<br>Confirmed=%{z}",
           "locations": [
            63115,
            12642,
            60208,
            348710,
            290824,
            493127,
            162073,
            30009,
            88888,
            11001,
            753810,
            1905795,
            99999,
            66,
            150035,
            417182,
            996292,
            1447272,
            1159645,
            824127,
            1505194,
            1413844,
            366217,
            529059,
            390195,
            1943924,
            1408338,
            2134218,
            1921854,
            601118,
            743026,
            378676,
            297093,
            804475,
            630595,
            2019404,
            3005035,
            799145,
            69,
            2775021,
            1963745,
            1067018,
            2523988,
            72999,
            310069,
            1891976,
            1381920,
            3937720,
            6563138,
            717482,
            690224,
            78,
            4871063,
            1893379,
            1513676,
            2643292,
            840331
           ],
           "name": "",
           "type": "choropleth",
           "z": [
            987,
            119,
            1289,
            523,
            8233,
            2966,
            3128,
            319,
            49,
            495,
            6741,
            3929,
            103,
            69,
            204,
            515,
            5994,
            2158,
            497,
            434,
            628,
            5237,
            303,
            1660,
            6620,
            7951,
            629,
            937,
            1550,
            198,
            172,
            1114,
            357,
            18696,
            315,
            75833,
            1535,
            122,
            2,
            2199,
            568,
            690,
            4963,
            239,
            488,
            1083,
            108,
            2391,
            3809,
            888,
            293,
            30,
            1249,
            5432,
            162,
            1412,
            109
           ]
          }
         ],
         "name": "3/31/20"
        },
        {
         "data": [
          {
           "coloraxis": "coloraxis",
           "geo": "geo",
           "hoverlabel": {
            "namelength": 0
           },
           "hovertemplate": "Date=3/4/20<br>FIPS=%{location}<br>Confirmed=%{z}",
           "locations": [
            4013,
            72666,
            12057,
            13121,
            17031,
            50046,
            33009,
            72180,
            37183,
            82126,
            44007,
            106094
           ],
           "name": "",
           "type": "choropleth",
           "z": [
            1,
            35,
            2,
            2,
            4,
            2,
            2,
            11,
            1,
            3,
            2,
            39
           ]
          }
         ],
         "name": "3/4/20"
        },
        {
         "data": [
          {
           "coloraxis": "coloraxis",
           "geo": "geo",
           "hoverlabel": {
            "namelength": 0
           },
           "hovertemplate": "Date=3/5/20<br>FIPS=%{location}<br>Confirmed=%{z}",
           "locations": [
            4013,
            78741,
            16094,
            24170,
            13121,
            17031,
            50046,
            32003,
            33009,
            34003,
            108239,
            37183,
            82126,
            44007,
            47187,
            96358,
            159119
           ],
           "name": "",
           "type": "choropleth",
           "z": [
            1,
            51,
            2,
            3,
            2,
            5,
            2,
            1,
            2,
            2,
            23,
            1,
            3,
            2,
            1,
            3,
            70
           ]
          }
         ],
         "name": "3/5/20"
        },
        {
         "data": [
          {
           "coloraxis": "coloraxis",
           "geo": "geo",
           "hoverlabel": {
            "namelength": 0
           },
           "hovertemplate": "Date=3/6/20<br>FIPS=%{location}<br>Confirmed=%{z}",
           "locations": [
            4013,
            84854,
            40203,
            24170,
            26354,
            17031,
            18097,
            21067,
            24031,
            75063,
            27123,
            31055,
            64034,
            33009,
            34003,
            108239,
            74220,
            82126,
            84172,
            44007,
            47187,
            96358,
            159119
           ],
           "name": "",
           "type": "choropleth",
           "z": [
            2,
            59,
            8,
            3,
            3,
            5,
            1,
            1,
            3,
            6,
            1,
            1,
            2,
            2,
            2,
            31,
            2,
            3,
            2,
            2,
            1,
            4,
            78
           ]
          }
         ],
         "name": "3/6/20"
        },
        {
         "data": [
          {
           "coloraxis": "coloraxis",
           "geo": "geo",
           "hoverlabel": {
            "namelength": 0
           },
           "hovertemplate": "Date=3/7/20<br>FIPS=%{location}<br>Confirmed=%{z}",
           "locations": [
            8034,
            90893,
            40203,
            48252,
            39421,
            15003,
            17031,
            18097,
            21067,
            24031,
            75063,
            27123,
            31055,
            64034,
            33009,
            34003,
            180417,
            74220,
            40143,
            164190,
            84172,
            44007,
            90074,
            47187,
            96358,
            49011,
            318214
           ],
           "name": "",
           "type": "choropleth",
           "z": [
            4,
            81,
            8,
            7,
            5,
            1,
            6,
            1,
            1,
            3,
            6,
            1,
            1,
            2,
            2,
            4,
            76,
            2,
            1,
            6,
            2,
            3,
            2,
            1,
            8,
            1,
            102
           ]
          }
         ],
         "name": "3/7/20"
        },
        {
         "data": [
          {
           "coloraxis": "coloraxis",
           "geo": "geo",
           "hoverlabel": {
            "namelength": 0
           },
           "hovertemplate": "Date=3/8/20<br>FIPS=%{location}<br>Confirmed=%{z}",
           "locations": [
            8034,
            102977,
            40203,
            84551,
            39421,
            15003,
            17031,
            36160,
            20091,
            21067,
            48056,
            100066,
            27123,
            29189,
            31055,
            64034,
            66024,
            68020,
            252631,
            74220,
            40143,
            246256,
            126263,
            44007,
            90074,
            141381,
            96358,
            49011,
            50003,
            51059,
            371251
           ],
           "name": "",
           "type": "choropleth",
           "z": [
            4,
            95,
            8,
            10,
            5,
            1,
            7,
            2,
            1,
            1,
            5,
            22,
            1,
            1,
            1,
            4,
            4,
            5,
            106,
            2,
            1,
            14,
            6,
            3,
            2,
            3,
            11,
            1,
            1,
            2,
            122
           ]
          }
         ],
         "name": "3/8/20"
        },
        {
         "data": [
          {
           "coloraxis": "coloraxis",
           "geo": "geo",
           "hoverlabel": {
            "namelength": 0
           },
           "hovertemplate": "Date=3/9/20<br>FIPS=%{location}<br>Confirmed=%{z}",
           "locations": [
            8034,
            109066,
            56277,
            96566,
            52478,
            15003,
            17031,
            36160,
            19103,
            20091,
            63275,
            48056,
            100066,
            54142,
            29189,
            31055,
            64034,
            66024,
            68020,
            252631,
            74220,
            40143,
            246256,
            126263,
            44007,
            135157,
            141381,
            144443,
            49011,
            50003,
            51059,
            371251
           ],
           "name": "",
           "type": "choropleth",
           "z": [
            4,
            101,
            12,
            13,
            10,
            1,
            7,
            3,
            3,
            1,
            4,
            5,
            22,
            2,
            1,
            3,
            4,
            4,
            5,
            142,
            2,
            1,
            14,
            7,
            3,
            3,
            3,
            13,
            1,
            1,
            2,
            122
           ]
          }
         ],
         "name": "3/9/20"
        },
        {
         "data": [
          {
           "coloraxis": "coloraxis",
           "geo": "geo",
           "hoverlabel": {
            "namelength": 0
           },
           "hovertemplate": "Date=4/1/20<br>FIPS=%{location}<br>Confirmed=%{z}",
           "locations": [
            63115,
            12642,
            60208,
            358928,
            302890,
            493127,
            162073,
            30009,
            88888,
            11001,
            765855,
            1919090,
            99999,
            66,
            150035,
            433239,
            996304,
            1483354,
            1126919,
            824221,
            1505194,
            1413844,
            366217,
            553078,
            390195,
            1943868,
            1489593,
            2162279,
            2038038,
            631169,
            805170,
            378676,
            297093,
            804475,
            665630,
            2055503,
            3042204,
            913290,
            69,
            2814138,
            2003800,
            1067018,
            2523988,
            72999,
            310069,
            1936981,
            1335843,
            4125982,
            6707455,
            717482,
            690224,
            78,
            4973241,
            1893379,
            1567677,
            2698315,
            840331
           ],
           "name": "",
           "type": "choropleth",
           "z": [
            1060,
            132,
            1413,
            584,
            9410,
            3342,
            3557,
            368,
            49,
            586,
            6956,
            4638,
            103,
            77,
            224,
            566,
            6980,
            2564,
            547,
            485,
            632,
            6424,
            303,
            1986,
            7738,
            9717,
            689,
            1073,
            1803,
            208,
            210,
            1279,
            367,
            22255,
            327,
            83948,
            1675,
            142,
            6,
            2547,
            721,
            736,
            6009,
            286,
            566,
            1293,
            129,
            2933,
            4355,
            888,
            321,
            30,
            1483,
            5608,
            191,
            1556,
            130
           ]
          }
         ],
         "name": "4/1/20"
        },
        {
         "data": [
          {
           "coloraxis": "coloraxis",
           "geo": "geo",
           "hoverlabel": {
            "namelength": 0
           },
           "hovertemplate": "Date=4/10/20<br>FIPS=%{location}<br>Confirmed=%{z}",
           "locations": [
            70428,
            21417,
            60208,
            440234,
            411047,
            541565,
            162073,
            120019,
            88888,
            11001,
            886485,
            2129982,
            99999,
            66,
            230050,
            513482,
            1509500,
            1628332,
            1547165,
            1165992,
            2032969,
            1480011,
            435258,
            577079,
            390195,
            2100494,
            1877801,
            2274669,
            2533431,
            811395,
            1181586,
            410693,
            420133,
            804475,
            840712,
            2091626,
            3450299,
            1141616,
            69,
            3283304,
            2484852,
            1190101,
            2818489,
            72999,
            310069,
            2072116,
            1612340,
            4314342,
            8588642,
            833493,
            790246,
            78,
            6254573,
            2052502,
            2378484,
            3414321,
            1064433
           ],
           "name": "",
           "type": "choropleth",
           "z": [
            2947,
            246,
            3112,
            1171,
            21081,
            6513,
            10538,
            1326,
            49,
            1660,
            17531,
            11485,
            103,
            130,
            442,
            1354,
            17887,
            6907,
            1388,
            1117,
            1693,
            19253,
            586,
            6968,
            20974,
            23279,
            1336,
            2469,
            4149,
            365,
            635,
            2722,
            819,
            54588,
            1081,
            172348,
            3965,
            278,
            11,
            5878,
            1794,
            1322,
            20051,
            725,
            1727,
            3067,
            536,
            4891,
            12105,
            2103,
            679,
            50,
            4509,
            10119,
            574,
            3068,
            239
           ]
          }
         ],
         "name": "4/10/20"
        },
        {
         "data": [
          {
           "coloraxis": "coloraxis",
           "geo": "geo",
           "hoverlabel": {
            "namelength": 0
           },
           "hovertemplate": "Date=4/11/20<br>FIPS=%{location}<br>Confirmed=%{z}",
           "locations": [
            70428,
            23615,
            60208,
            445323,
            411047,
            541565,
            162073,
            120019,
            88888,
            11001,
            898562,
            2129982,
            99999,
            66,
            230050,
            513482,
            1560941,
            1628332,
            1547165,
            1226217,
            2032969,
            1502118,
            435258,
            577079,
            390195,
            2100468,
            1877801,
            2274669,
            2591527,
            841432,
            1337013,
            410693,
            330100,
            804475,
            910764,
            2091626,
            3413126,
            1179695,
            69,
            3322377,
            2484852,
            1190101,
            2818489,
            72999,
            310069,
            2072116,
            1658451,
            4314342,
            8636769,
            833493,
            790246,
            78,
            6305636,
            2105551,
            2378484,
            3469420,
            1120450
           ],
           "name": "",
           "type": "choropleth",
           "z": [
            3217,
            257,
            3393,
            1228,
            21717,
            6893,
            11510,
            1479,
            49,
            1778,
            18494,
            12159,
            103,
            133,
            465,
            1396,
            19180,
            7435,
            1510,
            1275,
            1693,
            20014,
            616,
            7694,
            22860,
            24500,
            1427,
            2642,
            4395,
            377,
            699,
            2702,
            885,
            58151,
            1091,
            181026,
            4354,
            293,
            11,
            6250,
            1868,
            1371,
            21719,
            788,
            2349,
            3211,
            626,
            5132,
            13023,
            2207,
            711,
            51,
            5077,
            10434,
            577,
            3213,
            261
           ]
          }
         ],
         "name": "4/11/20"
        },
        {
         "data": [
          {
           "coloraxis": "coloraxis",
           "geo": "geo",
           "hoverlabel": {
            "namelength": 0
           },
           "hovertemplate": "Date=4/12/20<br>FIPS=%{location}<br>Confirmed=%{z}",
           "locations": [
            71489,
            23615,
            60208,
            445323,
            411047,
            541565,
            162073,
            30009,
            88888,
            11001,
            898562,
            2143191,
            99999,
            66,
            230050,
            513482,
            1560941,
            1664464,
            1547165,
            1266497,
            2201991,
            1502118,
            435258,
            577079,
            390195,
            2100468,
            1986217,
            2274669,
            2591527,
            841432,
            1427044,
            410693,
            420133,
            804475,
            910778,
            2091626,
            3413126,
            1179695,
            69,
            3412416,
            2484852,
            1280142,
            2818489,
            72999,
            310069,
            2072116,
            1796714,
            4314342,
            8636769,
            923542,
            790246,
            78,
            6357246,
            2105551,
            2432573,
            3469420,
            1176453
           ],
           "name": "",
           "type": "choropleth",
           "z": [
            3563,
            272,
            3542,
            1280,
            22800,
            7307,
            12035,
            1625,
            49,
            1875,
            19895,
            12452,
            103,
            133,
            499,
            1407,
            20852,
            7928,
            1587,
            1344,
            1963,
            20595,
            633,
            8225,
            25475,
            25183,
            1621,
            2781,
            4534,
            387,
            791,
            2836,
            929,
            61850,
            1245,
            189033,
            4570,
            308,
            11,
            6604,
            1970,
            1527,
            22938,
            897,
            2665,
            3320,
            730,
            5508,
            13677,
            2303,
            727,
            51,
            5274,
            10609,
            593,
            3341,
            270
           ]
          }
         ],
         "name": "4/12/20"
        },
        {
         "data": [
          {
           "coloraxis": "coloraxis",
           "geo": "geo",
           "hoverlabel": {
            "namelength": 0
           },
           "hovertemplate": "Date=4/13/20<br>FIPS=%{location}<br>Confirmed=%{z}",
           "locations": [
            71489,
            23615,
            60208,
            445323,
            321041,
            541565,
            162073,
            30009,
            88888,
            11001,
            898562,
            2156300,
            99999,
            66,
            230050,
            529503,
            1578028,
            1664464,
            1566194,
            1266497,
            2201991,
            1502118,
            435258,
            577079,
            390195,
            2126587,
            1986217,
            2274669,
            2591527,
            841432,
            1458087,
            320661,
            420133,
            804475,
            910778,
            2091626,
            3413126,
            1179695,
            69,
            3361514,
            2524855,
            1231112,
            2818489,
            72999,
            310069,
            2072116,
            1842783,
            4408612,
            8733529,
            833493,
            790246,
            78,
            6357246,
            2105551,
            2540655,
            3524467,
            1176453
           ],
           "name": "",
           "type": "choropleth",
           "z": [
            3734,
            277,
            3705,
            1410,
            23934,
            7696,
            13381,
            1758,
            49,
            1955,
            21019,
            13315,
            103,
            133,
            504,
            1426,
            22025,
            8359,
            1710,
            1390,
            2018,
            21016,
            698,
            8936,
            26867,
            26622,
            1621,
            2942,
            4714,
            394,
            814,
            2990,
            985,
            64584,
            1262,
            195749,
            4886,
            331,
            11,
            6975,
            2069,
            1584,
            24292,
            903,
            2665,
            3391,
            868,
            5610,
            14275,
            2363,
            748,
            51,
            5747,
            10635,
            611,
            3428,
            275
           ]
          }
         ],
         "name": "4/13/20"
        },
        {
         "data": [
          {
           "coloraxis": "coloraxis",
           "geo": "geo",
           "hoverlabel": {
            "namelength": 0
           },
           "hovertemplate": "Date=4/14/20<br>FIPS=%{location}<br>Confirmed=%{z}",
           "locations": [
            71489,
            23615,
            60208,
            450390,
            321041,
            541565,
            162073,
            120019,
            88888,
            11001,
            898562,
            2236313,
            99999,
            66,
            150035,
            529503,
            1595053,
            1664464,
            1566194,
            1266625,
            2265576,
            1502118,
            435258,
            577079,
            390195,
            2178621,
            1986217,
            2274669,
            2681556,
            841432,
            1458087,
            320661,
            420133,
            804475,
            910778,
            2091626,
            3450303,
            1179695,
            69,
            3361514,
            2564924,
            1272143,
            2818489,
            72999,
            310069,
            2072116,
            1842783,
            4408612,
            8830035,
            833493,
            790246,
            78,
            6357246,
            2105551,
            2540655,
            3614522,
            1176453
           ],
           "name": "",
           "type": "choropleth",
           "z": [
            3953,
            285,
            3809,
            1498,
            25389,
            7950,
            13989,
            1926,
            49,
            2058,
            21628,
            14578,
            103,
            133,
            511,
            1464,
            23248,
            8527,
            1899,
            1441,
            2048,
            21518,
            735,
            9472,
            28164,
            28042,
            1695,
            3087,
            4880,
            399,
            897,
            3134,
            922,
            68824,
            1345,
            203020,
            5113,
            341,
            11,
            7285,
            2184,
            1633,
            25465,
            923,
            3251,
            3553,
            988,
            5827,
            15006,
            2417,
            752,
            51,
            6182,
            10799,
            640,
            3555,
            282
           ]
          }
         ],
         "name": "4/14/20"
        },
        {
         "data": [
          {
           "coloraxis": "coloraxis",
           "geo": "geo",
           "hoverlabel": {
            "namelength": 0
           },
           "hovertemplate": "Date=4/15/20<br>FIPS=%{location}<br>Confirmed=%{z}",
           "locations": [
            71489,
            25795,
            60208,
            450390,
            321041,
            541565,
            162073,
            120019,
            88888,
            11001,
            898562,
            2236313,
            99999,
            66,
            150035,
            513482,
            1612234,
            1664464,
            1566194,
            1266625,
            2307768,
            1502118,
            435258,
            577079,
            390195,
            2178621,
            2013324,
            2274669,
            2591527,
            871505,
            1489238,
            410693,
            330100,
            804475,
            910778,
            2091626,
            3450303,
            1179695,
            69,
            3361514,
            2564924,
            1272143,
            2818489,
            72999,
            310069,
            2072116,
            1796768,
            4408612,
            8974354,
            833493,
            790246,
            78,
            6254036,
            2105551,
            2594698,
            3614522,
            1176453
           ],
           "name": "",
           "type": "choropleth",
           "z": [
            4075,
            293,
            3964,
            1569,
            26686,
            8280,
            14755,
            2014,
            49,
            2197,
            22511,
            14987,
            103,
            135,
            524,
            1473,
            24593,
            8960,
            1995,
            1504,
            2210,
            21951,
            770,
            10032,
            29919,
            29144,
            1809,
            3360,
            5005,
            404,
            901,
            3211,
            1139,
            71030,
            1484,
            214454,
            5340,
            365,
            13,
            7794,
            2263,
            1663,
            26753,
            974,
            3251,
            3656,
            1168,
            5827,
            15907,
            2548,
            759,
            51,
            6500,
            10942,
            702,
            3721,
            287
           ]
          }
         ],
         "name": "4/15/20"
        },
        {
         "data": [
          {
           "coloraxis": "coloraxis",
           "geo": "geo",
           "hoverlabel": {
            "namelength": 0
           },
           "hovertemplate": "Date=4/16/20<br>FIPS=%{location}<br>Confirmed=%{z}",
           "locations": [
            71489,
            27945,
            60208,
            450390,
            321041,
            541565,
            162073,
            120019,
            88888,
            11001,
            898562,
            2236313,
            99999,
            66,
            230050,
            513482,
            1612234,
            1664464,
            1566194,
            1286806,
            2328839,
            1502118,
            435258,
            577079,
            390195,
            2178621,
            2013324,
            2274669,
            2620614,
            871505,
            1520361,
            442694,
            330100,
            804475,
            910778,
            2091626,
            3450303,
            1179695,
            69,
            3400581,
            2564924,
            1272143,
            2818489,
            72999,
            310069,
            2072116,
            1842869,
            4455739,
            9216135,
            833493,
            790246,
            78,
            6305093,
            2105551,
            2594698,
            3579596,
            1176453
           ],
           "name": "",
           "type": "choropleth",
           "z": [
            4345,
            300,
            4237,
            1620,
            27677,
            8675,
            15884,
            2070,
            49,
            2350,
            23343,
            15669,
            103,
            135,
            530,
            1587,
            25734,
            9542,
            2141,
            1615,
            2435,
            22532,
            796,
            10784,
            32181,
            29966,
            1809,
            3624,
            5308,
            415,
            952,
            3214,
            1139,
            75317,
            1484,
            223691,
            5639,
            393,
            13,
            8414,
            2357,
            1736,
            28258,
            1043,
            3529,
            3931,
            1311,
            6166,
            16876,
            2683,
            774,
            51,
            6889,
            11057,
            728,
            3875,
            296
           ]
          }
         ],
         "name": "4/16/20"
        },
        {
         "data": [
          {
           "coloraxis": "coloraxis",
           "geo": "geo",
           "hoverlabel": {
            "namelength": 0
           },
           "hovertemplate": "Date=4/17/20<br>FIPS=%{location}<br>Confirmed=%{z}",
           "locations": [
            71489,
            27945,
            60208,
            450390,
            321041,
            541565,
            162073,
            120019,
            88888,
            11001,
            898562,
            2236313,
            99999,
            66,
            230050,
            513482,
            1646308,
            1664464,
            1656213,
            1327028,
            2328839,
            1502118,
            435258,
            577079,
            390195,
            2178621,
            1977393,
            2274669,
            2678806,
            871505,
            1582579,
            410677,
            420133,
            804475,
            910778,
            2091626,
            3450303,
            1179695,
            69,
            3400581,
            2654964,
            1272143,
            2818489,
            72999,
            310069,
            2072116,
            1842869,
            4455739,
            9313063,
            392324,
            790246,
            78,
            6356693,
            2105551,
            2594698,
            3579596,
            1176453
           ],
           "name": "",
           "type": "choropleth",
           "z": [
            4571,
            309,
            4511,
            1695,
            29157,
            9047,
            16809,
            2317,
            49,
            2476,
            24759,
            17194,
            103,
            136,
            541,
            1609,
            27578,
            10154,
            2332,
            1730,
            2522,
            23118,
            827,
            11572,
            34985,
            31225,
            2070,
            3793,
            5520,
            422,
            1066,
            3524,
            1287,
            78467,
            1597,
            230597,
            6045,
            393,
            13,
            9107,
            2465,
            1785,
            29888,
            1068,
            4177,
            4099,
            1411,
            6263,
            17849,
            2793,
            779,
            51,
            7491,
            11517,
            775,
            4053,
            305
           ]
          }
         ],
         "name": "4/17/20"
        },
        {
         "data": [
          {
           "coloraxis": "coloraxis",
           "geo": "geo",
           "hoverlabel": {
            "namelength": 0
           },
           "hovertemplate": "Date=4/18/20<br>FIPS=%{location}<br>Confirmed=%{z}",
           "locations": [
            71489,
            27945,
            60208,
            450390,
            321041,
            541565,
            162073,
            120019,
            88888,
            11001,
            898562,
            2236313,
            99999,
            66,
            140035,
            513482,
            1680564,
            1664464,
            1656213,
            1327028,
            2328839,
            1502118,
            435258,
            577079,
            390195,
            2204640,
            2004462,
            2274669,
            2678806,
            871505,
            1644747,
            410677,
            330100,
            804475,
            945797,
            2091626,
            3450303,
            1179695,
            69,
            3400581,
            2654964,
            1272143,
            2818489,
            72999,
            310069,
            2072116,
            1888906,
            4502882,
            9361288,
            392324,
            790246,
            78,
            6408413,
            2105551,
            2594698,
            3579596,
            1176453
           ],
           "name": "",
           "type": "choropleth",
           "z": [
            4712,
            314,
            4724,
            1744,
            30511,
            9440,
            17550,
            2538,
            49,
            2666,
            25492,
            17669,
            103,
            136,
            574,
            1655,
            29160,
            10641,
            2513,
            1821,
            2707,
            23580,
            847,
            12326,
            36963,
            32031,
            2209,
            3974,
            5713,
            426,
            1249,
            3626,
            1342,
            81420,
            1798,
            237474,
            6328,
            528,
            14,
            10222,
            2465,
            1844,
            31652,
            1118,
            4491,
            4248,
            1542,
            6589,
            18704,
            2917,
            803,
            53,
            8053,
            11776,
            785,
            4199,
            309
           ]
          }
         ],
         "name": "4/18/20"
        },
        {
         "data": [
          {
           "coloraxis": "coloraxis",
           "geo": "geo",
           "hoverlabel": {
            "namelength": 0
           },
           "hovertemplate": "Date=4/19/20<br>FIPS=%{location}<br>Confirmed=%{z}",
           "locations": [
            71489,
            27945,
            60208,
            450390,
            321041,
            541565,
            162073,
            120019,
            88888,
            11001,
            898562,
            2236313,
            99999,
            66,
            140035,
            513482,
            1680564,
            1664464,
            1656213,
            1367190,
            2370965,
            1502118,
            458279,
            577079,
            390195,
            2204640,
            2148675,
            2274669,
            2678806,
            871505,
            1706985,
            410677,
            330100,
            804475,
            945797,
            2091626,
            3540340,
            1217758,
            69,
            3400581,
            2605027,
            1272143,
            2818489,
            72999,
            310069,
            2072116,
            1842869,
            4549915,
            9602503,
            343271,
            790246,
            78,
            6408413,
            2105551,
            2594698,
            3579596,
            1176453
           ],
           "name": "",
           "type": "choropleth",
           "z": [
            4888,
            319,
            4933,
            1781,
            31431,
            9730,
            17962,
            2538,
            49,
            2793,
            26314,
            18301,
            103,
            136,
            580,
            1668,
            30357,
            11211,
            2902,
            1905,
            2960,
            23928,
            867,
            12847,
            38674,
            32688,
            2356,
            4274,
            5881,
            433,
            1474,
            3728,
            1390,
            85301,
            1845,
            243382,
            6601,
            585,
            14,
            11602,
            2567,
            1910,
            32902,
            1213,
            4706,
            4377,
            1635,
            7070,
            19260,
            3069,
            813,
            53,
            8542,
            11978,
            890,
            4346,
            313
           ]
          }
         ],
         "name": "4/19/20"
        },
        {
         "data": [
          {
           "coloraxis": "coloraxis",
           "geo": "geo",
           "hoverlabel": {
            "namelength": 0
           },
           "hovertemplate": "Date=4/2/20<br>FIPS=%{location}<br>Confirmed=%{z}",
           "locations": [
            67251,
            12642,
            60208,
            369020,
            302890,
            501154,
            162073,
            30009,
            88888,
            11001,
            802076,
            1958791,
            99999,
            66,
            150035,
            555305,
            1133384,
            1501503,
            1203233,
            884288,
            1505194,
            1413844,
            389226,
            577079,
            390195,
            1969911,
            1516664,
            2190432,
            2096272,
            661178,
            898449,
            378676,
            297093,
            804475,
            790682,
            2091626,
            3227535,
            875211,
            69,
            2892262,
            2164106,
            1067018,
            2608172,
            72999,
            310069,
            2072116,
            1428037,
            4125978,
            6900251,
            815520,
            690224,
            78,
            5178898,
            1893379,
            1567677,
            2863515,
            896372
           ],
           "name": "",
           "type": "choropleth",
           "z": [
            1233,
            143,
            1596,
            643,
            10790,
            3728,
            3824,
            393,
            49,
            653,
            9008,
            5348,
            103,
            82,
            256,
            776,
            7695,
            3038,
            614,
            553,
            770,
            9149,
            376,
            2331,
            8966,
            11230,
            742,
            1177,
            2003,
            241,
            246,
            1463,
            479,
            25590,
            373,
            92506,
            1977,
            159,
            6,
            2901,
            881,
            826,
            7268,
            316,
            645,
            1554,
            165,
            3013,
            5069,
            1086,
            338,
            30,
            1706,
            6389,
            216,
            1748,
            150
           ]
          }
         ],
         "name": "4/2/20"
        },
        {
         "data": [
          {
           "coloraxis": "coloraxis",
           "geo": "geo",
           "hoverlabel": {
            "namelength": 0
           },
           "hovertemplate": "Date=4/20/20<br>FIPS=%{location}<br>Confirmed=%{z}",
           "locations": [
            71489,
            27945,
            60208,
            450390,
            321041,
            541565,
            162073,
            120019,
            88888,
            11001,
            898562,
            2236313,
            99999,
            66,
            140035,
            513482,
            1680564,
            1664464,
            1656213,
            1427497,
            2370965,
            1502118,
            458279,
            577079,
            390195,
            2204640,
            2175698,
            2274669,
            2678806,
            871505,
            1706863,
            410677,
            420133,
            804475,
            945797,
            2091626,
            3450303,
            1217758,
            69,
            3400581,
            2725294,
            1272143,
            2818489,
            72999,
            310069,
            2072116,
            1842869,
            4549915,
            9602503,
            343271,
            790246,
            78,
            6460023,
            2105551,
            2594698,
            3579596,
            1176453
           ],
           "name": "",
           "type": "choropleth",
           "z": [
            5079,
            321,
            5068,
            1973,
            33686,
            10112,
            19815,
            2745,
            49,
            2927,
            27059,
            19407,
            103,
            136,
            584,
            1672,
            31513,
            11688,
            3159,
            2048,
            3050,
            24523,
            875,
            13684,
            40252,
            33324,
            2470,
            4512,
            6043,
            433,
            1648,
            3830,
            1447,
            88722,
            1971,
            248416,
            6895,
            627,
            14,
            12919,
            2680,
            1957,
            33914,
            1252,
            5090,
            4446,
            1685,
            7238,
            19751,
            3213,
            816,
            53,
            8990,
            12114,
            902,
            4499,
            317
           ]
          }
         ],
         "name": "4/20/20"
        },
        {
         "data": [
          {
           "coloraxis": "coloraxis",
           "geo": "geo",
           "hoverlabel": {
            "namelength": 0
           },
           "hovertemplate": "Date=4/21/20<br>FIPS=%{location}<br>Confirmed=%{z}",
           "locations": [
            71489,
            27945,
            60208,
            450390,
            321041,
            541565,
            162073,
            120019,
            88888,
            11001,
            898562,
            2236313,
            99999,
            66,
            140035,
            513482,
            1714774,
            1664464,
            1694339,
            1407428,
            2370965,
            1502118,
            458279,
            577079,
            390195,
            2204640,
            2202811,
            2274669,
            2766051,
            871505,
            1616832,
            410677,
            420133,
            804475,
            945797,
            2091626,
            3450303,
            1217758,
            69,
            3400581,
            2765319,
            1272143,
            2818489,
            72999,
            310069,
            2072116,
            1842869,
            4549915,
            9602503,
            343271,
            790246,
            78,
            6511164,
            2105551,
            2594698,
            3579596,
            1176453
           ],
           "name": "",
           "type": "choropleth",
           "z": [
            5317,
            329,
            5256,
            1990,
            35480,
            10473,
            20360,
            2931,
            49,
            3098,
            27869,
            19881,
            103,
            136,
            586,
            1736,
            33059,
            12097,
            3641,
            2164,
            3204,
            24854,
            888,
            14193,
            41832,
            34048,
            2567,
            4716,
            6242,
            437,
            1685,
            3937,
            1490,
            92387,
            1971,
            253519,
            7134,
            644,
            14,
            13725,
            2807,
            2004,
            35249,
            1298,
            5500,
            4439,
            1755,
            7394,
            20664,
            3297,
            818,
            53,
            9630,
            12392,
            908,
            4625,
            443
           ]
          }
         ],
         "name": "4/21/20"
        },
        {
         "data": [
          {
           "coloraxis": "coloraxis",
           "geo": "geo",
           "hoverlabel": {
            "namelength": 0
           },
           "hovertemplate": "Date=4/22/20<br>FIPS=%{location}<br>Confirmed=%{z}",
           "locations": [
            71489,
            27945,
            60208,
            450390,
            321041,
            541565,
            162073,
            120019,
            88888,
            11001,
            808550,
            2236313,
            99999,
            66,
            140035,
            513482,
            1731843,
            1664464,
            1694339,
            1407428,
            2392070,
            1502118,
            458279,
            577079,
            390195,
            2204640,
            2202811,
            2274669,
            2824217,
            871505,
            1737922,
            474713,
            420133,
            804475,
            945797,
            2091626,
            3450303,
            1255861,
            69,
            3400581,
            2765319,
            1272143,
            2818489,
            72999,
            310069,
            2072116,
            1842869,
            4549915,
            9699033,
            343271,
            790246,
            78,
            6562255,
            2105551,
            2594698,
            3579596,
            1176453
           ],
           "name": "",
           "type": "choropleth",
           "z": [
            5593,
            335,
            5473,
            2276,
            37352,
            10891,
            22469,
            3200,
            49,
            3206,
            28309,
            21214,
            103,
            136,
            592,
            1766,
            35107,
            12438,
            3748,
            2331,
            3378,
            25258,
            907,
            14775,
            43614,
            35404,
            2722,
            4894,
            6433,
            439,
            1813,
            4081,
            1588,
            95914,
            2210,
            258222,
            7495,
            679,
            14,
            14117,
            2894,
            2059,
            36082,
            1252,
            5841,
            4761,
            1858,
            7394,
            21321,
            3445,
            823,
            54,
            10266,
            12596,
            939,
            4845,
            447
           ]
          }
         ],
         "name": "4/22/20"
        },
        {
         "data": [
          {
           "coloraxis": "coloraxis",
           "geo": "geo",
           "hoverlabel": {
            "namelength": 0
           },
           "hovertemplate": "Date=4/23/20<br>FIPS=%{location}<br>Confirmed=%{z}",
           "locations": [
            71489,
            27945,
            60208,
            455439,
            321041,
            541565,
            162073,
            120019,
            88888,
            11001,
            808550,
            2236313,
            99999,
            66,
            140035,
            513482,
            1731843,
            1664464,
            1694339,
            1487778,
            2413109,
            1502118,
            368256,
            577079,
            390195,
            2204640,
            2202811,
            2274669,
            2914246,
            871505,
            1800172,
            474713,
            420133,
            804475,
            980818,
            2091626,
            3450303,
            1255861,
            69,
            3400581,
            2765319,
            1272143,
            2818489,
            72999,
            310069,
            2072116,
            1842869,
            4549915,
            9795359,
            343271,
            790246,
            78,
            6562255,
            2105551,
            2594698,
            3579596,
            1176453
           ],
           "name": "",
           "type": "choropleth",
           "z": [
            5832,
            337,
            5772,
            2599,
            39561,
            11278,
            23100,
            3308,
            49,
            3361,
            29648,
            21883,
            103,
            139,
            596,
            1836,
            36937,
            13039,
            3924,
            2721,
            3479,
            25739,
            937,
            15737,
            46727,
            36845,
            2942,
            5153,
            6700,
            442,
            2202,
            4208,
            1670,
            100025,
            2379,
            263460,
            7820,
            709,
            14,
            14694,
            3017,
            2127,
            38379,
            1416,
            6256,
            4917,
            1956,
            8266,
            22650,
            3612,
            825,
            54,
            10998,
            12753,
            981,
            5052,
            453
           ]
          }
         ],
         "name": "4/23/20"
        },
        {
         "data": [
          {
           "coloraxis": "coloraxis",
           "geo": "geo",
           "hoverlabel": {
            "namelength": 0
           },
           "hovertemplate": "Date=4/24/20<br>FIPS=%{location}<br>Confirmed=%{z}",
           "locations": [
            71489,
            27945,
            60208,
            455439,
            321041,
            541565,
            162073,
            120019,
            88888,
            11001,
            808550,
            2236313,
            99999,
            66,
            140035,
            513482,
            1731843,
            1664464,
            1694339,
            1527964,
            2413109,
            1502118,
            368256,
            577079,
            390195,
            2204640,
            2202811,
            2274669,
            2914246,
            901612,
            1710131,
            474713,
            420133,
            804475,
            980818,
            2091626,
            3450303,
            1255861,
            69,
            3400581,
            2805468,
            1272143,
            2818489,
            72999,
            310069,
            2072116,
            1888986,
            4549915,
            9940152,
            343271,
            790246,
            78,
            6562255,
            2105551,
            2594698,
            3634719,
            1176453
           ],
           "name": "",
           "type": "choropleth",
           "z": [
            6026,
            339,
            6045,
            2810,
            41355,
            12256,
            23936,
            3442,
            49,
            3528,
            30533,
            22491,
            103,
            141,
            601,
            1870,
            39658,
            13681,
            4445,
            2959,
            3779,
            26140,
            965,
            16616,
            51700,
            38330,
            3185,
            5434,
            6943,
            444,
            2424,
            4398,
            1720,
            102196,
            2521,
            271590,
            8290,
            748,
            14,
            15169,
            3121,
            2177,
            40208,
            1276,
            6699,
            5070,
            2040,
            8728,
            23642,
            3782,
            827,
            54,
            11594,
            12977,
            1010,
            5356,
            473
           ]
          }
         ],
         "name": "4/24/20"
        },
        {
         "data": [
          {
           "coloraxis": "coloraxis",
           "geo": "geo",
           "hoverlabel": {
            "namelength": 0
           },
           "hovertemplate": "Date=4/25/20<br>FIPS=%{location}<br>Confirmed=%{z}",
           "locations": [
            71489,
            27945,
            60208,
            455439,
            321041,
            541565,
            162073,
            120019,
            88888,
            11001,
            898562,
            2236313,
            99999,
            66,
            140035,
            529541,
            1731843,
            1664464,
            1694339,
            1527964,
            2413109,
            1502118,
            368256,
            577079,
            390195,
            2204640,
            2202811,
            2274669,
            2914246,
            901612,
            1741304,
            474713,
            420133,
            804475,
            1015877,
            2091626,
            3614550,
            1293928,
            69,
            3400581,
            2805468,
            1272143,
            2818489,
            72999,
            310069,
            2072116,
            1935075,
            4549915,
            9940152,
            343271,
            790246,
            78,
            6562255,
            2105551,
            2594698,
            3634719,
            1176453
           ],
           "name": "",
           "type": "choropleth",
           "z": [
            6026,
            339,
            6286,
            2911,
            42368,
            12968,
            24583,
            3576,
            49,
            3699,
            30839,
            23222,
            103,
            141,
            605,
            1887,
            41777,
            14399,
            5092,
            3135,
            3915,
            26512,
            965,
            17766,
            54135,
            38789,
            3446,
            5718,
            7108,
            445,
            2719,
            4539,
            1797,
            105498,
            2660,
            282143,
            8768,
            803,
            14,
            15587,
            3194,
            2253,
            41153,
            1307,
            7129,
            5253,
            2147,
            9189,
            24153,
            3948,
            843,
            55,
            12366,
            13319,
            1010,
            5687,
            491
           ]
          }
         ],
         "name": "4/25/20"
        },
        {
         "data": [
          {
           "coloraxis": "coloraxis",
           "geo": "geo",
           "hoverlabel": {
            "namelength": 0
           },
           "hovertemplate": "Date=4/26/20<br>FIPS=%{location}<br>Confirmed=%{z}",
           "locations": [
            71489,
            27945,
            60208,
            455439,
            321041,
            549676,
            162073,
            120019,
            88888,
            11001,
            898562,
            2236313,
            99999,
            66,
            140035,
            529541,
            1731843,
            1664464,
            1713402,
            1527964,
            2413109,
            1502118,
            458279,
            577079,
            390195,
            2204640,
            2202811,
            2274669,
            2914246,
            901612,
            1893475,
            474713,
            420133,
            804475,
            1015877,
            2091626,
            3614550,
            1332001,
            69,
            3400581,
            2805468,
            1272143,
            2818489,
            72999,
            310069,
            2072116,
            1981134,
            4549915,
            9940152,
            343271,
            790246,
            78,
            6562255,
            2105551,
            2648719,
            3634719,
            1176453
           ],
           "name": "",
           "type": "choropleth",
           "z": [
            6421,
            340,
            6534,
            3001,
            43559,
            13441,
            25269,
            4034,
            49,
            3841,
            31532,
            23486,
            103,
            141,
            606,
            1897,
            43903,
            15012,
            5476,
            3277,
            4085,
            26773,
            1015,
            18581,
            55753,
            39540,
            3602,
            5911,
            7275,
            448,
            3030,
            4734,
            1864,
            109038,
            2726,
            288045,
            8997,
            867,
            14,
            15972,
            3254,
            2311,
            42616,
            1371,
            7439,
            5498,
            2212,
            9667,
            24967,
            4123,
            851,
            57,
            12970,
            13521,
            1055,
            5912,
            502
           ]
          }
         ],
         "name": "4/26/20"
        },
        {
         "data": [
          {
           "coloraxis": "coloraxis",
           "geo": "geo",
           "hoverlabel": {
            "namelength": 0
           },
           "hovertemplate": "Date=4/27/20<br>FIPS=%{location}<br>Confirmed=%{z}",
           "locations": [
            71489,
            30165,
            60208,
            455439,
            321041,
            541565,
            162073,
            120019,
            88888,
            11001,
            898562,
            2236313,
            99999,
            66,
            140035,
            529541,
            1731843,
            1664464,
            1713490,
            1548095,
            2413109,
            1502118,
            458279,
            577079,
            390195,
            2204640,
            2112784,
            2274669,
            2914246,
            901612,
            1924632,
            384681,
            420133,
            804475,
            1015877,
            2091626,
            3651579,
            1332001,
            69,
            3400581,
            2845595,
            1272143,
            2818489,
            72999,
            310069,
            2072116,
            1981134,
            4549915,
            9988253,
            343271,
            790246,
            78,
            6562255,
            2105551,
            2702794,
            3634719,
            1176453
           ],
           "name": "",
           "type": "choropleth",
           "z": [
            6539,
            345,
            6725,
            3069,
            44972,
            13879,
            25997,
            4162,
            49,
            3892,
            32138,
            24302,
            103,
            141,
            607,
            1897,
            45883,
            15961,
            5868,
            3473,
            4156,
            27068,
            1023,
            19487,
            57295,
            40034,
            3811,
            6094,
            7444,
            449,
            3358,
            4700,
            1938,
            111188,
            2825,
            291996,
            9321,
            942,
            14,
            16325,
            3281,
            2354,
            43558,
            1389,
            7708,
            5613,
            2244,
            9918,
            25412,
            4236,
            855,
            57,
            13538,
            13686,
            1063,
            6081,
            520
           ]
          }
         ],
         "name": "4/27/20"
        },
        {
         "data": [
          {
           "coloraxis": "coloraxis",
           "geo": "geo",
           "hoverlabel": {
            "namelength": 0
           },
           "hovertemplate": "Date=4/28/20<br>FIPS=%{location}<br>Confirmed=%{z}",
           "locations": [
            71489,
            30165,
            60208,
            460536,
            327084,
            541565,
            162073,
            120019,
            88888,
            11001,
            898562,
            2236313,
            99999,
            66,
            140035,
            529541,
            1731843,
            1664464,
            1713490,
            1547947,
            2434296,
            1502118,
            458279,
            577079,
            390195,
            2204640,
            2229970,
            2274669,
            2914246,
            901612,
            1924632,
            384681,
            420133,
            804475,
            1015877,
            2091626,
            3598617,
            1332001,
            69,
            3439744,
            2805446,
            1313168,
            2818489,
            72999,
            310069,
            2072116,
            2073194,
            4549915,
            10036652,
            343271,
            790246,
            78,
            6665022,
            2105551,
            2702794,
            3634719,
            1176453
           ],
           "name": "",
           "type": "choropleth",
           "z": [
            6750,
            351,
            6955,
            3127,
            46164,
            14316,
            26312,
            4575,
            49,
            3994,
            32848,
            24922,
            103,
            141,
            609,
            1952,
            48102,
            16588,
            6376,
            3652,
            4375,
            27286,
            1040,
            20113,
            59193,
            41166,
            4181,
            6342,
            7591,
            451,
            3517,
            4821,
            2010,
            113856,
            2974,
            295106,
            9755,
            991,
            14,
            16769,
            3410,
            2385,
            45137,
            1400,
            7927,
            5735,
            2313,
            10052,
            26357,
            4345,
            862,
            57,
            14339,
            13842,
            1095,
            6289,
            536
           ]
          }
         ],
         "name": "4/28/20"
        },
        {
         "data": [
          {
           "coloraxis": "coloraxis",
           "geo": "geo",
           "hoverlabel": {
            "namelength": 0
           },
           "hovertemplate": "Date=4/29/20<br>FIPS=%{location}<br>Confirmed=%{z}",
           "locations": [
            71489,
            30165,
            60208,
            460536,
            327084,
            541565,
            162073,
            120019,
            88888,
            11001,
            898562,
            2236313,
            99999,
            66,
            140035,
            529541,
            1731843,
            1664464,
            1732541,
            1567996,
            2455465,
            1502118,
            458279,
            577079,
            390195,
            2114614,
            2229970,
            2274669,
            2914246,
            901612,
            1924632,
            384681,
            420133,
            804475,
            1050928,
            2091626,
            3635790,
            1332001,
            69,
            3439744,
            2805446,
            1313168,
            2818489,
            72999,
            310069,
            2072116,
            2119231,
            4549915,
            10084947,
            343271,
            790246,
            78,
            6665022,
            2105551,
            2702794,
            3634719,
            1176453
           ],
           "name": "",
           "type": "choropleth",
           "z": [
            6912,
            355,
            7209,
            3193,
            48747,
            14758,
            26767,
            4655,
            49,
            4106,
            33193,
            25775,
            103,
            141,
            613,
            1952,
            50358,
            17182,
            6843,
            3839,
            4537,
            27660,
            1056,
            20849,
            61201,
            42379,
            4644,
            6569,
            7761,
            451,
            3851,
            4934,
            2058,
            116365,
            3213,
            299691,
            10180,
            1033,
            14,
            17303,
            3473,
            2446,
            46327,
            1433,
            8247,
            5882,
            2373,
            10366,
            27369,
            4497,
            862,
            57,
            14962,
            14070,
            1110,
            6520,
            545
           ]
          }
         ],
         "name": "4/29/20"
        },
        {
         "data": [
          {
           "coloraxis": "coloraxis",
           "geo": "geo",
           "hoverlabel": {
            "namelength": 0
           },
           "hovertemplate": "Date=4/3/20<br>FIPS=%{location}<br>Confirmed=%{z}",
           "locations": [
            69323,
            19367,
            60208,
            379208,
            308905,
            517328,
            162073,
            30009,
            88888,
            11001,
            814113,
            2024884,
            99999,
            66,
            230050,
            497437,
            1184555,
            1537789,
            1241561,
            924598,
            1505194,
            1435865,
            435258,
            577079,
            390195,
            2022147,
            1516664,
            2190432,
            2125419,
            691213,
            929486,
            378676,
            297093,
            804475,
            790682,
            2091626,
            3338870,
            951325,
            69,
            2931433,
            2324490,
            1108031,
            2650207,
            72999,
            310069,
            2072116,
            1428037,
            4173065,
            7238496,
            833493,
            690224,
            78,
            5537646,
            1999499,
            1675805,
            3028718,
            952395
           ],
           "name": "",
           "type": "choropleth",
           "z": [
            1495,
            157,
            1769,
            704,
            12016,
            4173,
            4914,
            450,
            49,
            757,
            10268,
            5831,
            103,
            84,
            319,
            891,
            8904,
            3437,
            699,
            629,
            770,
            10297,
            432,
            2758,
            10402,
            13221,
            788,
            1358,
            2124,
            243,
            279,
            1514,
            479,
            29895,
            490,
            102987,
            2251,
            173,
            8,
            3312,
            990,
            899,
            8570,
            316,
            711,
            1700,
            187,
            3067,
            5734,
            1248,
            389,
            37,
            2012,
            6846,
            237,
            2012,
            162
           ]
          }
         ],
         "name": "4/3/20"
        },
        {
         "data": [
          {
           "coloraxis": "coloraxis",
           "geo": "geo",
           "hoverlabel": {
            "namelength": 0
           },
           "hovertemplate": "Date=4/30/20<br>FIPS=%{location}<br>Confirmed=%{z}",
           "locations": [
            71489,
            30165,
            60208,
            460536,
            327084,
            541565,
            162073,
            120019,
            88888,
            11001,
            898562,
            2236313,
            99999,
            66,
            140035,
            529541,
            1731843,
            1664464,
            1732541,
            1608274,
            2455465,
            1502118,
            458279,
            577079,
            390195,
            2204640,
            2229970,
            2274669,
            2914246,
            931639,
            2017827,
            384681,
            420133,
            804475,
            1050928,
            2091626,
            3635790,
            1332001,
            69,
            3439744,
            2805446,
            1313168,
            2818489,
            72999,
            310069,
            2072116,
            2119231,
            4549915,
            10181289,
            343271,
            790246,
            78,
            6665022,
            2105551,
            2702794,
            3634719,
            1176453
           ],
           "name": "",
           "type": "choropleth",
           "z": [
            7088,
            355,
            7655,
            3281,
            50130,
            15284,
            27700,
            4734,
            49,
            4323,
            33690,
            26264,
            103,
            145,
            618,
            1984,
            52918,
            17835,
            7145,
            4413,
            4708,
            28001,
            1095,
            21742,
            63211,
            43478,
            5136,
            6815,
            7956,
            453,
            4281,
            5053,
            2146,
            118652,
            3411,
            304372,
            10754,
            1067,
            14,
            18027,
            3618,
            2510,
            47971,
            1539,
            8621,
            6095,
            2449,
            10735,
            28727,
            4672,
            866,
            66,
            15847,
            14327,
            1125,
            6854,
            559
           ]
          }
         ],
         "name": "4/30/20"
        },
        {
         "data": [
          {
           "coloraxis": "coloraxis",
           "geo": "geo",
           "hoverlabel": {
            "namelength": 0
           },
           "hovertemplate": "Date=4/4/20<br>FIPS=%{location}<br>Confirmed=%{z}",
           "locations": [
            69323,
            19367,
            60208,
            399636,
            315008,
            525419,
            162073,
            30009,
            88888,
            11001,
            838207,
            2024884,
            99999,
            66,
            230050,
            497437,
            1253011,
            1574051,
            1317965,
            984881,
            1800574,
            1435865,
            435258,
            577079,
            390195,
            1996006,
            1660895,
            2190432,
            2273688,
            721214,
            991638,
            378676,
            330100,
            804475,
            825685,
            2091626,
            3376043,
            951325,
            69,
            2970434,
            2324482,
            1108031,
            2692320,
            72999,
            310069,
            2072116,
            1428037,
            4220226,
            7335048,
            833493,
            690224,
            78,
            5538119,
            2052502,
            1675805,
            3083789,
            952395
           ],
           "name": "",
           "type": "choropleth",
           "z": [
            1614,
            171,
            2019,
            743,
            12837,
            4565,
            5276,
            593,
            49,
            902,
            11537,
            6160,
            103,
            93,
            351,
            1022,
            10357,
            3953,
            787,
            698,
            917,
            12496,
            456,
            3125,
            11736,
            14735,
            865,
            1455,
            2472,
            265,
            321,
            1742,
            540,
            34124,
            506,
            113833,
            2486,
            186,
            8,
            3739,
            1161,
            899,
            10444,
            452,
            806,
            1917,
            212,
            3322,
            6567,
            1428,
            461,
            40,
            2407,
            7247,
            282,
            2030,
            187
           ]
          }
         ],
         "name": "4/4/20"
        },
        {
         "data": [
          {
           "coloraxis": "coloraxis",
           "geo": "geo",
           "hoverlabel": {
            "namelength": 0
           },
           "hovertemplate": "Date=4/5/20<br>FIPS=%{location}<br>Confirmed=%{z}",
           "locations": [
            70428,
            19367,
            60208,
            409892,
            309003,
            525419,
            162073,
            30009,
            88888,
            11001,
            838207,
            2051268,
            99999,
            66,
            230050,
            513466,
            1321171,
            1592078,
            1375208,
            1025139,
            1800592,
            1435865,
            435258,
            577079,
            390195,
            2048156,
            1715067,
            2218563,
            2331924,
            721214,
            1085031,
            378676,
            420133,
            804475,
            805705,
            2091626,
            3376043,
            989354,
            69,
            3009545,
            2364573,
            1149086,
            2734377,
            72999,
            310069,
            2072116,
            1428037,
            4267303,
            7383055,
            923542,
            690224,
            78,
            5730524,
            2052502,
            1675805,
            3138850,
            952395
           ],
           "name": "",
           "type": "choropleth",
           "z": [
            1765,
            185,
            2269,
            837,
            15034,
            4950,
            5675,
            673,
            49,
            1002,
            12350,
            6647,
            103,
            112,
            371,
            1078,
            11259,
            4411,
            869,
            751,
            955,
            13010,
            470,
            3617,
            12500,
            16268,
            935,
            1638,
            2568,
            286,
            364,
            1855,
            621,
            37505,
            624,
            123160,
            2649,
            207,
            8,
            4043,
            1254,
            1068,
            11589,
            475,
            922,
            2049,
            240,
            3633,
            7209,
            1601,
            512,
            42,
            2640,
            7825,
            324,
            2320,
            197
           ]
          }
         ],
         "name": "4/5/20"
        },
        {
         "data": [
          {
           "coloraxis": "coloraxis",
           "geo": "geo",
           "hoverlabel": {
            "namelength": 0
           },
           "hovertemplate": "Date=4/6/20<br>FIPS=%{location}<br>Confirmed=%{z}",
           "locations": [
            70428,
            19367,
            60208,
            414931,
            411047,
            525419,
            162073,
            30009,
            88888,
            11001,
            850254,
            2090737,
            99999,
            66,
            230050,
            513466,
            1338356,
            1682096,
            1432503,
            1065425,
            1800592,
            1457988,
            435258,
            577079,
            390195,
            2048278,
            1769295,
            2246604,
            2419233,
            721214,
            1178288,
            378676,
            420133,
            804475,
            805705,
            2091626,
            3413196,
            989354,
            69,
            3166067,
            2404640,
            1149086,
            2734377,
            72999,
            310069,
            2072116,
            1428037,
            4267303,
            7624344,
            833493,
            690224,
            78,
            5793722,
            2052502,
            1783937,
            3249048,
            1008406
           ],
           "name": "",
           "type": "choropleth",
           "z": [
            1952,
            190,
            2460,
            875,
            16024,
            5183,
            6906,
            783,
            49,
            1097,
            13324,
            7314,
            103,
            113,
            387,
            1101,
            12262,
            4956,
            946,
            849,
            955,
            14867,
            499,
            4045,
            13837,
            17820,
            986,
            1738,
            3030,
            299,
            417,
            1953,
            715,
            41090,
            686,
            131815,
            2962,
            225,
            8,
            4453,
            1329,
            1068,
            13127,
            513,
            1082,
            2232,
            288,
            3802,
            8043,
            1678,
            543,
            43,
            2878,
            8311,
            345,
            2449,
            210
           ]
          }
         ],
         "name": "4/6/20"
        },
        {
         "data": [
          {
           "coloraxis": "coloraxis",
           "geo": "geo",
           "hoverlabel": {
            "namelength": 0
           },
           "hovertemplate": "Date=4/7/20<br>FIPS=%{location}<br>Confirmed=%{z}",
           "locations": [
            70428,
            21417,
            60208,
            435147,
            411047,
            525419,
            162073,
            30009,
            88888,
            11001,
            874418,
            2129982,
            99999,
            66,
            230050,
            497405,
            1406818,
            1610209,
            1451558,
            1125778,
            1863909,
            1480011,
            435258,
            577079,
            390195,
            2022147,
            1796446,
            2246604,
            2535837,
            721214,
            1178288,
            378676,
            420133,
            804475,
            805705,
            2091626,
            3450299,
            1027365,
            69,
            3166035,
            2524785,
            1190101,
            2818489,
            72999,
            310069,
            2072116,
            1428037,
            4267303,
            7913666,
            833493,
            740237,
            78,
            6049115,
            2052502,
            2108283,
            3304113,
            1064437
           ],
           "name": "",
           "type": "choropleth",
           "z": [
            2169,
            213,
            2575,
            946,
            17351,
            5429,
            7781,
            928,
            49,
            1211,
            14545,
            8822,
            103,
            121,
            410,
            1170,
            13553,
            5510,
            1046,
            912,
            1149,
            16284,
            519,
            4371,
            15202,
            19644,
            1069,
            1915,
            3327,
            319,
            447,
            2124,
            715,
            44416,
            794,
            139875,
            3299,
            237,
            8,
            4782,
            1474,
            1132,
            14853,
            573,
            1229,
            2417,
            320,
            4139,
            8925,
            1739,
            575,
            43,
            3335,
            8692,
            412,
            2578,
            216
           ]
          }
         ],
         "name": "4/7/20"
        },
        {
         "data": [
          {
           "coloraxis": "coloraxis",
           "geo": "geo",
           "hoverlabel": {
            "namelength": 0
           },
           "hovertemplate": "Date=4/8/20<br>FIPS=%{location}<br>Confirmed=%{z}",
           "locations": [
            70384,
            111419,
            60208,
            435147,
            411047,
            525419,
            162073,
            30009,
            88888,
            11001,
            874418,
            2129982,
            99999,
            66,
            230050,
            513482,
            1441060,
            1610209,
            1508847,
            1145941,
            1863909,
            1480011,
            435258,
            577079,
            390195,
            2048300,
            1823581,
            2246604,
            2535837,
            751297,
            1088241,
            288644,
            420133,
            804475,
            805705,
            2091626,
            3450299,
            1065458,
            69,
            3244183,
            2524785,
            1190101,
            2818489,
            72999,
            310069,
            2072116,
            1474139,
            4314342,
            8057919,
            833493,
            740237,
            78,
            6100685,
            2052502,
            2360376,
            3304113,
            1008406
           ],
           "name": "",
           "type": "choropleth",
           "z": [
            2328,
            226,
            2726,
            1000,
            18897,
            5655,
            7781,
            1116,
            49,
            1440,
            15456,
            9901,
            103,
            121,
            410,
            1210,
            15078,
            5943,
            1145,
            1046,
            1149,
            17030,
            537,
            5529,
            16790,
            21076,
            1154,
            2003,
            3511,
            332,
            519,
            2259,
            747,
            47437,
            821,
            151061,
            3499,
            251,
            11,
            5148,
            1526,
            1181,
            16631,
            620,
            1450,
            2417,
            393,
            4363,
            9777,
            1848,
            605,
            45,
            3645,
            9276,
            483,
            2710,
            221
           ]
          }
         ],
         "name": "4/8/20"
        },
        {
         "data": [
          {
           "coloraxis": "coloraxis",
           "geo": "geo",
           "hoverlabel": {
            "namelength": 0
           },
           "hovertemplate": "Date=4/9/20<br>FIPS=%{location}<br>Confirmed=%{z}",
           "locations": [
            71489,
            21417,
            60208,
            440234,
            411047,
            541565,
            162073,
            30009,
            88888,
            11001,
            886485,
            2129982,
            99999,
            66,
            230050,
            513482,
            1475382,
            1610209,
            1508847,
            1145941,
            2032969,
            1480011,
            435258,
            577079,
            390195,
            2048300,
            1823581,
            2274669,
            2475029,
            781392,
            1150405,
            410693,
            420133,
            804475,
            805705,
            2091626,
            3450299,
            1103535,
            69,
            3283304,
            2524785,
            1190101,
            2818489,
            72999,
            310069,
            2072116,
            1566243,
            4314342,
            8395526,
            833493,
            790246,
            78,
            6202867,
            2052502,
            2270322,
            3359226,
            1008406
           ],
           "name": "",
           "type": "choropleth",
           "z": [
            2703,
            235,
            3018,
            1119,
            19710,
            6202,
            9784,
            1209,
            49,
            1523,
            16364,
            10566,
            103,
            128,
            442,
            1232,
            16422,
            6351,
            1270,
            1116,
            1341,
            18283,
            560,
            6185,
            18941,
            22297,
            1240,
            2260,
            3754,
            354,
            568,
            2456,
            819,
            51027,
            865,
            161779,
            3736,
            269,
            11,
            5512,
            1686,
            1321,
            18300,
            683,
            1727,
            2793,
            447,
            4634,
            11208,
            1856,
            628,
            45,
            4042,
            9639,
            514,
            2886,
            230
           ]
          }
         ],
         "name": "4/9/20"
        },
        {
         "data": [
          {
           "coloraxis": "coloraxis",
           "geo": "geo",
           "hoverlabel": {
            "namelength": 0
           },
           "hovertemplate": "Date=5/1/20<br>FIPS=%{location}<br>Confirmed=%{z}",
           "locations": [
            71489,
            30165,
            60208,
            460536,
            327084,
            541565,
            162073,
            120019,
            88888,
            11001,
            898562,
            2236313,
            99999,
            66,
            140035,
            529541,
            1748852,
            1664464,
            1828032,
            1648582,
            2455465,
            1502118,
            368256,
            577079,
            390195,
            2230653,
            2257035,
            2274669,
            2824217,
            931639,
            1896751,
            384681,
            420133,
            804475,
            1050928,
            2091626,
            3635790,
            1370076,
            69,
            3439744,
            2805446,
            1313168,
            2818489,
            72999,
            310069,
            2072116,
            2165272,
            4549915,
            10229332,
            343271,
            790246,
            78,
            6665022,
            2105551,
            2702794,
            3689788,
            1176453
           ],
           "name": "",
           "type": "choropleth",
           "z": [
            7294,
            364,
            7969,
            3337,
            52026,
            15793,
            28764,
            4918,
            49,
            4658,
            34728,
            27489,
            103,
            145,
            619,
            2015,
            56055,
            18630,
            7884,
            4634,
            4882,
            28711,
            1123,
            23472,
            65388,
            44524,
            5730,
            7212,
            8190,
            453,
            5008,
            5248,
            2310,
            121190,
            3513,
            308314,
            11070,
            1107,
            14,
            18743,
            3748,
            2579,
            49579,
            1575,
            8962,
            6258,
            2525,
            11891,
            29692,
            4828,
            879,
            66,
            16902,
            14637,
            1152,
            7314,
            566
           ]
          }
         ],
         "name": "5/1/20"
        },
        {
         "data": [
          {
           "coloraxis": "coloraxis",
           "geo": "geo",
           "hoverlabel": {
            "namelength": 0
           },
           "hovertemplate": "Date=5/10/20<br>FIPS=%{location}<br>Confirmed=%{z}",
           "locations": [
            71489,
            30165,
            60208,
            460536,
            333189,
            573725,
            162073,
            120019,
            88888,
            11001,
            898562,
            2262703,
            99999,
            66,
            140035,
            529541,
            1846020,
            1664464,
            1776313,
            1668401,
            2476560,
            1502118,
            458279,
            577079,
            390195,
            2230653,
            2365431,
            2274669,
            2911642,
            901612,
            2052168,
            416698,
            420133,
            714441,
            1140963,
            2091626,
            3672989,
            1484235,
            69,
            3439744,
            2845457,
            1354169,
            2818489,
            5550840,
            310069,
            2072116,
            2211419,
            4597052,
            10566637,
            343271,
            790246,
            78,
            6665022,
            2105551,
            2810894,
            3744829,
            1176453
           ],
           "name": "",
           "type": "choropleth",
           "z": [
            9889,
            379,
            11119,
            4012,
            67600,
            19703,
            33554,
            6277,
            49,
            6272,
            40596,
            33580,
            103,
            151,
            632,
            2230,
            77741,
            24126,
            11959,
            6951,
            6440,
            31600,
            1436,
            32587,
            79676,
            50086,
            11271,
            9501,
            10105,
            458,
            8171,
            6120,
            3071,
            138754,
            4863,
            335395,
            14938,
            1491,
            16,
            24081,
            4589,
            3228,
            59939,
            2198,
            11274,
            7653,
            3517,
            14985,
            39258,
            6251,
            927,
            69,
            24081,
            16891,
            1360,
            10219,
            662
           ]
          }
         ],
         "name": "5/10/20"
        },
        {
         "data": [
          {
           "coloraxis": "coloraxis",
           "geo": "geo",
           "hoverlabel": {
            "namelength": 0
           },
           "hovertemplate": "Date=5/11/20<br>FIPS=%{location}<br>Confirmed=%{z}",
           "locations": [
            71489,
            30165,
            60208,
            460536,
            333189,
            573725,
            162073,
            120019,
            88888,
            11001,
            898562,
            2262703,
            99999,
            66,
            140035,
            529541,
            1846020,
            1664464,
            1866332,
            1668401,
            2476560,
            1502118,
            458279,
            577079,
            390195,
            2230653,
            2365431,
            2274669,
            2911642,
            901612,
            2052168,
            506730,
            420133,
            714441,
            1140963,
            2091626,
            3672989,
            1484235,
            69,
            3439744,
            2845457,
            1354169,
            2818489,
            5550840,
            310069,
            2072116,
            2211419,
            4597052,
            10566637,
            343271,
            790246,
            78,
            6665022,
            2105551,
            2810894,
            3744829,
            1176453
           ],
           "name": "",
           "type": "choropleth",
           "z": [
            10164,
            379,
            11383,
            4043,
            69329,
            19879,
            33765,
            6565,
            49,
            6389,
            40982,
            34002,
            103,
            151,
            634,
            2260,
            79007,
            24627,
            12373,
            7159,
            6677,
            31815,
            1462,
            33373,
            80409,
            50631,
            11799,
            9674,
            10212,
            459,
            8407,
            6152,
            3160,
            140206,
            5069,
            337055,
            15274,
            1518,
            19,
            24777,
            4613,
            3286,
            60459,
            2256,
            11450,
            7792,
            3614,
            15544,
            40555,
            6362,
            926,
            69,
            25070,
            17122,
            1366,
            10418,
            669
           ]
          }
         ],
         "name": "5/11/20"
        },
        {
         "data": [
          {
           "coloraxis": "coloraxis",
           "geo": "geo",
           "hoverlabel": {
            "namelength": 0
           },
           "hovertemplate": "Date=5/12/20<br>FIPS=%{location}<br>Confirmed=%{z}",
           "locations": [
            71489,
            120167,
            60208,
            460536,
            333189,
            573725,
            162073,
            120019,
            88888,
            11001,
            898562,
            2262703,
            99999,
            66,
            140035,
            529541,
            1846020,
            1664464,
            1885425,
            1668401,
            2476560,
            1502118,
            458279,
            577079,
            390195,
            2230653,
            2365431,
            2274669,
            2911642,
            901612,
            2083239,
            506730,
            420133,
            714441,
            1140963,
            2091626,
            3672989,
            1484235,
            69,
            3439744,
            2935497,
            1354169,
            2818489,
            5550840,
            310069,
            2072116,
            2211419,
            4597052,
            10614970,
            343271,
            790246,
            78,
            6665022,
            2105551,
            2810894,
            3744829,
            1176453
           ],
           "name": "",
           "type": "choropleth",
           "z": [
            10464,
            383,
            11736,
            4164,
            70980,
            20157,
            34333,
            6741,
            49,
            6485,
            41923,
            34924,
            103,
            152,
            635,
            2293,
            83021,
            25127,
            12912,
            7240,
            6853,
            32050,
            1477,
            34061,
            81370,
            51263,
            12494,
            9908,
            10329,
            461,
            8532,
            6313,
            3239,
            140917,
            5212,
            338485,
            15622,
            1571,
            19,
            25250,
            4732,
            3358,
            61310,
            2299,
            11614,
            7927,
            3663,
            16111,
            41668,
            6432,
            927,
            69,
            25800,
            17330,
            1378,
            10611,
            675
           ]
          }
         ],
         "name": "5/12/20"
        },
        {
         "data": [
          {
           "coloraxis": "coloraxis",
           "geo": "geo",
           "hoverlabel": {
            "namelength": 0
           },
           "hovertemplate": "Date=5/13/20<br>FIPS=%{location}<br>Confirmed=%{z}",
           "locations": [
            71489,
            120167,
            60208,
            460536,
            333189,
            573725,
            162073,
            120019,
            88888,
            11001,
            898562,
            2262703,
            99999,
            66,
            140035,
            529541,
            1863067,
            1664464,
            1904488,
            1668401,
            2476560,
            1502118,
            458279,
            577079,
            390195,
            2230653,
            2365431,
            2274669,
            2940707,
            901612,
            2083315,
            416698,
            420133,
            804475,
            1140963,
            2091626,
            3672989,
            1484235,
            69,
            3439744,
            2935497,
            1354169,
            2818489,
            5550840,
            310069,
            2072116,
            2211419,
            4597052,
            10614970,
            343271,
            790246,
            78,
            6665022,
            2105551,
            2810894,
            3744829,
            1176453
           ],
           "name": "",
           "type": "choropleth",
           "z": [
            10700,
            383,
            12216,
            4236,
            72798,
            20475,
            34855,
            6952,
            49,
            6584,
            42402,
            35427,
            103,
            152,
            638,
            2293,
            84694,
            25473,
            13289,
            7518,
            6853,
            32662,
            1515,
            34812,
            82657,
            51819,
            12917,
            10090,
            10520,
            462,
            8912,
            6476,
            3299,
            141560,
            5364,
            340661,
            16352,
            1647,
            19,
            25721,
            4858,
            3416,
            62101,
            2329,
            11835,
            8030,
            3732,
            16370,
            43020,
            6620,
            929,
            69,
            26746,
            17512,
            1398,
            10902,
            688
           ]
          }
         ],
         "name": "5/13/20"
        },
        {
         "data": [
          {
           "coloraxis": "coloraxis",
           "geo": "geo",
           "hoverlabel": {
            "namelength": 0
           },
           "hovertemplate": "Date=5/14/20<br>FIPS=%{location}<br>Confirmed=%{z}",
           "locations": [
            71489,
            120167,
            60208,
            460536,
            333189,
            573725,
            162073,
            120019,
            88888,
            11001,
            898562,
            2262703,
            99999,
            66,
            140035,
            529541,
            1863067,
            1664464,
            1904488,
            1668401,
            2476560,
            1502118,
            458279,
            577079,
            390195,
            2230653,
            2365431,
            2274669,
            2940707,
            901612,
            2083315,
            448727,
            420133,
            804475,
            1140963,
            2091626,
            3672989,
            1484235,
            69,
            3439744,
            2975646,
            1354169,
            2818489,
            5550840,
            310069,
            2072116,
            2257542,
            4507005,
            10614970,
            343271,
            790246,
            78,
            6665022,
            2105551,
            2810894,
            3854933,
            1176453
           ],
           "name": "",
           "type": "choropleth",
           "z": [
            11101,
            383,
            12674,
            4366,
            74871,
            20838,
            35464,
            7223,
            49,
            6736,
            43210,
            35977,
            103,
            152,
            637,
            2351,
            87937,
            26053,
            13675,
            7705,
            7225,
            33489,
            1565,
            35903,
            84460,
            53167,
            13435,
            10483,
            10684,
            462,
            9260,
            6504,
            3382,
            142704,
            5503,
            343051,
            16968,
            1712,
            19,
            26357,
            4963,
            3479,
            63105,
            2427,
            12016,
            8189,
            3792,
            16699,
            44480,
            6749,
            932,
            69,
            27813,
            17773,
            1427,
            11275,
            701
           ]
          }
         ],
         "name": "5/14/20"
        },
        {
         "data": [
          {
           "coloraxis": "coloraxis",
           "geo": "geo",
           "hoverlabel": {
            "namelength": 0
           },
           "hovertemplate": "Date=5/15/20<br>FIPS=%{location}<br>Confirmed=%{z}",
           "locations": [
            71489,
            120167,
            60208,
            460536,
            333189,
            573725,
            162073,
            120019,
            88888,
            11001,
            898562,
            2262703,
            99999,
            66,
            140035,
            529541,
            1880112,
            1664464,
            1904488,
            1688604,
            2476560,
            1502118,
            458279,
            577079,
            390195,
            2230653,
            2365431,
            2274669,
            2940707,
            901612,
            2114484,
            448727,
            420133,
            714441,
            1140963,
            2091626,
            3672989,
            1484235,
            69,
            3439744,
            2975646,
            1354169,
            2818489,
            5550840,
            310069,
            2072116,
            2257542,
            4507005,
            10759337,
            343271,
            790246,
            78,
            6665022,
            2105551,
            2810894,
            3854933,
            1176453
           ],
           "name": "",
           "type": "choropleth",
           "z": [
            11373,
            388,
            13169,
            4463,
            76693,
            21232,
            36085,
            7373,
            49,
            6871,
            44138,
            36772,
            103,
            154,
            638,
            2351,
            90369,
            26656,
            14049,
            7886,
            7444,
            33837,
            1603,
            36986,
            85786,
            53810,
            14240,
            10801,
            10873,
            466,
            9610,
            6733,
            3453,
            143984,
            5662,
            345813,
            17494,
            1761,
            19,
            26954,
            5087,
            3541,
            64136,
            2542,
            12219,
            8407,
            3887,
            16960,
            45721,
            6913,
            933,
            69,
            28672,
            17951,
            1447,
            11685,
            716
           ]
          }
         ],
         "name": "5/15/20"
        },
        {
         "data": [
          {
           "coloraxis": "coloraxis",
           "geo": "geo",
           "hoverlabel": {
            "namelength": 0
           },
           "hovertemplate": "Date=5/16/20<br>FIPS=%{location}<br>Confirmed=%{z}",
           "locations": [
            71489,
            120167,
            60208,
            465617,
            333189,
            573725,
            162073,
            120019,
            88888,
            11001,
            898562,
            2262703,
            99999,
            66,
            140035,
            529541,
            1880222,
            1664464,
            1904488,
            1688604,
            2497713,
            1502118,
            458279,
            577079,
            390195,
            2230653,
            2338282,
            2274669,
            2940707,
            901612,
            2204475,
            448727,
            420133,
            804475,
            1140963,
            2091626,
            3672989,
            1484235,
            69,
            3439744,
            2885606,
            1354169,
            2818489,
            5622933,
            310069,
            2072116,
            2257542,
            4507005,
            10759337,
            343271,
            790246,
            78,
            6665022,
            2105551,
            2864907,
            3854933,
            1176453
           ],
           "name": "",
           "type": "choropleth",
           "z": [
            11674,
            388,
            13666,
            4578,
            78725,
            21633,
            36703,
            7547,
            49,
            7042,
            44811,
            37212,
            103,
            154,
            639,
            2419,
            92457,
            27280,
            14328,
            7939,
            7688,
            34117,
            1648,
            37968,
            87374,
            54315,
            14969,
            11123,
            11049,
            468,
            10220,
            6813,
            3556,
            145089,
            5847,
            348232,
            18130,
            1848,
            21,
            27474,
            5237,
            3612,
            65185,
            2589,
            12434,
            8661,
            3959,
            17263,
            47452,
            7068,
            934,
            69,
            29683,
            18288,
            1470,
            12187,
            741
           ]
          }
         ],
         "name": "5/16/20"
        },
        {
         "data": [
          {
           "coloraxis": "coloraxis",
           "geo": "geo",
           "hoverlabel": {
            "namelength": 0
           },
           "hovertemplate": "Date=5/17/20<br>FIPS=%{location}<br>Confirmed=%{z}",
           "locations": [
            71489,
            120167,
            60208,
            465617,
            333189,
            573725,
            162073,
            120019,
            88888,
            11001,
            898562,
            2262703,
            99999,
            66,
            140035,
            529541,
            1880222,
            1664464,
            1942608,
            1688604,
            2497713,
            1502118,
            458279,
            577079,
            390195,
            2230653,
            2338282,
            2274669,
            2940707,
            901612,
            2114444,
            448727,
            420133,
            714441,
            1140963,
            2091626,
            3672989,
            1522326,
            69,
            3439744,
            2885606,
            1354169,
            2818489,
            5622933,
            310069,
            2072116,
            2257542,
            4507005,
            10759337,
            343271,
            790246,
            78,
            6665022,
            2105551,
            2864907,
            3854933,
            1176453
           ],
           "name": "",
           "type": "choropleth",
           "z": [
            11771,
            388,
            13945,
            4759,
            80166,
            21938,
            37419,
            7670,
            49,
            7123,
            45588,
            37579,
            103,
            154,
            640,
            2419,
            94191,
            27778,
            14651,
            7953,
            7688,
            34432,
            1687,
            38804,
            88500,
            54963,
            15668,
            11296,
            11172,
            468,
            10177,
            6949,
            3596,
            146504,
            5938,
            350121,
            18673,
            1900,
            21,
            27923,
            5310,
            3623,
            65700,
            2646,
            12674,
            8816,
            3987,
            17359,
            48396,
            7238,
            940,
            69,
            30388,
            18433,
            1492,
            12543,
            754
           ]
          }
         ],
         "name": "5/17/20"
        },
        {
         "data": [
          {
           "coloraxis": "coloraxis",
           "geo": "geo",
           "hoverlabel": {
            "namelength": 0
           },
           "hovertemplate": "Date=5/18/20<br>FIPS=%{location}<br>Confirmed=%{z}",
           "locations": [
            71489,
            120167,
            60208,
            465617,
            333189,
            573725,
            162073,
            120019,
            88888,
            11001,
            898562,
            2262703,
            99999,
            66,
            140035,
            529541,
            1880222,
            1664464,
            1942608,
            1688536,
            2518726,
            1502118,
            458279,
            577079,
            390195,
            2230653,
            2338282,
            2274669,
            2940707,
            901612,
            2204475,
            448727,
            420133,
            714441,
            1175986,
            2091626,
            3672989,
            1522326,
            69,
            3439744,
            2885606,
            1354169,
            2818489,
            5622933,
            310069,
            2072116,
            2257542,
            4597052,
            10759337,
            343271,
            790246,
            78,
            6665022,
            2105551,
            2864907,
            3854933,
            1176453
           ],
           "name": "",
           "type": "choropleth",
           "z": [
            12086,
            388,
            14208,
            4813,
            81518,
            22202,
            38116,
            7869,
            49,
            7270,
            46442,
            38283,
            103,
            154,
            640,
            2455,
            96485,
            28255,
            14955,
            8303,
            7935,
            34709,
            1713,
            39762,
            89566,
            55855,
            16372,
            11432,
            11320,
            470,
            10625,
            7061,
            3652,
            148240,
            6096,
            351371,
            19207,
            1931,
            21,
            28454,
            5398,
            3687,
            66669,
            2710,
            12795,
            8942,
            4027,
            18011,
            49177,
            7384,
            940,
            69,
            31140,
            18611,
            1502,
            12687,
            766
           ]
          }
         ],
         "name": "5/18/20"
        },
        {
         "data": [
          {
           "coloraxis": "coloraxis",
           "geo": "geo",
           "hoverlabel": {
            "namelength": 0
           },
           "hovertemplate": "Date=5/19/20<br>FIPS=%{location}<br>Confirmed=%{z}",
           "locations": [
            71489,
            120167,
            60208,
            465617,
            333189,
            573725,
            162073,
            120019,
            88888,
            11001,
            898562,
            2262703,
            99999,
            66,
            140035,
            529541,
            1880222,
            1664464,
            1961767,
            1688536,
            2539963,
            1502118,
            458279,
            577079,
            390195,
            2230653,
            2338282,
            2274669,
            2940707,
            901612,
            2204475,
            448727,
            420133,
            714441,
            1175986,
            2091626,
            3710000,
            1560335,
            69,
            3439744,
            2885606,
            1354169,
            2818489,
            5622933,
            310069,
            2072116,
            2257542,
            4644119,
            10807748,
            343271,
            790246,
            78,
            6665022,
            2105551,
            2864907,
            3854933,
            1176453
           ],
           "name": "",
           "type": "choropleth",
           "z": [
            12376,
            400,
            14576,
            4923,
            83764,
            22482,
            38430,
            8037,
            49,
            7434,
            46944,
            38855,
            103,
            154,
            641,
            2455,
            98030,
            28705,
            15296,
            8353,
            8069,
            35038,
            1741,
            41546,
            90521,
            56465,
            17029,
            11704,
            11452,
            471,
            10854,
            7096,
            3721,
            149356,
            6192,
            352845,
            19239,
            1994,
            21,
            28952,
            5489,
            3726,
            67311,
            2805,
            12951,
            9056,
            4085,
            18412,
            50552,
            7518,
            944,
            69,
            32145,
            18811,
            1502,
            12885,
            776
           ]
          }
         ],
         "name": "5/19/20"
        },
        {
         "data": [
          {
           "coloraxis": "coloraxis",
           "geo": "geo",
           "hoverlabel": {
            "namelength": 0
           },
           "hovertemplate": "Date=5/2/20<br>FIPS=%{location}<br>Confirmed=%{z}",
           "locations": [
            71489,
            30165,
            60208,
            460536,
            327084,
            541565,
            162073,
            120019,
            88888,
            11001,
            898562,
            2236313,
            99999,
            66,
            140035,
            529541,
            1748852,
            1664464,
            1828032,
            1608332,
            2455465,
            1502118,
            368256,
            577079,
            390195,
            2230653,
            2194059,
            2274669,
            2824217,
            931639,
            1958943,
            384681,
            420133,
            804475,
            1050928,
            2091626,
            3635790,
            1370076,
            69,
            3439744,
            2805446,
            1313168,
            2818489,
            72999,
            310069,
            2072116,
            2165272,
            4549915,
            10277377,
            343271,
            790246,
            78,
            6665022,
            2105551,
            2702794,
            3689788,
            1176453
           ],
           "name": "",
           "type": "choropleth",
           "z": [
            7611,
            365,
            8364,
            3372,
            53347,
            16225,
            29287,
            5038,
            49,
            4797,
            35463,
            28331,
            103,
            145,
            620,
            2061,
            58505,
            19295,
            8643,
            4885,
            4879,
            29140,
            1153,
            24473,
            67438,
            45424,
            6232,
            7441,
            8449,
            455,
            5317,
            5389,
            2429,
            123717,
            3732,
            312977,
            11588,
            1153,
            14,
            19335,
            3851,
            2635,
            50494,
            1757,
            9289,
            6489,
            2588,
            12661,
            30917,
            4985,
            886,
            66,
            17738,
            15003,
            1185,
            7660,
            579
           ]
          }
         ],
         "name": "5/2/20"
        },
        {
         "data": [
          {
           "coloraxis": "coloraxis",
           "geo": "geo",
           "hoverlabel": {
            "namelength": 0
           },
           "hovertemplate": "Date=5/20/20<br>FIPS=%{location}<br>Confirmed=%{z}",
           "locations": [
            71489,
            32353,
            60208,
            465617,
            333189,
            573725,
            162073,
            120019,
            88888,
            11001,
            898562,
            2262703,
            99999,
            66,
            140035,
            529541,
            1880222,
            1664464,
            1961767,
            1708637,
            2561026,
            1502118,
            458279,
            577079,
            390195,
            2230653,
            2338282,
            2274669,
            2940707,
            901612,
            2235578,
            448727,
            420133,
            714441,
            1175986,
            2091626,
            3710000,
            1560335,
            69,
            3439744,
            2925635,
            1354169,
            2818489,
            5622933,
            310069,
            2072116,
            2257542,
            4644119,
            10855939,
            343271,
            790246,
            78,
            6665022,
            2105551,
            2864907,
            3854933,
            1176453
           ],
           "name": "",
           "type": "choropleth",
           "z": [
            13052,
            401,
            14906,
            5003,
            86018,
            22797,
            39017,
            8194,
            49,
            7551,
            47471,
            39801,
            103,
            154,
            643,
            2506,
            100418,
            29274,
            15620,
            8507,
            8167,
            35316,
            1819,
            42323,
            91654,
            57322,
            17670,
            11967,
            11628,
            478,
            11122,
            7388,
            3868,
            150776,
            6317,
            354370,
            20262,
            2095,
            21,
            29436,
            5532,
            3801,
            68126,
            2866,
            13356,
            9175,
            4177,
            18412,
            51859,
            7710,
            944,
            69,
            32908,
            18971,
            1567,
            13413,
            787
           ]
          }
         ],
         "name": "5/20/20"
        },
        {
         "data": [
          {
           "coloraxis": "coloraxis",
           "geo": "geo",
           "hoverlabel": {
            "namelength": 0
           },
           "hovertemplate": "Date=5/21/20<br>FIPS=%{location}<br>Confirmed=%{z}",
           "locations": [
            71489,
            32353,
            60208,
            465617,
            333189,
            573725,
            162073,
            120019,
            88888,
            11001,
            898562,
            2262703,
            99999,
            66,
            140035,
            529541,
            1880222,
            1664464,
            1961767,
            1708637,
            2561026,
            1502118,
            458279,
            577079,
            390195,
            2230653,
            2338282,
            2274669,
            2940707,
            901612,
            2235578,
            448727,
            420133,
            714441,
            1175986,
            2091626,
            3710000,
            1560335,
            69,
            3439744,
            2925635,
            1354169,
            2818489,
            5622933,
            310069,
            2072116,
            2257542,
            4644119,
            10855939,
            343271,
            790246,
            78,
            6665022,
            2105551,
            2864907,
            3965119,
            1232484
           ],
           "name": "",
           "type": "choropleth",
           "z": [
            13288,
            401,
            15348,
            5458,
            88056,
            23191,
            39208,
            8386,
            49,
            7788,
            48675,
            40663,
            103,
            165,
            647,
            2506,
            102688,
            29936,
            16170,
            8625,
            8286,
            36504,
            1877,
            43531,
            92860,
            57988,
            18200,
            12222,
            11775,
            479,
            11427,
            7400,
            3935,
            151586,
            6472,
            356458,
            20512,
            2229,
            22,
            30167,
            5680,
            3817,
            69252,
            2913,
            13571,
            9381,
            4177,
            18961,
            53053,
            7874,
            950,
            69,
            34137,
            19117,
            1593,
            13885,
            801
           ]
          }
         ],
         "name": "5/21/20"
        },
        {
         "data": [
          {
           "coloraxis": "coloraxis",
           "geo": "geo",
           "hoverlabel": {
            "namelength": 0
           },
           "hovertemplate": "Date=5/22/20<br>FIPS=%{location}<br>Confirmed=%{z}",
           "locations": [
            71489,
            32353,
            60208,
            465617,
            339280,
            573725,
            162073,
            120019,
            88888,
            11001,
            898562,
            2262703,
            99999,
            66,
            140035,
            529541,
            1880222,
            1664464,
            1961767,
            1788949,
            2561026,
            1502118,
            458279,
            577079,
            390195,
            2230653,
            2338282,
            2274669,
            2940707,
            901612,
            2235558,
            448727,
            420133,
            714441,
            1175986,
            2091626,
            3710000,
            1598374,
            69,
            3439744,
            2925635,
            1354169,
            2818489,
            5622933,
            310069,
            2072116,
            2257542,
            4644119,
            10855939,
            343271,
            790246,
            78,
            6665022,
            2105551,
            2954961,
            3965119,
            1232484
           ],
           "name": "",
           "type": "choropleth",
           "z": [
            13670,
            403,
            15624,
            5612,
            90281,
            23487,
            39640,
            8529,
            49,
            7893,
            49451,
            41482,
            103,
            165,
            642,
            2595,
            105444,
            30409,
            16492,
            8909,
            8426,
            36925,
            1948,
            44424,
            93796,
            58543,
            19005,
            12625,
            11986,
            479,
            11662,
            7525,
            4014,
            152579,
            6625,
            358154,
            22110,
            2317,
            22,
            30794,
            5849,
            3864,
            70211,
            3030,
            13736,
            9638,
            4356,
            19394,
            53539,
            8057,
            952,
            69,
            34950,
            19265,
            1705,
            14396,
            803
           ]
          }
         ],
         "name": "5/22/20"
        },
        {
         "data": [
          {
           "coloraxis": "coloraxis",
           "geo": "geo",
           "hoverlabel": {
            "namelength": 0
           },
           "hovertemplate": "Date=5/23/20<br>FIPS=%{location}<br>Confirmed=%{z}",
           "locations": [
            71489,
            32353,
            60208,
            465617,
            345315,
            573725,
            162073,
            120019,
            88888,
            11001,
            898562,
            2262703,
            99999,
            66,
            140035,
            529541,
            1880222,
            1664464,
            1980820,
            1788949,
            2561026,
            1502118,
            368256,
            577079,
            390195,
            2230653,
            2365339,
            2274669,
            2940707,
            901612,
            2235558,
            448727,
            420133,
            714441,
            1175986,
            2091626,
            3710000,
            1598374,
            69,
            3439744,
            2925635,
            1354169,
            2818489,
            5622933,
            310069,
            2072116,
            2257542,
            4644119,
            10855939,
            343271,
            790246,
            78,
            6665022,
            2105551,
            2954961,
            3965119,
            1232484
           ],
           "name": "",
           "type": "choropleth",
           "z": [
            14117,
            407,
            16053,
            5775,
            92564,
            23964,
            40022,
            8529,
            49,
            7966,
            50127,
            42242,
            103,
            165,
            643,
            2595,
            107796,
            30901,
            16898,
            8946,
            8571,
            36925,
            2013,
            45495,
            94641,
            59046,
            19845,
            13005,
            12145,
            479,
            11963,
            7526,
            4089,
            153140,
            6625,
            359926,
            22864,
            2365,
            22,
            31408,
            5960,
            3888,
            71009,
            3100,
            13952,
            9895,
            4464,
            19785,
            54776,
            8260,
            954,
            69,
            35749,
            19265,
            1705,
            14877,
            813
           ]
          }
         ],
         "name": "5/23/20"
        },
        {
         "data": [
          {
           "coloraxis": "coloraxis",
           "geo": "geo",
           "hoverlabel": {
            "namelength": 0
           },
           "hovertemplate": "Date=5/24/20<br>FIPS=%{location}<br>Confirmed=%{z}",
           "locations": [
            71489,
            32353,
            60208,
            465617,
            345315,
            573725,
            162073,
            120019,
            88888,
            11001,
            898562,
            2262703,
            99999,
            66,
            140035,
            529541,
            1880222,
            1664464,
            1961767,
            1788949,
            2561026,
            1502118,
            458279,
            577079,
            390195,
            2230653,
            2365339,
            2274669,
            2940707,
            901612,
            2266587,
            448727,
            420133,
            804475,
            1175986,
            2091626,
            3710000,
            1598374,
            69,
            3439744,
            2925635,
            1354169,
            2818489,
            5622933,
            310069,
            2072116,
            2303613,
            4644119,
            10952611,
            343271,
            790246,
            78,
            6665022,
            2105551,
            2864907,
            3965119,
            1232484
           ],
           "name": "",
           "type": "choropleth",
           "z": [
            14478,
            407,
            16377,
            5922,
            94069,
            24174,
            40468,
            8809,
            49,
            8110,
            50867,
            42902,
            103,
            166,
            643,
            2626,
            110304,
            31376,
            17251,
            9004,
            8571,
            37169,
            2055,
            46313,
            95708,
            59395,
            20573,
            13260,
            12394,
            479,
            12134,
            7881,
            4149,
            154154,
            6943,
            361515,
            23365,
            2418,
            22,
            31911,
            6037,
            3927,
            71563,
            3189,
            14065,
            10096,
            4563,
            20111,
            55861,
            8392,
            956,
            69,
            36244,
            19828,
            1759,
            15277,
            838
           ]
          }
         ],
         "name": "5/24/20"
        },
        {
         "data": [
          {
           "coloraxis": "coloraxis",
           "geo": "geo",
           "hoverlabel": {
            "namelength": 0
           },
           "hovertemplate": "Date=5/25/20<br>FIPS=%{location}<br>Confirmed=%{z}",
           "locations": [
            71489,
            32353,
            60208,
            465617,
            345315,
            483717,
            162073,
            120019,
            88888,
            11001,
            898562,
            2262703,
            99999,
            66,
            140035,
            529541,
            1880222,
            1664464,
            1961767,
            1788949,
            2561026,
            1502118,
            368256,
            577079,
            390195,
            2230653,
            2365339,
            2274669,
            2940707,
            901612,
            2266587,
            448727,
            420133,
            804475,
            1175986,
            2091626,
            3710000,
            1598374,
            69,
            3439744,
            2925635,
            1354169,
            2818489,
            5622933,
            310069,
            2072116,
            2303613,
            4644119,
            11000988,
            343271,
            790246,
            78,
            6665022,
            2105551,
            2864907,
            3965119,
            1232484
           ],
           "name": "",
           "type": "choropleth",
           "z": [
            14986,
            408,
            16575,
            6029,
            96470,
            24256,
            40873,
            8965,
            49,
            8225,
            51746,
            43400,
            103,
            166,
            643,
            2626,
            112017,
            31715,
            17557,
            9125,
            8571,
            37809,
            2074,
            47152,
            96366,
            59621,
            21315,
            13458,
            12549,
            479,
            12362,
            7956,
            4197,
            155092,
            7026,
            362764,
            24057,
            2457,
            22,
            32477,
            6090,
            3949,
            71925,
            3260,
            14065,
            10178,
            4586,
            20535,
            56409,
            8521,
            962,
            69,
            37727,
            20065,
            1774,
            15584,
            843
           ]
          }
         ],
         "name": "5/25/20"
        },
        {
         "data": [
          {
           "coloraxis": "coloraxis",
           "geo": "geo",
           "hoverlabel": {
            "namelength": 0
           },
           "hovertemplate": "Date=5/26/20<br>FIPS=%{location}<br>Confirmed=%{z}",
           "locations": [
            71489,
            32353,
            60208,
            465617,
            345315,
            483717,
            162073,
            120019,
            88888,
            11001,
            898562,
            2262703,
            99999,
            66,
            140035,
            529541,
            1880222,
            1664464,
            1961767,
            1788949,
            2561026,
            1502118,
            368256,
            577079,
            390195,
            2230653,
            2365339,
            2274669,
            2940707,
            901612,
            2266587,
            448727,
            420133,
            804475,
            1175986,
            2091626,
            3710000,
            1598374,
            69,
            3439744,
            2925635,
            1354169,
            2818489,
            5622933,
            310069,
            2072116,
            2393659,
            4644119,
            11049217,
            343271,
            790246,
            78,
            6665022,
            2105551,
            2864907,
            3965119,
            1232484
           ],
           "name": "",
           "type": "choropleth",
           "z": [
            15650,
            410,
            16864,
            6180,
            99492,
            24552,
            41303,
            9066,
            49,
            8334,
            52255,
            43983,
            103,
            167,
            643,
            2626,
            113195,
            32078,
            17703,
            9199,
            8951,
            38054,
            2109,
            47687,
            96826,
            59974,
            21960,
            13731,
            12721,
            479,
            12619,
            8057,
            4231,
            155764,
            7130,
            363836,
            24455,
            2422,
            22,
            33006,
            6138,
            3967,
            72778,
            3324,
            14210,
            10416,
            4653,
            20895,
            57230,
            8620,
            967,
            69,
            39342,
            20181,
            1774,
            15863,
            850
           ]
          }
         ],
         "name": "5/26/20"
        },
        {
         "data": [
          {
           "coloraxis": "coloraxis",
           "geo": "geo",
           "hoverlabel": {
            "namelength": 0
           },
           "hovertemplate": "Date=5/27/20<br>FIPS=%{location}<br>Confirmed=%{z}",
           "locations": [
            71489,
            32353,
            60208,
            465617,
            345315,
            483717,
            162073,
            120019,
            88888,
            11001,
            898562,
            2262703,
            99999,
            66,
            140035,
            635566,
            1880222,
            1664464,
            1980820,
            1788949,
            2561026,
            1502118,
            458279,
            577079,
            390195,
            2230653,
            2365339,
            2274669,
            2940707,
            901612,
            2266587,
            448727,
            420133,
            804475,
            1175986,
            2091626,
            3710000,
            1598374,
            69,
            3439744,
            2925635,
            1395206,
            2818489,
            5622933,
            310069,
            2072116,
            2393659,
            4644119,
            11097600,
            343271,
            790246,
            78,
            6665022,
            2105551,
            2864907,
            3965119,
            1288529
           ],
           "name": "",
           "type": "choropleth",
           "z": [
            16032,
            411,
            17318,
            6277,
            101071,
            24754,
            41288,
            9096,
            49,
            8406,
            52634,
            44638,
            103,
            170,
            644,
            2699,
            114306,
            32437,
            18369,
            9291,
            9077,
            38497,
            2137,
            48423,
            97428,
            60592,
            22464,
            14044,
            12872,
            481,
            12984,
            8150,
            4286,
            156628,
            7252,
            364965,
            24916,
            2439,
            22,
            33439,
            6229,
            4038,
            73557,
            3397,
            14353,
            10623,
            4710,
            21285,
            58542,
            8706,
            971,
            69,
            40249,
            20406,
            1899,
            16462,
            860
           ]
          }
         ],
         "name": "5/27/20"
        },
        {
         "data": [
          {
           "coloraxis": "coloraxis",
           "geo": "geo",
           "hoverlabel": {
            "namelength": 0
           },
           "hovertemplate": "Date=5/28/20<br>FIPS=%{location}<br>Confirmed=%{z}",
           "locations": [
            71489,
            34538,
            60208,
            465617,
            345315,
            483717,
            162073,
            120019,
            88888,
            11001,
            898562,
            2262703,
            99999,
            66,
            140035,
            635566,
            1880222,
            1664464,
            1980820,
            1788949,
            2582155,
            1502118,
            458279,
            577079,
            390195,
            2230653,
            2392488,
            2274669,
            2940707,
            901612,
            2266587,
            448727,
            420133,
            804475,
            1175986,
            2091626,
            3710000,
            1598374,
            69,
            3439744,
            2925635,
            1395206,
            2818489,
            5622933,
            310069,
            2072116,
            2303613,
            4644119,
            11097600,
            343271,
            790246,
            78,
            6665022,
            2105551,
            2954961,
            3965119,
            1288529
           ],
           "name": "",
           "type": "choropleth",
           "z": [
            16530,
            424,
            17877,
            6538,
            103813,
            25107,
            41559,
            9171,
            49,
            8492,
            53285,
            45266,
            103,
            171,
            647,
            2770,
            115833,
            33068,
            18586,
            9371,
            9185,
            38802,
            2189,
            49709,
            98198,
            61116,
            22947,
            14372,
            13083,
            485,
            13249,
            8248,
            4389,
            157185,
            7364,
            366733,
            25800,
            2481,
            22,
            33915,
            6273,
            4086,
            74220,
            3486,
            14494,
            10788,
            4793,
            21679,
            60395,
            8921,
            974,
            69,
            41401,
            20764,
            1935,
            16974,
            876
           ]
          }
         ],
         "name": "5/28/20"
        },
        {
         "data": [
          {
           "coloraxis": "coloraxis",
           "geo": "geo",
           "hoverlabel": {
            "namelength": 0
           },
           "hovertemplate": "Date=5/29/20<br>FIPS=%{location}<br>Confirmed=%{z}",
           "locations": [
            71489,
            34538,
            60208,
            465617,
            345315,
            483717,
            162073,
            120019,
            88888,
            11001,
            898562,
            2262703,
            99999,
            66,
            140035,
            635566,
            1897267,
            1664464,
            1980820,
            1788949,
            2582155,
            1502118,
            458279,
            577079,
            390195,
            2230653,
            2392488,
            2274669,
            2969922,
            901612,
            2297744,
            448727,
            420133,
            804475,
            1175986,
            2091626,
            3710000,
            1598374,
            69,
            3439744,
            2965698,
            1395206,
            2818489,
            5694982,
            310069,
            2072116,
            2395735,
            4644119,
            11097600,
            343271,
            790246,
            78,
            6665022,
            2105551,
            2864907,
            3965119,
            1288529
           ],
           "name": "",
           "type": "choropleth",
           "z": [
            17031,
            429,
            18472,
            6777,
            106638,
            25598,
            41762,
            9236,
            49,
            8538,
            54497,
            45881,
            103,
            172,
            649,
            2770,
            117455,
            33558,
            18957,
            9662,
            9464,
            38802,
            2226,
            50988,
            98880,
            61833,
            23531,
            14793,
            13233,
            493,
            13648,
            8376,
            4492,
            158844,
            7493,
            368284,
            26885,
            2520,
            22,
            34566,
            6338,
            4131,
            74984,
            3647,
            14635,
            11131,
            4866,
            22063,
            60901,
            9264,
            975,
            69,
            42533,
            21071,
            1951,
            17707,
            891
           ]
          }
         ],
         "name": "5/29/20"
        },
        {
         "data": [
          {
           "coloraxis": "coloraxis",
           "geo": "geo",
           "hoverlabel": {
            "namelength": 0
           },
           "hovertemplate": "Date=5/3/20<br>FIPS=%{location}<br>Confirmed=%{z}",
           "locations": [
            71489,
            30165,
            60208,
            460536,
            327084,
            541565,
            162073,
            120019,
            88888,
            11001,
            898562,
            2249578,
            99999,
            66,
            140035,
            529541,
            1748852,
            1664464,
            1847167,
            1628345,
            2455465,
            1502118,
            368256,
            577079,
            390195,
            2230653,
            2284086,
            2274669,
            2824217,
            931639,
            1958941,
            384681,
            420133,
            804475,
            1050928,
            2091626,
            3672989,
            1370076,
            69,
            3439744,
            2805446,
            1313168,
            2818489,
            72999,
            310069,
            2072116,
            2165272,
            4549915,
            10277377,
            343271,
            790246,
            78,
            6665022,
            2105551,
            2756879,
            3689788,
            1176453
           ],
           "name": "",
           "type": "choropleth",
           "z": [
            7888,
            368,
            8640,
            3437,
            54903,
            16635,
            29287,
            5208,
            49,
            5016,
            36078,
            28665,
            103,
            145,
            620,
            2061,
            61499,
            19933,
            9175,
            5156,
            5130,
            29340,
            1185,
            25462,
            69318,
            46047,
            6663,
            7550,
            8712,
            455,
            5661,
            5472,
            2518,
            126744,
            3850,
            316415,
            11770,
            1191,
            14,
            19914,
            3972,
            2680,
            51225,
            1808,
            9477,
            6626,
            2631,
            13177,
            31998,
            5175,
            897,
            66,
            18672,
            15185,
            1195,
            7964,
            586
           ]
          }
         ],
         "name": "5/3/20"
        },
        {
         "data": [
          {
           "coloraxis": "coloraxis",
           "geo": "geo",
           "hoverlabel": {
            "namelength": 0
           },
           "hovertemplate": "Date=5/30/20<br>FIPS=%{location}<br>Confirmed=%{z}",
           "locations": [
            71489,
            34538,
            60208,
            465617,
            345315,
            483717,
            162073,
            120019,
            88888,
            11001,
            898562,
            2262703,
            99999,
            66,
            140035,
            561591,
            1897267,
            1664464,
            1980820,
            1788949,
            2582155,
            1502118,
            458279,
            577079,
            390195,
            2230653,
            2392488,
            2274669,
            2998989,
            901612,
            2266673,
            448727,
            420133,
            804475,
            1175986,
            2091626,
            3710000,
            1598374,
            69,
            3439744,
            2965698,
            1395206,
            2818489,
            5694982,
            310069,
            2072116,
            2395735,
            4644119,
            11145871,
            343271,
            790246,
            78,
            6665022,
            2105551,
            2864907,
            3965119,
            1288529
           ],
           "name": "",
           "type": "choropleth",
           "z": [
            17359,
            433,
            19258,
            7013,
            109895,
            26084,
            42022,
            9422,
            49,
            8717,
            55424,
            46331,
            103,
            172,
            651,
            2803,
            118917,
            34211,
            19244,
            9690,
            9704,
            39577,
            2282,
            52015,
            99773,
            62225,
            24190,
            15229,
            13400,
            505,
            13905,
            8517,
            4492,
            159608,
            7624,
            369660,
            27794,
            2554,
            22,
            35033,
            6418,
            4185,
            75697,
            3718,
            14819,
            11394,
            4960,
            22566,
            62894,
            9533,
            977,
            69,
            43611,
            21349,
            1989,
            18230,
            898
           ]
          }
         ],
         "name": "5/30/20"
        },
        {
         "data": [
          {
           "coloraxis": "coloraxis",
           "geo": "geo",
           "hoverlabel": {
            "namelength": 0
           },
           "hovertemplate": "Date=5/31/20<br>FIPS=%{location}<br>Confirmed=%{z}",
           "locations": [
            71489,
            34538,
            60208,
            465617,
            345315,
            483717,
            162073,
            120019,
            88888,
            11001,
            898562,
            2262703,
            99999,
            66,
            140035,
            561591,
            1897267,
            1664464,
            1980820,
            1788949,
            2582155,
            1502118,
            458279,
            577079,
            390195,
            2230653,
            2392488,
            2274669,
            2998989,
            901612,
            2266673,
            448727,
            420133,
            804475,
            1175986,
            2091626,
            3710000,
            1598374,
            69,
            3439744,
            2965698,
            1395206,
            2818489,
            5694982,
            310069,
            2072116,
            2441788,
            4644119,
            11145871,
            343271,
            790246,
            78,
            6665022,
            2105551,
            2864907,
            3965119,
            1288529
           ],
           "name": "",
           "type": "choropleth",
           "z": [
            17952,
            459,
            19936,
            7253,
            111951,
            26364,
            42201,
            9498,
            49,
            8801,
            56163,
            47063,
            103,
            172,
            652,
            2839,
            120260,
            34574,
            19552,
            9700,
            9704,
            39916,
            2325,
            52778,
            100468,
            62711,
            24850,
            15523,
            13573,
            515,
            14101,
            8628,
            4651,
            160445,
            7689,
            370770,
            28785,
            2577,
            22,
            35513,
            6418,
            4243,
            76129,
            3776,
            14928,
            11861,
            4993,
            22566,
            64652,
            9797,
            981,
            69,
            44607,
            21702,
            2010,
            18403,
            903
           ]
          }
         ],
         "name": "5/31/20"
        },
        {
         "data": [
          {
           "coloraxis": "coloraxis",
           "geo": "geo",
           "hoverlabel": {
            "namelength": 0
           },
           "hovertemplate": "Date=5/4/20<br>FIPS=%{location}<br>Confirmed=%{z}",
           "locations": [
            71489,
            30165,
            60208,
            460536,
            327084,
            541565,
            162073,
            120019,
            88888,
            11001,
            898562,
            2249578,
            99999,
            66,
            140035,
            529541,
            1748852,
            1664464,
            1828114,
            1628345,
            2455465,
            1502118,
            458279,
            577079,
            390195,
            2230653,
            2284086,
            2274669,
            2824217,
            931639,
            1958941,
            384681,
            420133,
            804475,
            1085939,
            2091626,
            3672989,
            1370076,
            69,
            3439744,
            2845457,
            1313168,
            2818489,
            72999,
            310069,
            2072116,
            2165272,
            4549915,
            10325768,
            343271,
            790246,
            78,
            6665022,
            2105551,
            2756879,
            3689788,
            1176453
           ],
           "name": "",
           "type": "choropleth",
           "z": [
            8112,
            370,
            8924,
            3491,
            55884,
            16918,
            29973,
            5288,
            49,
            5170,
            36897,
            29451,
            103,
            145,
            621,
            2106,
            63777,
            20507,
            9703,
            5383,
            5245,
            29673,
            1205,
            26408,
            70388,
            46348,
            7234,
            7877,
            8998,
            457,
            6037,
            5630,
            2588,
            128269,
            4031,
            318953,
            11971,
            1225,
            14,
            20474,
            4044,
            2759,
            52816,
            1843,
            9652,
            6757,
            2668,
            13571,
            32783,
            5317,
            902,
            66,
            19493,
            15462,
            1224,
            8236,
            596
           ]
          }
         ],
         "name": "5/4/20"
        },
        {
         "data": [
          {
           "coloraxis": "coloraxis",
           "geo": "geo",
           "hoverlabel": {
            "namelength": 0
           },
           "hovertemplate": "Date=5/5/20<br>FIPS=%{location}<br>Confirmed=%{z}",
           "locations": [
            71489,
            30165,
            60208,
            460536,
            327084,
            541565,
            162073,
            120019,
            88888,
            11001,
            898562,
            2249578,
            99999,
            66,
            140035,
            529541,
            1748852,
            1664464,
            1738095,
            1648398,
            2455465,
            1502118,
            368256,
            577079,
            390195,
            2230653,
            2311207,
            2274669,
            2882537,
            901612,
            1989952,
            384681,
            420133,
            804475,
            1085939,
            2091626,
            3672989,
            1408133,
            69,
            3439744,
            2845457,
            1313168,
            2818489,
            72999,
            310069,
            2072116,
            2165272,
            4549915,
            10469953,
            343271,
            790246,
            78,
            6665022,
            2105551,
            2756879,
            3689788,
            1176453
           ],
           "name": "",
           "type": "choropleth",
           "z": [
            8437,
            371,
            9305,
            3525,
            58456,
            17367,
            30621,
            5371,
            49,
            5322,
            37439,
            29998,
            103,
            145,
            625,
            2127,
            65889,
            21033,
            10111,
            5648,
            5822,
            29996,
            1226,
            27117,
            71654,
            46914,
            7851,
            8207,
            9195,
            456,
            6373,
            5660,
            2636,
            130593,
            4138,
            321192,
            12510,
            1266,
            14,
            20969,
            4127,
            2839,
            53864,
            1924,
            9933,
            6841,
            2721,
            13690,
            33912,
            5449,
            907,
            66,
            20257,
            15594,
            1246,
            8566,
            604
           ]
          }
         ],
         "name": "5/5/20"
        },
        {
         "data": [
          {
           "coloraxis": "coloraxis",
           "geo": "geo",
           "hoverlabel": {
            "namelength": 0
           },
           "hovertemplate": "Date=5/6/20<br>FIPS=%{location}<br>Confirmed=%{z}",
           "locations": [
            71489,
            30165,
            60208,
            460536,
            327084,
            549676,
            162073,
            120019,
            88888,
            11001,
            898562,
            2249578,
            99999,
            66,
            140035,
            529541,
            1828869,
            1664464,
            1828114,
            1648398,
            2455465,
            1502118,
            368256,
            577079,
            390195,
            2230653,
            2311207,
            2274669,
            2882537,
            901612,
            2052240,
            416698,
            420133,
            804475,
            1085939,
            2091626,
            3672989,
            1408133,
            69,
            3439744,
            2845457,
            1354169,
            2818489,
            5478693,
            310069,
            2072116,
            2257460,
            4549915,
            10469953,
            343271,
            790246,
            78,
            6613442,
            2105551,
            2756879,
            3744829,
            1176453
           ],
           "name": "",
           "type": "choropleth",
           "z": [
            8691,
            372,
            9707,
            3611,
            60616,
            17832,
            30995,
            5778,
            49,
            5461,
            38002,
            30743,
            103,
            149,
            626,
            2158,
            68232,
            21870,
            10404,
            5993,
            5934,
            30399,
            1254,
            28163,
            73538,
            47738,
            8579,
            8424,
            9447,
            456,
            6689,
            5741,
            2741,
            131890,
            4291,
            323978,
            13053,
            1323,
            15,
            21576,
            4202,
            2916,
            54800,
            1968,
            10205,
            6936,
            2780,
            13938,
            34928,
            5595,
            908,
            66,
            20985,
            15905,
            1242,
            8901,
            631
           ]
          }
         ],
         "name": "5/6/20"
        },
        {
         "data": [
          {
           "coloraxis": "coloraxis",
           "geo": "geo",
           "hoverlabel": {
            "namelength": 0
           },
           "hovertemplate": "Date=5/7/20<br>FIPS=%{location}<br>Confirmed=%{z}",
           "locations": [
            71489,
            30165,
            60208,
            460536,
            327084,
            549676,
            162073,
            120019,
            88888,
            11001,
            898562,
            2262703,
            99999,
            66,
            140035,
            529541,
            1828869,
            1664464,
            1828114,
            1648398,
            2476560,
            1502118,
            458279,
            577079,
            390195,
            2230653,
            2365431,
            2274669,
            2882537,
            901612,
            2111154,
            416698,
            420133,
            714441,
            1085939,
            2091626,
            3672989,
            1484235,
            69,
            3439744,
            2845457,
            1354169,
            2818489,
            5550840,
            310069,
            2072116,
            2257460,
            4549915,
            10518370,
            343271,
            790246,
            78,
            6613442,
            2105551,
            2756879,
            3744829,
            1176453
           ],
           "name": "",
           "type": "choropleth",
           "z": [
            9046,
            374,
            9945,
            3703,
            62148,
            18370,
            31784,
            5939,
            49,
            5654,
            38828,
            31618,
            103,
            149,
            629,
            2178,
            70871,
            22503,
            11059,
            6332,
            6129,
            30652,
            1330,
            29374,
            75338,
            48412,
            9365,
            8686,
            9683,
            456,
            7334,
            5855,
            2843,
            133991,
            4493,
            327469,
            13540,
            1371,
            15,
            22131,
            4330,
            2989,
            55956,
            2031,
            10530,
            7142,
            2906,
            14096,
            36036,
            5724,
            916,
            66,
            21570,
            16231,
            1287,
            9215,
            635
           ]
          }
         ],
         "name": "5/7/20"
        },
        {
         "data": [
          {
           "coloraxis": "coloraxis",
           "geo": "geo",
           "hoverlabel": {
            "namelength": 0
           },
           "hovertemplate": "Date=5/8/20<br>FIPS=%{location}<br>Confirmed=%{z}",
           "locations": [
            71489,
            30165,
            60208,
            460536,
            327084,
            565714,
            162073,
            120019,
            88888,
            11001,
            898562,
            2262703,
            99999,
            66,
            140035,
            529541,
            1846020,
            1664464,
            1866332,
            1648398,
            2476560,
            1502118,
            458279,
            577079,
            390195,
            2230653,
            2365431,
            2274669,
            2882537,
            901612,
            2111154,
            506730,
            420133,
            714441,
            1050928,
            2091626,
            3672989,
            1484235,
            69,
            3439744,
            2845457,
            1354169,
            2818489,
            5550840,
            310069,
            2072116,
            2257460,
            4549915,
            10566637,
            343271,
            790246,
            78,
            6613442,
            2105551,
            2810894,
            3744829,
            1176453
           ],
           "name": "",
           "type": "choropleth",
           "z": [
            9385,
            377,
            10526,
            3747,
            63800,
            18827,
            32411,
            6111,
            49,
            5899,
            39199,
            32181,
            103,
            151,
            629,
            2178,
            73760,
            23146,
            11457,
            6667,
            6288,
            30855,
            1374,
            30485,
            77090,
            49170,
            10088,
            9090,
            9829,
            458,
            7818,
            5920,
            2947,
            135840,
            4673,
            330407,
            14006,
            1425,
            15,
            23016,
            4424,
            3068,
            57371,
            2156,
            10779,
            7367,
            3145,
            14441,
            37246,
            5919,
            919,
            68,
            22342,
            16388,
            1323,
            9590,
            644
           ]
          }
         ],
         "name": "5/8/20"
        },
        {
         "data": [
          {
           "coloraxis": "coloraxis",
           "geo": "geo",
           "hoverlabel": {
            "namelength": 0
           },
           "hovertemplate": "Date=5/9/20<br>FIPS=%{location}<br>Confirmed=%{z}",
           "locations": [
            71489,
            30165,
            60208,
            460536,
            333189,
            565714,
            162073,
            120019,
            88888,
            11001,
            898562,
            2262703,
            99999,
            66,
            140035,
            529541,
            1846020,
            1664464,
            1866332,
            1648398,
            2476560,
            1502118,
            458279,
            577079,
            390195,
            2230653,
            2365431,
            2274669,
            2911642,
            901612,
            2052168,
            506730,
            420133,
            714441,
            1140963,
            2091626,
            3672989,
            1484235,
            69,
            3439744,
            2845457,
            1354169,
            2818489,
            5550840,
            310069,
            2072116,
            2211419,
            4549915,
            10566637,
            343271,
            790246,
            78,
            6665022,
            2105551,
            2810894,
            3744829,
            1176453
           ],
           "name": "",
           "type": "choropleth",
           "z": [
            9668,
            378,
            10960,
            3747,
            66572,
            19375,
            32984,
            6277,
            49,
            6102,
            40001,
            32588,
            103,
            151,
            631,
            2205,
            76085,
            23732,
            11671,
            6829,
            6440,
            31417,
            1408,
            31534,
            78561,
            49676,
            10790,
            9378,
            9988,
            458,
            8093,
            6171,
            3011,
            137397,
            4778,
            333122,
            14478,
            1464,
            16,
            23697,
            4490,
            3160,
            58560,
            2173,
            10989,
            7531,
            3393,
            14768,
            38394,
            6103,
            921,
            68,
            23196,
            16674,
            1323,
            9939,
            653
           ]
          }
         ],
         "name": "5/9/20"
        },
        {
         "data": [
          {
           "coloraxis": "coloraxis",
           "geo": "geo",
           "hoverlabel": {
            "namelength": 0
           },
           "hovertemplate": "Date=6/1/20<br>FIPS=%{location}<br>Confirmed=%{z}",
           "locations": [
            161490,
            34538,
            60208,
            465617,
            345315,
            483717,
            162073,
            120019,
            88888,
            11001,
            898562,
            2262703,
            99999,
            66,
            140035,
            561591,
            1897267,
            1664464,
            1980820,
            1788949,
            2582155,
            1502118,
            458279,
            577079,
            390195,
            2230653,
            2392488,
            2274669,
            2998989,
            901612,
            2328757,
            448727,
            420133,
            804475,
            1175986,
            2091626,
            3710000,
            1598374,
            69,
            3439744,
            3055738,
            1395206,
            2818489,
            5694982,
            310069,
            2072116,
            2441788,
            4644119,
            11145871,
            343271,
            790246,
            78,
            6665022,
            2105551,
            2864907,
            3965119,
            1288529
           ],
           "name": "",
           "type": "choropleth",
           "z": [
            18630,
            466,
            20129,
            7443,
            114733,
            26563,
            42740,
            9605,
            49,
            8857,
            56830,
            47902,
            103,
            175,
            652,
            2839,
            121234,
            34830,
            19699,
            9920,
            10046,
            40341,
            2349,
            53327,
            100805,
            62928,
            25208,
            15752,
            13787,
            519,
            14345,
            8702,
            4685,
            160918,
            7800,
            371711,
            29592,
            2625,
            22,
            35984,
            6573,
            4302,
            76646,
            3873,
            14991,
            12148,
            5034,
            22566,
            65593,
            9999,
            983,
            70,
            45398,
            21977,
            2028,
            18543,
            910
           ]
          }
         ],
         "name": "6/1/20"
        },
        {
         "data": [
          {
           "coloraxis": "coloraxis",
           "geo": "geo",
           "hoverlabel": {
            "namelength": 0
           },
           "hovertemplate": "Date=6/10/20<br>FIPS=%{location}<br>Confirmed=%{z}",
           "locations": [
            161490,
            38913,
            60208,
            465617,
            345315,
            483717,
            162073,
            120019,
            88888,
            11001,
            898562,
            2262703,
            99999,
            66,
            140035,
            561591,
            1897267,
            1664464,
            1980820,
            1829295,
            2603220,
            1502118,
            458279,
            577079,
            390195,
            2308810,
            2392488,
            2274669,
            2998989,
            931699,
            2359828,
            480754,
            420133,
            804475,
            1175986,
            2091626,
            3710000,
            1750566,
            69,
            3439744,
            2965698,
            1395206,
            2818489,
            5694982,
            310069,
            2072116,
            2625938,
            4644119,
            11435491,
            343271,
            790246,
            78,
            6665022,
            2105551,
            2864907,
            3965119,
            1288529
           ],
           "name": "",
           "type": "choropleth",
           "z": [
            21989,
            592,
            29852,
            10368,
            139715,
            28484,
            44347,
            10056,
            49,
            9537,
            67371,
            53980,
            103,
            180,
            685,
            3260,
            129837,
            38337,
            22626,
            10750,
            11883,
            44030,
            2637,
            59465,
            104156,
            65182,
            28869,
            18483,
            15754,
            561,
            16058,
            10218,
            5178,
            165346,
            9250,
            380156,
            38473,
            2941,
            30,
            39575,
            7483,
            5060,
            81316,
            5329,
            15756,
            15759,
            5604,
            27930,
            80777,
            12864,
            1095,
            72,
            52177,
            24354,
            2194,
            21593,
            980
           ]
          }
         ],
         "name": "6/10/20"
        },
        {
         "data": [
          {
           "coloraxis": "coloraxis",
           "geo": "geo",
           "hoverlabel": {
            "namelength": 0
           },
           "hovertemplate": "Date=6/11/20<br>FIPS=%{location}<br>Confirmed=%{z}",
           "locations": [
            161490,
            38913,
            60208,
            465617,
            345315,
            483717,
            162073,
            120019,
            88888,
            11001,
            898562,
            2262703,
            99999,
            66,
            140035,
            561591,
            1897267,
            1664464,
            1980820,
            1829295,
            2603220,
            1502118,
            458279,
            577079,
            390195,
            2308810,
            2392488,
            2274669,
            2998989,
            931699,
            2422000,
            480754,
            420133,
            804475,
            1175986,
            2091626,
            3710000,
            1750566,
            69,
            3439744,
            2965698,
            1395206,
            2818489,
            5694982,
            310069,
            2072116,
            2625938,
            4644119,
            11435491,
            343271,
            790246,
            78,
            6665022,
            2105551,
            2864907,
            3965119,
            1288529
           ],
           "name": "",
           "type": "choropleth",
           "z": [
            22845,
            609,
            31267,
            10816,
            143439,
            28632,
            44461,
            10106,
            49,
            9589,
            69069,
            54973,
            103,
            183,
            692,
            3260,
            130603,
            38748,
            22973,
            10823,
            11945,
            44472,
            2667,
            60197,
            104667,
            65449,
            29316,
            18483,
            15946,
            563,
            16315,
            10473,
            5209,
            165816,
            9367,
            380892,
            39584,
            2980,
            30,
            40004,
            7626,
            5237,
            81848,
            5352,
            15862,
            16441,
            5665,
            28340,
            82658,
            13252,
            1110,
            72,
            52647,
            24779,
            2217,
            21926,
            1009
           ]
          }
         ],
         "name": "6/11/20"
        },
        {
         "data": [
          {
           "coloraxis": "coloraxis",
           "geo": "geo",
           "hoverlabel": {
            "namelength": 0
           },
           "hovertemplate": "Date=6/12/20<br>FIPS=%{location}<br>Confirmed=%{z}",
           "locations": [
            161490,
            38913,
            60208,
            465617,
            345315,
            483717,
            162073,
            120019,
            88888,
            11001,
            898562,
            2262703,
            99999,
            66,
            140035,
            561591,
            1897267,
            1664464,
            1980820,
            1829295,
            2603220,
            1502118,
            458279,
            577079,
            390195,
            2308810,
            2392488,
            2274669,
            3322048,
            961716,
            2422000,
            480754,
            420133,
            804475,
            1175986,
            2091626,
            3710000,
            1750566,
            69,
            3439744,
            2965698,
            1395206,
            2818489,
            5694982,
            310069,
            2072116,
            2625938,
            4644119,
            11435491,
            343271,
            790246,
            78,
            6665022,
            2105551,
            2864907,
            3965119,
            1288529
           ],
           "name": "",
           "type": "choropleth",
           "z": [
            23710,
            624,
            33039,
            11547,
            146659,
            28807,
            44689,
            10173,
            49,
            9654,
            70971,
            55783,
            103,
            183,
            706,
            3353,
            131198,
            39146,
            23350,
            10973,
            12166,
            44995,
            2721,
            60613,
            105059,
            65672,
            29795,
            19091,
            15997,
            573,
            16522,
            10704,
            5251,
            166164,
            9526,
            381714,
            41417,
            3016,
            30,
            40424,
            7849,
            5377,
            82481,
            5536,
            15947,
            17170,
            5742,
            29118,
            84927,
            13577,
            1119,
            72,
            53211,
            25171,
            2249,
            22246,
            1027
           ]
          }
         ],
         "name": "6/12/20"
        },
        {
         "data": [
          {
           "coloraxis": "coloraxis",
           "geo": "geo",
           "hoverlabel": {
            "namelength": 0
           },
           "hovertemplate": "Date=6/13/20<br>FIPS=%{location}<br>Confirmed=%{z}",
           "locations": [
            161490,
            38913,
            60208,
            465617,
            345315,
            483717,
            162073,
            120019,
            88888,
            11001,
            898562,
            2262703,
            99999,
            66,
            140035,
            561591,
            1897267,
            1664464,
            1980820,
            1829295,
            2603220,
            1502118,
            458279,
            577079,
            390195,
            2308810,
            2419519,
            2274669,
            3322048,
            961716,
            2422000,
            480754,
            420133,
            804475,
            1175986,
            2091626,
            3710000,
            1750566,
            69,
            3439744,
            2965698,
            1395206,
            2818489,
            5694982,
            310069,
            2072116,
            2672033,
            4644119,
            11483904,
            343271,
            790246,
            78,
            6665022,
            2105551,
            2864907,
            3965119,
            1288529
           ],
           "name": "",
           "type": "choropleth",
           "z": [
            24601,
            653,
            34660,
            12095,
            150034,
            29002,
            44994,
            10229,
            49,
            9709,
            73552,
            56804,
            103,
            183,
            723,
            3353,
            131871,
            39543,
            23717,
            11020,
            12445,
            46283,
            2757,
            61305,
            105395,
            65836,
            30172,
            19348,
            16232,
            588,
            16640,
            10997,
            5299,
            166605,
            9621,
            382630,
            42845,
            3058,
            30,
            40851,
            8073,
            5377,
            82944,
            5690,
            15947,
            17955,
            5833,
            29549,
            86915,
            13981,
            1125,
            72,
            53869,
            25538,
            2274,
            22518,
            1050
           ]
          }
         ],
         "name": "6/13/20"
        },
        {
         "data": [
          {
           "coloraxis": "coloraxis",
           "geo": "geo",
           "hoverlabel": {
            "namelength": 0
           },
           "hovertemplate": "Date=6/14/20<br>FIPS=%{location}<br>Confirmed=%{z}",
           "locations": [
            161490,
            38913,
            60208,
            465617,
            345315,
            483717,
            162073,
            120019,
            88888,
            11001,
            898562,
            2262703,
            99999,
            66,
            140035,
            561591,
            1897267,
            1664464,
            1980820,
            1829295,
            2603220,
            1502118,
            458279,
            577079,
            390195,
            2308810,
            2419519,
            2274669,
            3322048,
            961716,
            2422000,
            480754,
            420133,
            804475,
            1175986,
            2091626,
            3710000,
            1750566,
            69,
            3439744,
            2965698,
            1395206,
            2818489,
            5694982,
            310069,
            2072116,
            2672033,
            4644119,
            11483904,
            343271,
            790246,
            78,
            6665022,
            2105551,
            2864907,
            3965119,
            1288529
           ],
           "name": "",
           "type": "choropleth",
           "z": [
            25615,
            660,
            35706,
            12501,
            152349,
            29115,
            45088,
            10264,
            49,
            9767,
            75568,
            57681,
            103,
            183,
            728,
            3399,
            132543,
            39909,
            23926,
            11101,
            12445,
            46619,
            2793,
            61701,
            105603,
            66054,
            30471,
            19516,
            16262,
            601,
            16730,
            11201,
            5318,
            166881,
            9723,
            383324,
            44264,
            3080,
            30,
            41148,
            8231,
            5636,
            83203,
            5811,
            15947,
            18795,
            5898,
            30343,
            88523,
            14313,
            1127,
            72,
            54506,
            25834,
            2290,
            22758,
            1060
           ]
          }
         ],
         "name": "6/14/20"
        },
        {
         "data": [
          {
           "coloraxis": "coloraxis",
           "geo": "geo",
           "hoverlabel": {
            "namelength": 0
           },
           "hovertemplate": "Date=6/15/20<br>FIPS=%{location}<br>Confirmed=%{z}",
           "locations": [
            161490,
            38913,
            60208,
            465617,
            345315,
            483717,
            162073,
            120019,
            88888,
            11001,
            898562,
            2262703,
            99999,
            66,
            140035,
            561591,
            1897267,
            1664464,
            1980820,
            1829295,
            2603220,
            1502118,
            458279,
            577079,
            440221,
            2308810,
            2419519,
            2274669,
            3351105,
            961716,
            2422000,
            480754,
            420133,
            804475,
            1175986,
            2091626,
            3710000,
            1750566,
            69,
            3439744,
            2965698,
            1395206,
            2818489,
            5694982,
            310069,
            2072116,
            2718040,
            4644119,
            11532365,
            343271,
            790246,
            78,
            6665022,
            2105551,
            2954961,
            3965119,
            1288529
           ],
           "name": "",
           "type": "choropleth",
           "z": [
            26272,
            663,
            36844,
            12917,
            155726,
            29284,
            45235,
            10340,
            49,
            9799,
            77326,
            58414,
            103,
            185,
            736,
            3399,
            133016,
            40430,
            24082,
            11319,
            12647,
            47172,
            2810,
            62032,
            105690,
            66085,
            30693,
            19799,
            16611,
            609,
            16851,
            11315,
            5345,
            167103,
            9845,
            383944,
            45114,
            3101,
            30,
            41576,
            8417,
            5820,
            83589,
            5890,
            16093,
            19378,
            5928,
            31004,
            90211,
            14608,
            1128,
            72,
            54886,
            26158,
            2322,
            22932,
            1079
           ]
          }
         ],
         "name": "6/15/20"
        },
        {
         "data": [
          {
           "coloraxis": "coloraxis",
           "geo": "geo",
           "hoverlabel": {
            "namelength": 0
           },
           "hovertemplate": "Date=6/16/20<br>FIPS=%{location}<br>Confirmed=%{z}",
           "locations": [
            161490,
            38913,
            60208,
            465617,
            345315,
            483717,
            162073,
            120019,
            88888,
            11001,
            898562,
            2262703,
            99999,
            66,
            140035,
            561591,
            1897267,
            1664464,
            1980820,
            1829295,
            2603220,
            1502118,
            458279,
            577079,
            390195,
            2308810,
            2419519,
            2274669,
            3351105,
            961716,
            2422000,
            480754,
            420133,
            804475,
            1175986,
            2091626,
            3710000,
            1750566,
            69,
            3439744,
            2965698,
            1395206,
            2818489,
            5694982,
            310069,
            2072116,
            2718040,
            4644119,
            11532365,
            343271,
            790246,
            78,
            6716073,
            2105551,
            2954961,
            3965119,
            1288529
           ],
           "name": "",
           "type": "choropleth",
           "z": [
            26912,
            675,
            39185,
            13191,
            158961,
            29427,
            45349,
            10403,
            49,
            9818,
            80109,
            59078,
            103,
            186,
            736,
            3462,
            133639,
            40786,
            24179,
            11411,
            12647,
            47706,
            2819,
            62409,
            105885,
            66269,
            30882,
            20152,
            16857,
            614,
            17038,
            11683,
            5364,
            167426,
            9933,
            384575,
            45907,
            3124,
            30,
            42010,
            8645,
            6098,
            83978,
            5951,
            16164,
            19990,
            5966,
            31751,
            93569,
            14937,
            1131,
            72,
            55331,
            26531,
            2341,
            23198,
            1089
           ]
          }
         ],
         "name": "6/16/20"
        },
        {
         "data": [
          {
           "coloraxis": "coloraxis",
           "geo": "geo",
           "hoverlabel": {
            "namelength": 0
           },
           "hovertemplate": "Date=6/17/20<br>FIPS=%{location}<br>Confirmed=%{z}",
           "locations": [
            161490,
            38913,
            60208,
            465617,
            345315,
            483717,
            162073,
            120019,
            88888,
            11001,
            898562,
            2262703,
            99999,
            66,
            140035,
            561591,
            1897267,
            1664464,
            1980820,
            1829295,
            2603220,
            1502118,
            458279,
            577079,
            390195,
            2308810,
            2419519,
            2274669,
            3261076,
            961716,
            2422000,
            480754,
            420133,
            804475,
            1175986,
            2091626,
            3710000,
            1750566,
            69,
            3439744,
            3005755,
            1395206,
            2818489,
            5694982,
            310069,
            2162161,
            2718040,
            4644119,
            11532365,
            343271,
            790246,
            78,
            6716073,
            2105551,
            2864907,
            3965119,
            1288529
           ],
           "name": "",
           "type": "choropleth",
           "z": [
            27312,
            695,
            40937,
            13606,
            162798,
            29656,
            45429,
            10444,
            49,
            9847,
            82719,
            60030,
            103,
            188,
            744,
            3632,
            134185,
            41013,
            24460,
            11644,
            12995,
            48634,
            2836,
            62969,
            106151,
            66497,
            31296,
            20641,
            17069,
            630,
            17231,
            11854,
            5436,
            167703,
            10065,
            385142,
            46934,
            3166,
            30,
            42422,
            8904,
            6218,
            84289,
            6003,
            16213,
            20556,
            6050,
            32114,
            97699,
            15344,
            1130,
            73,
            55775,
            26784,
            2376,
            23456,
            1114
           ]
          }
         ],
         "name": "6/17/20"
        },
        {
         "data": [
          {
           "coloraxis": "coloraxis",
           "geo": "geo",
           "hoverlabel": {
            "namelength": 0
           },
           "hovertemplate": "Date=6/18/20<br>FIPS=%{location}<br>Confirmed=%{z}",
           "locations": [
            161490,
            38913,
            60208,
            465617,
            345315,
            483717,
            162073,
            120019,
            88888,
            11001,
            898562,
            2262703,
            99999,
            66,
            140035,
            561591,
            1897267,
            1664464,
            1980820,
            1829295,
            2603220,
            1502118,
            458279,
            577079,
            390195,
            2308810,
            2419519,
            2274669,
            3261076,
            1021848,
            2422000,
            480754,
            420133,
            804475,
            1175986,
            2091626,
            3710000,
            1750566,
            69,
            3439744,
            3005755,
            1395206,
            2818489,
            5694982,
            310069,
            2072116,
            2718040,
            4644119,
            11532365,
            343271,
            790246,
            78,
            6716073,
            2105551,
            2864907,
            3965119,
            1288529
           ],
           "name": "",
           "type": "choropleth",
           "z": [
            28206,
            707,
            43445,
            13928,
            167133,
            29886,
            45440,
            10499,
            49,
            9903,
            85926,
            60912,
            103,
            192,
            762,
            3743,
            134778,
            41438,
            24861,
            11753,
            13197,
            48634,
            2878,
            63229,
            106422,
            66798,
            31675,
            20641,
            17371,
            655,
            17414,
            12169,
            5450,
            168107,
            10153,
            385760,
            48167,
            3193,
            30,
            43122,
            9355,
            6366,
            84683,
            6111,
            16269,
            21533,
            6109,
            32770,
            101259,
            15839,
            1135,
            73,
            56238,
            27192,
            2418,
            23876,
            1144
           ]
          }
         ],
         "name": "6/18/20"
        },
        {
         "data": [
          {
           "coloraxis": "coloraxis",
           "geo": "geo",
           "hoverlabel": {
            "namelength": 0
           },
           "hovertemplate": "Date=6/19/20<br>FIPS=%{location}<br>Confirmed=%{z}",
           "locations": [
            161490,
            38913,
            60208,
            465617,
            345315,
            483717,
            162073,
            120019,
            88888,
            11001,
            898562,
            2262703,
            99999,
            66,
            140035,
            561591,
            1897267,
            1664464,
            1980820,
            1829295,
            2603220,
            1502118,
            458279,
            577079,
            390195,
            2308810,
            2419519,
            2274669,
            3351105,
            1021848,
            2422000,
            480754,
            420133,
            804475,
            1175986,
            2091626,
            3710000,
            1750566,
            69,
            3439744,
            3005755,
            1395206,
            2818489,
            5694982,
            310069,
            2072116,
            2718040,
            4644119,
            11580800,
            343271,
            790246,
            78,
            6767094,
            2105551,
            2864907,
            3965119,
            1288529
           ],
           "name": "",
           "type": "choropleth",
           "z": [
            29002,
            720,
            46910,
            14631,
            170862,
            30172,
            45557,
            10611,
            49,
            9952,
            89748,
            62009,
            103,
            200,
            789,
            3871,
            135470,
            41746,
            25274,
            12021,
            13454,
            48515,
            2913,
            63548,
            106650,
            67097,
            32031,
            20641,
            17667,
            666,
            17588,
            12524,
            5486,
            168496,
            10260,
            386556,
            49785,
            3226,
            30,
            43731,
            9707,
            6572,
            85199,
            6195,
            16337,
            22608,
            6158,
            34017,
            105394,
            16425,
            1144,
            73,
            56793,
            27601,
            2468,
            24154,
            1173
           ]
          }
         ],
         "name": "6/19/20"
        },
        {
         "data": [
          {
           "coloraxis": "coloraxis",
           "geo": "geo",
           "hoverlabel": {
            "namelength": 0
           },
           "hovertemplate": "Date=6/2/20<br>FIPS=%{location}<br>Confirmed=%{z}",
           "locations": [
            161490,
            34538,
            60208,
            465617,
            345315,
            483717,
            162073,
            120019,
            88888,
            11001,
            898562,
            2262703,
            99999,
            66,
            140035,
            561591,
            1897267,
            1664464,
            1980820,
            1788949,
            2603220,
            1502118,
            458279,
            577079,
            390195,
            2256724,
            2392488,
            2274669,
            2998989,
            931699,
            2328757,
            480754,
            420133,
            804475,
            1175986,
            2091626,
            3710000,
            1636395,
            69,
            3439744,
            2965698,
            1395206,
            2818489,
            5694982,
            310069,
            2072116,
            2487829,
            4644119,
            11194106,
            343271,
            790246,
            78,
            6665022,
            2105551,
            2864907,
            3965119,
            1288529
           ],
           "name": "",
           "type": "choropleth",
           "z": [
            18766,
            486,
            21264,
            7818,
            117215,
            26774,
            42979,
            9685,
            49,
            8886,
            57447,
            48207,
            103,
            175,
            653,
            2933,
            122848,
            35237,
            20019,
            9965,
            10185,
            40746,
            2377,
            54175,
            101163,
            63240,
            25508,
            16041,
            14055,
            523,
            14616,
            8858,
            4749,
            161545,
            8024,
            373040,
            30023,
            2646,
            23,
            36350,
            6692,
            4335,
            77225,
            3935,
            15112,
            12419,
            5067,
            24342,
            67310,
            10202,
            988,
            70,
            46239,
            22157,
            2056,
            18917,
            912
           ]
          }
         ],
         "name": "6/2/20"
        },
        {
         "data": [
          {
           "coloraxis": "coloraxis",
           "geo": "geo",
           "hoverlabel": {
            "namelength": 0
           },
           "hovertemplate": "Date=6/20/20<br>FIPS=%{location}<br>Confirmed=%{z}",
           "locations": [
            161490,
            38913,
            60208,
            465617,
            345315,
            483717,
            162073,
            120019,
            88888,
            11001,
            898562,
            2262703,
            99999,
            66,
            140035,
            561591,
            1897267,
            1664464,
            1980820,
            1829295,
            2603220,
            1502118,
            458279,
            577079,
            390195,
            2308810,
            2419519,
            2274669,
            3319452,
            1051869,
            2422000,
            480754,
            420133,
            804475,
            1175986,
            2091626,
            3710000,
            1826592,
            69,
            3439744,
            3005755,
            1395206,
            2818489,
            5694982,
            310069,
            2072116,
            2718040,
            4644119,
            11628909,
            343271,
            790246,
            78,
            6767094,
            2105551,
            2864907,
            3965119,
            1288529
           ],
           "name": "",
           "type": "choropleth",
           "z": [
            29549,
            741,
            50127,
            15142,
            175243,
            30333,
            45715,
            10681,
            49,
            9984,
            93797,
            63809,
            103,
            222,
            789,
            4004,
            136104,
            42061,
            25496,
            12097,
            13630,
            49385,
            2938,
            63956,
            106936,
            67545,
            32467,
            20641,
            18057,
            698,
            17707,
            12976,
            5518,
            168834,
            10430,
            387272,
            51390,
            3251,
            30,
            44261,
            10038,
            6750,
            85590,
            6463,
            16337,
            23756,
            6225,
            34446,
            109581,
            17068,
            1147,
            73,
            57443,
            28225,
            2500,
            24539,
            1179
           ]
          }
         ],
         "name": "6/20/20"
        },
        {
         "data": [
          {
           "coloraxis": "coloraxis",
           "geo": "geo",
           "hoverlabel": {
            "namelength": 0
           },
           "hovertemplate": "Date=6/21/20<br>FIPS=%{location}<br>Confirmed=%{z}",
           "locations": [
            161490,
            38913,
            60208,
            465617,
            345315,
            483717,
            162073,
            120019,
            88888,
            11001,
            898562,
            2262703,
            99999,
            66,
            140035,
            651607,
            1897267,
            1664464,
            1980820,
            1829295,
            2603220,
            1502118,
            458279,
            577079,
            390195,
            2308810,
            2419519,
            2274669,
            3319452,
            1051869,
            2422000,
            480754,
            420133,
            804475,
            1175986,
            2091626,
            3710000,
            1826592,
            69,
            3439744,
            3005755,
            1395206,
            2818489,
            5694982,
            310069,
            2072116,
            2718040,
            4644119,
            11628909,
            343271,
            790246,
            78,
            6767094,
            2105551,
            2864907,
            3965119,
            1288529
           ],
           "name": "",
           "type": "choropleth",
           "z": [
            30021,
            752,
            52591,
            15561,
            178657,
            30524,
            45755,
            10775,
            49,
            10020,
            97291,
            64701,
            103,
            222,
            814,
            4006,
            136762,
            42423,
            25963,
            12136,
            13750,
            49778,
            2957,
            64306,
            107061,
            67711,
            32920,
            20641,
            18460,
            717,
            17812,
            13240,
            5544,
            169142,
            10565,
            387936,
            52801,
            3288,
            30,
            44808,
            10516,
            6937,
            85935,
            6525,
            16337,
            24661,
            6297,
            35102,
            112944,
            17462,
            1159,
            76,
            57994,
            28680,
            2533,
            24819,
            1197
           ]
          }
         ],
         "name": "6/21/20"
        },
        {
         "data": [
          {
           "coloraxis": "coloraxis",
           "geo": "geo",
           "hoverlabel": {
            "namelength": 0
           },
           "hovertemplate": "Date=6/22/20<br>FIPS=%{location}<br>Confirmed=%{z}",
           "locations": [
            161490,
            38913,
            60208,
            465617,
            345315,
            483717,
            162073,
            120019,
            88888,
            11001,
            898562,
            2262703,
            99999,
            66,
            140035,
            651607,
            1897267,
            1664464,
            1980820,
            1849488,
            2603220,
            1502118,
            458279,
            577079,
            390195,
            2308810,
            2419519,
            2274669,
            3319452,
            1051869,
            2422000,
            480754,
            420133,
            804475,
            1175986,
            2091626,
            3710000,
            1826592,
            69,
            3439744,
            3045800,
            1395206,
            2818489,
            5694982,
            310069,
            2072116,
            2718040,
            4644119,
            11677236,
            343271,
            790246,
            78,
            6767094,
            2105551,
            2954961,
            3965119,
            1288529
           ],
           "name": "",
           "type": "choropleth",
           "z": [
            30454,
            758,
            54599,
            16083,
            184765,
            30689,
            45782,
            10820,
            49,
            10058,
            100217,
            65928,
            103,
            222,
            816,
            4256,
            137224,
            42633,
            26146,
            12428,
            13839,
            50239,
            2971,
            64603,
            107210,
            67957,
            33227,
            22329,
            18593,
            734,
            17963,
            13528,
            5558,
            169415,
            10694,
            388488,
            53964,
            3313,
            30,
            45537,
            10734,
            7083,
            86576,
            6564,
            16459,
            25666,
            6326,
            35553,
            117790,
            17906,
            1163,
            76,
            58465,
            28870,
            2552,
            25068,
            1230
           ]
          }
         ],
         "name": "6/22/20"
        },
        {
         "data": [
          {
           "coloraxis": "coloraxis",
           "geo": "geo",
           "hoverlabel": {
            "namelength": 0
           },
           "hovertemplate": "Date=6/23/20<br>FIPS=%{location}<br>Confirmed=%{z}",
           "locations": [
            161490,
            38913,
            60208,
            465617,
            345315,
            483717,
            162073,
            120019,
            88888,
            11001,
            898562,
            2262703,
            99999,
            66,
            140035,
            561591,
            1897267,
            1664464,
            1980820,
            1869597,
            2603220,
            1502118,
            458279,
            577079,
            390195,
            2308810,
            2419519,
            2274669,
            3319452,
            1051869,
            2484186,
            480754,
            420133,
            804475,
            1175986,
            2091626,
            3710000,
            1826592,
            69,
            3439744,
            3045800,
            1395206,
            2818489,
            5694982,
            310069,
            2072116,
            2718040,
            4644119,
            11725679,
            343271,
            790246,
            78,
            6767094,
            2105551,
            2954961,
            3965119,
            1288529
           ],
           "name": "",
           "type": "choropleth",
           "z": [
            31097,
            760,
            58378,
            16678,
            191477,
            30877,
            45899,
            10847,
            49,
            10094,
            103503,
            67810,
            103,
            225,
            819,
            4254,
            137825,
            42871,
            26469,
            12537,
            14141,
            51595,
            2996,
            65007,
            107439,
            68197,
            33469,
            22898,
            19005,
            743,
            18099,
            13997,
            5571,
            169734,
            10838,
            389085,
            54639,
            3320,
            30,
            46127,
            11031,
            7274,
            87208,
            6685,
            16533,
            26572,
            6353,
            36303,
            122932,
            18300,
            1164,
            76,
            58994,
            29386,
            2593,
            25331,
            1254
           ]
          }
         ],
         "name": "6/23/20"
        },
        {
         "data": [
          {
           "coloraxis": "coloraxis",
           "geo": "geo",
           "hoverlabel": {
            "namelength": 0
           },
           "hovertemplate": "Date=6/24/20<br>FIPS=%{location}<br>Confirmed=%{z}",
           "locations": [
            161490,
            38913,
            60208,
            465617,
            345315,
            483717,
            162073,
            120019,
            88888,
            11001,
            898562,
            2262703,
            99999,
            66,
            140035,
            651607,
            1897267,
            1664464,
            1980820,
            1889714,
            2603220,
            1502118,
            458279,
            577079,
            390195,
            2308810,
            2419519,
            2274669,
            3319452,
            1141899,
            2515347,
            480754,
            420133,
            804475,
            1175986,
            2091626,
            3710000,
            1826592,
            69,
            3439744,
            3045800,
            1395206,
            2818489,
            5694982,
            310069,
            2072116,
            2718040,
            4644119,
            11725679,
            343271,
            790246,
            78,
            6767094,
            2105551,
            2954961,
            3965119,
            1288529
           ],
           "name": "",
           "type": "choropleth",
           "z": [
            32064,
            789,
            60190,
            17375,
            196024,
            31139,
            45913,
            10889,
            49,
            10128,
            109014,
            69381,
            103,
            226,
            835,
            4402,
            138540,
            43140,
            26601,
            12930,
            14363,
            52477,
            3017,
            65337,
            107611,
            68555,
            33763,
            23424,
            19123,
            766,
            18221,
            14362,
            5598,
            169892,
            10990,
            389666,
            56527,
            3362,
            30,
            46759,
            11510,
            7444,
            87685,
            6820,
            16606,
            27897,
            6419,
            37235,
            128132,
            18784,
            1184,
            76,
            59514,
            29869,
            2631,
            25763,
            1282
           ]
          }
         ],
         "name": "6/24/20"
        },
        {
         "data": [
          {
           "coloraxis": "coloraxis",
           "geo": "geo",
           "hoverlabel": {
            "namelength": 0
           },
           "hovertemplate": "Date=6/25/20<br>FIPS=%{location}<br>Confirmed=%{z}",
           "locations": [
            161490,
            41174,
            60208,
            465617,
            345315,
            491774,
            162073,
            120019,
            88888,
            11001,
            898562,
            2262703,
            99999,
            66,
            140035,
            667622,
            1817250,
            1664464,
            1980820,
            1909763,
            2603220,
            1502118,
            458279,
            577079,
            390195,
            2308810,
            2419519,
            2302724,
            3319452,
            1112011,
            2484232,
            480754,
            420133,
            804475,
            1175986,
            2091626,
            3710000,
            1826592,
            69,
            3439744,
            3045800,
            1395206,
            2818489,
            5694982,
            310069,
            2072116,
            2718040,
            4644119,
            11773816,
            343271,
            790246,
            78,
            6767094,
            2105551,
            2919008,
            3965119,
            1288529
           ],
           "name": "",
           "type": "choropleth",
           "z": [
            33206,
            813,
            63281,
            18062,
            201112,
            31463,
            45994,
            10980,
            49,
            10159,
            114018,
            71095,
            103,
            231,
            851,
            4865,
            139434,
            43655,
            27373,
            13107,
            14617,
            53415,
            3070,
            65777,
            107837,
            68989,
            34123,
            24516,
            19637,
            803,
            18346,
            14859,
            5638,
            170196,
            11192,
            390415,
            57472,
            3393,
            30,
            47651,
            11948,
            7568,
            88141,
            6877,
            16640,
            29022,
            6479,
            38034,
            134558,
            19374,
            1191,
            80,
            59946,
            30367,
            2694,
            26227,
            1326
           ]
          }
         ],
         "name": "6/25/20"
        },
        {
         "data": [
          {
           "coloraxis": "coloraxis",
           "geo": "geo",
           "hoverlabel": {
            "namelength": 0
           },
           "hovertemplate": "Date=6/26/20<br>FIPS=%{location}<br>Confirmed=%{z}",
           "locations": [
            161490,
            41174,
            60208,
            465617,
            345315,
            491774,
            162073,
            120019,
            88888,
            11001,
            898562,
            2262703,
            99999,
            66,
            140035,
            667622,
            1897267,
            1664464,
            1980820,
            1909763,
            2513199,
            1502118,
            458279,
            577079,
            390195,
            2308810,
            2419519,
            2302724,
            3319452,
            1112011,
            2515393,
            512765,
            420133,
            804475,
            1175986,
            2091626,
            3710000,
            1864633,
            69,
            3439744,
            3045800,
            1395206,
            2818489,
            5694982,
            310069,
            2072116,
            2718040,
            4644119,
            11822059,
            343271,
            790246,
            78,
            6767094,
            2105551,
            2919008,
            3965119,
            1288529
           ],
           "name": "",
           "type": "choropleth",
           "z": [
            34183,
            833,
            66659,
            18740,
            206844,
            31780,
            46059,
            11017,
            49,
            10185,
            122960,
            72995,
            103,
            247,
            866,
            4865,
            140291,
            44140,
            27717,
            13462,
            14859,
            54769,
            3102,
            66115,
            108070,
            69329,
            34616,
            25066,
            20216,
            829,
            18524,
            15240,
            5671,
            170584,
            11408,
            391220,
            59158,
            3421,
            30,
            48638,
            12347,
            7818,
            88860,
            6922,
            16661,
            30335,
            6535,
            39444,
            140173,
            20050,
            1198,
            81,
            60570,
            30855,
            2730,
            26747,
            1368
           ]
          }
         ],
         "name": "6/26/20"
        },
        {
         "data": [
          {
           "coloraxis": "coloraxis",
           "geo": "geo",
           "hoverlabel": {
            "namelength": 0
           },
           "hovertemplate": "Date=6/27/20<br>FIPS=%{location}<br>Confirmed=%{z}",
           "locations": [
            161490,
            41174,
            150212,
            465617,
            345315,
            491774,
            162073,
            120019,
            88888,
            11001,
            898562,
            2262703,
            99999,
            66,
            140035,
            699678,
            1817250,
            1664464,
            1980820,
            1909763,
            2603220,
            1502118,
            458279,
            577079,
            390195,
            2308810,
            2419519,
            2302724,
            3319452,
            1112011,
            2515393,
            512765,
            420133,
            804475,
            1175986,
            2091626,
            3710000,
            1864633,
            69,
            3439744,
            3045800,
            1395206,
            2818489,
            5694982,
            310069,
            2072116,
            2718040,
            4644119,
            11822059,
            343271,
            790246,
            78,
            6767094,
            2105551,
            2919008,
            3965119,
            1288529
           ],
           "name": "",
           "type": "choropleth",
           "z": [
            35083,
            851,
            70124,
            19310,
            210692,
            32006,
            46206,
            11091,
            49,
            10216,
            132545,
            74985,
            103,
            247,
            872,
            5322,
            141077,
            44575,
            28073,
            13617,
            15167,
            54769,
            3154,
            66450,
            108443,
            69679,
            35033,
            25531,
            20572,
            852,
            18775,
            16339,
            5717,
            170873,
            11619,
            391923,
            60812,
            3458,
            30,
            49455,
            12646,
            8094,
            89446,
            7066,
            16661,
            31939,
            6626,
            40172,
            145894,
            20628,
            1200,
            81,
            61247,
            31404,
            2782,
            27286,
            1392
           ]
          }
         ],
         "name": "6/27/20"
        },
        {
         "data": [
          {
           "coloraxis": "coloraxis",
           "geo": "geo",
           "hoverlabel": {
            "namelength": 0
           },
           "hovertemplate": "Date=6/28/20<br>FIPS=%{location}<br>Confirmed=%{z}",
           "locations": [
            161490,
            41174,
            150212,
            465617,
            345315,
            491774,
            162073,
            120019,
            88888,
            11001,
            898562,
            2262703,
            99999,
            66,
            140035,
            699678,
            1817250,
            1664464,
            1980820,
            1909763,
            2603220,
            1502118,
            458279,
            577079,
            390195,
            2308810,
            2419519,
            2302724,
            3319452,
            1112011,
            2515393,
            512765,
            420133,
            804475,
            1175986,
            2091626,
            3710000,
            1864633,
            69,
            3439744,
            3045800,
            1395206,
            2818489,
            5694982,
            310069,
            2072116,
            2718040,
            4644119,
            11822059,
            343271,
            790246,
            78,
            6767094,
            2105551,
            2919008,
            3965119,
            1288529
           ],
           "name": "",
           "type": "choropleth",
           "z": [
            35441,
            880,
            73920,
            19818,
            215487,
            32290,
            46303,
            11226,
            49,
            10248,
            141075,
            77210,
            103,
            247,
            899,
            5322,
            141723,
            44930,
            28520,
            13847,
            15232,
            56236,
            3191,
            66777,
            108667,
            69946,
            35549,
            25892,
            20796,
            863,
            18899,
            17160,
            5747,
            171182,
            11809,
            392539,
            62248,
            3495,
            30,
            50309,
            12947,
            8341,
            89863,
            7189,
            16661,
            33320,
            6681,
            40172,
            150722,
            21100,
            1202,
            81,
            61736,
            31752,
            2832,
            27743,
            1417
           ]
          }
         ],
         "name": "6/28/20"
        },
        {
         "data": [
          {
           "coloraxis": "coloraxis",
           "geo": "geo",
           "hoverlabel": {
            "namelength": 0
           },
           "hovertemplate": "Date=6/29/20<br>FIPS=%{location}<br>Confirmed=%{z}",
           "locations": [
            161490,
            41174,
            60208,
            465617,
            345315,
            491774,
            162073,
            120019,
            88888,
            11001,
            898562,
            2262703,
            99999,
            66,
            140035,
            609662,
            1897267,
            1664464,
            1980820,
            1950033,
            2603220,
            1502118,
            458279,
            577079,
            390195,
            2308810,
            2419519,
            2302724,
            3319452,
            1112011,
            2515393,
            512765,
            420133,
            804475,
            1175986,
            2091626,
            3710000,
            1864633,
            69,
            3439744,
            3045800,
            1395206,
            2818489,
            5694982,
            310069,
            2072116,
            2718040,
            4644119,
            11822059,
            343271,
            790246,
            78,
            6767094,
            2105551,
            2919008,
            3965119,
            1288529
           ],
           "name": "",
           "type": "choropleth",
           "z": [
            37175,
            901,
            74545,
            20257,
            223646,
            32494,
            46362,
            11376,
            49,
            10292,
            146341,
            79417,
            103,
            253,
            900,
            5752,
            142461,
            45228,
            28845,
            14209,
            15347,
            57081,
            3219,
            67254,
            108768,
            70223,
            35861,
            26567,
            21315,
            919,
            19042,
            17894,
            5760,
            171272,
            11982,
            392930,
            63736,
            3539,
            30,
            51046,
            13175,
            8485,
            90467,
            7250,
            16764,
            34644,
            6716,
            42297,
            156706,
            21664,
            1208,
            81,
            62189,
            32253,
            2870,
            28058,
            1450
           ]
          }
         ],
         "name": "6/29/20"
        },
        {
         "data": [
          {
           "coloraxis": "coloraxis",
           "geo": "geo",
           "hoverlabel": {
            "namelength": 0
           },
           "hovertemplate": "Date=6/3/20<br>FIPS=%{location}<br>Confirmed=%{z}",
           "locations": [
            161490,
            34538,
            60208,
            465617,
            345315,
            483717,
            162073,
            120019,
            88888,
            11001,
            898562,
            2262703,
            99999,
            66,
            140035,
            561591,
            1897267,
            1664464,
            1890801,
            1809094,
            2603220,
            1502118,
            458279,
            577079,
            390195,
            2256724,
            2392488,
            2274669,
            2998989,
            931699,
            2328757,
            480754,
            420133,
            804475,
            1175986,
            2091626,
            3710000,
            1636395,
            69,
            3439744,
            2965698,
            1395206,
            2818489,
            5694982,
            310069,
            2072116,
            2579905,
            4644119,
            11194106,
            343271,
            790246,
            78,
            6665022,
            2105551,
            2864907,
            3965119,
            1288529
           ],
           "name": "",
           "type": "choropleth",
           "z": [
            18851,
            504,
            22356,
            8067,
            119374,
            27046,
            43091,
            9712,
            49,
            9016,
            58764,
            48894,
            103,
            177,
            653,
            2933,
            123830,
            35712,
            20300,
            10092,
            10410,
            41133,
            2418,
            54982,
            101592,
            63657,
            25870,
            16322,
            14298,
            525,
            14885,
            8951,
            4795,
            162068,
            8140,
            374085,
            31276,
            2679,
            24,
            36792,
            6805,
            4399,
            77780,
            4023,
            15219,
            12470,
            5162,
            24833,
            68877,
            10497,
            990,
            70,
            46905,
            22484,
            2077,
            19400,
            915
           ]
          }
         ],
         "name": "6/3/20"
        },
        {
         "data": [
          {
           "coloraxis": "coloraxis",
           "geo": "geo",
           "hoverlabel": {
            "namelength": 0
           },
           "hovertemplate": "Date=6/30/20<br>FIPS=%{location}<br>Confirmed=%{z}",
           "locations": [
            161490,
            41174,
            150212,
            465617,
            345315,
            491774,
            162073,
            120019,
            88888,
            11001,
            898562,
            2262703,
            99999,
            66,
            230050,
            731756,
            1897267,
            1664464,
            1980820,
            1950033,
            2603220,
            1502118,
            458279,
            577079,
            390195,
            2308810,
            2419519,
            2302724,
            3319452,
            1112011,
            2515393,
            512765,
            420133,
            804475,
            1175986,
            2091626,
            3710000,
            1864633,
            69,
            3439744,
            3045800,
            1395206,
            2818489,
            5694982,
            310069,
            2072116,
            2718040,
            4644119,
            11822059,
            343271,
            790246,
            78,
            6767094,
            2105551,
            3009062,
            3965119,
            1288529
           ],
           "name": "",
           "type": "choropleth",
           "z": [
            38045,
            937,
            79228,
            20777,
            231418,
            32698,
            46514,
            11474,
            49,
            10327,
            152434,
            81291,
            103,
            257,
            917,
            6117,
            143185,
            45594,
            29074,
            14370,
            15624,
            58095,
            3253,
            67559,
            108882,
            70728,
            36303,
            27247,
            21812,
            967,
            19177,
            18456,
            5782,
            171667,
            12147,
            393454,
            65327,
            3576,
            30,
            51789,
            13757,
            8656,
            91139,
            7465,
            16813,
            36399,
            6764,
            43509,
            163060,
            22217,
            1208,
            81,
            62787,
            32824,
            2905,
            28659,
            1487
           ]
          }
         ],
         "name": "6/30/20"
        },
        {
         "data": [
          {
           "coloraxis": "coloraxis",
           "geo": "geo",
           "hoverlabel": {
            "namelength": 0
           },
           "hovertemplate": "Date=6/4/20<br>FIPS=%{location}<br>Confirmed=%{z}",
           "locations": [
            161490,
            34538,
            60208,
            465617,
            345315,
            483717,
            162073,
            120019,
            88888,
            11001,
            898562,
            2262703,
            99999,
            66,
            140035,
            561591,
            1897267,
            1664464,
            1890801,
            1809094,
            2603220,
            1502118,
            458279,
            577079,
            390195,
            2256724,
            2392488,
            2274669,
            2998989,
            931699,
            2328757,
            480754,
            420133,
            804475,
            1175986,
            2091626,
            3710000,
            1636395,
            69,
            3439744,
            2965698,
            1395206,
            2818489,
            5694982,
            310069,
            2072116,
            2579897,
            4644119,
            11194106,
            343271,
            790246,
            78,
            6665022,
            2105551,
            2864907,
            3965119,
            1288529
           ],
           "name": "",
           "type": "choropleth",
           "z": [
            19072,
            512,
            22886,
            8425,
            122194,
            27346,
            43239,
            9746,
            49,
            9120,
            60183,
            49859,
            103,
            179,
            655,
            2990,
            124759,
            36096,
            20806,
            10167,
            10705,
            41562,
            2446,
            55858,
            102063,
            63979,
            26273,
            16560,
            14586,
            539,
            15139,
            9129,
            4876,
            162530,
            8353,
            375133,
            32075,
            2706,
            26,
            37282,
            6907,
            4474,
            78335,
            4508,
            15325,
            12526,
            5247,
            25190,
            70555,
            10813,
            1026,
            71,
            47856,
            22729,
            2102,
            19892,
            921
           ]
          }
         ],
         "name": "6/4/20"
        },
        {
         "data": [
          {
           "coloraxis": "coloraxis",
           "geo": "geo",
           "hoverlabel": {
            "namelength": 0
           },
           "hovertemplate": "Date=6/5/20<br>FIPS=%{location}<br>Confirmed=%{z}",
           "locations": [
            161490,
            34538,
            60208,
            465617,
            345315,
            483717,
            162073,
            120019,
            88888,
            11001,
            898562,
            2262703,
            99999,
            66,
            140035,
            561591,
            1897267,
            1664464,
            1980820,
            1809094,
            2603220,
            1502118,
            458279,
            577079,
            390195,
            2256724,
            2392488,
            2274669,
            2998989,
            931699,
            2359828,
            480754,
            420133,
            804475,
            1175986,
            2091626,
            3710000,
            1636395,
            69,
            3439744,
            2965698,
            1395206,
            2818489,
            5694982,
            310069,
            2072116,
            2579897,
            4644119,
            11387066,
            343271,
            790246,
            78,
            6665022,
            2105551,
            2864907,
            3965119,
            1288529
           ],
           "name": "",
           "type": "choropleth",
           "z": [
            19387,
            523,
            24439,
            8651,
            125783,
            27601,
            43460,
            9773,
            49,
            9199,
            61488,
            50621,
            103,
            179,
            664,
            3111,
            125915,
            36578,
            21154,
            10306,
            10977,
            41989,
            2482,
            56770,
            102557,
            64821,
            26980,
            16769,
            14753,
            541,
            15406,
            9309,
            4953,
            163336,
            8672,
            376208,
            33295,
            2745,
            26,
            37758,
            7007,
            4570,
            78815,
            4620,
            15441,
            13458,
            5277,
            25664,
            72548,
            11252,
            1027,
            71,
            48532,
            22993,
            2119,
            20249,
            933
           ]
          }
         ],
         "name": "6/5/20"
        },
        {
         "data": [
          {
           "coloraxis": "coloraxis",
           "geo": "geo",
           "hoverlabel": {
            "namelength": 0
           },
           "hovertemplate": "Date=6/6/20<br>FIPS=%{location}<br>Confirmed=%{z}",
           "locations": [
            161490,
            34538,
            60208,
            465617,
            345315,
            483717,
            162073,
            120019,
            88888,
            11001,
            898562,
            2262703,
            99999,
            66,
            140035,
            561591,
            1897267,
            1664464,
            1980820,
            1809094,
            2603220,
            1502118,
            368256,
            577079,
            390195,
            2256724,
            2392488,
            2274669,
            2998989,
            931699,
            2359828,
            480754,
            420133,
            804475,
            1175986,
            2091626,
            3710000,
            1712523,
            69,
            3439744,
            2965698,
            1395206,
            2818489,
            5694982,
            310069,
            2072116,
            2625938,
            4644119,
            11387066,
            343271,
            790246,
            78,
            6665022,
            2105551,
            2864907,
            3965119,
            1288529
           ],
           "name": "",
           "type": "choropleth",
           "z": [
            20043,
            535,
            25451,
            9101,
            128606,
            27834,
            43818,
            9845,
            49,
            9269,
            62758,
            51359,
            103,
            179,
            673,
            3139,
            126890,
            36997,
            21478,
            10361,
            11287,
            42486,
            2524,
            57482,
            103132,
            64914,
            27501,
            17039,
            15042,
            540,
            15572,
            9491,
            5019,
            163893,
            8800,
            377316,
            34718,
            2816,
            26,
            38111,
            7059,
            4570,
            79505,
            4915,
            15441,
            13538,
            5367,
            26177,
            74470,
            11798,
            1046,
            71,
            49397,
            23442,
            2136,
            20571,
            939
           ]
          }
         ],
         "name": "6/6/20"
        },
        {
         "data": [
          {
           "coloraxis": "coloraxis",
           "geo": "geo",
           "hoverlabel": {
            "namelength": 0
           },
           "hovertemplate": "Date=6/7/20<br>FIPS=%{location}<br>Confirmed=%{z}",
           "locations": [
            161490,
            34538,
            60208,
            465617,
            345315,
            483717,
            162073,
            120019,
            88888,
            11001,
            898562,
            2262703,
            99999,
            66,
            140035,
            561591,
            1897267,
            1664464,
            1980820,
            1809094,
            2603220,
            1502118,
            458279,
            577079,
            390195,
            2256724,
            2392488,
            2274669,
            2998989,
            931699,
            2359828,
            480754,
            420133,
            804475,
            1175986,
            2091626,
            3710000,
            1712523,
            69,
            3439744,
            2965698,
            1395206,
            2818489,
            5694982,
            310069,
            2072116,
            2625938,
            4644119,
            11387066,
            343271,
            790246,
            78,
            6665022,
            2105551,
            2864907,
            3965119,
            1288529
           ],
           "name": "",
           "type": "choropleth",
           "z": [
            20500,
            543,
            26989,
            9426,
            130657,
            27987,
            43968,
            9942,
            49,
            9332,
            63938,
            51898,
            103,
            179,
            675,
            3139,
            127757,
            37397,
            21712,
            10406,
            11287,
            42816,
            2570,
            57973,
            103436,
            64969,
            27886,
            17270,
            15132,
            545,
            15664,
            9669,
            5043,
            164164,
            8940,
            378097,
            35625,
            2861,
            27,
            38476,
            7150,
            4662,
            79908,
            4985,
            15441,
            14302,
            5438,
            26493,
            75408,
            12066,
            1063,
            71,
            50681,
            23729,
            2144,
            20835,
            947
           ]
          }
         ],
         "name": "6/7/20"
        },
        {
         "data": [
          {
           "coloraxis": "coloraxis",
           "geo": "geo",
           "hoverlabel": {
            "namelength": 0
           },
           "hovertemplate": "Date=6/8/20<br>FIPS=%{location}<br>Confirmed=%{z}",
           "locations": [
            161490,
            36813,
            60208,
            465617,
            345315,
            483717,
            162073,
            120019,
            88888,
            11001,
            898562,
            2262703,
            99999,
            66,
            140035,
            561591,
            1897267,
            1664464,
            1980820,
            1809094,
            2603220,
            1502118,
            458279,
            577079,
            390195,
            2282727,
            2392488,
            2274669,
            2998989,
            931699,
            2359828,
            480754,
            420133,
            804475,
            1175986,
            2091626,
            3710000,
            1712523,
            69,
            3439744,
            2965698,
            1395206,
            2818489,
            5694982,
            310069,
            2072116,
            2625938,
            4644119,
            11387066,
            343271,
            790246,
            78,
            6665022,
            2105551,
            2864907,
            3965119,
            1288529
           ],
           "name": "",
           "type": "choropleth",
           "z": [
            20925,
            562,
            27678,
            9740,
            133816,
            28169,
            44092,
            9972,
            49,
            9389,
            64904,
            52497,
            103,
            179,
            676,
            3189,
            128415,
            37623,
            22007,
            10544,
            11476,
            43050,
            2588,
            58404,
            103626,
            65104,
            28224,
            17768,
            15355,
            548,
            15786,
            9816,
            5079,
            164497,
            9062,
            378799,
            36517,
            2880,
            28,
            38837,
            7205,
            4922,
            80339,
            5046,
            15642,
            14800,
            5471,
            27005,
            76463,
            12322,
            1075,
            71,
            51251,
            24041,
            2161,
            21038,
            960
           ]
          }
         ],
         "name": "6/8/20"
        },
        {
         "data": [
          {
           "coloraxis": "coloraxis",
           "geo": "geo",
           "hoverlabel": {
            "namelength": 0
           },
           "hovertemplate": "Date=6/9/20<br>FIPS=%{location}<br>Confirmed=%{z}",
           "locations": [
            161490,
            38913,
            60208,
            465617,
            345315,
            483717,
            162073,
            120019,
            88888,
            11001,
            898562,
            2262703,
            99999,
            66,
            140035,
            561591,
            1897267,
            1664464,
            1980820,
            1829295,
            2603220,
            1502118,
            458279,
            577079,
            390195,
            2308810,
            2392488,
            2274669,
            2998989,
            931699,
            2359828,
            480754,
            420133,
            804475,
            1175986,
            2091626,
            3710000,
            1750566,
            69,
            3439744,
            2965698,
            1395206,
            2818489,
            5694982,
            310069,
            2072116,
            2625938,
            4644119,
            11435491,
            343271,
            790246,
            78,
            6665022,
            2105551,
            2864907,
            3965119,
            1288529
           ],
           "name": "",
           "type": "choropleth",
           "z": [
            21422,
            572,
            28296,
            10080,
            136681,
            28333,
            44179,
            10020,
            49,
            9474,
            66000,
            53249,
            103,
            180,
            682,
            3221,
            129212,
            38033,
            22237,
            10609,
            11707,
            43612,
            2606,
            58904,
            103889,
            65167,
            28523,
            18123,
            15566,
            554,
            15918,
            10045,
            5079,
            164796,
            9105,
            379482,
            37227,
            2901,
            30,
            39162,
            7363,
            4988,
            80870,
            5185,
            15691,
            15228,
            5523,
            27575,
            78208,
            12559,
            1084,
            71,
            51738,
            24354,
            2169,
            21308,
            970
           ]
          }
         ],
         "name": "6/9/20"
        },
        {
         "data": [
          {
           "coloraxis": "coloraxis",
           "geo": "geo",
           "hoverlabel": {
            "namelength": 0
           },
           "hovertemplate": "Date=7/1/20<br>FIPS=%{location}<br>Confirmed=%{z}",
           "locations": [
            161490,
            41174,
            60208,
            465617,
            345315,
            491774,
            162073,
            120019,
            88888,
            11001,
            898562,
            2262703,
            99999,
            66,
            140035,
            731756,
            1897267,
            1664464,
            1980820,
            1970200,
            2624421,
            1502118,
            458279,
            577079,
            390195,
            2308810,
            2419519,
            2302724,
            3319452,
            1112011,
            2546484,
            512765,
            420133,
            804475,
            1175986,
            2091626,
            3710000,
            1864633,
            69,
            3439744,
            3045800,
            1395206,
            2818489,
            5694982,
            310069,
            2072116,
            2718040,
            4644119,
            11822059,
            343271,
            790246,
            78,
            6767094,
            2105551,
            2919008,
            3965119,
            1288529
           ],
           "name": "",
           "type": "choropleth",
           "z": [
            38962,
            975,
            84105,
            21197,
            238681,
            33012,
            46572,
            11510,
            49,
            10365,
            158997,
            84242,
            103,
            267,
            926,
            6370,
            144013,
            45952,
            29514,
            14830,
            15842,
            60178,
            3294,
            67918,
            109143,
            71089,
            36716,
            27900,
            22104,
            1016,
            19310,
            19101,
            5802,
            171928,
            12276,
            394079,
            66751,
            3615,
            30,
            52865,
            14119,
            8931,
            91775,
            7537,
            16853,
            37919,
            6826,
            45315,
            172368,
            22716,
            1210,
            90,
            63203,
            33435,
            2979,
            29199,
            1514
           ]
          }
         ],
         "name": "7/1/20"
        },
        {
         "data": [
          {
           "coloraxis": "coloraxis",
           "geo": "geo",
           "hoverlabel": {
            "namelength": 0
           },
           "hovertemplate": "Date=7/10/20<br>FIPS=%{location}<br>Confirmed=%{z}",
           "locations": [
            161490,
            47408,
            60208,
            470630,
            345315,
            491774,
            162073,
            120019,
            88888,
            11001,
            898562,
            2262703,
            99999,
            66,
            140035,
            763896,
            1914438,
            1664464,
            1980820,
            2010360,
            2624421,
            1502118,
            458279,
            577079,
            390195,
            2334941,
            2419519,
            2302724,
            3348537,
            1172201,
            2577601,
            512765,
            420133,
            804475,
            1211019,
            2091626,
            3710000,
            1940775,
            69,
            3439744,
            3085929,
            1436227,
            2818489,
            5694982,
            310069,
            2072116,
            2902210,
            4644119,
            11966906,
            343271,
            790246,
            78,
            6818111,
            2105551,
            2919008,
            3965119,
            1288529
           ],
           "name": "",
           "type": "choropleth",
           "z": [
            50508,
            1323,
            116892,
            26803,
            310885,
            36173,
            47287,
            12652,
            49,
            10743,
            244151,
            111217,
            103,
            310,
            1158,
            9929,
            152899,
            50300,
            34172,
            18303,
            18672,
            74636,
            3499,
            71910,
            111110,
            75685,
            40767,
            34622,
            27069,
            1593,
            20777,
            25908,
            5991,
            174628,
            14549,
            400299,
            82032,
            4155,
            31,
            62856,
            19092,
            11454,
            98482,
            9137,
            17312,
            52419,
            7401,
            59546,
            245920,
            28223,
            1277,
            153,
            68931,
            39218,
            3983,
            34753,
            1790
           ]
          }
         ],
         "name": "7/10/20"
        },
        {
         "data": [
          {
           "coloraxis": "coloraxis",
           "geo": "geo",
           "hoverlabel": {
            "namelength": 0
           },
           "hovertemplate": "Date=7/11/20<br>FIPS=%{location}<br>Confirmed=%{z}",
           "locations": [
            161490,
            47408,
            60208,
            470630,
            345315,
            491774,
            162073,
            120019,
            88888,
            11001,
            898562,
            2262703,
            99999,
            66,
            140035,
            763896,
            1834421,
            1664464,
            1980820,
            2010360,
            2624421,
            1502118,
            458279,
            577079,
            390195,
            2334941,
            2419519,
            2302724,
            3348537,
            1172201,
            2608734,
            512765,
            420133,
            804475,
            1211019,
            2091626,
            3710000,
            1902728,
            69,
            3439744,
            3085929,
            1436227,
            2818489,
            5694982,
            310069,
            2072116,
            2948315,
            4644119,
            11966906,
            343271,
            790246,
            78,
            6818111,
            2105551,
            2919008,
            3965119,
            1288529
           ],
           "name": "",
           "type": "choropleth",
           "z": [
            51947,
            1385,
            119930,
            27864,
            318761,
            36573,
            47287,
            12743,
            49,
            10801,
            254511,
            114401,
            103,
            310,
            1200,
            10506,
            154094,
            51079,
            34658,
            18687,
            19121,
            76803,
            3520,
            72467,
            111398,
            76370,
            41571,
            35419,
            27606,
            1677,
            20998,
            26838,
            6024,
            174959,
            14773,
            401029,
            83906,
            4243,
            33,
            64214,
            19779,
            11851,
            99216,
            9366,
            17312,
            54699,
            7454,
            61006,
            254415,
            28855,
            1283,
            167,
            69782,
            39218,
            4146,
            35679,
            1839
           ]
          }
         ],
         "name": "7/11/20"
        },
        {
         "data": [
          {
           "coloraxis": "coloraxis",
           "geo": "geo",
           "hoverlabel": {
            "namelength": 0
           },
           "hovertemplate": "Date=7/12/20<br>FIPS=%{location}<br>Confirmed=%{z}",
           "locations": [
            161490,
            47408,
            60208,
            470630,
            345315,
            491774,
            162073,
            120019,
            88888,
            11001,
            898562,
            2262703,
            99999,
            66,
            140035,
            763896,
            1834421,
            1664464,
            1980820,
            2030431,
            2624421,
            1502118,
            458279,
            577079,
            390195,
            2334941,
            2419519,
            2302724,
            3348537,
            1202226,
            2608734,
            512765,
            420133,
            804475,
            1211019,
            2091626,
            3710000,
            1940775,
            69,
            3439744,
            3085929,
            1436227,
            2818489,
            5694982,
            310069,
            2072116,
            2948315,
            4644119,
            11966906,
            343271,
            790246,
            78,
            6818111,
            2158574,
            2919008,
            3965119,
            1288529
           ],
           "name": "",
           "type": "choropleth",
           "z": [
            53587,
            1479,
            122467,
            28367,
            324543,
            36895,
            47287,
            12804,
            49,
            10847,
            269811,
            116935,
            103,
            310,
            1220,
            10903,
            155048,
            51612,
            35410,
            18981,
            19389,
            78122,
            3539,
            73109,
            111597,
            76776,
            42281,
            36287,
            27880,
            1758,
            21172,
            27683,
            6054,
            175298,
            15028,
            401706,
            85771,
            4334,
            33,
            65592,
            20235,
            12170,
            99794,
            9654,
            17312,
            56648,
            7499,
            61960,
            262762,
            29484,
            1296,
            181,
            70670,
            40656,
            4244,
            36448,
            1862
           ]
          }
         ],
         "name": "7/12/20"
        },
        {
         "data": [
          {
           "coloraxis": "coloraxis",
           "geo": "geo",
           "hoverlabel": {
            "namelength": 0
           },
           "hovertemplate": "Date=7/13/20<br>FIPS=%{location}<br>Confirmed=%{z}",
           "locations": [
            161490,
            47408,
            60208,
            470630,
            345315,
            491774,
            162073,
            120019,
            88888,
            11001,
            898562,
            2262703,
            99999,
            66,
            140035,
            763896,
            1914438,
            1664464,
            1980820,
            2050470,
            2624421,
            1502118,
            458279,
            577079,
            390195,
            2334941,
            2419519,
            2302724,
            3348537,
            1232259,
            2608734,
            512765,
            420133,
            804475,
            1211019,
            2091626,
            3710000,
            1940775,
            69,
            3439744,
            3085929,
            1436227,
            2818489,
            5694982,
            310069,
            2072116,
            2948315,
            4644119,
            11966906,
            343271,
            790246,
            78,
            6818111,
            2158574,
            2919008,
            3965119,
            1288529
           ],
           "name": "",
           "type": "choropleth",
           "z": [
            55545,
            1539,
            123824,
            28939,
            333357,
            37218,
            47510,
            12879,
            49,
            10906,
            282435,
            120572,
            103,
            312,
            1243,
            11404,
            155931,
            52037,
            35631,
            19645,
            19653,
            79827,
            3558,
            73527,
            111827,
            77198,
            42772,
            36680,
            28289,
            1843,
            21399,
            28515,
            6068,
            175522,
            15291,
            402263,
            87669,
            4442,
            33,
            66853,
            20746,
            12438,
            100330,
            10010,
            17487,
            58168,
            7524,
            65274,
            269778,
            30030,
            1301,
            206,
            71642,
            41757,
            4313,
            36942,
            1903
           ]
          }
         ],
         "name": "7/13/20"
        },
        {
         "data": [
          {
           "coloraxis": "coloraxis",
           "geo": "geo",
           "hoverlabel": {
            "namelength": 0
           },
           "hovertemplate": "Date=7/14/20<br>FIPS=%{location}<br>Confirmed=%{z}",
           "locations": [
            161490,
            47408,
            60208,
            470630,
            345315,
            499889,
            162073,
            120019,
            88888,
            11001,
            898562,
            2262703,
            99999,
            66,
            140035,
            763896,
            1914438,
            1664464,
            1980820,
            2050470,
            2624421,
            1412096,
            458279,
            577079,
            390195,
            2334941,
            2419519,
            2302724,
            3348537,
            1292457,
            2639783,
            512765,
            330100,
            804475,
            1211019,
            2091626,
            3710000,
            1978808,
            69,
            3439744,
            3085929,
            1436227,
            2818489,
            5694982,
            310069,
            2072116,
            2948315,
            4644119,
            12063480,
            343271,
            790246,
            78,
            6818111,
            2158574,
            2919008,
            3965119,
            1288529
           ],
           "name": "",
           "type": "choropleth",
           "z": [
            57255,
            1579,
            128097,
            29812,
            346211,
            37668,
            47530,
            12969,
            49,
            10946,
            291629,
            123963,
            103,
            312,
            1264,
            11720,
            156638,
            52685,
            35866,
            19887,
            20223,
            82042,
            3566,
            74260,
            112130,
            77864,
            43170,
            37542,
            29240,
            1952,
            21717,
            29619,
            6091,
            175915,
            15514,
            403175,
            90000,
            4493,
            36,
            67995,
            21740,
            12805,
            101266,
            10123,
            17588,
            60389,
            7572,
            66788,
            279577,
            30478,
            1305,
            206,
            72443,
            42304,
            4407,
            37906,
            1950
           ]
          }
         ],
         "name": "7/14/20"
        },
        {
         "data": [
          {
           "coloraxis": "coloraxis",
           "geo": "geo",
           "hoverlabel": {
            "namelength": 0
           },
           "hovertemplate": "Date=7/15/20<br>FIPS=%{location}<br>Confirmed=%{z}",
           "locations": [
            161490,
            47408,
            60208,
            470630,
            345315,
            499889,
            162073,
            120019,
            88888,
            11001,
            898562,
            2262703,
            99999,
            66,
            140035,
            763896,
            1914438,
            1664464,
            1980820,
            2050470,
            2624421,
            1502118,
            458279,
            577079,
            390195,
            2334941,
            2419519,
            2302724,
            3348537,
            1322554,
            2639783,
            512765,
            330100,
            804475,
            1211019,
            2091626,
            3710000,
            1978808,
            69,
            3439744,
            3085929,
            1436227,
            2818489,
            5694982,
            310069,
            2072116,
            2948315,
            4644119,
            12063480,
            343271,
            790246,
            78,
            6818111,
            2158574,
            2919008,
            3965119,
            1288529
           ],
           "name": "",
           "type": "choropleth",
           "z": [
            59067,
            1631,
            131354,
            30297,
            354885,
            38137,
            47636,
            13050,
            49,
            11026,
            301810,
            127838,
            103,
            313,
            1292,
            12449,
            157825,
            53370,
            36536,
            20349,
            20677,
            84131,
            3578,
            75016,
            112347,
            78913,
            43742,
            38567,
            30057,
            2096,
            21979,
            30468,
            6113,
            176278,
            15841,
            404006,
            91837,
            4565,
            36,
            69311,
            22814,
            13081,
            102269,
            10379,
            17640,
            62245,
            7652,
            69061,
            290892,
            30891,
            1318,
            243,
            73527,
            43046,
            4557,
            38727,
            1985
           ]
          }
         ],
         "name": "7/15/20"
        },
        {
         "data": [
          {
           "coloraxis": "coloraxis",
           "geo": "geo",
           "hoverlabel": {
            "namelength": 0
           },
           "hovertemplate": "Date=7/16/20<br>FIPS=%{location}<br>Confirmed=%{z}",
           "locations": [
            161490,
            49478,
            60208,
            470630,
            345315,
            499889,
            162073,
            120019,
            88888,
            11001,
            898562,
            2262703,
            99999,
            66,
            230050,
            673880,
            1914438,
            1664464,
            1980820,
            2050470,
            2624421,
            1502118,
            458279,
            577079,
            390195,
            2334941,
            2419519,
            2302724,
            3348537,
            1352559,
            2639783,
            512765,
            330100,
            804475,
            1211019,
            2091626,
            3710000,
            1978808,
            69,
            3439744,
            3085929,
            1436227,
            2818489,
            5694982,
            310069,
            2072116,
            2948315,
            4644119,
            12063480,
            343271,
            790246,
            78,
            6818111,
            2158574,
            2919008,
            3965119,
            1288529
           ],
           "name": "",
           "type": "choropleth",
           "z": [
            61088,
            1693,
            134613,
            31114,
            364706,
            38708,
            47750,
            13114,
            49,
            11076,
            315775,
            131287,
            103,
            314,
            1311,
            13134,
            159082,
            54080,
            37350,
            20817,
            21083,
            86411,
            3598,
            75664,
            112581,
            79839,
            44347,
            39797,
            30873,
            2231,
            22134,
            31915,
            6139,
            176501,
            16138,
            404775,
            93708,
            4668,
            37,
            70601,
            23440,
            13509,
            103075,
            10574,
            17711,
            64083,
            7694,
            71540,
            305854,
            31845,
            1325,
            249,
            74431,
            44313,
            4657,
            39627,
            2026
           ]
          }
         ],
         "name": "7/16/20"
        },
        {
         "data": [
          {
           "coloraxis": "coloraxis",
           "geo": "geo",
           "hoverlabel": {
            "namelength": 0
           },
           "hovertemplate": "Date=7/17/20<br>FIPS=%{location}<br>Confirmed=%{z}",
           "locations": [
            161490,
            49478,
            60208,
            470630,
            345315,
            507922,
            162073,
            120019,
            88888,
            11001,
            898562,
            2262703,
            99999,
            66,
            140035,
            673880,
            1914438,
            1664464,
            1980820,
            2050470,
            2534400,
            1502118,
            458279,
            577079,
            390195,
            2334941,
            2419519,
            2302724,
            3348537,
            1352559,
            2670840,
            512765,
            330100,
            804475,
            1211019,
            2091626,
            3710000,
            1978808,
            69,
            3439744,
            3085929,
            1436227,
            2818489,
            5694982,
            310069,
            2072116,
            2948315,
            4644119,
            12063480,
            343271,
            790246,
            78,
            6818111,
            2158574,
            2919008,
            3965119,
            1288529
           ],
           "name": "",
           "type": "choropleth",
           "z": [
            63091,
            1734,
            138523,
            31762,
            373259,
            39326,
            47893,
            13337,
            49,
            11115,
            327241,
            135192,
            103,
            314,
            1334,
            13753,
            160509,
            54813,
            37903,
            21388,
            21605,
            88590,
            3636,
            76371,
            112879,
            80593,
            45013,
            40829,
            31738,
            2366,
            22361,
            33295,
            6165,
            176551,
            16456,
            405551,
            95570,
            4792,
            37,
            72280,
            24140,
            13802,
            104079,
            11120,
            17793,
            66060,
            7789,
            73819,
            317768,
            32572,
            1334,
            263,
            75433,
            45067,
            4783,
            40507,
            2069
           ]
          }
         ],
         "name": "7/17/20"
        },
        {
         "data": [
          {
           "coloraxis": "coloraxis",
           "geo": "geo",
           "hoverlabel": {
            "namelength": 0
           },
           "hovertemplate": "Date=7/18/20<br>FIPS=%{location}<br>Confirmed=%{z}",
           "locations": [
            161490,
            49478,
            60208,
            470630,
            345315,
            507922,
            162073,
            120019,
            88888,
            11001,
            898562,
            2262703,
            99999,
            66,
            230050,
            673880,
            1834421,
            1664464,
            1980820,
            2050470,
            2624421,
            1502118,
            458279,
            577079,
            390195,
            2334941,
            2419519,
            2302724,
            3348537,
            1352559,
            2670840,
            512765,
            330100,
            804475,
            1211019,
            2091626,
            3710000,
            1978808,
            69,
            3439744,
            3085929,
            1436227,
            2818489,
            5767870,
            310069,
            2072116,
            2948315,
            4644119,
            12111913,
            343271,
            790246,
            78,
            6818111,
            2158574,
            2919008,
            3965119,
            1288529
           ],
           "name": "",
           "type": "choropleth",
           "z": [
            65234,
            1796,
            141265,
            32533,
            380745,
            39770,
            47893,
            13429,
            49,
            11194,
            337569,
            139880,
            103,
            314,
            1354,
            14303,
            161785,
            55654,
            38313,
            21693,
            22184,
            88590,
            3645,
            77206,
            113238,
            81338,
            45470,
            41846,
            32704,
            2471,
            22481,
            34477,
            6188,
            176814,
            16736,
            406305,
            98092,
            4907,
            37,
            73821,
            25057,
            14149,
            104780,
            11453,
            17793,
            67612,
            7862,
            76336,
            327106,
            33332,
            1338,
            283,
            76373,
            46026,
            4894,
            41485,
            2108
           ]
          }
         ],
         "name": "7/18/20"
        },
        {
         "data": [
          {
           "coloraxis": "coloraxis",
           "geo": "geo",
           "hoverlabel": {
            "namelength": 0
           },
           "hovertemplate": "Date=7/19/20<br>FIPS=%{location}<br>Confirmed=%{z}",
           "locations": [
            161490,
            49478,
            60208,
            470630,
            345315,
            507922,
            162073,
            120019,
            88888,
            11001,
            898562,
            2262703,
            99999,
            66,
            230050,
            689913,
            1914438,
            1664464,
            1980820,
            2050470,
            2624421,
            1502118,
            458279,
            577079,
            390195,
            2334941,
            2419519,
            2302724,
            3348537,
            1352559,
            2670840,
            512765,
            330100,
            804475,
            1211019,
            2091626,
            3710000,
            1978808,
            69,
            3439744,
            3085929,
            1436227,
            2818489,
            5767870,
            310069,
            2072116,
            2948315,
            4644119,
            12111913,
            343271,
            790246,
            78,
            6818111,
            2158574,
            2919008,
            3965119,
            1288529
           ],
           "name": "",
           "type": "choropleth",
           "z": [
            67011,
            1875,
            143624,
            33228,
            386906,
            40124,
            47893,
            13519,
            49,
            11261,
            350047,
            143129,
            103,
            314,
            1381,
            14874,
            162750,
            56571,
            38813,
            21996,
            23161,
            91706,
            3687,
            78131,
            113534,
            81868,
            46204,
            42638,
            33521,
            2533,
            22583,
            35765,
            6203,
            176783,
            16971,
            406807,
            99803,
            5019,
            37,
            74932,
            25266,
            14579,
            105384,
            12063,
            17793,
            69986,
            7906,
            78115,
            335257,
            34117,
            1350,
            283,
            77430,
            46946,
            4990,
            42315,
            2126
           ]
          }
         ],
         "name": "7/19/20"
        },
        {
         "data": [
          {
           "coloraxis": "coloraxis",
           "geo": "geo",
           "hoverlabel": {
            "namelength": 0
           },
           "hovertemplate": "Date=7/2/20<br>FIPS=%{location}<br>Confirmed=%{z}",
           "locations": [
            161490,
            41174,
            60208,
            470630,
            345315,
            491774,
            162073,
            120019,
            88888,
            11001,
            898562,
            2262703,
            99999,
            66,
            140035,
            731756,
            1897267,
            1664464,
            1980820,
            1970200,
            2624421,
            1502118,
            458279,
            577079,
            390195,
            2308810,
            2419519,
            2302724,
            3409481,
            1142110,
            2546484,
            512765,
            420133,
            804475,
            1175986,
            2091626,
            3710000,
            1864633,
            69,
            3529783,
            3045800,
            1395206,
            2818489,
            5694982,
            310069,
            2072116,
            2718040,
            4644119,
            11822059,
            343271,
            790246,
            78,
            6767094,
            2105551,
            2864907,
            3965119,
            1288529
           ],
           "name": "",
           "type": "choropleth",
           "z": [
            40111,
            1014,
            87445,
            22075,
            246550,
            33335,
            46646,
            11731,
            49,
            10390,
            169106,
            87709,
            103,
            280,
            946,
            6593,
            144882,
            46387,
            30259,
            15002,
            16079,
            61561,
            3328,
            68423,
            109338,
            71678,
            37210,
            28770,
            22636,
            1083,
            19452,
            19733,
            5822,
            172356,
            12520,
            394954,
            68216,
            3657,
            31,
            54166,
            14531,
            9294,
            92612,
            7608,
            16941,
            39701,
            6893,
            46890,
            179137,
            23270,
            1227,
            92,
            63735,
            34151,
            3053,
            29738,
            1550
           ]
          }
         ],
         "name": "7/2/20"
        },
        {
         "data": [
          {
           "coloraxis": "coloraxis",
           "geo": "geo",
           "hoverlabel": {
            "namelength": 0
           },
           "hovertemplate": "Date=7/20/20<br>FIPS=%{location}<br>Confirmed=%{z}",
           "locations": [
            161490,
            51546,
            60208,
            470630,
            345315,
            507922,
            162073,
            120019,
            88888,
            11001,
            898562,
            2262703,
            99999,
            66,
            140035,
            689913,
            1914438,
            1664464,
            1980820,
            2050470,
            2624421,
            1502118,
            458279,
            577079,
            390195,
            2334941,
            2419519,
            2302724,
            3348537,
            1352559,
            2701975,
            512765,
            330100,
            804475,
            1211019,
            2091626,
            3710000,
            1978808,
            69,
            3439744,
            3085929,
            1436227,
            2818489,
            5767870,
            310069,
            2072116,
            2948315,
            4644119,
            12111913,
            343271,
            790246,
            78,
            6818111,
            2158574,
            2919008,
            3965119,
            1288529
           ],
           "name": "",
           "type": "choropleth",
           "z": [
            68891,
            1950,
            145183,
            33927,
            397870,
            40548,
            48055,
            13624,
            49,
            11339,
            360394,
            145582,
            103,
            319,
            1393,
            15268,
            163922,
            57206,
            39343,
            22656,
            23414,
            94892,
            3711,
            78685,
            113789,
            82395,
            47107,
            43889,
            34102,
            2620,
            22847,
            36713,
            6249,
            176963,
            17215,
            407326,
            101231,
            5126,
            38,
            76168,
            25436,
            14847,
            106405,
            12461,
            17904,
            71445,
            7943,
            79754,
            343783,
            34526,
            1360,
            304,
            78375,
            47743,
            5084,
            43018,
            2187
           ]
          }
         ],
         "name": "7/20/20"
        },
        {
         "data": [
          {
           "coloraxis": "coloraxis",
           "geo": "geo",
           "hoverlabel": {
            "namelength": 0
           },
           "hovertemplate": "Date=7/21/20<br>FIPS=%{location}<br>Confirmed=%{z}",
           "locations": [
            161490,
            53559,
            60208,
            470630,
            345315,
            507922,
            162073,
            120019,
            88888,
            11001,
            898562,
            2262703,
            99999,
            66,
            140035,
            689913,
            1914438,
            1664464,
            1980820,
            2070673,
            2624421,
            1502118,
            458279,
            577079,
            390195,
            2334941,
            2419519,
            2302724,
            3348537,
            1382574,
            2701975,
            512765,
            330100,
            804475,
            1211019,
            2091626,
            3710000,
            1978808,
            69,
            3439744,
            3085929,
            1436227,
            2818489,
            5767870,
            310069,
            2072116,
            2948315,
            4644119,
            12111913,
            343271,
            790246,
            78,
            6818111,
            2158574,
            2919008,
            3965119,
            1288529
           ],
           "name": "",
           "type": "choropleth",
           "z": [
            70358,
            2042,
            148683,
            34655,
            409305,
            41041,
            48096,
            13746,
            49,
            11427,
            369834,
            148988,
            103,
            319,
            1418,
            15823,
            164864,
            57916,
            39721,
            22929,
            24060,
            96583,
            3723,
            79545,
            114033,
            83059,
            47457,
            45524,
            35194,
            2711,
            23190,
            37528,
            6262,
            177256,
            17517,
            408181,
            103216,
            5207,
            38,
            77215,
            26326,
            15139,
            107460,
            12940,
            17986,
            73337,
            8019,
            81944,
            351071,
            35012,
            1366,
            304,
            79371,
            48575,
            5172,
            44135,
            2238
           ]
          }
         ],
         "name": "7/21/20"
        },
        {
         "data": [
          {
           "coloraxis": "coloraxis",
           "geo": "geo",
           "hoverlabel": {
            "namelength": 0
           },
           "hovertemplate": "Date=7/22/20<br>FIPS=%{location}<br>Confirmed=%{z}",
           "locations": [
            161490,
            53559,
            60208,
            470630,
            345315,
            507922,
            162073,
            120019,
            88888,
            11001,
            898562,
            2262703,
            99999,
            66,
            140035,
            689913,
            1914438,
            1664464,
            1980820,
            2070673,
            2534400,
            1502118,
            458279,
            577079,
            390195,
            2334941,
            2419519,
            2302724,
            3348537,
            1412619,
            2701975,
            512765,
            330100,
            804475,
            1211019,
            2091626,
            3710000,
            1978808,
            69,
            3439744,
            3085929,
            1436227,
            2818489,
            5767870,
            310069,
            2072116,
            2948315,
            4644119,
            12111913,
            343271,
            790246,
            78,
            6818111,
            2158574,
            2919008,
            3965119,
            1288529
           ],
           "name": "",
           "type": "choropleth",
           "z": [
            71813,
            2131,
            150609,
            35246,
            421286,
            41680,
            48223,
            13792,
            49,
            11529,
            379619,
            152302,
            103,
            330,
            1435,
            16322,
            166475,
            58673,
            40208,
            23481,
            24540,
            99354,
            3722,
            80172,
            114320,
            83730,
            47961,
            47071,
            36497,
            2812,
            23486,
            38657,
            6295,
            177645,
            17828,
            408886,
            105276,
            5367,
            38,
            78742,
            27298,
            15393,
            108223,
            13038,
            18062,
            75042,
            8077,
            84417,
            363615,
            35578,
            1366,
            320,
            80393,
            49247,
            5212,
            44847,
            2288
           ]
          }
         ],
         "name": "7/22/20"
        },
        {
         "data": [
          {
           "coloraxis": "coloraxis",
           "geo": "geo",
           "hoverlabel": {
            "namelength": 0
           },
           "hovertemplate": "Date=7/23/20<br>FIPS=%{location}<br>Confirmed=%{z}",
           "locations": [
            161490,
            53559,
            60208,
            470630,
            345315,
            507922,
            162073,
            120019,
            88888,
            11001,
            898562,
            2262703,
            99999,
            66,
            140035,
            689913,
            1834421,
            1664464,
            1980820,
            2070673,
            2624421,
            1502118,
            458279,
            577079,
            390195,
            2334941,
            2419519,
            2302724,
            3348537,
            1442694,
            2701975,
            512765,
            330100,
            804475,
            1211019,
            2091626,
            3710000,
            1978808,
            69,
            3439744,
            3085929,
            1436227,
            2818489,
            5767870,
            310069,
            2072116,
            2994422,
            4644119,
            12111913,
            343271,
            790246,
            78,
            6818111,
            2158574,
            2919008,
            3965119,
            1288529
           ],
           "name": "",
           "type": "choropleth",
           "z": [
            74212,
            2193,
            152944,
            36259,
            430773,
            42295,
            48232,
            13924,
            49,
            11571,
            389868,
            156607,
            103,
            337,
            1490,
            16737,
            168096,
            59602,
            40796,
            23956,
            25147,
            101650,
            3737,
            80836,
            114647,
            84431,
            48721,
            48053,
            38060,
            2909,
            23818,
            39919,
            6318,
            177887,
            18163,
            409697,
            107125,
            5493,
            38,
            80186,
            27969,
            15713,
            109105,
            13473,
            18148,
            76606,
            8143,
            86987,
            373037,
            36099,
            1377,
            336,
            81237,
            50009,
            5452,
            45899,
            2347
           ]
          }
         ],
         "name": "7/23/20"
        },
        {
         "data": [
          {
           "coloraxis": "coloraxis",
           "geo": "geo",
           "hoverlabel": {
            "namelength": 0
           },
           "hovertemplate": "Date=7/24/20<br>FIPS=%{location}<br>Confirmed=%{z}",
           "locations": [
            161490,
            55841,
            150212,
            470630,
            345315,
            507922,
            162073,
            120019,
            88888,
            11001,
            898562,
            2262703,
            99999,
            66,
            140035,
            689913,
            1914438,
            1664464,
            1980820,
            2070673,
            2624421,
            1502118,
            458279,
            577079,
            390195,
            2334941,
            2419519,
            2302724,
            3348537,
            1442694,
            2670918,
            512765,
            330100,
            804475,
            1211019,
            2091626,
            3710000,
            1978808,
            69,
            3439744,
            3085929,
            1436227,
            2818489,
            5767870,
            310069,
            2072116,
            2994422,
            4644119,
            12111913,
            343271,
            790246,
            78,
            6818111,
            2158574,
            2919008,
            3965119,
            1288529
           ],
           "name": "",
           "type": "choropleth",
           "z": [
            76005,
            2249,
            156301,
            37249,
            440185,
            42962,
            48776,
            14202,
            49,
            11649,
            402312,
            161420,
            103,
            337,
            1549,
            17265,
            169696,
            60598,
            41434,
            24554,
            25932,
            103734,
            3757,
            81766,
            114985,
            85072,
            49488,
            49585,
            39635,
            3038,
            24174,
            40885,
            6375,
            178345,
            18475,
            410450,
            109728,
            5614,
            38,
            81746,
            29116,
            16104,
            110292,
            13967,
            18224,
            78607,
            8200,
            89078,
            380364,
            36962,
            1385,
            352,
            82364,
            50824,
            5653,
            46917,
            2405
           ]
          }
         ],
         "name": "7/24/20"
        },
        {
         "data": [
          {
           "coloraxis": "coloraxis",
           "geo": "geo",
           "hoverlabel": {
            "namelength": 0
           },
           "hovertemplate": "Date=7/25/20<br>FIPS=%{location}<br>Confirmed=%{z}",
           "locations": [
            161490,
            55841,
            60208,
            470630,
            345315,
            507922,
            162073,
            120019,
            88888,
            11001,
            898562,
            2262703,
            99999,
            66,
            140035,
            689913,
            1914438,
            1664464,
            1980820,
            2070673,
            2624421,
            1502118,
            458279,
            577079,
            390195,
            2334941,
            2446596,
            2302724,
            3348537,
            1472713,
            2702101,
            512765,
            330100,
            804475,
            1211019,
            2091626,
            3710000,
            1978808,
            69,
            3439744,
            3085929,
            1436227,
            2818489,
            5767870,
            310069,
            2072116,
            2994422,
            4644119,
            12111913,
            343271,
            790246,
            78,
            6818111,
            2158574,
            2919008,
            3965119,
            1378585
           ],
           "name": "",
           "type": "choropleth",
           "z": [
            78130,
            2339,
            160041,
            37981,
            446452,
            43771,
            48776,
            14175,
            49,
            11717,
            414511,
            165188,
            103,
            337,
            1620,
            17826,
            171122,
            61520,
            41886,
            25009,
            26764,
            103734,
            3790,
            83054,
            115268,
            85622,
            50291,
            50981,
            41034,
            3259,
            24395,
            41816,
            6415,
            178858,
            18788,
            411200,
            111421,
            5736,
            40,
            83184,
            30081,
            16492,
            111115,
            14540,
            18224,
            80008,
            8305,
            90796,
            390286,
            37623,
            1396,
            352,
            83609,
            51849,
            5775,
            47870,
            2446
           ]
          }
         ],
         "name": "7/25/20"
        },
        {
         "data": [
          {
           "coloraxis": "coloraxis",
           "geo": "geo",
           "hoverlabel": {
            "namelength": 0
           },
           "hovertemplate": "Date=7/26/20<br>FIPS=%{location}<br>Confirmed=%{z}",
           "locations": [
            161490,
            55841,
            60208,
            470630,
            345315,
            507922,
            162073,
            120019,
            88888,
            11001,
            898562,
            2262703,
            99999,
            66,
            140035,
            689913,
            1834421,
            1664464,
            1980820,
            2070673,
            2624421,
            1502118,
            458279,
            577079,
            390195,
            2334941,
            2446596,
            2302724,
            3348537,
            1472713,
            2702101,
            512765,
            330100,
            804475,
            1211019,
            2091626,
            3710000,
            1978808,
            69,
            3439744,
            3085929,
            1436227,
            2818489,
            5767870,
            310069,
            2072116,
            2994422,
            4644119,
            12111913,
            343271,
            790246,
            78,
            6818111,
            2158574,
            2973025,
            3965119,
            1288529
           ],
           "name": "",
           "type": "choropleth",
           "z": [
            79294,
            2525,
            162014,
            38623,
            452288,
            44318,
            48776,
            14290,
            49,
            11780,
            423855,
            167953,
            103,
            337,
            1683,
            18178,
            172663,
            62372,
            42357,
            25290,
            27082,
            107574,
            3814,
            83748,
            115637,
            86661,
            51153,
            52154,
            42160,
            3341,
            24618,
            42843,
            6436,
            179363,
            19042,
            411736,
            112937,
            5876,
            40,
            84073,
            31285,
            16758,
            111745,
            15143,
            18224,
            81199,
            8395,
            93936,
            394084,
            37973,
            1400,
            352,
            84567,
            52635,
            5889,
            48827,
            2475
           ]
          }
         ],
         "name": "7/26/20"
        },
        {
         "data": [
          {
           "coloraxis": "coloraxis",
           "geo": "geo",
           "hoverlabel": {
            "namelength": 0
           },
           "hovertemplate": "Date=7/27/20<br>FIPS=%{location}<br>Confirmed=%{z}",
           "locations": [
            161490,
            55841,
            60208,
            470630,
            345315,
            507922,
            162073,
            120019,
            88888,
            11001,
            898562,
            2262703,
            99999,
            66,
            140035,
            689913,
            1914438,
            1664464,
            1980820,
            2070673,
            2624421,
            1502118,
            458279,
            577079,
            390195,
            2334941,
            2446596,
            2302724,
            3348537,
            1472713,
            2702101,
            512765,
            330100,
            804475,
            1211019,
            2091626,
            3710000,
            1978808,
            69,
            3439744,
            3175969,
            1436227,
            2818489,
            5767870,
            310069,
            2072116,
            2994422,
            4644119,
            12111913,
            343271,
            790246,
            78,
            6818111,
            2158574,
            2973025,
            3965119,
            1288529
           ],
           "name": "",
           "type": "choropleth",
           "z": [
            81115,
            2623,
            163827,
            39447,
            458121,
            44547,
            48983,
            14406,
            49,
            11780,
            432747,
            170843,
            103,
            349,
            1711,
            18692,
            173894,
            62907,
            42696,
            25804,
            27586,
            109917,
            3832,
            84876,
            115926,
            87173,
            51803,
            52781,
            43489,
            3380,
            24899,
            43831,
            6441,
            179812,
            19502,
            412344,
            114916,
            5986,
            40,
            85177,
            32685,
            17088,
            112995,
            15431,
            18515,
            82417,
            8444,
            96489,
            400336,
            38409,
            1402,
            364,
            86072,
            53321,
            5999,
            49417,
            2520
           ]
          }
         ],
         "name": "7/27/20"
        },
        {
         "data": [
          {
           "coloraxis": "coloraxis",
           "geo": "geo",
           "hoverlabel": {
            "namelength": 0
           },
           "hovertemplate": "Date=7/3/20<br>FIPS=%{location}<br>Confirmed=%{z}",
           "locations": [
            161490,
            43332,
            60208,
            470630,
            345315,
            491774,
            162073,
            120019,
            88888,
            11001,
            898562,
            2262703,
            99999,
            66,
            140035,
            747835,
            1834421,
            1664464,
            1980820,
            1970200,
            2624421,
            1502118,
            458279,
            577079,
            390195,
            2308810,
            2419519,
            2302724,
            3319452,
            1172201,
            2546484,
            512765,
            420133,
            804475,
            1175986,
            2091626,
            3710000,
            1864633,
            69,
            3439744,
            3045800,
            1395206,
            2818489,
            5694982,
            310069,
            2072116,
            2764061,
            4644119,
            11870320,
            343271,
            790246,
            78,
            6767094,
            2105551,
            2864907,
            3965119,
            1288529
           ],
           "name": "",
           "type": "choropleth",
           "z": [
            41865,
            1060,
            91872,
            22622,
            250514,
            33595,
            46717,
            11923,
            49,
            10435,
            178594,
            90493,
            103,
            280,
            975,
            6994,
            145750,
            46915,
            30463,
            15659,
            16376,
            63289,
            3373,
            68961,
            109628,
            72175,
            37624,
            29684,
            23160,
            1128,
            19660,
            20718,
            5857,
            172742,
            12776,
            395872,
            70262,
            3722,
            31,
            55257,
            15069,
            9636,
            93392,
            7683,
            16991,
            41532,
            6978,
            48712,
            186799,
            23866,
            1236,
            98,
            64393,
            34778,
            3126,
            30317,
            1582
           ]
          }
         ],
         "name": "7/3/20"
        },
        {
         "data": [
          {
           "coloraxis": "coloraxis",
           "geo": "geo",
           "hoverlabel": {
            "namelength": 0
           },
           "hovertemplate": "Date=7/4/20<br>FIPS=%{location}<br>Confirmed=%{z}",
           "locations": [
            161490,
            43332,
            60208,
            470630,
            345315,
            491774,
            162073,
            120019,
            88888,
            11001,
            898562,
            2262703,
            99999,
            66,
            140035,
            747835,
            1834421,
            1664464,
            1980820,
            1970200,
            2624421,
            1502118,
            458279,
            577079,
            390195,
            2334941,
            2419519,
            2302724,
            3319452,
            1172201,
            2577619,
            512765,
            420133,
            804475,
            1175986,
            2091626,
            3710000,
            1864633,
            69,
            3439744,
            3045800,
            1436227,
            2818489,
            5694982,
            310069,
            2072116,
            2764061,
            4644119,
            11870320,
            343271,
            790246,
            78,
            6767094,
            2105551,
            2864907,
            3965119,
            1288529
           ],
           "name": "",
           "type": "choropleth",
           "z": [
            42862,
            1107,
            94567,
            23209,
            252895,
            33849,
            46717,
            11996,
            49,
            10447,
            190052,
            93319,
            103,
            280,
            999,
            7370,
            146612,
            47432,
            31061,
            15911,
            16376,
            63289,
            3397,
            69341,
            109838,
            72581,
            37624,
            30674,
            23583,
            1167,
            19827,
            21575,
            5872,
            173033,
            13063,
            396598,
            71670,
            3779,
            31,
            56183,
            15648,
            9930,
            93922,
            7787,
            16991,
            43386,
            7028,
            50140,
            193958,
            24542,
            1238,
            111,
            65109,
            35247,
            3205,
            31055,
            1606
           ]
          }
         ],
         "name": "7/4/20"
        },
        {
         "data": [
          {
           "coloraxis": "coloraxis",
           "geo": "geo",
           "hoverlabel": {
            "namelength": 0
           },
           "hovertemplate": "Date=7/5/20<br>FIPS=%{location}<br>Confirmed=%{z}",
           "locations": [
            161490,
            43332,
            60208,
            470630,
            345315,
            491774,
            162073,
            120019,
            88888,
            11001,
            898562,
            2262703,
            99999,
            66,
            140035,
            747835,
            1834421,
            1754482,
            1980820,
            1970200,
            2624421,
            1502118,
            458279,
            577079,
            390195,
            2334941,
            2419519,
            2302724,
            3319452,
            1172201,
            2577619,
            512765,
            420133,
            804475,
            1175986,
            2091626,
            3710000,
            1864633,
            69,
            3439744,
            3045800,
            1436227,
            2818489,
            5694982,
            310069,
            2072116,
            2764061,
            4644119,
            11918751,
            343271,
            790246,
            78,
            6767094,
            2105551,
            2864907,
            3965119,
            1288529
           ],
           "name": "",
           "type": "choropleth",
           "z": [
            43953,
            1134,
            98103,
            23814,
            264681,
            34048,
            46717,
            12128,
            49,
            10482,
            200111,
            95516,
            103,
            280,
            1023,
            7733,
            147251,
            48201,
            31517,
            16081,
            16376,
            65226,
            3415,
            69632,
            109974,
            72941,
            38136,
            30900,
            23816,
            1212,
            19929,
            22418,
            5897,
            173402,
            13256,
            397131,
            72992,
            3816,
            31,
            57150,
            15931,
            10230,
            94403,
            7916,
            16991,
            44847,
            7063,
            51316,
            197421,
            24952,
            1249,
            111,
            65748,
            35898,
            3262,
            31577,
            1634
           ]
          }
         ],
         "name": "7/5/20"
        },
        {
         "data": [
          {
           "coloraxis": "coloraxis",
           "geo": "geo",
           "hoverlabel": {
            "namelength": 0
           },
           "hovertemplate": "Date=7/6/20<br>FIPS=%{location}<br>Confirmed=%{z}",
           "locations": [
            161490,
            43332,
            60208,
            470630,
            345315,
            491774,
            162073,
            120019,
            88888,
            11001,
            898562,
            2262703,
            99999,
            66,
            140035,
            763896,
            1914438,
            1754482,
            1980820,
            2010360,
            2624421,
            1502118,
            458279,
            577079,
            390195,
            2334941,
            2419519,
            2302724,
            3409481,
            1172201,
            2577619,
            512765,
            420133,
            804475,
            1175986,
            2091626,
            3710000,
            1864633,
            69,
            3439744,
            3045800,
            1436227,
            2818489,
            5694982,
            310069,
            2072116,
            2810116,
            4644119,
            11918751,
            343271,
            790246,
            78,
            6767094,
            2105551,
            2919008,
            3965119,
            1288529
           ],
           "name": "",
           "type": "choropleth",
           "z": [
            44878,
            1162,
            101455,
            24253,
            271035,
            34240,
            46976,
            12293,
            49,
            10515,
            206447,
            97064,
            103,
            301,
            1030,
            8052,
            147865,
            48524,
            31758,
            16638,
            17152,
            66327,
            3423,
            69904,
            110137,
            73267,
            38569,
            31257,
            24211,
            1249,
            20046,
            22909,
            5914,
            173611,
            13507,
            397649,
            74775,
            3849,
            31,
            57956,
            16362,
            10395,
            95100,
            8585,
            16991,
            46380,
            7105,
            52039,
            205642,
            25469,
            1251,
            112,
            66102,
            36985,
            3442,
            32061,
            1675
           ]
          }
         ],
         "name": "7/6/20"
        },
        {
         "data": [
          {
           "coloraxis": "coloraxis",
           "geo": "geo",
           "hoverlabel": {
            "namelength": 0
           },
           "hovertemplate": "Date=7/7/20<br>FIPS=%{location}<br>Confirmed=%{z}",
           "locations": [
            161490,
            43332,
            60208,
            470630,
            345315,
            491774,
            162073,
            120019,
            88888,
            11001,
            898562,
            2262703,
            99999,
            66,
            140035,
            763896,
            1834421,
            1664464,
            1980820,
            2010360,
            2534400,
            1502118,
            458279,
            577079,
            390195,
            2334941,
            2419519,
            2302724,
            3409481,
            1172201,
            2546484,
            512765,
            420133,
            804475,
            1175986,
            2091626,
            3710000,
            1902728,
            69,
            3439744,
            3045800,
            1436227,
            2818489,
            5694982,
            310069,
            2072116,
            2810116,
            4644119,
            11918751,
            343271,
            790246,
            78,
            6767094,
            2105551,
            2919008,
            3965119,
            1288529
           ],
           "name": "",
           "type": "choropleth",
           "z": [
            45785,
            1180,
            105094,
            24512,
            284012,
            34647,
            47033,
            12414,
            49,
            10569,
            213794,
            100470,
            103,
            303,
            1071,
            8539,
            149574,
            48626,
            32153,
            16860,
            17519,
            68263,
            3440,
            70396,
            110338,
            73900,
            39133,
            32214,
            24918,
            1327,
            20201,
            23785,
            5932,
            173878,
            13727,
            398237,
            76290,
            3898,
            31,
            58904,
            17220,
            10605,
            95898,
            8714,
            17154,
            47352,
            7163,
            53514,
            216026,
            26033,
            1254,
            116,
            66740,
            37420,
            3505,
            32556,
            1709
           ]
          }
         ],
         "name": "7/7/20"
        },
        {
         "data": [
          {
           "coloraxis": "coloraxis",
           "geo": "geo",
           "hoverlabel": {
            "namelength": 0
           },
           "hovertemplate": "Date=7/8/20<br>FIPS=%{location}<br>Confirmed=%{z}",
           "locations": [
            161490,
            45348,
            60208,
            470630,
            345315,
            491774,
            162073,
            120019,
            88888,
            11001,
            898562,
            2262703,
            99999,
            66,
            140035,
            763896,
            1914438,
            1664464,
            1980820,
            2010360,
            2624421,
            1412096,
            458279,
            577079,
            390195,
            2334941,
            2419519,
            2302724,
            3438566,
            1172201,
            2546484,
            512765,
            420133,
            804475,
            1175986,
            2091626,
            3710000,
            1940775,
            69,
            3439744,
            3045800,
            1436227,
            2818489,
            5694982,
            310069,
            2072116,
            2902210,
            4644119,
            11918751,
            343271,
            790246,
            78,
            6818111,
            2105551,
            2919008,
            3965119,
            1288529
           ],
           "name": "",
           "type": "choropleth",
           "z": [
            46962,
            1222,
            108614,
            25246,
            292560,
            35099,
            47108,
            12462,
            49,
            10642,
            223783,
            103890,
            103,
            307,
            1094,
            8969,
            150554,
            49063,
            32624,
            17332,
            17919,
            70151,
            3460,
            70861,
            110602,
            74551,
            39589,
            32888,
            25590,
            1371,
            20425,
            24301,
            5952,
            174039,
            14017,
            398929,
            77687,
            3971,
            31,
            60181,
            17894,
            10817,
            96725,
            8745,
            17204,
            48909,
            7242,
            55986,
            224929,
            26755,
            1256,
            122,
            67375,
            37941,
            3707,
            33154,
            1740
           ]
          }
         ],
         "name": "7/8/20"
        },
        {
         "data": [
          {
           "coloraxis": "coloraxis",
           "geo": "geo",
           "hoverlabel": {
            "namelength": 0
           },
           "hovertemplate": "Date=7/9/20<br>FIPS=%{location}<br>Confirmed=%{z}",
           "locations": [
            161490,
            45348,
            60208,
            470630,
            345315,
            491774,
            162073,
            120019,
            88888,
            11001,
            898562,
            2262703,
            99999,
            66,
            140035,
            763896,
            1914438,
            1664464,
            1980820,
            2010360,
            2624421,
            1412096,
            458279,
            577079,
            390195,
            2334941,
            2419519,
            2302724,
            3438566,
            1172201,
            2546484,
            512765,
            420133,
            804475,
            1175986,
            2091626,
            3710000,
            1940775,
            69,
            3439744,
            3045800,
            1436227,
            2818489,
            5694982,
            310069,
            2072116,
            2902210,
            4644119,
            11918751,
            343271,
            790246,
            78,
            6818111,
            2105551,
            2919008,
            3965119,
            1288529
           ],
           "name": "",
           "type": "choropleth",
           "z": [
            49174,
            1268,
            112671,
            26052,
            302484,
            35507,
            47209,
            12531,
            49,
            10679,
            232718,
            106727,
            103,
            309,
            1130,
            9429,
            151572,
            49575,
            33254,
            17785,
            18245,
            71994,
            3486,
            71447,
            110897,
            75063,
            40163,
            33591,
            26410,
            1466,
            20623,
            24904,
            5973,
            174270,
            14251,
            399513,
            79656,
            4071,
            31,
            61331,
            18497,
            11188,
            97542,
            8862,
            17243,
            50691,
            7336,
            57591,
            236541,
            27356,
            1272,
            144,
            67988,
            38581,
            3826,
            33908,
            1769
           ]
          }
         ],
         "name": "7/9/20"
        }
       ],
       "layout": {
        "coloraxis": {
         "colorbar": {
          "title": {
           "text": "Confirmed"
          }
         },
         "colorscale": [
          [
           0,
           "#0d0887"
          ],
          [
           0.1111111111111111,
           "#46039f"
          ],
          [
           0.2222222222222222,
           "#7201a8"
          ],
          [
           0.3333333333333333,
           "#9c179e"
          ],
          [
           0.4444444444444444,
           "#bd3786"
          ],
          [
           0.5555555555555556,
           "#d8576b"
          ],
          [
           0.6666666666666666,
           "#ed7953"
          ],
          [
           0.7777777777777778,
           "#fb9f3a"
          ],
          [
           0.8888888888888888,
           "#fdca26"
          ],
          [
           1,
           "#f0f921"
          ]
         ]
        },
        "geo": {
         "center": {},
         "domain": {
          "x": [
           0,
           1
          ],
          "y": [
           0,
           1
          ]
         }
        },
        "legend": {
         "tracegroupgap": 0
        },
        "margin": {
         "t": 60
        },
        "sliders": [
         {
          "active": 0,
          "currentvalue": {
           "prefix": "Date="
          },
          "len": 0.9,
          "pad": {
           "b": 10,
           "t": 60
          },
          "steps": [
           {
            "args": [
             [
              "1/22/20"
             ],
             {
              "frame": {
               "duration": 0,
               "redraw": true
              },
              "fromcurrent": true,
              "mode": "immediate",
              "transition": {
               "duration": 0,
               "easing": "linear"
              }
             }
            ],
            "label": "1/22/20",
            "method": "animate"
           },
           {
            "args": [
             [
              "1/23/20"
             ],
             {
              "frame": {
               "duration": 0,
               "redraw": true
              },
              "fromcurrent": true,
              "mode": "immediate",
              "transition": {
               "duration": 0,
               "easing": "linear"
              }
             }
            ],
            "label": "1/23/20",
            "method": "animate"
           },
           {
            "args": [
             [
              "1/24/20"
             ],
             {
              "frame": {
               "duration": 0,
               "redraw": true
              },
              "fromcurrent": true,
              "mode": "immediate",
              "transition": {
               "duration": 0,
               "easing": "linear"
              }
             }
            ],
            "label": "1/24/20",
            "method": "animate"
           },
           {
            "args": [
             [
              "1/25/20"
             ],
             {
              "frame": {
               "duration": 0,
               "redraw": true
              },
              "fromcurrent": true,
              "mode": "immediate",
              "transition": {
               "duration": 0,
               "easing": "linear"
              }
             }
            ],
            "label": "1/25/20",
            "method": "animate"
           },
           {
            "args": [
             [
              "1/26/20"
             ],
             {
              "frame": {
               "duration": 0,
               "redraw": true
              },
              "fromcurrent": true,
              "mode": "immediate",
              "transition": {
               "duration": 0,
               "easing": "linear"
              }
             }
            ],
            "label": "1/26/20",
            "method": "animate"
           },
           {
            "args": [
             [
              "1/27/20"
             ],
             {
              "frame": {
               "duration": 0,
               "redraw": true
              },
              "fromcurrent": true,
              "mode": "immediate",
              "transition": {
               "duration": 0,
               "easing": "linear"
              }
             }
            ],
            "label": "1/27/20",
            "method": "animate"
           },
           {
            "args": [
             [
              "1/28/20"
             ],
             {
              "frame": {
               "duration": 0,
               "redraw": true
              },
              "fromcurrent": true,
              "mode": "immediate",
              "transition": {
               "duration": 0,
               "easing": "linear"
              }
             }
            ],
            "label": "1/28/20",
            "method": "animate"
           },
           {
            "args": [
             [
              "1/29/20"
             ],
             {
              "frame": {
               "duration": 0,
               "redraw": true
              },
              "fromcurrent": true,
              "mode": "immediate",
              "transition": {
               "duration": 0,
               "easing": "linear"
              }
             }
            ],
            "label": "1/29/20",
            "method": "animate"
           },
           {
            "args": [
             [
              "1/30/20"
             ],
             {
              "frame": {
               "duration": 0,
               "redraw": true
              },
              "fromcurrent": true,
              "mode": "immediate",
              "transition": {
               "duration": 0,
               "easing": "linear"
              }
             }
            ],
            "label": "1/30/20",
            "method": "animate"
           },
           {
            "args": [
             [
              "1/31/20"
             ],
             {
              "frame": {
               "duration": 0,
               "redraw": true
              },
              "fromcurrent": true,
              "mode": "immediate",
              "transition": {
               "duration": 0,
               "easing": "linear"
              }
             }
            ],
            "label": "1/31/20",
            "method": "animate"
           },
           {
            "args": [
             [
              "2/1/20"
             ],
             {
              "frame": {
               "duration": 0,
               "redraw": true
              },
              "fromcurrent": true,
              "mode": "immediate",
              "transition": {
               "duration": 0,
               "easing": "linear"
              }
             }
            ],
            "label": "2/1/20",
            "method": "animate"
           },
           {
            "args": [
             [
              "2/10/20"
             ],
             {
              "frame": {
               "duration": 0,
               "redraw": true
              },
              "fromcurrent": true,
              "mode": "immediate",
              "transition": {
               "duration": 0,
               "easing": "linear"
              }
             }
            ],
            "label": "2/10/20",
            "method": "animate"
           },
           {
            "args": [
             [
              "2/11/20"
             ],
             {
              "frame": {
               "duration": 0,
               "redraw": true
              },
              "fromcurrent": true,
              "mode": "immediate",
              "transition": {
               "duration": 0,
               "easing": "linear"
              }
             }
            ],
            "label": "2/11/20",
            "method": "animate"
           },
           {
            "args": [
             [
              "2/12/20"
             ],
             {
              "frame": {
               "duration": 0,
               "redraw": true
              },
              "fromcurrent": true,
              "mode": "immediate",
              "transition": {
               "duration": 0,
               "easing": "linear"
              }
             }
            ],
            "label": "2/12/20",
            "method": "animate"
           },
           {
            "args": [
             [
              "2/13/20"
             ],
             {
              "frame": {
               "duration": 0,
               "redraw": true
              },
              "fromcurrent": true,
              "mode": "immediate",
              "transition": {
               "duration": 0,
               "easing": "linear"
              }
             }
            ],
            "label": "2/13/20",
            "method": "animate"
           },
           {
            "args": [
             [
              "2/14/20"
             ],
             {
              "frame": {
               "duration": 0,
               "redraw": true
              },
              "fromcurrent": true,
              "mode": "immediate",
              "transition": {
               "duration": 0,
               "easing": "linear"
              }
             }
            ],
            "label": "2/14/20",
            "method": "animate"
           },
           {
            "args": [
             [
              "2/15/20"
             ],
             {
              "frame": {
               "duration": 0,
               "redraw": true
              },
              "fromcurrent": true,
              "mode": "immediate",
              "transition": {
               "duration": 0,
               "easing": "linear"
              }
             }
            ],
            "label": "2/15/20",
            "method": "animate"
           },
           {
            "args": [
             [
              "2/16/20"
             ],
             {
              "frame": {
               "duration": 0,
               "redraw": true
              },
              "fromcurrent": true,
              "mode": "immediate",
              "transition": {
               "duration": 0,
               "easing": "linear"
              }
             }
            ],
            "label": "2/16/20",
            "method": "animate"
           },
           {
            "args": [
             [
              "2/17/20"
             ],
             {
              "frame": {
               "duration": 0,
               "redraw": true
              },
              "fromcurrent": true,
              "mode": "immediate",
              "transition": {
               "duration": 0,
               "easing": "linear"
              }
             }
            ],
            "label": "2/17/20",
            "method": "animate"
           },
           {
            "args": [
             [
              "2/18/20"
             ],
             {
              "frame": {
               "duration": 0,
               "redraw": true
              },
              "fromcurrent": true,
              "mode": "immediate",
              "transition": {
               "duration": 0,
               "easing": "linear"
              }
             }
            ],
            "label": "2/18/20",
            "method": "animate"
           },
           {
            "args": [
             [
              "2/19/20"
             ],
             {
              "frame": {
               "duration": 0,
               "redraw": true
              },
              "fromcurrent": true,
              "mode": "immediate",
              "transition": {
               "duration": 0,
               "easing": "linear"
              }
             }
            ],
            "label": "2/19/20",
            "method": "animate"
           },
           {
            "args": [
             [
              "2/2/20"
             ],
             {
              "frame": {
               "duration": 0,
               "redraw": true
              },
              "fromcurrent": true,
              "mode": "immediate",
              "transition": {
               "duration": 0,
               "easing": "linear"
              }
             }
            ],
            "label": "2/2/20",
            "method": "animate"
           },
           {
            "args": [
             [
              "2/20/20"
             ],
             {
              "frame": {
               "duration": 0,
               "redraw": true
              },
              "fromcurrent": true,
              "mode": "immediate",
              "transition": {
               "duration": 0,
               "easing": "linear"
              }
             }
            ],
            "label": "2/20/20",
            "method": "animate"
           },
           {
            "args": [
             [
              "2/21/20"
             ],
             {
              "frame": {
               "duration": 0,
               "redraw": true
              },
              "fromcurrent": true,
              "mode": "immediate",
              "transition": {
               "duration": 0,
               "easing": "linear"
              }
             }
            ],
            "label": "2/21/20",
            "method": "animate"
           },
           {
            "args": [
             [
              "2/22/20"
             ],
             {
              "frame": {
               "duration": 0,
               "redraw": true
              },
              "fromcurrent": true,
              "mode": "immediate",
              "transition": {
               "duration": 0,
               "easing": "linear"
              }
             }
            ],
            "label": "2/22/20",
            "method": "animate"
           },
           {
            "args": [
             [
              "2/23/20"
             ],
             {
              "frame": {
               "duration": 0,
               "redraw": true
              },
              "fromcurrent": true,
              "mode": "immediate",
              "transition": {
               "duration": 0,
               "easing": "linear"
              }
             }
            ],
            "label": "2/23/20",
            "method": "animate"
           },
           {
            "args": [
             [
              "2/24/20"
             ],
             {
              "frame": {
               "duration": 0,
               "redraw": true
              },
              "fromcurrent": true,
              "mode": "immediate",
              "transition": {
               "duration": 0,
               "easing": "linear"
              }
             }
            ],
            "label": "2/24/20",
            "method": "animate"
           },
           {
            "args": [
             [
              "2/25/20"
             ],
             {
              "frame": {
               "duration": 0,
               "redraw": true
              },
              "fromcurrent": true,
              "mode": "immediate",
              "transition": {
               "duration": 0,
               "easing": "linear"
              }
             }
            ],
            "label": "2/25/20",
            "method": "animate"
           },
           {
            "args": [
             [
              "2/26/20"
             ],
             {
              "frame": {
               "duration": 0,
               "redraw": true
              },
              "fromcurrent": true,
              "mode": "immediate",
              "transition": {
               "duration": 0,
               "easing": "linear"
              }
             }
            ],
            "label": "2/26/20",
            "method": "animate"
           },
           {
            "args": [
             [
              "2/27/20"
             ],
             {
              "frame": {
               "duration": 0,
               "redraw": true
              },
              "fromcurrent": true,
              "mode": "immediate",
              "transition": {
               "duration": 0,
               "easing": "linear"
              }
             }
            ],
            "label": "2/27/20",
            "method": "animate"
           },
           {
            "args": [
             [
              "2/28/20"
             ],
             {
              "frame": {
               "duration": 0,
               "redraw": true
              },
              "fromcurrent": true,
              "mode": "immediate",
              "transition": {
               "duration": 0,
               "easing": "linear"
              }
             }
            ],
            "label": "2/28/20",
            "method": "animate"
           },
           {
            "args": [
             [
              "2/29/20"
             ],
             {
              "frame": {
               "duration": 0,
               "redraw": true
              },
              "fromcurrent": true,
              "mode": "immediate",
              "transition": {
               "duration": 0,
               "easing": "linear"
              }
             }
            ],
            "label": "2/29/20",
            "method": "animate"
           },
           {
            "args": [
             [
              "2/3/20"
             ],
             {
              "frame": {
               "duration": 0,
               "redraw": true
              },
              "fromcurrent": true,
              "mode": "immediate",
              "transition": {
               "duration": 0,
               "easing": "linear"
              }
             }
            ],
            "label": "2/3/20",
            "method": "animate"
           },
           {
            "args": [
             [
              "2/4/20"
             ],
             {
              "frame": {
               "duration": 0,
               "redraw": true
              },
              "fromcurrent": true,
              "mode": "immediate",
              "transition": {
               "duration": 0,
               "easing": "linear"
              }
             }
            ],
            "label": "2/4/20",
            "method": "animate"
           },
           {
            "args": [
             [
              "2/5/20"
             ],
             {
              "frame": {
               "duration": 0,
               "redraw": true
              },
              "fromcurrent": true,
              "mode": "immediate",
              "transition": {
               "duration": 0,
               "easing": "linear"
              }
             }
            ],
            "label": "2/5/20",
            "method": "animate"
           },
           {
            "args": [
             [
              "2/6/20"
             ],
             {
              "frame": {
               "duration": 0,
               "redraw": true
              },
              "fromcurrent": true,
              "mode": "immediate",
              "transition": {
               "duration": 0,
               "easing": "linear"
              }
             }
            ],
            "label": "2/6/20",
            "method": "animate"
           },
           {
            "args": [
             [
              "2/7/20"
             ],
             {
              "frame": {
               "duration": 0,
               "redraw": true
              },
              "fromcurrent": true,
              "mode": "immediate",
              "transition": {
               "duration": 0,
               "easing": "linear"
              }
             }
            ],
            "label": "2/7/20",
            "method": "animate"
           },
           {
            "args": [
             [
              "2/8/20"
             ],
             {
              "frame": {
               "duration": 0,
               "redraw": true
              },
              "fromcurrent": true,
              "mode": "immediate",
              "transition": {
               "duration": 0,
               "easing": "linear"
              }
             }
            ],
            "label": "2/8/20",
            "method": "animate"
           },
           {
            "args": [
             [
              "2/9/20"
             ],
             {
              "frame": {
               "duration": 0,
               "redraw": true
              },
              "fromcurrent": true,
              "mode": "immediate",
              "transition": {
               "duration": 0,
               "easing": "linear"
              }
             }
            ],
            "label": "2/9/20",
            "method": "animate"
           },
           {
            "args": [
             [
              "3/1/20"
             ],
             {
              "frame": {
               "duration": 0,
               "redraw": true
              },
              "fromcurrent": true,
              "mode": "immediate",
              "transition": {
               "duration": 0,
               "easing": "linear"
              }
             }
            ],
            "label": "3/1/20",
            "method": "animate"
           },
           {
            "args": [
             [
              "3/10/20"
             ],
             {
              "frame": {
               "duration": 0,
               "redraw": true
              },
              "fromcurrent": true,
              "mode": "immediate",
              "transition": {
               "duration": 0,
               "easing": "linear"
              }
             }
            ],
            "label": "3/10/20",
            "method": "animate"
           },
           {
            "args": [
             [
              "3/11/20"
             ],
             {
              "frame": {
               "duration": 0,
               "redraw": true
              },
              "fromcurrent": true,
              "mode": "immediate",
              "transition": {
               "duration": 0,
               "easing": "linear"
              }
             }
            ],
            "label": "3/11/20",
            "method": "animate"
           },
           {
            "args": [
             [
              "3/12/20"
             ],
             {
              "frame": {
               "duration": 0,
               "redraw": true
              },
              "fromcurrent": true,
              "mode": "immediate",
              "transition": {
               "duration": 0,
               "easing": "linear"
              }
             }
            ],
            "label": "3/12/20",
            "method": "animate"
           },
           {
            "args": [
             [
              "3/13/20"
             ],
             {
              "frame": {
               "duration": 0,
               "redraw": true
              },
              "fromcurrent": true,
              "mode": "immediate",
              "transition": {
               "duration": 0,
               "easing": "linear"
              }
             }
            ],
            "label": "3/13/20",
            "method": "animate"
           },
           {
            "args": [
             [
              "3/14/20"
             ],
             {
              "frame": {
               "duration": 0,
               "redraw": true
              },
              "fromcurrent": true,
              "mode": "immediate",
              "transition": {
               "duration": 0,
               "easing": "linear"
              }
             }
            ],
            "label": "3/14/20",
            "method": "animate"
           },
           {
            "args": [
             [
              "3/15/20"
             ],
             {
              "frame": {
               "duration": 0,
               "redraw": true
              },
              "fromcurrent": true,
              "mode": "immediate",
              "transition": {
               "duration": 0,
               "easing": "linear"
              }
             }
            ],
            "label": "3/15/20",
            "method": "animate"
           },
           {
            "args": [
             [
              "3/16/20"
             ],
             {
              "frame": {
               "duration": 0,
               "redraw": true
              },
              "fromcurrent": true,
              "mode": "immediate",
              "transition": {
               "duration": 0,
               "easing": "linear"
              }
             }
            ],
            "label": "3/16/20",
            "method": "animate"
           },
           {
            "args": [
             [
              "3/17/20"
             ],
             {
              "frame": {
               "duration": 0,
               "redraw": true
              },
              "fromcurrent": true,
              "mode": "immediate",
              "transition": {
               "duration": 0,
               "easing": "linear"
              }
             }
            ],
            "label": "3/17/20",
            "method": "animate"
           },
           {
            "args": [
             [
              "3/18/20"
             ],
             {
              "frame": {
               "duration": 0,
               "redraw": true
              },
              "fromcurrent": true,
              "mode": "immediate",
              "transition": {
               "duration": 0,
               "easing": "linear"
              }
             }
            ],
            "label": "3/18/20",
            "method": "animate"
           },
           {
            "args": [
             [
              "3/19/20"
             ],
             {
              "frame": {
               "duration": 0,
               "redraw": true
              },
              "fromcurrent": true,
              "mode": "immediate",
              "transition": {
               "duration": 0,
               "easing": "linear"
              }
             }
            ],
            "label": "3/19/20",
            "method": "animate"
           },
           {
            "args": [
             [
              "3/2/20"
             ],
             {
              "frame": {
               "duration": 0,
               "redraw": true
              },
              "fromcurrent": true,
              "mode": "immediate",
              "transition": {
               "duration": 0,
               "easing": "linear"
              }
             }
            ],
            "label": "3/2/20",
            "method": "animate"
           },
           {
            "args": [
             [
              "3/20/20"
             ],
             {
              "frame": {
               "duration": 0,
               "redraw": true
              },
              "fromcurrent": true,
              "mode": "immediate",
              "transition": {
               "duration": 0,
               "easing": "linear"
              }
             }
            ],
            "label": "3/20/20",
            "method": "animate"
           },
           {
            "args": [
             [
              "3/21/20"
             ],
             {
              "frame": {
               "duration": 0,
               "redraw": true
              },
              "fromcurrent": true,
              "mode": "immediate",
              "transition": {
               "duration": 0,
               "easing": "linear"
              }
             }
            ],
            "label": "3/21/20",
            "method": "animate"
           },
           {
            "args": [
             [
              "3/22/20"
             ],
             {
              "frame": {
               "duration": 0,
               "redraw": true
              },
              "fromcurrent": true,
              "mode": "immediate",
              "transition": {
               "duration": 0,
               "easing": "linear"
              }
             }
            ],
            "label": "3/22/20",
            "method": "animate"
           },
           {
            "args": [
             [
              "3/23/20"
             ],
             {
              "frame": {
               "duration": 0,
               "redraw": true
              },
              "fromcurrent": true,
              "mode": "immediate",
              "transition": {
               "duration": 0,
               "easing": "linear"
              }
             }
            ],
            "label": "3/23/20",
            "method": "animate"
           },
           {
            "args": [
             [
              "3/24/20"
             ],
             {
              "frame": {
               "duration": 0,
               "redraw": true
              },
              "fromcurrent": true,
              "mode": "immediate",
              "transition": {
               "duration": 0,
               "easing": "linear"
              }
             }
            ],
            "label": "3/24/20",
            "method": "animate"
           },
           {
            "args": [
             [
              "3/25/20"
             ],
             {
              "frame": {
               "duration": 0,
               "redraw": true
              },
              "fromcurrent": true,
              "mode": "immediate",
              "transition": {
               "duration": 0,
               "easing": "linear"
              }
             }
            ],
            "label": "3/25/20",
            "method": "animate"
           },
           {
            "args": [
             [
              "3/26/20"
             ],
             {
              "frame": {
               "duration": 0,
               "redraw": true
              },
              "fromcurrent": true,
              "mode": "immediate",
              "transition": {
               "duration": 0,
               "easing": "linear"
              }
             }
            ],
            "label": "3/26/20",
            "method": "animate"
           },
           {
            "args": [
             [
              "3/27/20"
             ],
             {
              "frame": {
               "duration": 0,
               "redraw": true
              },
              "fromcurrent": true,
              "mode": "immediate",
              "transition": {
               "duration": 0,
               "easing": "linear"
              }
             }
            ],
            "label": "3/27/20",
            "method": "animate"
           },
           {
            "args": [
             [
              "3/28/20"
             ],
             {
              "frame": {
               "duration": 0,
               "redraw": true
              },
              "fromcurrent": true,
              "mode": "immediate",
              "transition": {
               "duration": 0,
               "easing": "linear"
              }
             }
            ],
            "label": "3/28/20",
            "method": "animate"
           },
           {
            "args": [
             [
              "3/29/20"
             ],
             {
              "frame": {
               "duration": 0,
               "redraw": true
              },
              "fromcurrent": true,
              "mode": "immediate",
              "transition": {
               "duration": 0,
               "easing": "linear"
              }
             }
            ],
            "label": "3/29/20",
            "method": "animate"
           },
           {
            "args": [
             [
              "3/3/20"
             ],
             {
              "frame": {
               "duration": 0,
               "redraw": true
              },
              "fromcurrent": true,
              "mode": "immediate",
              "transition": {
               "duration": 0,
               "easing": "linear"
              }
             }
            ],
            "label": "3/3/20",
            "method": "animate"
           },
           {
            "args": [
             [
              "3/30/20"
             ],
             {
              "frame": {
               "duration": 0,
               "redraw": true
              },
              "fromcurrent": true,
              "mode": "immediate",
              "transition": {
               "duration": 0,
               "easing": "linear"
              }
             }
            ],
            "label": "3/30/20",
            "method": "animate"
           },
           {
            "args": [
             [
              "3/31/20"
             ],
             {
              "frame": {
               "duration": 0,
               "redraw": true
              },
              "fromcurrent": true,
              "mode": "immediate",
              "transition": {
               "duration": 0,
               "easing": "linear"
              }
             }
            ],
            "label": "3/31/20",
            "method": "animate"
           },
           {
            "args": [
             [
              "3/4/20"
             ],
             {
              "frame": {
               "duration": 0,
               "redraw": true
              },
              "fromcurrent": true,
              "mode": "immediate",
              "transition": {
               "duration": 0,
               "easing": "linear"
              }
             }
            ],
            "label": "3/4/20",
            "method": "animate"
           },
           {
            "args": [
             [
              "3/5/20"
             ],
             {
              "frame": {
               "duration": 0,
               "redraw": true
              },
              "fromcurrent": true,
              "mode": "immediate",
              "transition": {
               "duration": 0,
               "easing": "linear"
              }
             }
            ],
            "label": "3/5/20",
            "method": "animate"
           },
           {
            "args": [
             [
              "3/6/20"
             ],
             {
              "frame": {
               "duration": 0,
               "redraw": true
              },
              "fromcurrent": true,
              "mode": "immediate",
              "transition": {
               "duration": 0,
               "easing": "linear"
              }
             }
            ],
            "label": "3/6/20",
            "method": "animate"
           },
           {
            "args": [
             [
              "3/7/20"
             ],
             {
              "frame": {
               "duration": 0,
               "redraw": true
              },
              "fromcurrent": true,
              "mode": "immediate",
              "transition": {
               "duration": 0,
               "easing": "linear"
              }
             }
            ],
            "label": "3/7/20",
            "method": "animate"
           },
           {
            "args": [
             [
              "3/8/20"
             ],
             {
              "frame": {
               "duration": 0,
               "redraw": true
              },
              "fromcurrent": true,
              "mode": "immediate",
              "transition": {
               "duration": 0,
               "easing": "linear"
              }
             }
            ],
            "label": "3/8/20",
            "method": "animate"
           },
           {
            "args": [
             [
              "3/9/20"
             ],
             {
              "frame": {
               "duration": 0,
               "redraw": true
              },
              "fromcurrent": true,
              "mode": "immediate",
              "transition": {
               "duration": 0,
               "easing": "linear"
              }
             }
            ],
            "label": "3/9/20",
            "method": "animate"
           },
           {
            "args": [
             [
              "4/1/20"
             ],
             {
              "frame": {
               "duration": 0,
               "redraw": true
              },
              "fromcurrent": true,
              "mode": "immediate",
              "transition": {
               "duration": 0,
               "easing": "linear"
              }
             }
            ],
            "label": "4/1/20",
            "method": "animate"
           },
           {
            "args": [
             [
              "4/10/20"
             ],
             {
              "frame": {
               "duration": 0,
               "redraw": true
              },
              "fromcurrent": true,
              "mode": "immediate",
              "transition": {
               "duration": 0,
               "easing": "linear"
              }
             }
            ],
            "label": "4/10/20",
            "method": "animate"
           },
           {
            "args": [
             [
              "4/11/20"
             ],
             {
              "frame": {
               "duration": 0,
               "redraw": true
              },
              "fromcurrent": true,
              "mode": "immediate",
              "transition": {
               "duration": 0,
               "easing": "linear"
              }
             }
            ],
            "label": "4/11/20",
            "method": "animate"
           },
           {
            "args": [
             [
              "4/12/20"
             ],
             {
              "frame": {
               "duration": 0,
               "redraw": true
              },
              "fromcurrent": true,
              "mode": "immediate",
              "transition": {
               "duration": 0,
               "easing": "linear"
              }
             }
            ],
            "label": "4/12/20",
            "method": "animate"
           },
           {
            "args": [
             [
              "4/13/20"
             ],
             {
              "frame": {
               "duration": 0,
               "redraw": true
              },
              "fromcurrent": true,
              "mode": "immediate",
              "transition": {
               "duration": 0,
               "easing": "linear"
              }
             }
            ],
            "label": "4/13/20",
            "method": "animate"
           },
           {
            "args": [
             [
              "4/14/20"
             ],
             {
              "frame": {
               "duration": 0,
               "redraw": true
              },
              "fromcurrent": true,
              "mode": "immediate",
              "transition": {
               "duration": 0,
               "easing": "linear"
              }
             }
            ],
            "label": "4/14/20",
            "method": "animate"
           },
           {
            "args": [
             [
              "4/15/20"
             ],
             {
              "frame": {
               "duration": 0,
               "redraw": true
              },
              "fromcurrent": true,
              "mode": "immediate",
              "transition": {
               "duration": 0,
               "easing": "linear"
              }
             }
            ],
            "label": "4/15/20",
            "method": "animate"
           },
           {
            "args": [
             [
              "4/16/20"
             ],
             {
              "frame": {
               "duration": 0,
               "redraw": true
              },
              "fromcurrent": true,
              "mode": "immediate",
              "transition": {
               "duration": 0,
               "easing": "linear"
              }
             }
            ],
            "label": "4/16/20",
            "method": "animate"
           },
           {
            "args": [
             [
              "4/17/20"
             ],
             {
              "frame": {
               "duration": 0,
               "redraw": true
              },
              "fromcurrent": true,
              "mode": "immediate",
              "transition": {
               "duration": 0,
               "easing": "linear"
              }
             }
            ],
            "label": "4/17/20",
            "method": "animate"
           },
           {
            "args": [
             [
              "4/18/20"
             ],
             {
              "frame": {
               "duration": 0,
               "redraw": true
              },
              "fromcurrent": true,
              "mode": "immediate",
              "transition": {
               "duration": 0,
               "easing": "linear"
              }
             }
            ],
            "label": "4/18/20",
            "method": "animate"
           },
           {
            "args": [
             [
              "4/19/20"
             ],
             {
              "frame": {
               "duration": 0,
               "redraw": true
              },
              "fromcurrent": true,
              "mode": "immediate",
              "transition": {
               "duration": 0,
               "easing": "linear"
              }
             }
            ],
            "label": "4/19/20",
            "method": "animate"
           },
           {
            "args": [
             [
              "4/2/20"
             ],
             {
              "frame": {
               "duration": 0,
               "redraw": true
              },
              "fromcurrent": true,
              "mode": "immediate",
              "transition": {
               "duration": 0,
               "easing": "linear"
              }
             }
            ],
            "label": "4/2/20",
            "method": "animate"
           },
           {
            "args": [
             [
              "4/20/20"
             ],
             {
              "frame": {
               "duration": 0,
               "redraw": true
              },
              "fromcurrent": true,
              "mode": "immediate",
              "transition": {
               "duration": 0,
               "easing": "linear"
              }
             }
            ],
            "label": "4/20/20",
            "method": "animate"
           },
           {
            "args": [
             [
              "4/21/20"
             ],
             {
              "frame": {
               "duration": 0,
               "redraw": true
              },
              "fromcurrent": true,
              "mode": "immediate",
              "transition": {
               "duration": 0,
               "easing": "linear"
              }
             }
            ],
            "label": "4/21/20",
            "method": "animate"
           },
           {
            "args": [
             [
              "4/22/20"
             ],
             {
              "frame": {
               "duration": 0,
               "redraw": true
              },
              "fromcurrent": true,
              "mode": "immediate",
              "transition": {
               "duration": 0,
               "easing": "linear"
              }
             }
            ],
            "label": "4/22/20",
            "method": "animate"
           },
           {
            "args": [
             [
              "4/23/20"
             ],
             {
              "frame": {
               "duration": 0,
               "redraw": true
              },
              "fromcurrent": true,
              "mode": "immediate",
              "transition": {
               "duration": 0,
               "easing": "linear"
              }
             }
            ],
            "label": "4/23/20",
            "method": "animate"
           },
           {
            "args": [
             [
              "4/24/20"
             ],
             {
              "frame": {
               "duration": 0,
               "redraw": true
              },
              "fromcurrent": true,
              "mode": "immediate",
              "transition": {
               "duration": 0,
               "easing": "linear"
              }
             }
            ],
            "label": "4/24/20",
            "method": "animate"
           },
           {
            "args": [
             [
              "4/25/20"
             ],
             {
              "frame": {
               "duration": 0,
               "redraw": true
              },
              "fromcurrent": true,
              "mode": "immediate",
              "transition": {
               "duration": 0,
               "easing": "linear"
              }
             }
            ],
            "label": "4/25/20",
            "method": "animate"
           },
           {
            "args": [
             [
              "4/26/20"
             ],
             {
              "frame": {
               "duration": 0,
               "redraw": true
              },
              "fromcurrent": true,
              "mode": "immediate",
              "transition": {
               "duration": 0,
               "easing": "linear"
              }
             }
            ],
            "label": "4/26/20",
            "method": "animate"
           },
           {
            "args": [
             [
              "4/27/20"
             ],
             {
              "frame": {
               "duration": 0,
               "redraw": true
              },
              "fromcurrent": true,
              "mode": "immediate",
              "transition": {
               "duration": 0,
               "easing": "linear"
              }
             }
            ],
            "label": "4/27/20",
            "method": "animate"
           },
           {
            "args": [
             [
              "4/28/20"
             ],
             {
              "frame": {
               "duration": 0,
               "redraw": true
              },
              "fromcurrent": true,
              "mode": "immediate",
              "transition": {
               "duration": 0,
               "easing": "linear"
              }
             }
            ],
            "label": "4/28/20",
            "method": "animate"
           },
           {
            "args": [
             [
              "4/29/20"
             ],
             {
              "frame": {
               "duration": 0,
               "redraw": true
              },
              "fromcurrent": true,
              "mode": "immediate",
              "transition": {
               "duration": 0,
               "easing": "linear"
              }
             }
            ],
            "label": "4/29/20",
            "method": "animate"
           },
           {
            "args": [
             [
              "4/3/20"
             ],
             {
              "frame": {
               "duration": 0,
               "redraw": true
              },
              "fromcurrent": true,
              "mode": "immediate",
              "transition": {
               "duration": 0,
               "easing": "linear"
              }
             }
            ],
            "label": "4/3/20",
            "method": "animate"
           },
           {
            "args": [
             [
              "4/30/20"
             ],
             {
              "frame": {
               "duration": 0,
               "redraw": true
              },
              "fromcurrent": true,
              "mode": "immediate",
              "transition": {
               "duration": 0,
               "easing": "linear"
              }
             }
            ],
            "label": "4/30/20",
            "method": "animate"
           },
           {
            "args": [
             [
              "4/4/20"
             ],
             {
              "frame": {
               "duration": 0,
               "redraw": true
              },
              "fromcurrent": true,
              "mode": "immediate",
              "transition": {
               "duration": 0,
               "easing": "linear"
              }
             }
            ],
            "label": "4/4/20",
            "method": "animate"
           },
           {
            "args": [
             [
              "4/5/20"
             ],
             {
              "frame": {
               "duration": 0,
               "redraw": true
              },
              "fromcurrent": true,
              "mode": "immediate",
              "transition": {
               "duration": 0,
               "easing": "linear"
              }
             }
            ],
            "label": "4/5/20",
            "method": "animate"
           },
           {
            "args": [
             [
              "4/6/20"
             ],
             {
              "frame": {
               "duration": 0,
               "redraw": true
              },
              "fromcurrent": true,
              "mode": "immediate",
              "transition": {
               "duration": 0,
               "easing": "linear"
              }
             }
            ],
            "label": "4/6/20",
            "method": "animate"
           },
           {
            "args": [
             [
              "4/7/20"
             ],
             {
              "frame": {
               "duration": 0,
               "redraw": true
              },
              "fromcurrent": true,
              "mode": "immediate",
              "transition": {
               "duration": 0,
               "easing": "linear"
              }
             }
            ],
            "label": "4/7/20",
            "method": "animate"
           },
           {
            "args": [
             [
              "4/8/20"
             ],
             {
              "frame": {
               "duration": 0,
               "redraw": true
              },
              "fromcurrent": true,
              "mode": "immediate",
              "transition": {
               "duration": 0,
               "easing": "linear"
              }
             }
            ],
            "label": "4/8/20",
            "method": "animate"
           },
           {
            "args": [
             [
              "4/9/20"
             ],
             {
              "frame": {
               "duration": 0,
               "redraw": true
              },
              "fromcurrent": true,
              "mode": "immediate",
              "transition": {
               "duration": 0,
               "easing": "linear"
              }
             }
            ],
            "label": "4/9/20",
            "method": "animate"
           },
           {
            "args": [
             [
              "5/1/20"
             ],
             {
              "frame": {
               "duration": 0,
               "redraw": true
              },
              "fromcurrent": true,
              "mode": "immediate",
              "transition": {
               "duration": 0,
               "easing": "linear"
              }
             }
            ],
            "label": "5/1/20",
            "method": "animate"
           },
           {
            "args": [
             [
              "5/10/20"
             ],
             {
              "frame": {
               "duration": 0,
               "redraw": true
              },
              "fromcurrent": true,
              "mode": "immediate",
              "transition": {
               "duration": 0,
               "easing": "linear"
              }
             }
            ],
            "label": "5/10/20",
            "method": "animate"
           },
           {
            "args": [
             [
              "5/11/20"
             ],
             {
              "frame": {
               "duration": 0,
               "redraw": true
              },
              "fromcurrent": true,
              "mode": "immediate",
              "transition": {
               "duration": 0,
               "easing": "linear"
              }
             }
            ],
            "label": "5/11/20",
            "method": "animate"
           },
           {
            "args": [
             [
              "5/12/20"
             ],
             {
              "frame": {
               "duration": 0,
               "redraw": true
              },
              "fromcurrent": true,
              "mode": "immediate",
              "transition": {
               "duration": 0,
               "easing": "linear"
              }
             }
            ],
            "label": "5/12/20",
            "method": "animate"
           },
           {
            "args": [
             [
              "5/13/20"
             ],
             {
              "frame": {
               "duration": 0,
               "redraw": true
              },
              "fromcurrent": true,
              "mode": "immediate",
              "transition": {
               "duration": 0,
               "easing": "linear"
              }
             }
            ],
            "label": "5/13/20",
            "method": "animate"
           },
           {
            "args": [
             [
              "5/14/20"
             ],
             {
              "frame": {
               "duration": 0,
               "redraw": true
              },
              "fromcurrent": true,
              "mode": "immediate",
              "transition": {
               "duration": 0,
               "easing": "linear"
              }
             }
            ],
            "label": "5/14/20",
            "method": "animate"
           },
           {
            "args": [
             [
              "5/15/20"
             ],
             {
              "frame": {
               "duration": 0,
               "redraw": true
              },
              "fromcurrent": true,
              "mode": "immediate",
              "transition": {
               "duration": 0,
               "easing": "linear"
              }
             }
            ],
            "label": "5/15/20",
            "method": "animate"
           },
           {
            "args": [
             [
              "5/16/20"
             ],
             {
              "frame": {
               "duration": 0,
               "redraw": true
              },
              "fromcurrent": true,
              "mode": "immediate",
              "transition": {
               "duration": 0,
               "easing": "linear"
              }
             }
            ],
            "label": "5/16/20",
            "method": "animate"
           },
           {
            "args": [
             [
              "5/17/20"
             ],
             {
              "frame": {
               "duration": 0,
               "redraw": true
              },
              "fromcurrent": true,
              "mode": "immediate",
              "transition": {
               "duration": 0,
               "easing": "linear"
              }
             }
            ],
            "label": "5/17/20",
            "method": "animate"
           },
           {
            "args": [
             [
              "5/18/20"
             ],
             {
              "frame": {
               "duration": 0,
               "redraw": true
              },
              "fromcurrent": true,
              "mode": "immediate",
              "transition": {
               "duration": 0,
               "easing": "linear"
              }
             }
            ],
            "label": "5/18/20",
            "method": "animate"
           },
           {
            "args": [
             [
              "5/19/20"
             ],
             {
              "frame": {
               "duration": 0,
               "redraw": true
              },
              "fromcurrent": true,
              "mode": "immediate",
              "transition": {
               "duration": 0,
               "easing": "linear"
              }
             }
            ],
            "label": "5/19/20",
            "method": "animate"
           },
           {
            "args": [
             [
              "5/2/20"
             ],
             {
              "frame": {
               "duration": 0,
               "redraw": true
              },
              "fromcurrent": true,
              "mode": "immediate",
              "transition": {
               "duration": 0,
               "easing": "linear"
              }
             }
            ],
            "label": "5/2/20",
            "method": "animate"
           },
           {
            "args": [
             [
              "5/20/20"
             ],
             {
              "frame": {
               "duration": 0,
               "redraw": true
              },
              "fromcurrent": true,
              "mode": "immediate",
              "transition": {
               "duration": 0,
               "easing": "linear"
              }
             }
            ],
            "label": "5/20/20",
            "method": "animate"
           },
           {
            "args": [
             [
              "5/21/20"
             ],
             {
              "frame": {
               "duration": 0,
               "redraw": true
              },
              "fromcurrent": true,
              "mode": "immediate",
              "transition": {
               "duration": 0,
               "easing": "linear"
              }
             }
            ],
            "label": "5/21/20",
            "method": "animate"
           },
           {
            "args": [
             [
              "5/22/20"
             ],
             {
              "frame": {
               "duration": 0,
               "redraw": true
              },
              "fromcurrent": true,
              "mode": "immediate",
              "transition": {
               "duration": 0,
               "easing": "linear"
              }
             }
            ],
            "label": "5/22/20",
            "method": "animate"
           },
           {
            "args": [
             [
              "5/23/20"
             ],
             {
              "frame": {
               "duration": 0,
               "redraw": true
              },
              "fromcurrent": true,
              "mode": "immediate",
              "transition": {
               "duration": 0,
               "easing": "linear"
              }
             }
            ],
            "label": "5/23/20",
            "method": "animate"
           },
           {
            "args": [
             [
              "5/24/20"
             ],
             {
              "frame": {
               "duration": 0,
               "redraw": true
              },
              "fromcurrent": true,
              "mode": "immediate",
              "transition": {
               "duration": 0,
               "easing": "linear"
              }
             }
            ],
            "label": "5/24/20",
            "method": "animate"
           },
           {
            "args": [
             [
              "5/25/20"
             ],
             {
              "frame": {
               "duration": 0,
               "redraw": true
              },
              "fromcurrent": true,
              "mode": "immediate",
              "transition": {
               "duration": 0,
               "easing": "linear"
              }
             }
            ],
            "label": "5/25/20",
            "method": "animate"
           },
           {
            "args": [
             [
              "5/26/20"
             ],
             {
              "frame": {
               "duration": 0,
               "redraw": true
              },
              "fromcurrent": true,
              "mode": "immediate",
              "transition": {
               "duration": 0,
               "easing": "linear"
              }
             }
            ],
            "label": "5/26/20",
            "method": "animate"
           },
           {
            "args": [
             [
              "5/27/20"
             ],
             {
              "frame": {
               "duration": 0,
               "redraw": true
              },
              "fromcurrent": true,
              "mode": "immediate",
              "transition": {
               "duration": 0,
               "easing": "linear"
              }
             }
            ],
            "label": "5/27/20",
            "method": "animate"
           },
           {
            "args": [
             [
              "5/28/20"
             ],
             {
              "frame": {
               "duration": 0,
               "redraw": true
              },
              "fromcurrent": true,
              "mode": "immediate",
              "transition": {
               "duration": 0,
               "easing": "linear"
              }
             }
            ],
            "label": "5/28/20",
            "method": "animate"
           },
           {
            "args": [
             [
              "5/29/20"
             ],
             {
              "frame": {
               "duration": 0,
               "redraw": true
              },
              "fromcurrent": true,
              "mode": "immediate",
              "transition": {
               "duration": 0,
               "easing": "linear"
              }
             }
            ],
            "label": "5/29/20",
            "method": "animate"
           },
           {
            "args": [
             [
              "5/3/20"
             ],
             {
              "frame": {
               "duration": 0,
               "redraw": true
              },
              "fromcurrent": true,
              "mode": "immediate",
              "transition": {
               "duration": 0,
               "easing": "linear"
              }
             }
            ],
            "label": "5/3/20",
            "method": "animate"
           },
           {
            "args": [
             [
              "5/30/20"
             ],
             {
              "frame": {
               "duration": 0,
               "redraw": true
              },
              "fromcurrent": true,
              "mode": "immediate",
              "transition": {
               "duration": 0,
               "easing": "linear"
              }
             }
            ],
            "label": "5/30/20",
            "method": "animate"
           },
           {
            "args": [
             [
              "5/31/20"
             ],
             {
              "frame": {
               "duration": 0,
               "redraw": true
              },
              "fromcurrent": true,
              "mode": "immediate",
              "transition": {
               "duration": 0,
               "easing": "linear"
              }
             }
            ],
            "label": "5/31/20",
            "method": "animate"
           },
           {
            "args": [
             [
              "5/4/20"
             ],
             {
              "frame": {
               "duration": 0,
               "redraw": true
              },
              "fromcurrent": true,
              "mode": "immediate",
              "transition": {
               "duration": 0,
               "easing": "linear"
              }
             }
            ],
            "label": "5/4/20",
            "method": "animate"
           },
           {
            "args": [
             [
              "5/5/20"
             ],
             {
              "frame": {
               "duration": 0,
               "redraw": true
              },
              "fromcurrent": true,
              "mode": "immediate",
              "transition": {
               "duration": 0,
               "easing": "linear"
              }
             }
            ],
            "label": "5/5/20",
            "method": "animate"
           },
           {
            "args": [
             [
              "5/6/20"
             ],
             {
              "frame": {
               "duration": 0,
               "redraw": true
              },
              "fromcurrent": true,
              "mode": "immediate",
              "transition": {
               "duration": 0,
               "easing": "linear"
              }
             }
            ],
            "label": "5/6/20",
            "method": "animate"
           },
           {
            "args": [
             [
              "5/7/20"
             ],
             {
              "frame": {
               "duration": 0,
               "redraw": true
              },
              "fromcurrent": true,
              "mode": "immediate",
              "transition": {
               "duration": 0,
               "easing": "linear"
              }
             }
            ],
            "label": "5/7/20",
            "method": "animate"
           },
           {
            "args": [
             [
              "5/8/20"
             ],
             {
              "frame": {
               "duration": 0,
               "redraw": true
              },
              "fromcurrent": true,
              "mode": "immediate",
              "transition": {
               "duration": 0,
               "easing": "linear"
              }
             }
            ],
            "label": "5/8/20",
            "method": "animate"
           },
           {
            "args": [
             [
              "5/9/20"
             ],
             {
              "frame": {
               "duration": 0,
               "redraw": true
              },
              "fromcurrent": true,
              "mode": "immediate",
              "transition": {
               "duration": 0,
               "easing": "linear"
              }
             }
            ],
            "label": "5/9/20",
            "method": "animate"
           },
           {
            "args": [
             [
              "6/1/20"
             ],
             {
              "frame": {
               "duration": 0,
               "redraw": true
              },
              "fromcurrent": true,
              "mode": "immediate",
              "transition": {
               "duration": 0,
               "easing": "linear"
              }
             }
            ],
            "label": "6/1/20",
            "method": "animate"
           },
           {
            "args": [
             [
              "6/10/20"
             ],
             {
              "frame": {
               "duration": 0,
               "redraw": true
              },
              "fromcurrent": true,
              "mode": "immediate",
              "transition": {
               "duration": 0,
               "easing": "linear"
              }
             }
            ],
            "label": "6/10/20",
            "method": "animate"
           },
           {
            "args": [
             [
              "6/11/20"
             ],
             {
              "frame": {
               "duration": 0,
               "redraw": true
              },
              "fromcurrent": true,
              "mode": "immediate",
              "transition": {
               "duration": 0,
               "easing": "linear"
              }
             }
            ],
            "label": "6/11/20",
            "method": "animate"
           },
           {
            "args": [
             [
              "6/12/20"
             ],
             {
              "frame": {
               "duration": 0,
               "redraw": true
              },
              "fromcurrent": true,
              "mode": "immediate",
              "transition": {
               "duration": 0,
               "easing": "linear"
              }
             }
            ],
            "label": "6/12/20",
            "method": "animate"
           },
           {
            "args": [
             [
              "6/13/20"
             ],
             {
              "frame": {
               "duration": 0,
               "redraw": true
              },
              "fromcurrent": true,
              "mode": "immediate",
              "transition": {
               "duration": 0,
               "easing": "linear"
              }
             }
            ],
            "label": "6/13/20",
            "method": "animate"
           },
           {
            "args": [
             [
              "6/14/20"
             ],
             {
              "frame": {
               "duration": 0,
               "redraw": true
              },
              "fromcurrent": true,
              "mode": "immediate",
              "transition": {
               "duration": 0,
               "easing": "linear"
              }
             }
            ],
            "label": "6/14/20",
            "method": "animate"
           },
           {
            "args": [
             [
              "6/15/20"
             ],
             {
              "frame": {
               "duration": 0,
               "redraw": true
              },
              "fromcurrent": true,
              "mode": "immediate",
              "transition": {
               "duration": 0,
               "easing": "linear"
              }
             }
            ],
            "label": "6/15/20",
            "method": "animate"
           },
           {
            "args": [
             [
              "6/16/20"
             ],
             {
              "frame": {
               "duration": 0,
               "redraw": true
              },
              "fromcurrent": true,
              "mode": "immediate",
              "transition": {
               "duration": 0,
               "easing": "linear"
              }
             }
            ],
            "label": "6/16/20",
            "method": "animate"
           },
           {
            "args": [
             [
              "6/17/20"
             ],
             {
              "frame": {
               "duration": 0,
               "redraw": true
              },
              "fromcurrent": true,
              "mode": "immediate",
              "transition": {
               "duration": 0,
               "easing": "linear"
              }
             }
            ],
            "label": "6/17/20",
            "method": "animate"
           },
           {
            "args": [
             [
              "6/18/20"
             ],
             {
              "frame": {
               "duration": 0,
               "redraw": true
              },
              "fromcurrent": true,
              "mode": "immediate",
              "transition": {
               "duration": 0,
               "easing": "linear"
              }
             }
            ],
            "label": "6/18/20",
            "method": "animate"
           },
           {
            "args": [
             [
              "6/19/20"
             ],
             {
              "frame": {
               "duration": 0,
               "redraw": true
              },
              "fromcurrent": true,
              "mode": "immediate",
              "transition": {
               "duration": 0,
               "easing": "linear"
              }
             }
            ],
            "label": "6/19/20",
            "method": "animate"
           },
           {
            "args": [
             [
              "6/2/20"
             ],
             {
              "frame": {
               "duration": 0,
               "redraw": true
              },
              "fromcurrent": true,
              "mode": "immediate",
              "transition": {
               "duration": 0,
               "easing": "linear"
              }
             }
            ],
            "label": "6/2/20",
            "method": "animate"
           },
           {
            "args": [
             [
              "6/20/20"
             ],
             {
              "frame": {
               "duration": 0,
               "redraw": true
              },
              "fromcurrent": true,
              "mode": "immediate",
              "transition": {
               "duration": 0,
               "easing": "linear"
              }
             }
            ],
            "label": "6/20/20",
            "method": "animate"
           },
           {
            "args": [
             [
              "6/21/20"
             ],
             {
              "frame": {
               "duration": 0,
               "redraw": true
              },
              "fromcurrent": true,
              "mode": "immediate",
              "transition": {
               "duration": 0,
               "easing": "linear"
              }
             }
            ],
            "label": "6/21/20",
            "method": "animate"
           },
           {
            "args": [
             [
              "6/22/20"
             ],
             {
              "frame": {
               "duration": 0,
               "redraw": true
              },
              "fromcurrent": true,
              "mode": "immediate",
              "transition": {
               "duration": 0,
               "easing": "linear"
              }
             }
            ],
            "label": "6/22/20",
            "method": "animate"
           },
           {
            "args": [
             [
              "6/23/20"
             ],
             {
              "frame": {
               "duration": 0,
               "redraw": true
              },
              "fromcurrent": true,
              "mode": "immediate",
              "transition": {
               "duration": 0,
               "easing": "linear"
              }
             }
            ],
            "label": "6/23/20",
            "method": "animate"
           },
           {
            "args": [
             [
              "6/24/20"
             ],
             {
              "frame": {
               "duration": 0,
               "redraw": true
              },
              "fromcurrent": true,
              "mode": "immediate",
              "transition": {
               "duration": 0,
               "easing": "linear"
              }
             }
            ],
            "label": "6/24/20",
            "method": "animate"
           },
           {
            "args": [
             [
              "6/25/20"
             ],
             {
              "frame": {
               "duration": 0,
               "redraw": true
              },
              "fromcurrent": true,
              "mode": "immediate",
              "transition": {
               "duration": 0,
               "easing": "linear"
              }
             }
            ],
            "label": "6/25/20",
            "method": "animate"
           },
           {
            "args": [
             [
              "6/26/20"
             ],
             {
              "frame": {
               "duration": 0,
               "redraw": true
              },
              "fromcurrent": true,
              "mode": "immediate",
              "transition": {
               "duration": 0,
               "easing": "linear"
              }
             }
            ],
            "label": "6/26/20",
            "method": "animate"
           },
           {
            "args": [
             [
              "6/27/20"
             ],
             {
              "frame": {
               "duration": 0,
               "redraw": true
              },
              "fromcurrent": true,
              "mode": "immediate",
              "transition": {
               "duration": 0,
               "easing": "linear"
              }
             }
            ],
            "label": "6/27/20",
            "method": "animate"
           },
           {
            "args": [
             [
              "6/28/20"
             ],
             {
              "frame": {
               "duration": 0,
               "redraw": true
              },
              "fromcurrent": true,
              "mode": "immediate",
              "transition": {
               "duration": 0,
               "easing": "linear"
              }
             }
            ],
            "label": "6/28/20",
            "method": "animate"
           },
           {
            "args": [
             [
              "6/29/20"
             ],
             {
              "frame": {
               "duration": 0,
               "redraw": true
              },
              "fromcurrent": true,
              "mode": "immediate",
              "transition": {
               "duration": 0,
               "easing": "linear"
              }
             }
            ],
            "label": "6/29/20",
            "method": "animate"
           },
           {
            "args": [
             [
              "6/3/20"
             ],
             {
              "frame": {
               "duration": 0,
               "redraw": true
              },
              "fromcurrent": true,
              "mode": "immediate",
              "transition": {
               "duration": 0,
               "easing": "linear"
              }
             }
            ],
            "label": "6/3/20",
            "method": "animate"
           },
           {
            "args": [
             [
              "6/30/20"
             ],
             {
              "frame": {
               "duration": 0,
               "redraw": true
              },
              "fromcurrent": true,
              "mode": "immediate",
              "transition": {
               "duration": 0,
               "easing": "linear"
              }
             }
            ],
            "label": "6/30/20",
            "method": "animate"
           },
           {
            "args": [
             [
              "6/4/20"
             ],
             {
              "frame": {
               "duration": 0,
               "redraw": true
              },
              "fromcurrent": true,
              "mode": "immediate",
              "transition": {
               "duration": 0,
               "easing": "linear"
              }
             }
            ],
            "label": "6/4/20",
            "method": "animate"
           },
           {
            "args": [
             [
              "6/5/20"
             ],
             {
              "frame": {
               "duration": 0,
               "redraw": true
              },
              "fromcurrent": true,
              "mode": "immediate",
              "transition": {
               "duration": 0,
               "easing": "linear"
              }
             }
            ],
            "label": "6/5/20",
            "method": "animate"
           },
           {
            "args": [
             [
              "6/6/20"
             ],
             {
              "frame": {
               "duration": 0,
               "redraw": true
              },
              "fromcurrent": true,
              "mode": "immediate",
              "transition": {
               "duration": 0,
               "easing": "linear"
              }
             }
            ],
            "label": "6/6/20",
            "method": "animate"
           },
           {
            "args": [
             [
              "6/7/20"
             ],
             {
              "frame": {
               "duration": 0,
               "redraw": true
              },
              "fromcurrent": true,
              "mode": "immediate",
              "transition": {
               "duration": 0,
               "easing": "linear"
              }
             }
            ],
            "label": "6/7/20",
            "method": "animate"
           },
           {
            "args": [
             [
              "6/8/20"
             ],
             {
              "frame": {
               "duration": 0,
               "redraw": true
              },
              "fromcurrent": true,
              "mode": "immediate",
              "transition": {
               "duration": 0,
               "easing": "linear"
              }
             }
            ],
            "label": "6/8/20",
            "method": "animate"
           },
           {
            "args": [
             [
              "6/9/20"
             ],
             {
              "frame": {
               "duration": 0,
               "redraw": true
              },
              "fromcurrent": true,
              "mode": "immediate",
              "transition": {
               "duration": 0,
               "easing": "linear"
              }
             }
            ],
            "label": "6/9/20",
            "method": "animate"
           },
           {
            "args": [
             [
              "7/1/20"
             ],
             {
              "frame": {
               "duration": 0,
               "redraw": true
              },
              "fromcurrent": true,
              "mode": "immediate",
              "transition": {
               "duration": 0,
               "easing": "linear"
              }
             }
            ],
            "label": "7/1/20",
            "method": "animate"
           },
           {
            "args": [
             [
              "7/10/20"
             ],
             {
              "frame": {
               "duration": 0,
               "redraw": true
              },
              "fromcurrent": true,
              "mode": "immediate",
              "transition": {
               "duration": 0,
               "easing": "linear"
              }
             }
            ],
            "label": "7/10/20",
            "method": "animate"
           },
           {
            "args": [
             [
              "7/11/20"
             ],
             {
              "frame": {
               "duration": 0,
               "redraw": true
              },
              "fromcurrent": true,
              "mode": "immediate",
              "transition": {
               "duration": 0,
               "easing": "linear"
              }
             }
            ],
            "label": "7/11/20",
            "method": "animate"
           },
           {
            "args": [
             [
              "7/12/20"
             ],
             {
              "frame": {
               "duration": 0,
               "redraw": true
              },
              "fromcurrent": true,
              "mode": "immediate",
              "transition": {
               "duration": 0,
               "easing": "linear"
              }
             }
            ],
            "label": "7/12/20",
            "method": "animate"
           },
           {
            "args": [
             [
              "7/13/20"
             ],
             {
              "frame": {
               "duration": 0,
               "redraw": true
              },
              "fromcurrent": true,
              "mode": "immediate",
              "transition": {
               "duration": 0,
               "easing": "linear"
              }
             }
            ],
            "label": "7/13/20",
            "method": "animate"
           },
           {
            "args": [
             [
              "7/14/20"
             ],
             {
              "frame": {
               "duration": 0,
               "redraw": true
              },
              "fromcurrent": true,
              "mode": "immediate",
              "transition": {
               "duration": 0,
               "easing": "linear"
              }
             }
            ],
            "label": "7/14/20",
            "method": "animate"
           },
           {
            "args": [
             [
              "7/15/20"
             ],
             {
              "frame": {
               "duration": 0,
               "redraw": true
              },
              "fromcurrent": true,
              "mode": "immediate",
              "transition": {
               "duration": 0,
               "easing": "linear"
              }
             }
            ],
            "label": "7/15/20",
            "method": "animate"
           },
           {
            "args": [
             [
              "7/16/20"
             ],
             {
              "frame": {
               "duration": 0,
               "redraw": true
              },
              "fromcurrent": true,
              "mode": "immediate",
              "transition": {
               "duration": 0,
               "easing": "linear"
              }
             }
            ],
            "label": "7/16/20",
            "method": "animate"
           },
           {
            "args": [
             [
              "7/17/20"
             ],
             {
              "frame": {
               "duration": 0,
               "redraw": true
              },
              "fromcurrent": true,
              "mode": "immediate",
              "transition": {
               "duration": 0,
               "easing": "linear"
              }
             }
            ],
            "label": "7/17/20",
            "method": "animate"
           },
           {
            "args": [
             [
              "7/18/20"
             ],
             {
              "frame": {
               "duration": 0,
               "redraw": true
              },
              "fromcurrent": true,
              "mode": "immediate",
              "transition": {
               "duration": 0,
               "easing": "linear"
              }
             }
            ],
            "label": "7/18/20",
            "method": "animate"
           },
           {
            "args": [
             [
              "7/19/20"
             ],
             {
              "frame": {
               "duration": 0,
               "redraw": true
              },
              "fromcurrent": true,
              "mode": "immediate",
              "transition": {
               "duration": 0,
               "easing": "linear"
              }
             }
            ],
            "label": "7/19/20",
            "method": "animate"
           },
           {
            "args": [
             [
              "7/2/20"
             ],
             {
              "frame": {
               "duration": 0,
               "redraw": true
              },
              "fromcurrent": true,
              "mode": "immediate",
              "transition": {
               "duration": 0,
               "easing": "linear"
              }
             }
            ],
            "label": "7/2/20",
            "method": "animate"
           },
           {
            "args": [
             [
              "7/20/20"
             ],
             {
              "frame": {
               "duration": 0,
               "redraw": true
              },
              "fromcurrent": true,
              "mode": "immediate",
              "transition": {
               "duration": 0,
               "easing": "linear"
              }
             }
            ],
            "label": "7/20/20",
            "method": "animate"
           },
           {
            "args": [
             [
              "7/21/20"
             ],
             {
              "frame": {
               "duration": 0,
               "redraw": true
              },
              "fromcurrent": true,
              "mode": "immediate",
              "transition": {
               "duration": 0,
               "easing": "linear"
              }
             }
            ],
            "label": "7/21/20",
            "method": "animate"
           },
           {
            "args": [
             [
              "7/22/20"
             ],
             {
              "frame": {
               "duration": 0,
               "redraw": true
              },
              "fromcurrent": true,
              "mode": "immediate",
              "transition": {
               "duration": 0,
               "easing": "linear"
              }
             }
            ],
            "label": "7/22/20",
            "method": "animate"
           },
           {
            "args": [
             [
              "7/23/20"
             ],
             {
              "frame": {
               "duration": 0,
               "redraw": true
              },
              "fromcurrent": true,
              "mode": "immediate",
              "transition": {
               "duration": 0,
               "easing": "linear"
              }
             }
            ],
            "label": "7/23/20",
            "method": "animate"
           },
           {
            "args": [
             [
              "7/24/20"
             ],
             {
              "frame": {
               "duration": 0,
               "redraw": true
              },
              "fromcurrent": true,
              "mode": "immediate",
              "transition": {
               "duration": 0,
               "easing": "linear"
              }
             }
            ],
            "label": "7/24/20",
            "method": "animate"
           },
           {
            "args": [
             [
              "7/25/20"
             ],
             {
              "frame": {
               "duration": 0,
               "redraw": true
              },
              "fromcurrent": true,
              "mode": "immediate",
              "transition": {
               "duration": 0,
               "easing": "linear"
              }
             }
            ],
            "label": "7/25/20",
            "method": "animate"
           },
           {
            "args": [
             [
              "7/26/20"
             ],
             {
              "frame": {
               "duration": 0,
               "redraw": true
              },
              "fromcurrent": true,
              "mode": "immediate",
              "transition": {
               "duration": 0,
               "easing": "linear"
              }
             }
            ],
            "label": "7/26/20",
            "method": "animate"
           },
           {
            "args": [
             [
              "7/27/20"
             ],
             {
              "frame": {
               "duration": 0,
               "redraw": true
              },
              "fromcurrent": true,
              "mode": "immediate",
              "transition": {
               "duration": 0,
               "easing": "linear"
              }
             }
            ],
            "label": "7/27/20",
            "method": "animate"
           },
           {
            "args": [
             [
              "7/3/20"
             ],
             {
              "frame": {
               "duration": 0,
               "redraw": true
              },
              "fromcurrent": true,
              "mode": "immediate",
              "transition": {
               "duration": 0,
               "easing": "linear"
              }
             }
            ],
            "label": "7/3/20",
            "method": "animate"
           },
           {
            "args": [
             [
              "7/4/20"
             ],
             {
              "frame": {
               "duration": 0,
               "redraw": true
              },
              "fromcurrent": true,
              "mode": "immediate",
              "transition": {
               "duration": 0,
               "easing": "linear"
              }
             }
            ],
            "label": "7/4/20",
            "method": "animate"
           },
           {
            "args": [
             [
              "7/5/20"
             ],
             {
              "frame": {
               "duration": 0,
               "redraw": true
              },
              "fromcurrent": true,
              "mode": "immediate",
              "transition": {
               "duration": 0,
               "easing": "linear"
              }
             }
            ],
            "label": "7/5/20",
            "method": "animate"
           },
           {
            "args": [
             [
              "7/6/20"
             ],
             {
              "frame": {
               "duration": 0,
               "redraw": true
              },
              "fromcurrent": true,
              "mode": "immediate",
              "transition": {
               "duration": 0,
               "easing": "linear"
              }
             }
            ],
            "label": "7/6/20",
            "method": "animate"
           },
           {
            "args": [
             [
              "7/7/20"
             ],
             {
              "frame": {
               "duration": 0,
               "redraw": true
              },
              "fromcurrent": true,
              "mode": "immediate",
              "transition": {
               "duration": 0,
               "easing": "linear"
              }
             }
            ],
            "label": "7/7/20",
            "method": "animate"
           },
           {
            "args": [
             [
              "7/8/20"
             ],
             {
              "frame": {
               "duration": 0,
               "redraw": true
              },
              "fromcurrent": true,
              "mode": "immediate",
              "transition": {
               "duration": 0,
               "easing": "linear"
              }
             }
            ],
            "label": "7/8/20",
            "method": "animate"
           },
           {
            "args": [
             [
              "7/9/20"
             ],
             {
              "frame": {
               "duration": 0,
               "redraw": true
              },
              "fromcurrent": true,
              "mode": "immediate",
              "transition": {
               "duration": 0,
               "easing": "linear"
              }
             }
            ],
            "label": "7/9/20",
            "method": "animate"
           }
          ],
          "x": 0.1,
          "xanchor": "left",
          "y": 0,
          "yanchor": "top"
         }
        ],
        "template": {
         "data": {
          "bar": [
           {
            "error_x": {
             "color": "#2a3f5f"
            },
            "error_y": {
             "color": "#2a3f5f"
            },
            "marker": {
             "line": {
              "color": "#E5ECF6",
              "width": 0.5
             }
            },
            "type": "bar"
           }
          ],
          "barpolar": [
           {
            "marker": {
             "line": {
              "color": "#E5ECF6",
              "width": 0.5
             }
            },
            "type": "barpolar"
           }
          ],
          "carpet": [
           {
            "aaxis": {
             "endlinecolor": "#2a3f5f",
             "gridcolor": "white",
             "linecolor": "white",
             "minorgridcolor": "white",
             "startlinecolor": "#2a3f5f"
            },
            "baxis": {
             "endlinecolor": "#2a3f5f",
             "gridcolor": "white",
             "linecolor": "white",
             "minorgridcolor": "white",
             "startlinecolor": "#2a3f5f"
            },
            "type": "carpet"
           }
          ],
          "choropleth": [
           {
            "colorbar": {
             "outlinewidth": 0,
             "ticks": ""
            },
            "type": "choropleth"
           }
          ],
          "contour": [
           {
            "colorbar": {
             "outlinewidth": 0,
             "ticks": ""
            },
            "colorscale": [
             [
              0,
              "#0d0887"
             ],
             [
              0.1111111111111111,
              "#46039f"
             ],
             [
              0.2222222222222222,
              "#7201a8"
             ],
             [
              0.3333333333333333,
              "#9c179e"
             ],
             [
              0.4444444444444444,
              "#bd3786"
             ],
             [
              0.5555555555555556,
              "#d8576b"
             ],
             [
              0.6666666666666666,
              "#ed7953"
             ],
             [
              0.7777777777777778,
              "#fb9f3a"
             ],
             [
              0.8888888888888888,
              "#fdca26"
             ],
             [
              1,
              "#f0f921"
             ]
            ],
            "type": "contour"
           }
          ],
          "contourcarpet": [
           {
            "colorbar": {
             "outlinewidth": 0,
             "ticks": ""
            },
            "type": "contourcarpet"
           }
          ],
          "heatmap": [
           {
            "colorbar": {
             "outlinewidth": 0,
             "ticks": ""
            },
            "colorscale": [
             [
              0,
              "#0d0887"
             ],
             [
              0.1111111111111111,
              "#46039f"
             ],
             [
              0.2222222222222222,
              "#7201a8"
             ],
             [
              0.3333333333333333,
              "#9c179e"
             ],
             [
              0.4444444444444444,
              "#bd3786"
             ],
             [
              0.5555555555555556,
              "#d8576b"
             ],
             [
              0.6666666666666666,
              "#ed7953"
             ],
             [
              0.7777777777777778,
              "#fb9f3a"
             ],
             [
              0.8888888888888888,
              "#fdca26"
             ],
             [
              1,
              "#f0f921"
             ]
            ],
            "type": "heatmap"
           }
          ],
          "heatmapgl": [
           {
            "colorbar": {
             "outlinewidth": 0,
             "ticks": ""
            },
            "colorscale": [
             [
              0,
              "#0d0887"
             ],
             [
              0.1111111111111111,
              "#46039f"
             ],
             [
              0.2222222222222222,
              "#7201a8"
             ],
             [
              0.3333333333333333,
              "#9c179e"
             ],
             [
              0.4444444444444444,
              "#bd3786"
             ],
             [
              0.5555555555555556,
              "#d8576b"
             ],
             [
              0.6666666666666666,
              "#ed7953"
             ],
             [
              0.7777777777777778,
              "#fb9f3a"
             ],
             [
              0.8888888888888888,
              "#fdca26"
             ],
             [
              1,
              "#f0f921"
             ]
            ],
            "type": "heatmapgl"
           }
          ],
          "histogram": [
           {
            "marker": {
             "colorbar": {
              "outlinewidth": 0,
              "ticks": ""
             }
            },
            "type": "histogram"
           }
          ],
          "histogram2d": [
           {
            "colorbar": {
             "outlinewidth": 0,
             "ticks": ""
            },
            "colorscale": [
             [
              0,
              "#0d0887"
             ],
             [
              0.1111111111111111,
              "#46039f"
             ],
             [
              0.2222222222222222,
              "#7201a8"
             ],
             [
              0.3333333333333333,
              "#9c179e"
             ],
             [
              0.4444444444444444,
              "#bd3786"
             ],
             [
              0.5555555555555556,
              "#d8576b"
             ],
             [
              0.6666666666666666,
              "#ed7953"
             ],
             [
              0.7777777777777778,
              "#fb9f3a"
             ],
             [
              0.8888888888888888,
              "#fdca26"
             ],
             [
              1,
              "#f0f921"
             ]
            ],
            "type": "histogram2d"
           }
          ],
          "histogram2dcontour": [
           {
            "colorbar": {
             "outlinewidth": 0,
             "ticks": ""
            },
            "colorscale": [
             [
              0,
              "#0d0887"
             ],
             [
              0.1111111111111111,
              "#46039f"
             ],
             [
              0.2222222222222222,
              "#7201a8"
             ],
             [
              0.3333333333333333,
              "#9c179e"
             ],
             [
              0.4444444444444444,
              "#bd3786"
             ],
             [
              0.5555555555555556,
              "#d8576b"
             ],
             [
              0.6666666666666666,
              "#ed7953"
             ],
             [
              0.7777777777777778,
              "#fb9f3a"
             ],
             [
              0.8888888888888888,
              "#fdca26"
             ],
             [
              1,
              "#f0f921"
             ]
            ],
            "type": "histogram2dcontour"
           }
          ],
          "mesh3d": [
           {
            "colorbar": {
             "outlinewidth": 0,
             "ticks": ""
            },
            "type": "mesh3d"
           }
          ],
          "parcoords": [
           {
            "line": {
             "colorbar": {
              "outlinewidth": 0,
              "ticks": ""
             }
            },
            "type": "parcoords"
           }
          ],
          "pie": [
           {
            "automargin": true,
            "type": "pie"
           }
          ],
          "scatter": [
           {
            "marker": {
             "colorbar": {
              "outlinewidth": 0,
              "ticks": ""
             }
            },
            "type": "scatter"
           }
          ],
          "scatter3d": [
           {
            "line": {
             "colorbar": {
              "outlinewidth": 0,
              "ticks": ""
             }
            },
            "marker": {
             "colorbar": {
              "outlinewidth": 0,
              "ticks": ""
             }
            },
            "type": "scatter3d"
           }
          ],
          "scattercarpet": [
           {
            "marker": {
             "colorbar": {
              "outlinewidth": 0,
              "ticks": ""
             }
            },
            "type": "scattercarpet"
           }
          ],
          "scattergeo": [
           {
            "marker": {
             "colorbar": {
              "outlinewidth": 0,
              "ticks": ""
             }
            },
            "type": "scattergeo"
           }
          ],
          "scattergl": [
           {
            "marker": {
             "colorbar": {
              "outlinewidth": 0,
              "ticks": ""
             }
            },
            "type": "scattergl"
           }
          ],
          "scattermapbox": [
           {
            "marker": {
             "colorbar": {
              "outlinewidth": 0,
              "ticks": ""
             }
            },
            "type": "scattermapbox"
           }
          ],
          "scatterpolar": [
           {
            "marker": {
             "colorbar": {
              "outlinewidth": 0,
              "ticks": ""
             }
            },
            "type": "scatterpolar"
           }
          ],
          "scatterpolargl": [
           {
            "marker": {
             "colorbar": {
              "outlinewidth": 0,
              "ticks": ""
             }
            },
            "type": "scatterpolargl"
           }
          ],
          "scatterternary": [
           {
            "marker": {
             "colorbar": {
              "outlinewidth": 0,
              "ticks": ""
             }
            },
            "type": "scatterternary"
           }
          ],
          "surface": [
           {
            "colorbar": {
             "outlinewidth": 0,
             "ticks": ""
            },
            "colorscale": [
             [
              0,
              "#0d0887"
             ],
             [
              0.1111111111111111,
              "#46039f"
             ],
             [
              0.2222222222222222,
              "#7201a8"
             ],
             [
              0.3333333333333333,
              "#9c179e"
             ],
             [
              0.4444444444444444,
              "#bd3786"
             ],
             [
              0.5555555555555556,
              "#d8576b"
             ],
             [
              0.6666666666666666,
              "#ed7953"
             ],
             [
              0.7777777777777778,
              "#fb9f3a"
             ],
             [
              0.8888888888888888,
              "#fdca26"
             ],
             [
              1,
              "#f0f921"
             ]
            ],
            "type": "surface"
           }
          ],
          "table": [
           {
            "cells": {
             "fill": {
              "color": "#EBF0F8"
             },
             "line": {
              "color": "white"
             }
            },
            "header": {
             "fill": {
              "color": "#C8D4E3"
             },
             "line": {
              "color": "white"
             }
            },
            "type": "table"
           }
          ]
         },
         "layout": {
          "annotationdefaults": {
           "arrowcolor": "#2a3f5f",
           "arrowhead": 0,
           "arrowwidth": 1
          },
          "coloraxis": {
           "colorbar": {
            "outlinewidth": 0,
            "ticks": ""
           }
          },
          "colorscale": {
           "diverging": [
            [
             0,
             "#8e0152"
            ],
            [
             0.1,
             "#c51b7d"
            ],
            [
             0.2,
             "#de77ae"
            ],
            [
             0.3,
             "#f1b6da"
            ],
            [
             0.4,
             "#fde0ef"
            ],
            [
             0.5,
             "#f7f7f7"
            ],
            [
             0.6,
             "#e6f5d0"
            ],
            [
             0.7,
             "#b8e186"
            ],
            [
             0.8,
             "#7fbc41"
            ],
            [
             0.9,
             "#4d9221"
            ],
            [
             1,
             "#276419"
            ]
           ],
           "sequential": [
            [
             0,
             "#0d0887"
            ],
            [
             0.1111111111111111,
             "#46039f"
            ],
            [
             0.2222222222222222,
             "#7201a8"
            ],
            [
             0.3333333333333333,
             "#9c179e"
            ],
            [
             0.4444444444444444,
             "#bd3786"
            ],
            [
             0.5555555555555556,
             "#d8576b"
            ],
            [
             0.6666666666666666,
             "#ed7953"
            ],
            [
             0.7777777777777778,
             "#fb9f3a"
            ],
            [
             0.8888888888888888,
             "#fdca26"
            ],
            [
             1,
             "#f0f921"
            ]
           ],
           "sequentialminus": [
            [
             0,
             "#0d0887"
            ],
            [
             0.1111111111111111,
             "#46039f"
            ],
            [
             0.2222222222222222,
             "#7201a8"
            ],
            [
             0.3333333333333333,
             "#9c179e"
            ],
            [
             0.4444444444444444,
             "#bd3786"
            ],
            [
             0.5555555555555556,
             "#d8576b"
            ],
            [
             0.6666666666666666,
             "#ed7953"
            ],
            [
             0.7777777777777778,
             "#fb9f3a"
            ],
            [
             0.8888888888888888,
             "#fdca26"
            ],
            [
             1,
             "#f0f921"
            ]
           ]
          },
          "colorway": [
           "#636efa",
           "#EF553B",
           "#00cc96",
           "#ab63fa",
           "#FFA15A",
           "#19d3f3",
           "#FF6692",
           "#B6E880",
           "#FF97FF",
           "#FECB52"
          ],
          "font": {
           "color": "#2a3f5f"
          },
          "geo": {
           "bgcolor": "white",
           "lakecolor": "white",
           "landcolor": "#E5ECF6",
           "showlakes": true,
           "showland": true,
           "subunitcolor": "white"
          },
          "hoverlabel": {
           "align": "left"
          },
          "hovermode": "closest",
          "mapbox": {
           "style": "light"
          },
          "paper_bgcolor": "white",
          "plot_bgcolor": "#E5ECF6",
          "polar": {
           "angularaxis": {
            "gridcolor": "white",
            "linecolor": "white",
            "ticks": ""
           },
           "bgcolor": "#E5ECF6",
           "radialaxis": {
            "gridcolor": "white",
            "linecolor": "white",
            "ticks": ""
           }
          },
          "scene": {
           "xaxis": {
            "backgroundcolor": "#E5ECF6",
            "gridcolor": "white",
            "gridwidth": 2,
            "linecolor": "white",
            "showbackground": true,
            "ticks": "",
            "zerolinecolor": "white"
           },
           "yaxis": {
            "backgroundcolor": "#E5ECF6",
            "gridcolor": "white",
            "gridwidth": 2,
            "linecolor": "white",
            "showbackground": true,
            "ticks": "",
            "zerolinecolor": "white"
           },
           "zaxis": {
            "backgroundcolor": "#E5ECF6",
            "gridcolor": "white",
            "gridwidth": 2,
            "linecolor": "white",
            "showbackground": true,
            "ticks": "",
            "zerolinecolor": "white"
           }
          },
          "shapedefaults": {
           "line": {
            "color": "#2a3f5f"
           }
          },
          "ternary": {
           "aaxis": {
            "gridcolor": "white",
            "linecolor": "white",
            "ticks": ""
           },
           "baxis": {
            "gridcolor": "white",
            "linecolor": "white",
            "ticks": ""
           },
           "bgcolor": "#E5ECF6",
           "caxis": {
            "gridcolor": "white",
            "linecolor": "white",
            "ticks": ""
           }
          },
          "title": {
           "x": 0.05
          },
          "xaxis": {
           "automargin": true,
           "gridcolor": "white",
           "linecolor": "white",
           "ticks": "",
           "title": {
            "standoff": 15
           },
           "zerolinecolor": "white",
           "zerolinewidth": 2
          },
          "yaxis": {
           "automargin": true,
           "gridcolor": "white",
           "linecolor": "white",
           "ticks": "",
           "title": {
            "standoff": 15
           },
           "zerolinecolor": "white",
           "zerolinewidth": 2
          }
         }
        },
        "title": {
         "text": "USA Spread of Covid 19",
         "x": 0.5
        },
        "updatemenus": [
         {
          "buttons": [
           {
            "args": [
             null,
             {
              "frame": {
               "duration": 500,
               "redraw": true
              },
              "fromcurrent": true,
              "mode": "immediate",
              "transition": {
               "duration": 500,
               "easing": "linear"
              }
             }
            ],
            "label": "&#9654;",
            "method": "animate"
           },
           {
            "args": [
             [
              null
             ],
             {
              "frame": {
               "duration": 0,
               "redraw": true
              },
              "fromcurrent": true,
              "mode": "immediate",
              "transition": {
               "duration": 0,
               "easing": "linear"
              }
             }
            ],
            "label": "&#9724;",
            "method": "animate"
           }
          ],
          "direction": "left",
          "pad": {
           "r": 10,
           "t": 70
          },
          "showactive": false,
          "type": "buttons",
          "x": 0.1,
          "xanchor": "right",
          "y": 0,
          "yanchor": "top"
         }
        ]
       }
      },
      "text/html": [
       "<div>\n",
       "        \n",
       "        \n",
       "            <div id=\"b7b16535-e086-4e6f-a88c-871807c5c564\" class=\"plotly-graph-div\" style=\"height:525px; width:100%;\"></div>\n",
       "            <script type=\"text/javascript\">\n",
       "                require([\"plotly\"], function(Plotly) {\n",
       "                    window.PLOTLYENV=window.PLOTLYENV || {};\n",
       "                    \n",
       "                if (document.getElementById(\"b7b16535-e086-4e6f-a88c-871807c5c564\")) {\n",
       "                    Plotly.newPlot(\n",
       "                        'b7b16535-e086-4e6f-a88c-871807c5c564',\n",
       "                        [{\"coloraxis\": \"coloraxis\", \"geo\": \"geo\", \"hoverlabel\": {\"namelength\": 0}, \"hovertemplate\": \"Date=1/22/20<br>FIPS=%{location}<br>Confirmed=%{z}\", \"locations\": [53033.0], \"name\": \"\", \"type\": \"choropleth\", \"z\": [1]}],\n",
       "                        {\"coloraxis\": {\"colorbar\": {\"title\": {\"text\": \"Confirmed\"}}, \"colorscale\": [[0.0, \"#0d0887\"], [0.1111111111111111, \"#46039f\"], [0.2222222222222222, \"#7201a8\"], [0.3333333333333333, \"#9c179e\"], [0.4444444444444444, \"#bd3786\"], [0.5555555555555556, \"#d8576b\"], [0.6666666666666666, \"#ed7953\"], [0.7777777777777778, \"#fb9f3a\"], [0.8888888888888888, \"#fdca26\"], [1.0, \"#f0f921\"]]}, \"geo\": {\"center\": {}, \"domain\": {\"x\": [0.0, 1.0], \"y\": [0.0, 1.0]}}, \"legend\": {\"tracegroupgap\": 0}, \"margin\": {\"t\": 60}, \"sliders\": [{\"active\": 0, \"currentvalue\": {\"prefix\": \"Date=\"}, \"len\": 0.9, \"pad\": {\"b\": 10, \"t\": 60}, \"steps\": [{\"args\": [[\"1/22/20\"], {\"frame\": {\"duration\": 0, \"redraw\": true}, \"fromcurrent\": true, \"mode\": \"immediate\", \"transition\": {\"duration\": 0, \"easing\": \"linear\"}}], \"label\": \"1/22/20\", \"method\": \"animate\"}, {\"args\": [[\"1/23/20\"], {\"frame\": {\"duration\": 0, \"redraw\": true}, \"fromcurrent\": true, \"mode\": \"immediate\", \"transition\": {\"duration\": 0, \"easing\": \"linear\"}}], \"label\": \"1/23/20\", \"method\": \"animate\"}, {\"args\": [[\"1/24/20\"], {\"frame\": {\"duration\": 0, \"redraw\": true}, \"fromcurrent\": true, \"mode\": \"immediate\", \"transition\": {\"duration\": 0, \"easing\": \"linear\"}}], \"label\": \"1/24/20\", \"method\": \"animate\"}, {\"args\": [[\"1/25/20\"], {\"frame\": {\"duration\": 0, \"redraw\": true}, \"fromcurrent\": true, \"mode\": \"immediate\", \"transition\": {\"duration\": 0, \"easing\": \"linear\"}}], \"label\": \"1/25/20\", \"method\": \"animate\"}, {\"args\": [[\"1/26/20\"], {\"frame\": {\"duration\": 0, \"redraw\": true}, \"fromcurrent\": true, \"mode\": \"immediate\", \"transition\": {\"duration\": 0, \"easing\": \"linear\"}}], \"label\": \"1/26/20\", \"method\": \"animate\"}, {\"args\": [[\"1/27/20\"], {\"frame\": {\"duration\": 0, \"redraw\": true}, \"fromcurrent\": true, \"mode\": \"immediate\", \"transition\": {\"duration\": 0, \"easing\": \"linear\"}}], \"label\": \"1/27/20\", \"method\": \"animate\"}, {\"args\": [[\"1/28/20\"], {\"frame\": {\"duration\": 0, \"redraw\": true}, \"fromcurrent\": true, \"mode\": \"immediate\", \"transition\": {\"duration\": 0, \"easing\": \"linear\"}}], \"label\": \"1/28/20\", \"method\": \"animate\"}, {\"args\": [[\"1/29/20\"], {\"frame\": {\"duration\": 0, \"redraw\": true}, \"fromcurrent\": true, \"mode\": \"immediate\", \"transition\": {\"duration\": 0, \"easing\": \"linear\"}}], \"label\": \"1/29/20\", \"method\": \"animate\"}, {\"args\": [[\"1/30/20\"], {\"frame\": {\"duration\": 0, \"redraw\": true}, \"fromcurrent\": true, \"mode\": \"immediate\", \"transition\": {\"duration\": 0, \"easing\": \"linear\"}}], \"label\": \"1/30/20\", \"method\": \"animate\"}, {\"args\": [[\"1/31/20\"], {\"frame\": {\"duration\": 0, \"redraw\": true}, \"fromcurrent\": true, \"mode\": \"immediate\", \"transition\": {\"duration\": 0, \"easing\": \"linear\"}}], \"label\": \"1/31/20\", \"method\": \"animate\"}, {\"args\": [[\"2/1/20\"], {\"frame\": {\"duration\": 0, \"redraw\": true}, \"fromcurrent\": true, \"mode\": \"immediate\", \"transition\": {\"duration\": 0, \"easing\": \"linear\"}}], \"label\": \"2/1/20\", \"method\": \"animate\"}, {\"args\": [[\"2/10/20\"], {\"frame\": {\"duration\": 0, \"redraw\": true}, \"fromcurrent\": true, \"mode\": \"immediate\", \"transition\": {\"duration\": 0, \"easing\": \"linear\"}}], \"label\": \"2/10/20\", \"method\": \"animate\"}, {\"args\": [[\"2/11/20\"], {\"frame\": {\"duration\": 0, \"redraw\": true}, \"fromcurrent\": true, \"mode\": \"immediate\", \"transition\": {\"duration\": 0, \"easing\": \"linear\"}}], \"label\": \"2/11/20\", \"method\": \"animate\"}, {\"args\": [[\"2/12/20\"], {\"frame\": {\"duration\": 0, \"redraw\": true}, \"fromcurrent\": true, \"mode\": \"immediate\", \"transition\": {\"duration\": 0, \"easing\": \"linear\"}}], \"label\": \"2/12/20\", \"method\": \"animate\"}, {\"args\": [[\"2/13/20\"], {\"frame\": {\"duration\": 0, \"redraw\": true}, \"fromcurrent\": true, \"mode\": \"immediate\", \"transition\": {\"duration\": 0, \"easing\": \"linear\"}}], \"label\": \"2/13/20\", \"method\": \"animate\"}, {\"args\": [[\"2/14/20\"], {\"frame\": {\"duration\": 0, \"redraw\": true}, \"fromcurrent\": true, \"mode\": \"immediate\", \"transition\": {\"duration\": 0, \"easing\": \"linear\"}}], \"label\": \"2/14/20\", \"method\": \"animate\"}, {\"args\": [[\"2/15/20\"], {\"frame\": {\"duration\": 0, \"redraw\": true}, \"fromcurrent\": true, \"mode\": \"immediate\", \"transition\": {\"duration\": 0, \"easing\": \"linear\"}}], \"label\": \"2/15/20\", \"method\": \"animate\"}, {\"args\": [[\"2/16/20\"], {\"frame\": {\"duration\": 0, \"redraw\": true}, \"fromcurrent\": true, \"mode\": \"immediate\", \"transition\": {\"duration\": 0, \"easing\": \"linear\"}}], \"label\": \"2/16/20\", \"method\": \"animate\"}, {\"args\": [[\"2/17/20\"], {\"frame\": {\"duration\": 0, \"redraw\": true}, \"fromcurrent\": true, \"mode\": \"immediate\", \"transition\": {\"duration\": 0, \"easing\": \"linear\"}}], \"label\": \"2/17/20\", \"method\": \"animate\"}, {\"args\": [[\"2/18/20\"], {\"frame\": {\"duration\": 0, \"redraw\": true}, \"fromcurrent\": true, \"mode\": \"immediate\", \"transition\": {\"duration\": 0, \"easing\": \"linear\"}}], \"label\": \"2/18/20\", \"method\": \"animate\"}, {\"args\": [[\"2/19/20\"], {\"frame\": {\"duration\": 0, \"redraw\": true}, \"fromcurrent\": true, \"mode\": \"immediate\", \"transition\": {\"duration\": 0, \"easing\": \"linear\"}}], \"label\": \"2/19/20\", \"method\": \"animate\"}, {\"args\": [[\"2/2/20\"], {\"frame\": {\"duration\": 0, \"redraw\": true}, \"fromcurrent\": true, \"mode\": \"immediate\", \"transition\": {\"duration\": 0, \"easing\": \"linear\"}}], \"label\": \"2/2/20\", \"method\": \"animate\"}, {\"args\": [[\"2/20/20\"], {\"frame\": {\"duration\": 0, \"redraw\": true}, \"fromcurrent\": true, \"mode\": \"immediate\", \"transition\": {\"duration\": 0, \"easing\": \"linear\"}}], \"label\": \"2/20/20\", \"method\": \"animate\"}, {\"args\": [[\"2/21/20\"], {\"frame\": {\"duration\": 0, \"redraw\": true}, \"fromcurrent\": true, \"mode\": \"immediate\", \"transition\": {\"duration\": 0, \"easing\": \"linear\"}}], \"label\": \"2/21/20\", \"method\": \"animate\"}, {\"args\": [[\"2/22/20\"], {\"frame\": {\"duration\": 0, \"redraw\": true}, \"fromcurrent\": true, \"mode\": \"immediate\", \"transition\": {\"duration\": 0, \"easing\": \"linear\"}}], \"label\": \"2/22/20\", \"method\": \"animate\"}, {\"args\": [[\"2/23/20\"], {\"frame\": {\"duration\": 0, \"redraw\": true}, \"fromcurrent\": true, \"mode\": \"immediate\", \"transition\": {\"duration\": 0, \"easing\": \"linear\"}}], \"label\": \"2/23/20\", \"method\": \"animate\"}, {\"args\": [[\"2/24/20\"], {\"frame\": {\"duration\": 0, \"redraw\": true}, \"fromcurrent\": true, \"mode\": \"immediate\", \"transition\": {\"duration\": 0, \"easing\": \"linear\"}}], \"label\": \"2/24/20\", \"method\": \"animate\"}, {\"args\": [[\"2/25/20\"], {\"frame\": {\"duration\": 0, \"redraw\": true}, \"fromcurrent\": true, \"mode\": \"immediate\", \"transition\": {\"duration\": 0, \"easing\": \"linear\"}}], \"label\": \"2/25/20\", \"method\": \"animate\"}, {\"args\": [[\"2/26/20\"], {\"frame\": {\"duration\": 0, \"redraw\": true}, \"fromcurrent\": true, \"mode\": \"immediate\", \"transition\": {\"duration\": 0, \"easing\": \"linear\"}}], \"label\": \"2/26/20\", \"method\": \"animate\"}, {\"args\": [[\"2/27/20\"], {\"frame\": {\"duration\": 0, \"redraw\": true}, \"fromcurrent\": true, \"mode\": \"immediate\", \"transition\": {\"duration\": 0, \"easing\": \"linear\"}}], \"label\": \"2/27/20\", \"method\": \"animate\"}, {\"args\": [[\"2/28/20\"], {\"frame\": {\"duration\": 0, \"redraw\": true}, \"fromcurrent\": true, \"mode\": \"immediate\", \"transition\": {\"duration\": 0, \"easing\": \"linear\"}}], \"label\": \"2/28/20\", \"method\": \"animate\"}, {\"args\": [[\"2/29/20\"], {\"frame\": {\"duration\": 0, \"redraw\": true}, \"fromcurrent\": true, \"mode\": \"immediate\", \"transition\": {\"duration\": 0, \"easing\": \"linear\"}}], \"label\": \"2/29/20\", \"method\": \"animate\"}, {\"args\": [[\"2/3/20\"], {\"frame\": {\"duration\": 0, \"redraw\": true}, \"fromcurrent\": true, \"mode\": \"immediate\", \"transition\": {\"duration\": 0, \"easing\": \"linear\"}}], \"label\": \"2/3/20\", \"method\": \"animate\"}, {\"args\": [[\"2/4/20\"], {\"frame\": {\"duration\": 0, \"redraw\": true}, \"fromcurrent\": true, \"mode\": \"immediate\", \"transition\": {\"duration\": 0, \"easing\": \"linear\"}}], \"label\": \"2/4/20\", \"method\": \"animate\"}, {\"args\": [[\"2/5/20\"], {\"frame\": {\"duration\": 0, \"redraw\": true}, \"fromcurrent\": true, \"mode\": \"immediate\", \"transition\": {\"duration\": 0, \"easing\": \"linear\"}}], \"label\": \"2/5/20\", \"method\": \"animate\"}, {\"args\": [[\"2/6/20\"], {\"frame\": {\"duration\": 0, \"redraw\": true}, \"fromcurrent\": true, \"mode\": \"immediate\", \"transition\": {\"duration\": 0, \"easing\": \"linear\"}}], \"label\": \"2/6/20\", \"method\": \"animate\"}, {\"args\": [[\"2/7/20\"], {\"frame\": {\"duration\": 0, \"redraw\": true}, \"fromcurrent\": true, \"mode\": \"immediate\", \"transition\": {\"duration\": 0, \"easing\": \"linear\"}}], \"label\": \"2/7/20\", \"method\": \"animate\"}, {\"args\": [[\"2/8/20\"], {\"frame\": {\"duration\": 0, \"redraw\": true}, \"fromcurrent\": true, \"mode\": \"immediate\", \"transition\": {\"duration\": 0, \"easing\": \"linear\"}}], \"label\": \"2/8/20\", \"method\": \"animate\"}, {\"args\": [[\"2/9/20\"], {\"frame\": {\"duration\": 0, \"redraw\": true}, \"fromcurrent\": true, \"mode\": \"immediate\", \"transition\": {\"duration\": 0, \"easing\": \"linear\"}}], \"label\": \"2/9/20\", \"method\": \"animate\"}, {\"args\": [[\"3/1/20\"], {\"frame\": {\"duration\": 0, \"redraw\": true}, \"fromcurrent\": true, \"mode\": \"immediate\", \"transition\": {\"duration\": 0, \"easing\": \"linear\"}}], \"label\": \"3/1/20\", \"method\": \"animate\"}, {\"args\": [[\"3/10/20\"], {\"frame\": {\"duration\": 0, \"redraw\": true}, \"fromcurrent\": true, \"mode\": \"immediate\", \"transition\": {\"duration\": 0, \"easing\": \"linear\"}}], \"label\": \"3/10/20\", \"method\": \"animate\"}, {\"args\": [[\"3/11/20\"], {\"frame\": {\"duration\": 0, \"redraw\": true}, \"fromcurrent\": true, \"mode\": \"immediate\", \"transition\": {\"duration\": 0, \"easing\": \"linear\"}}], \"label\": \"3/11/20\", \"method\": \"animate\"}, {\"args\": [[\"3/12/20\"], {\"frame\": {\"duration\": 0, \"redraw\": true}, \"fromcurrent\": true, \"mode\": \"immediate\", \"transition\": {\"duration\": 0, \"easing\": \"linear\"}}], \"label\": \"3/12/20\", \"method\": \"animate\"}, {\"args\": [[\"3/13/20\"], {\"frame\": {\"duration\": 0, \"redraw\": true}, \"fromcurrent\": true, \"mode\": \"immediate\", \"transition\": {\"duration\": 0, \"easing\": \"linear\"}}], \"label\": \"3/13/20\", \"method\": \"animate\"}, {\"args\": [[\"3/14/20\"], {\"frame\": {\"duration\": 0, \"redraw\": true}, \"fromcurrent\": true, \"mode\": \"immediate\", \"transition\": {\"duration\": 0, \"easing\": \"linear\"}}], \"label\": \"3/14/20\", \"method\": \"animate\"}, {\"args\": [[\"3/15/20\"], {\"frame\": {\"duration\": 0, \"redraw\": true}, \"fromcurrent\": true, \"mode\": \"immediate\", \"transition\": {\"duration\": 0, \"easing\": \"linear\"}}], \"label\": \"3/15/20\", \"method\": \"animate\"}, {\"args\": [[\"3/16/20\"], {\"frame\": {\"duration\": 0, \"redraw\": true}, \"fromcurrent\": true, \"mode\": \"immediate\", \"transition\": {\"duration\": 0, \"easing\": \"linear\"}}], \"label\": \"3/16/20\", \"method\": \"animate\"}, {\"args\": [[\"3/17/20\"], {\"frame\": {\"duration\": 0, \"redraw\": true}, \"fromcurrent\": true, \"mode\": \"immediate\", \"transition\": {\"duration\": 0, \"easing\": \"linear\"}}], \"label\": \"3/17/20\", \"method\": \"animate\"}, {\"args\": [[\"3/18/20\"], {\"frame\": {\"duration\": 0, \"redraw\": true}, \"fromcurrent\": true, \"mode\": \"immediate\", \"transition\": {\"duration\": 0, \"easing\": \"linear\"}}], \"label\": \"3/18/20\", \"method\": \"animate\"}, {\"args\": [[\"3/19/20\"], {\"frame\": {\"duration\": 0, \"redraw\": true}, \"fromcurrent\": true, \"mode\": \"immediate\", \"transition\": {\"duration\": 0, \"easing\": \"linear\"}}], \"label\": \"3/19/20\", \"method\": \"animate\"}, {\"args\": [[\"3/2/20\"], {\"frame\": {\"duration\": 0, \"redraw\": true}, \"fromcurrent\": true, \"mode\": \"immediate\", \"transition\": {\"duration\": 0, \"easing\": \"linear\"}}], \"label\": \"3/2/20\", \"method\": \"animate\"}, {\"args\": [[\"3/20/20\"], {\"frame\": {\"duration\": 0, \"redraw\": true}, \"fromcurrent\": true, \"mode\": \"immediate\", \"transition\": {\"duration\": 0, \"easing\": \"linear\"}}], \"label\": \"3/20/20\", \"method\": \"animate\"}, {\"args\": [[\"3/21/20\"], {\"frame\": {\"duration\": 0, \"redraw\": true}, \"fromcurrent\": true, \"mode\": \"immediate\", \"transition\": {\"duration\": 0, \"easing\": \"linear\"}}], \"label\": \"3/21/20\", \"method\": \"animate\"}, {\"args\": [[\"3/22/20\"], {\"frame\": {\"duration\": 0, \"redraw\": true}, \"fromcurrent\": true, \"mode\": \"immediate\", \"transition\": {\"duration\": 0, \"easing\": \"linear\"}}], \"label\": \"3/22/20\", \"method\": \"animate\"}, {\"args\": [[\"3/23/20\"], {\"frame\": {\"duration\": 0, \"redraw\": true}, \"fromcurrent\": true, \"mode\": \"immediate\", \"transition\": {\"duration\": 0, \"easing\": \"linear\"}}], \"label\": \"3/23/20\", \"method\": \"animate\"}, {\"args\": [[\"3/24/20\"], {\"frame\": {\"duration\": 0, \"redraw\": true}, \"fromcurrent\": true, \"mode\": \"immediate\", \"transition\": {\"duration\": 0, \"easing\": \"linear\"}}], \"label\": \"3/24/20\", \"method\": \"animate\"}, {\"args\": [[\"3/25/20\"], {\"frame\": {\"duration\": 0, \"redraw\": true}, \"fromcurrent\": true, \"mode\": \"immediate\", \"transition\": {\"duration\": 0, \"easing\": \"linear\"}}], \"label\": \"3/25/20\", \"method\": \"animate\"}, {\"args\": [[\"3/26/20\"], {\"frame\": {\"duration\": 0, \"redraw\": true}, \"fromcurrent\": true, \"mode\": \"immediate\", \"transition\": {\"duration\": 0, \"easing\": \"linear\"}}], \"label\": \"3/26/20\", \"method\": \"animate\"}, {\"args\": [[\"3/27/20\"], {\"frame\": {\"duration\": 0, \"redraw\": true}, \"fromcurrent\": true, \"mode\": \"immediate\", \"transition\": {\"duration\": 0, \"easing\": \"linear\"}}], \"label\": \"3/27/20\", \"method\": \"animate\"}, {\"args\": [[\"3/28/20\"], {\"frame\": {\"duration\": 0, \"redraw\": true}, \"fromcurrent\": true, \"mode\": \"immediate\", \"transition\": {\"duration\": 0, \"easing\": \"linear\"}}], \"label\": \"3/28/20\", \"method\": \"animate\"}, {\"args\": [[\"3/29/20\"], {\"frame\": {\"duration\": 0, \"redraw\": true}, \"fromcurrent\": true, \"mode\": \"immediate\", \"transition\": {\"duration\": 0, \"easing\": \"linear\"}}], \"label\": \"3/29/20\", \"method\": \"animate\"}, {\"args\": [[\"3/3/20\"], {\"frame\": {\"duration\": 0, \"redraw\": true}, \"fromcurrent\": true, \"mode\": \"immediate\", \"transition\": {\"duration\": 0, \"easing\": \"linear\"}}], \"label\": \"3/3/20\", \"method\": \"animate\"}, {\"args\": [[\"3/30/20\"], {\"frame\": {\"duration\": 0, \"redraw\": true}, \"fromcurrent\": true, \"mode\": \"immediate\", \"transition\": {\"duration\": 0, \"easing\": \"linear\"}}], \"label\": \"3/30/20\", \"method\": \"animate\"}, {\"args\": [[\"3/31/20\"], {\"frame\": {\"duration\": 0, \"redraw\": true}, \"fromcurrent\": true, \"mode\": \"immediate\", \"transition\": {\"duration\": 0, \"easing\": \"linear\"}}], \"label\": \"3/31/20\", \"method\": \"animate\"}, {\"args\": [[\"3/4/20\"], {\"frame\": {\"duration\": 0, \"redraw\": true}, \"fromcurrent\": true, \"mode\": \"immediate\", \"transition\": {\"duration\": 0, \"easing\": \"linear\"}}], \"label\": \"3/4/20\", \"method\": \"animate\"}, {\"args\": [[\"3/5/20\"], {\"frame\": {\"duration\": 0, \"redraw\": true}, \"fromcurrent\": true, \"mode\": \"immediate\", \"transition\": {\"duration\": 0, \"easing\": \"linear\"}}], \"label\": \"3/5/20\", \"method\": \"animate\"}, {\"args\": [[\"3/6/20\"], {\"frame\": {\"duration\": 0, \"redraw\": true}, \"fromcurrent\": true, \"mode\": \"immediate\", \"transition\": {\"duration\": 0, \"easing\": \"linear\"}}], \"label\": \"3/6/20\", \"method\": \"animate\"}, {\"args\": [[\"3/7/20\"], {\"frame\": {\"duration\": 0, \"redraw\": true}, \"fromcurrent\": true, \"mode\": \"immediate\", \"transition\": {\"duration\": 0, \"easing\": \"linear\"}}], \"label\": \"3/7/20\", \"method\": \"animate\"}, {\"args\": [[\"3/8/20\"], {\"frame\": {\"duration\": 0, \"redraw\": true}, \"fromcurrent\": true, \"mode\": \"immediate\", \"transition\": {\"duration\": 0, \"easing\": \"linear\"}}], \"label\": \"3/8/20\", \"method\": \"animate\"}, {\"args\": [[\"3/9/20\"], {\"frame\": {\"duration\": 0, \"redraw\": true}, \"fromcurrent\": true, \"mode\": \"immediate\", \"transition\": {\"duration\": 0, \"easing\": \"linear\"}}], \"label\": \"3/9/20\", \"method\": \"animate\"}, {\"args\": [[\"4/1/20\"], {\"frame\": {\"duration\": 0, \"redraw\": true}, \"fromcurrent\": true, \"mode\": \"immediate\", \"transition\": {\"duration\": 0, \"easing\": \"linear\"}}], \"label\": \"4/1/20\", \"method\": \"animate\"}, {\"args\": [[\"4/10/20\"], {\"frame\": {\"duration\": 0, \"redraw\": true}, \"fromcurrent\": true, \"mode\": \"immediate\", \"transition\": {\"duration\": 0, \"easing\": \"linear\"}}], \"label\": \"4/10/20\", \"method\": \"animate\"}, {\"args\": [[\"4/11/20\"], {\"frame\": {\"duration\": 0, \"redraw\": true}, \"fromcurrent\": true, \"mode\": \"immediate\", \"transition\": {\"duration\": 0, \"easing\": \"linear\"}}], \"label\": \"4/11/20\", \"method\": \"animate\"}, {\"args\": [[\"4/12/20\"], {\"frame\": {\"duration\": 0, \"redraw\": true}, \"fromcurrent\": true, \"mode\": \"immediate\", \"transition\": {\"duration\": 0, \"easing\": \"linear\"}}], \"label\": \"4/12/20\", \"method\": \"animate\"}, {\"args\": [[\"4/13/20\"], {\"frame\": {\"duration\": 0, \"redraw\": true}, \"fromcurrent\": true, \"mode\": \"immediate\", \"transition\": {\"duration\": 0, \"easing\": \"linear\"}}], \"label\": \"4/13/20\", \"method\": \"animate\"}, {\"args\": [[\"4/14/20\"], {\"frame\": {\"duration\": 0, \"redraw\": true}, \"fromcurrent\": true, \"mode\": \"immediate\", \"transition\": {\"duration\": 0, \"easing\": \"linear\"}}], \"label\": \"4/14/20\", \"method\": \"animate\"}, {\"args\": [[\"4/15/20\"], {\"frame\": {\"duration\": 0, \"redraw\": true}, \"fromcurrent\": true, \"mode\": \"immediate\", \"transition\": {\"duration\": 0, \"easing\": \"linear\"}}], \"label\": \"4/15/20\", \"method\": \"animate\"}, {\"args\": [[\"4/16/20\"], {\"frame\": {\"duration\": 0, \"redraw\": true}, \"fromcurrent\": true, \"mode\": \"immediate\", \"transition\": {\"duration\": 0, \"easing\": \"linear\"}}], \"label\": \"4/16/20\", \"method\": \"animate\"}, {\"args\": [[\"4/17/20\"], {\"frame\": {\"duration\": 0, \"redraw\": true}, \"fromcurrent\": true, \"mode\": \"immediate\", \"transition\": {\"duration\": 0, \"easing\": \"linear\"}}], \"label\": \"4/17/20\", \"method\": \"animate\"}, {\"args\": [[\"4/18/20\"], {\"frame\": {\"duration\": 0, \"redraw\": true}, \"fromcurrent\": true, \"mode\": \"immediate\", \"transition\": {\"duration\": 0, \"easing\": \"linear\"}}], \"label\": \"4/18/20\", \"method\": \"animate\"}, {\"args\": [[\"4/19/20\"], {\"frame\": {\"duration\": 0, \"redraw\": true}, \"fromcurrent\": true, \"mode\": \"immediate\", \"transition\": {\"duration\": 0, \"easing\": \"linear\"}}], \"label\": \"4/19/20\", \"method\": \"animate\"}, {\"args\": [[\"4/2/20\"], {\"frame\": {\"duration\": 0, \"redraw\": true}, \"fromcurrent\": true, \"mode\": \"immediate\", \"transition\": {\"duration\": 0, \"easing\": \"linear\"}}], \"label\": \"4/2/20\", \"method\": \"animate\"}, {\"args\": [[\"4/20/20\"], {\"frame\": {\"duration\": 0, \"redraw\": true}, \"fromcurrent\": true, \"mode\": \"immediate\", \"transition\": {\"duration\": 0, \"easing\": \"linear\"}}], \"label\": \"4/20/20\", \"method\": \"animate\"}, {\"args\": [[\"4/21/20\"], {\"frame\": {\"duration\": 0, \"redraw\": true}, \"fromcurrent\": true, \"mode\": \"immediate\", \"transition\": {\"duration\": 0, \"easing\": \"linear\"}}], \"label\": \"4/21/20\", \"method\": \"animate\"}, {\"args\": [[\"4/22/20\"], {\"frame\": {\"duration\": 0, \"redraw\": true}, \"fromcurrent\": true, \"mode\": \"immediate\", \"transition\": {\"duration\": 0, \"easing\": \"linear\"}}], \"label\": \"4/22/20\", \"method\": \"animate\"}, {\"args\": [[\"4/23/20\"], {\"frame\": {\"duration\": 0, \"redraw\": true}, \"fromcurrent\": true, \"mode\": \"immediate\", \"transition\": {\"duration\": 0, \"easing\": \"linear\"}}], \"label\": \"4/23/20\", \"method\": \"animate\"}, {\"args\": [[\"4/24/20\"], {\"frame\": {\"duration\": 0, \"redraw\": true}, \"fromcurrent\": true, \"mode\": \"immediate\", \"transition\": {\"duration\": 0, \"easing\": \"linear\"}}], \"label\": \"4/24/20\", \"method\": \"animate\"}, {\"args\": [[\"4/25/20\"], {\"frame\": {\"duration\": 0, \"redraw\": true}, \"fromcurrent\": true, \"mode\": \"immediate\", \"transition\": {\"duration\": 0, \"easing\": \"linear\"}}], \"label\": \"4/25/20\", \"method\": \"animate\"}, {\"args\": [[\"4/26/20\"], {\"frame\": {\"duration\": 0, \"redraw\": true}, \"fromcurrent\": true, \"mode\": \"immediate\", \"transition\": {\"duration\": 0, \"easing\": \"linear\"}}], \"label\": \"4/26/20\", \"method\": \"animate\"}, {\"args\": [[\"4/27/20\"], {\"frame\": {\"duration\": 0, \"redraw\": true}, \"fromcurrent\": true, \"mode\": \"immediate\", \"transition\": {\"duration\": 0, \"easing\": \"linear\"}}], \"label\": \"4/27/20\", \"method\": \"animate\"}, {\"args\": [[\"4/28/20\"], {\"frame\": {\"duration\": 0, \"redraw\": true}, \"fromcurrent\": true, \"mode\": \"immediate\", \"transition\": {\"duration\": 0, \"easing\": \"linear\"}}], \"label\": \"4/28/20\", \"method\": \"animate\"}, {\"args\": [[\"4/29/20\"], {\"frame\": {\"duration\": 0, \"redraw\": true}, \"fromcurrent\": true, \"mode\": \"immediate\", \"transition\": {\"duration\": 0, \"easing\": \"linear\"}}], \"label\": \"4/29/20\", \"method\": \"animate\"}, {\"args\": [[\"4/3/20\"], {\"frame\": {\"duration\": 0, \"redraw\": true}, \"fromcurrent\": true, \"mode\": \"immediate\", \"transition\": {\"duration\": 0, \"easing\": \"linear\"}}], \"label\": \"4/3/20\", \"method\": \"animate\"}, {\"args\": [[\"4/30/20\"], {\"frame\": {\"duration\": 0, \"redraw\": true}, \"fromcurrent\": true, \"mode\": \"immediate\", \"transition\": {\"duration\": 0, \"easing\": \"linear\"}}], \"label\": \"4/30/20\", \"method\": \"animate\"}, {\"args\": [[\"4/4/20\"], {\"frame\": {\"duration\": 0, \"redraw\": true}, \"fromcurrent\": true, \"mode\": \"immediate\", \"transition\": {\"duration\": 0, \"easing\": \"linear\"}}], \"label\": \"4/4/20\", \"method\": \"animate\"}, {\"args\": [[\"4/5/20\"], {\"frame\": {\"duration\": 0, \"redraw\": true}, \"fromcurrent\": true, \"mode\": \"immediate\", \"transition\": {\"duration\": 0, \"easing\": \"linear\"}}], \"label\": \"4/5/20\", \"method\": \"animate\"}, {\"args\": [[\"4/6/20\"], {\"frame\": {\"duration\": 0, \"redraw\": true}, \"fromcurrent\": true, \"mode\": \"immediate\", \"transition\": {\"duration\": 0, \"easing\": \"linear\"}}], \"label\": \"4/6/20\", \"method\": \"animate\"}, {\"args\": [[\"4/7/20\"], {\"frame\": {\"duration\": 0, \"redraw\": true}, \"fromcurrent\": true, \"mode\": \"immediate\", \"transition\": {\"duration\": 0, \"easing\": \"linear\"}}], \"label\": \"4/7/20\", \"method\": \"animate\"}, {\"args\": [[\"4/8/20\"], {\"frame\": {\"duration\": 0, \"redraw\": true}, \"fromcurrent\": true, \"mode\": \"immediate\", \"transition\": {\"duration\": 0, \"easing\": \"linear\"}}], \"label\": \"4/8/20\", \"method\": \"animate\"}, {\"args\": [[\"4/9/20\"], {\"frame\": {\"duration\": 0, \"redraw\": true}, \"fromcurrent\": true, \"mode\": \"immediate\", \"transition\": {\"duration\": 0, \"easing\": \"linear\"}}], \"label\": \"4/9/20\", \"method\": \"animate\"}, {\"args\": [[\"5/1/20\"], {\"frame\": {\"duration\": 0, \"redraw\": true}, \"fromcurrent\": true, \"mode\": \"immediate\", \"transition\": {\"duration\": 0, \"easing\": \"linear\"}}], \"label\": \"5/1/20\", \"method\": \"animate\"}, {\"args\": [[\"5/10/20\"], {\"frame\": {\"duration\": 0, \"redraw\": true}, \"fromcurrent\": true, \"mode\": \"immediate\", \"transition\": {\"duration\": 0, \"easing\": \"linear\"}}], \"label\": \"5/10/20\", \"method\": \"animate\"}, {\"args\": [[\"5/11/20\"], {\"frame\": {\"duration\": 0, \"redraw\": true}, \"fromcurrent\": true, \"mode\": \"immediate\", \"transition\": {\"duration\": 0, \"easing\": \"linear\"}}], \"label\": \"5/11/20\", \"method\": \"animate\"}, {\"args\": [[\"5/12/20\"], {\"frame\": {\"duration\": 0, \"redraw\": true}, \"fromcurrent\": true, \"mode\": \"immediate\", \"transition\": {\"duration\": 0, \"easing\": \"linear\"}}], \"label\": \"5/12/20\", \"method\": \"animate\"}, {\"args\": [[\"5/13/20\"], {\"frame\": {\"duration\": 0, \"redraw\": true}, \"fromcurrent\": true, \"mode\": \"immediate\", \"transition\": {\"duration\": 0, \"easing\": \"linear\"}}], \"label\": \"5/13/20\", \"method\": \"animate\"}, {\"args\": [[\"5/14/20\"], {\"frame\": {\"duration\": 0, \"redraw\": true}, \"fromcurrent\": true, \"mode\": \"immediate\", \"transition\": {\"duration\": 0, \"easing\": \"linear\"}}], \"label\": \"5/14/20\", \"method\": \"animate\"}, {\"args\": [[\"5/15/20\"], {\"frame\": {\"duration\": 0, \"redraw\": true}, \"fromcurrent\": true, \"mode\": \"immediate\", \"transition\": {\"duration\": 0, \"easing\": \"linear\"}}], \"label\": \"5/15/20\", \"method\": \"animate\"}, {\"args\": [[\"5/16/20\"], {\"frame\": {\"duration\": 0, \"redraw\": true}, \"fromcurrent\": true, \"mode\": \"immediate\", \"transition\": {\"duration\": 0, \"easing\": \"linear\"}}], \"label\": \"5/16/20\", \"method\": \"animate\"}, {\"args\": [[\"5/17/20\"], {\"frame\": {\"duration\": 0, \"redraw\": true}, \"fromcurrent\": true, \"mode\": \"immediate\", \"transition\": {\"duration\": 0, \"easing\": \"linear\"}}], \"label\": \"5/17/20\", \"method\": \"animate\"}, {\"args\": [[\"5/18/20\"], {\"frame\": {\"duration\": 0, \"redraw\": true}, \"fromcurrent\": true, \"mode\": \"immediate\", \"transition\": {\"duration\": 0, \"easing\": \"linear\"}}], \"label\": \"5/18/20\", \"method\": \"animate\"}, {\"args\": [[\"5/19/20\"], {\"frame\": {\"duration\": 0, \"redraw\": true}, \"fromcurrent\": true, \"mode\": \"immediate\", \"transition\": {\"duration\": 0, \"easing\": \"linear\"}}], \"label\": \"5/19/20\", \"method\": \"animate\"}, {\"args\": [[\"5/2/20\"], {\"frame\": {\"duration\": 0, \"redraw\": true}, \"fromcurrent\": true, \"mode\": \"immediate\", \"transition\": {\"duration\": 0, \"easing\": \"linear\"}}], \"label\": \"5/2/20\", \"method\": \"animate\"}, {\"args\": [[\"5/20/20\"], {\"frame\": {\"duration\": 0, \"redraw\": true}, \"fromcurrent\": true, \"mode\": \"immediate\", \"transition\": {\"duration\": 0, \"easing\": \"linear\"}}], \"label\": \"5/20/20\", \"method\": \"animate\"}, {\"args\": [[\"5/21/20\"], {\"frame\": {\"duration\": 0, \"redraw\": true}, \"fromcurrent\": true, \"mode\": \"immediate\", \"transition\": {\"duration\": 0, \"easing\": \"linear\"}}], \"label\": \"5/21/20\", \"method\": \"animate\"}, {\"args\": [[\"5/22/20\"], {\"frame\": {\"duration\": 0, \"redraw\": true}, \"fromcurrent\": true, \"mode\": \"immediate\", \"transition\": {\"duration\": 0, \"easing\": \"linear\"}}], \"label\": \"5/22/20\", \"method\": \"animate\"}, {\"args\": [[\"5/23/20\"], {\"frame\": {\"duration\": 0, \"redraw\": true}, \"fromcurrent\": true, \"mode\": \"immediate\", \"transition\": {\"duration\": 0, \"easing\": \"linear\"}}], \"label\": \"5/23/20\", \"method\": \"animate\"}, {\"args\": [[\"5/24/20\"], {\"frame\": {\"duration\": 0, \"redraw\": true}, \"fromcurrent\": true, \"mode\": \"immediate\", \"transition\": {\"duration\": 0, \"easing\": \"linear\"}}], \"label\": \"5/24/20\", \"method\": \"animate\"}, {\"args\": [[\"5/25/20\"], {\"frame\": {\"duration\": 0, \"redraw\": true}, \"fromcurrent\": true, \"mode\": \"immediate\", \"transition\": {\"duration\": 0, \"easing\": \"linear\"}}], \"label\": \"5/25/20\", \"method\": \"animate\"}, {\"args\": [[\"5/26/20\"], {\"frame\": {\"duration\": 0, \"redraw\": true}, \"fromcurrent\": true, \"mode\": \"immediate\", \"transition\": {\"duration\": 0, \"easing\": \"linear\"}}], \"label\": \"5/26/20\", \"method\": \"animate\"}, {\"args\": [[\"5/27/20\"], {\"frame\": {\"duration\": 0, \"redraw\": true}, \"fromcurrent\": true, \"mode\": \"immediate\", \"transition\": {\"duration\": 0, \"easing\": \"linear\"}}], \"label\": \"5/27/20\", \"method\": \"animate\"}, {\"args\": [[\"5/28/20\"], {\"frame\": {\"duration\": 0, \"redraw\": true}, \"fromcurrent\": true, \"mode\": \"immediate\", \"transition\": {\"duration\": 0, \"easing\": \"linear\"}}], \"label\": \"5/28/20\", \"method\": \"animate\"}, {\"args\": [[\"5/29/20\"], {\"frame\": {\"duration\": 0, \"redraw\": true}, \"fromcurrent\": true, \"mode\": \"immediate\", \"transition\": {\"duration\": 0, \"easing\": \"linear\"}}], \"label\": \"5/29/20\", \"method\": \"animate\"}, {\"args\": [[\"5/3/20\"], {\"frame\": {\"duration\": 0, \"redraw\": true}, \"fromcurrent\": true, \"mode\": \"immediate\", \"transition\": {\"duration\": 0, \"easing\": \"linear\"}}], \"label\": \"5/3/20\", \"method\": \"animate\"}, {\"args\": [[\"5/30/20\"], {\"frame\": {\"duration\": 0, \"redraw\": true}, \"fromcurrent\": true, \"mode\": \"immediate\", \"transition\": {\"duration\": 0, \"easing\": \"linear\"}}], \"label\": \"5/30/20\", \"method\": \"animate\"}, {\"args\": [[\"5/31/20\"], {\"frame\": {\"duration\": 0, \"redraw\": true}, \"fromcurrent\": true, \"mode\": \"immediate\", \"transition\": {\"duration\": 0, \"easing\": \"linear\"}}], \"label\": \"5/31/20\", \"method\": \"animate\"}, {\"args\": [[\"5/4/20\"], {\"frame\": {\"duration\": 0, \"redraw\": true}, \"fromcurrent\": true, \"mode\": \"immediate\", \"transition\": {\"duration\": 0, \"easing\": \"linear\"}}], \"label\": \"5/4/20\", \"method\": \"animate\"}, {\"args\": [[\"5/5/20\"], {\"frame\": {\"duration\": 0, \"redraw\": true}, \"fromcurrent\": true, \"mode\": \"immediate\", \"transition\": {\"duration\": 0, \"easing\": \"linear\"}}], \"label\": \"5/5/20\", \"method\": \"animate\"}, {\"args\": [[\"5/6/20\"], {\"frame\": {\"duration\": 0, \"redraw\": true}, \"fromcurrent\": true, \"mode\": \"immediate\", \"transition\": {\"duration\": 0, \"easing\": \"linear\"}}], \"label\": \"5/6/20\", \"method\": \"animate\"}, {\"args\": [[\"5/7/20\"], {\"frame\": {\"duration\": 0, \"redraw\": true}, \"fromcurrent\": true, \"mode\": \"immediate\", \"transition\": {\"duration\": 0, \"easing\": \"linear\"}}], \"label\": \"5/7/20\", \"method\": \"animate\"}, {\"args\": [[\"5/8/20\"], {\"frame\": {\"duration\": 0, \"redraw\": true}, \"fromcurrent\": true, \"mode\": \"immediate\", \"transition\": {\"duration\": 0, \"easing\": \"linear\"}}], \"label\": \"5/8/20\", \"method\": \"animate\"}, {\"args\": [[\"5/9/20\"], {\"frame\": {\"duration\": 0, \"redraw\": true}, \"fromcurrent\": true, \"mode\": \"immediate\", \"transition\": {\"duration\": 0, \"easing\": \"linear\"}}], \"label\": \"5/9/20\", \"method\": \"animate\"}, {\"args\": [[\"6/1/20\"], {\"frame\": {\"duration\": 0, \"redraw\": true}, \"fromcurrent\": true, \"mode\": \"immediate\", \"transition\": {\"duration\": 0, \"easing\": \"linear\"}}], \"label\": \"6/1/20\", \"method\": \"animate\"}, {\"args\": [[\"6/10/20\"], {\"frame\": {\"duration\": 0, \"redraw\": true}, \"fromcurrent\": true, \"mode\": \"immediate\", \"transition\": {\"duration\": 0, \"easing\": \"linear\"}}], \"label\": \"6/10/20\", \"method\": \"animate\"}, {\"args\": [[\"6/11/20\"], {\"frame\": {\"duration\": 0, \"redraw\": true}, \"fromcurrent\": true, \"mode\": \"immediate\", \"transition\": {\"duration\": 0, \"easing\": \"linear\"}}], \"label\": \"6/11/20\", \"method\": \"animate\"}, {\"args\": [[\"6/12/20\"], {\"frame\": {\"duration\": 0, \"redraw\": true}, \"fromcurrent\": true, \"mode\": \"immediate\", \"transition\": {\"duration\": 0, \"easing\": \"linear\"}}], \"label\": \"6/12/20\", \"method\": \"animate\"}, {\"args\": [[\"6/13/20\"], {\"frame\": {\"duration\": 0, \"redraw\": true}, \"fromcurrent\": true, \"mode\": \"immediate\", \"transition\": {\"duration\": 0, \"easing\": \"linear\"}}], \"label\": \"6/13/20\", \"method\": \"animate\"}, {\"args\": [[\"6/14/20\"], {\"frame\": {\"duration\": 0, \"redraw\": true}, \"fromcurrent\": true, \"mode\": \"immediate\", \"transition\": {\"duration\": 0, \"easing\": \"linear\"}}], \"label\": \"6/14/20\", \"method\": \"animate\"}, {\"args\": [[\"6/15/20\"], {\"frame\": {\"duration\": 0, \"redraw\": true}, \"fromcurrent\": true, \"mode\": \"immediate\", \"transition\": {\"duration\": 0, \"easing\": \"linear\"}}], \"label\": \"6/15/20\", \"method\": \"animate\"}, {\"args\": [[\"6/16/20\"], {\"frame\": {\"duration\": 0, \"redraw\": true}, \"fromcurrent\": true, \"mode\": \"immediate\", \"transition\": {\"duration\": 0, \"easing\": \"linear\"}}], \"label\": \"6/16/20\", \"method\": \"animate\"}, {\"args\": [[\"6/17/20\"], {\"frame\": {\"duration\": 0, \"redraw\": true}, \"fromcurrent\": true, \"mode\": \"immediate\", \"transition\": {\"duration\": 0, \"easing\": \"linear\"}}], \"label\": \"6/17/20\", \"method\": \"animate\"}, {\"args\": [[\"6/18/20\"], {\"frame\": {\"duration\": 0, \"redraw\": true}, \"fromcurrent\": true, \"mode\": \"immediate\", \"transition\": {\"duration\": 0, \"easing\": \"linear\"}}], \"label\": \"6/18/20\", \"method\": \"animate\"}, {\"args\": [[\"6/19/20\"], {\"frame\": {\"duration\": 0, \"redraw\": true}, \"fromcurrent\": true, \"mode\": \"immediate\", \"transition\": {\"duration\": 0, \"easing\": \"linear\"}}], \"label\": \"6/19/20\", \"method\": \"animate\"}, {\"args\": [[\"6/2/20\"], {\"frame\": {\"duration\": 0, \"redraw\": true}, \"fromcurrent\": true, \"mode\": \"immediate\", \"transition\": {\"duration\": 0, \"easing\": \"linear\"}}], \"label\": \"6/2/20\", \"method\": \"animate\"}, {\"args\": [[\"6/20/20\"], {\"frame\": {\"duration\": 0, \"redraw\": true}, \"fromcurrent\": true, \"mode\": \"immediate\", \"transition\": {\"duration\": 0, \"easing\": \"linear\"}}], \"label\": \"6/20/20\", \"method\": \"animate\"}, {\"args\": [[\"6/21/20\"], {\"frame\": {\"duration\": 0, \"redraw\": true}, \"fromcurrent\": true, \"mode\": \"immediate\", \"transition\": {\"duration\": 0, \"easing\": \"linear\"}}], \"label\": \"6/21/20\", \"method\": \"animate\"}, {\"args\": [[\"6/22/20\"], {\"frame\": {\"duration\": 0, \"redraw\": true}, \"fromcurrent\": true, \"mode\": \"immediate\", \"transition\": {\"duration\": 0, \"easing\": \"linear\"}}], \"label\": \"6/22/20\", \"method\": \"animate\"}, {\"args\": [[\"6/23/20\"], {\"frame\": {\"duration\": 0, \"redraw\": true}, \"fromcurrent\": true, \"mode\": \"immediate\", \"transition\": {\"duration\": 0, \"easing\": \"linear\"}}], \"label\": \"6/23/20\", \"method\": \"animate\"}, {\"args\": [[\"6/24/20\"], {\"frame\": {\"duration\": 0, \"redraw\": true}, \"fromcurrent\": true, \"mode\": \"immediate\", \"transition\": {\"duration\": 0, \"easing\": \"linear\"}}], \"label\": \"6/24/20\", \"method\": \"animate\"}, {\"args\": [[\"6/25/20\"], {\"frame\": {\"duration\": 0, \"redraw\": true}, \"fromcurrent\": true, \"mode\": \"immediate\", \"transition\": {\"duration\": 0, \"easing\": \"linear\"}}], \"label\": \"6/25/20\", \"method\": \"animate\"}, {\"args\": [[\"6/26/20\"], {\"frame\": {\"duration\": 0, \"redraw\": true}, \"fromcurrent\": true, \"mode\": \"immediate\", \"transition\": {\"duration\": 0, \"easing\": \"linear\"}}], \"label\": \"6/26/20\", \"method\": \"animate\"}, {\"args\": [[\"6/27/20\"], {\"frame\": {\"duration\": 0, \"redraw\": true}, \"fromcurrent\": true, \"mode\": \"immediate\", \"transition\": {\"duration\": 0, \"easing\": \"linear\"}}], \"label\": \"6/27/20\", \"method\": \"animate\"}, {\"args\": [[\"6/28/20\"], {\"frame\": {\"duration\": 0, \"redraw\": true}, \"fromcurrent\": true, \"mode\": \"immediate\", \"transition\": {\"duration\": 0, \"easing\": \"linear\"}}], \"label\": \"6/28/20\", \"method\": \"animate\"}, {\"args\": [[\"6/29/20\"], {\"frame\": {\"duration\": 0, \"redraw\": true}, \"fromcurrent\": true, \"mode\": \"immediate\", \"transition\": {\"duration\": 0, \"easing\": \"linear\"}}], \"label\": \"6/29/20\", \"method\": \"animate\"}, {\"args\": [[\"6/3/20\"], {\"frame\": {\"duration\": 0, \"redraw\": true}, \"fromcurrent\": true, \"mode\": \"immediate\", \"transition\": {\"duration\": 0, \"easing\": \"linear\"}}], \"label\": \"6/3/20\", \"method\": \"animate\"}, {\"args\": [[\"6/30/20\"], {\"frame\": {\"duration\": 0, \"redraw\": true}, \"fromcurrent\": true, \"mode\": \"immediate\", \"transition\": {\"duration\": 0, \"easing\": \"linear\"}}], \"label\": \"6/30/20\", \"method\": \"animate\"}, {\"args\": [[\"6/4/20\"], {\"frame\": {\"duration\": 0, \"redraw\": true}, \"fromcurrent\": true, \"mode\": \"immediate\", \"transition\": {\"duration\": 0, \"easing\": \"linear\"}}], \"label\": \"6/4/20\", \"method\": \"animate\"}, {\"args\": [[\"6/5/20\"], {\"frame\": {\"duration\": 0, \"redraw\": true}, \"fromcurrent\": true, \"mode\": \"immediate\", \"transition\": {\"duration\": 0, \"easing\": \"linear\"}}], \"label\": \"6/5/20\", \"method\": \"animate\"}, {\"args\": [[\"6/6/20\"], {\"frame\": {\"duration\": 0, \"redraw\": true}, \"fromcurrent\": true, \"mode\": \"immediate\", \"transition\": {\"duration\": 0, \"easing\": \"linear\"}}], \"label\": \"6/6/20\", \"method\": \"animate\"}, {\"args\": [[\"6/7/20\"], {\"frame\": {\"duration\": 0, \"redraw\": true}, \"fromcurrent\": true, \"mode\": \"immediate\", \"transition\": {\"duration\": 0, \"easing\": \"linear\"}}], \"label\": \"6/7/20\", \"method\": \"animate\"}, {\"args\": [[\"6/8/20\"], {\"frame\": {\"duration\": 0, \"redraw\": true}, \"fromcurrent\": true, \"mode\": \"immediate\", \"transition\": {\"duration\": 0, \"easing\": \"linear\"}}], \"label\": \"6/8/20\", \"method\": \"animate\"}, {\"args\": [[\"6/9/20\"], {\"frame\": {\"duration\": 0, \"redraw\": true}, \"fromcurrent\": true, \"mode\": \"immediate\", \"transition\": {\"duration\": 0, \"easing\": \"linear\"}}], \"label\": \"6/9/20\", \"method\": \"animate\"}, {\"args\": [[\"7/1/20\"], {\"frame\": {\"duration\": 0, \"redraw\": true}, \"fromcurrent\": true, \"mode\": \"immediate\", \"transition\": {\"duration\": 0, \"easing\": \"linear\"}}], \"label\": \"7/1/20\", \"method\": \"animate\"}, {\"args\": [[\"7/10/20\"], {\"frame\": {\"duration\": 0, \"redraw\": true}, \"fromcurrent\": true, \"mode\": \"immediate\", \"transition\": {\"duration\": 0, \"easing\": \"linear\"}}], \"label\": \"7/10/20\", \"method\": \"animate\"}, {\"args\": [[\"7/11/20\"], {\"frame\": {\"duration\": 0, \"redraw\": true}, \"fromcurrent\": true, \"mode\": \"immediate\", \"transition\": {\"duration\": 0, \"easing\": \"linear\"}}], \"label\": \"7/11/20\", \"method\": \"animate\"}, {\"args\": [[\"7/12/20\"], {\"frame\": {\"duration\": 0, \"redraw\": true}, \"fromcurrent\": true, \"mode\": \"immediate\", \"transition\": {\"duration\": 0, \"easing\": \"linear\"}}], \"label\": \"7/12/20\", \"method\": \"animate\"}, {\"args\": [[\"7/13/20\"], {\"frame\": {\"duration\": 0, \"redraw\": true}, \"fromcurrent\": true, \"mode\": \"immediate\", \"transition\": {\"duration\": 0, \"easing\": \"linear\"}}], \"label\": \"7/13/20\", \"method\": \"animate\"}, {\"args\": [[\"7/14/20\"], {\"frame\": {\"duration\": 0, \"redraw\": true}, \"fromcurrent\": true, \"mode\": \"immediate\", \"transition\": {\"duration\": 0, \"easing\": \"linear\"}}], \"label\": \"7/14/20\", \"method\": \"animate\"}, {\"args\": [[\"7/15/20\"], {\"frame\": {\"duration\": 0, \"redraw\": true}, \"fromcurrent\": true, \"mode\": \"immediate\", \"transition\": {\"duration\": 0, \"easing\": \"linear\"}}], \"label\": \"7/15/20\", \"method\": \"animate\"}, {\"args\": [[\"7/16/20\"], {\"frame\": {\"duration\": 0, \"redraw\": true}, \"fromcurrent\": true, \"mode\": \"immediate\", \"transition\": {\"duration\": 0, \"easing\": \"linear\"}}], \"label\": \"7/16/20\", \"method\": \"animate\"}, {\"args\": [[\"7/17/20\"], {\"frame\": {\"duration\": 0, \"redraw\": true}, \"fromcurrent\": true, \"mode\": \"immediate\", \"transition\": {\"duration\": 0, \"easing\": \"linear\"}}], \"label\": \"7/17/20\", \"method\": \"animate\"}, {\"args\": [[\"7/18/20\"], {\"frame\": {\"duration\": 0, \"redraw\": true}, \"fromcurrent\": true, \"mode\": \"immediate\", \"transition\": {\"duration\": 0, \"easing\": \"linear\"}}], \"label\": \"7/18/20\", \"method\": \"animate\"}, {\"args\": [[\"7/19/20\"], {\"frame\": {\"duration\": 0, \"redraw\": true}, \"fromcurrent\": true, \"mode\": \"immediate\", \"transition\": {\"duration\": 0, \"easing\": \"linear\"}}], \"label\": \"7/19/20\", \"method\": \"animate\"}, {\"args\": [[\"7/2/20\"], {\"frame\": {\"duration\": 0, \"redraw\": true}, \"fromcurrent\": true, \"mode\": \"immediate\", \"transition\": {\"duration\": 0, \"easing\": \"linear\"}}], \"label\": \"7/2/20\", \"method\": \"animate\"}, {\"args\": [[\"7/20/20\"], {\"frame\": {\"duration\": 0, \"redraw\": true}, \"fromcurrent\": true, \"mode\": \"immediate\", \"transition\": {\"duration\": 0, \"easing\": \"linear\"}}], \"label\": \"7/20/20\", \"method\": \"animate\"}, {\"args\": [[\"7/21/20\"], {\"frame\": {\"duration\": 0, \"redraw\": true}, \"fromcurrent\": true, \"mode\": \"immediate\", \"transition\": {\"duration\": 0, \"easing\": \"linear\"}}], \"label\": \"7/21/20\", \"method\": \"animate\"}, {\"args\": [[\"7/22/20\"], {\"frame\": {\"duration\": 0, \"redraw\": true}, \"fromcurrent\": true, \"mode\": \"immediate\", \"transition\": {\"duration\": 0, \"easing\": \"linear\"}}], \"label\": \"7/22/20\", \"method\": \"animate\"}, {\"args\": [[\"7/23/20\"], {\"frame\": {\"duration\": 0, \"redraw\": true}, \"fromcurrent\": true, \"mode\": \"immediate\", \"transition\": {\"duration\": 0, \"easing\": \"linear\"}}], \"label\": \"7/23/20\", \"method\": \"animate\"}, {\"args\": [[\"7/24/20\"], {\"frame\": {\"duration\": 0, \"redraw\": true}, \"fromcurrent\": true, \"mode\": \"immediate\", \"transition\": {\"duration\": 0, \"easing\": \"linear\"}}], \"label\": \"7/24/20\", \"method\": \"animate\"}, {\"args\": [[\"7/25/20\"], {\"frame\": {\"duration\": 0, \"redraw\": true}, \"fromcurrent\": true, \"mode\": \"immediate\", \"transition\": {\"duration\": 0, \"easing\": \"linear\"}}], \"label\": \"7/25/20\", \"method\": \"animate\"}, {\"args\": [[\"7/26/20\"], {\"frame\": {\"duration\": 0, \"redraw\": true}, \"fromcurrent\": true, \"mode\": \"immediate\", \"transition\": {\"duration\": 0, \"easing\": \"linear\"}}], \"label\": \"7/26/20\", \"method\": \"animate\"}, {\"args\": [[\"7/27/20\"], {\"frame\": {\"duration\": 0, \"redraw\": true}, \"fromcurrent\": true, \"mode\": \"immediate\", \"transition\": {\"duration\": 0, \"easing\": \"linear\"}}], \"label\": \"7/27/20\", \"method\": \"animate\"}, {\"args\": [[\"7/3/20\"], {\"frame\": {\"duration\": 0, \"redraw\": true}, \"fromcurrent\": true, \"mode\": \"immediate\", \"transition\": {\"duration\": 0, \"easing\": \"linear\"}}], \"label\": \"7/3/20\", \"method\": \"animate\"}, {\"args\": [[\"7/4/20\"], {\"frame\": {\"duration\": 0, \"redraw\": true}, \"fromcurrent\": true, \"mode\": \"immediate\", \"transition\": {\"duration\": 0, \"easing\": \"linear\"}}], \"label\": \"7/4/20\", \"method\": \"animate\"}, {\"args\": [[\"7/5/20\"], {\"frame\": {\"duration\": 0, \"redraw\": true}, \"fromcurrent\": true, \"mode\": \"immediate\", \"transition\": {\"duration\": 0, \"easing\": \"linear\"}}], \"label\": \"7/5/20\", \"method\": \"animate\"}, {\"args\": [[\"7/6/20\"], {\"frame\": {\"duration\": 0, \"redraw\": true}, \"fromcurrent\": true, \"mode\": \"immediate\", \"transition\": {\"duration\": 0, \"easing\": \"linear\"}}], \"label\": \"7/6/20\", \"method\": \"animate\"}, {\"args\": [[\"7/7/20\"], {\"frame\": {\"duration\": 0, \"redraw\": true}, \"fromcurrent\": true, \"mode\": \"immediate\", \"transition\": {\"duration\": 0, \"easing\": \"linear\"}}], \"label\": \"7/7/20\", \"method\": \"animate\"}, {\"args\": [[\"7/8/20\"], {\"frame\": {\"duration\": 0, \"redraw\": true}, \"fromcurrent\": true, \"mode\": \"immediate\", \"transition\": {\"duration\": 0, \"easing\": \"linear\"}}], \"label\": \"7/8/20\", \"method\": \"animate\"}, {\"args\": [[\"7/9/20\"], {\"frame\": {\"duration\": 0, \"redraw\": true}, \"fromcurrent\": true, \"mode\": \"immediate\", \"transition\": {\"duration\": 0, \"easing\": \"linear\"}}], \"label\": \"7/9/20\", \"method\": \"animate\"}], \"x\": 0.1, \"xanchor\": \"left\", \"y\": 0, \"yanchor\": \"top\"}], \"template\": {\"data\": {\"bar\": [{\"error_x\": {\"color\": \"#2a3f5f\"}, \"error_y\": {\"color\": \"#2a3f5f\"}, \"marker\": {\"line\": {\"color\": \"#E5ECF6\", \"width\": 0.5}}, \"type\": \"bar\"}], \"barpolar\": [{\"marker\": {\"line\": {\"color\": \"#E5ECF6\", \"width\": 0.5}}, \"type\": \"barpolar\"}], \"carpet\": [{\"aaxis\": {\"endlinecolor\": \"#2a3f5f\", \"gridcolor\": \"white\", \"linecolor\": \"white\", \"minorgridcolor\": \"white\", \"startlinecolor\": \"#2a3f5f\"}, \"baxis\": {\"endlinecolor\": \"#2a3f5f\", \"gridcolor\": \"white\", \"linecolor\": \"white\", \"minorgridcolor\": \"white\", \"startlinecolor\": \"#2a3f5f\"}, \"type\": \"carpet\"}], \"choropleth\": [{\"colorbar\": {\"outlinewidth\": 0, \"ticks\": \"\"}, \"type\": \"choropleth\"}], \"contour\": [{\"colorbar\": {\"outlinewidth\": 0, \"ticks\": \"\"}, \"colorscale\": [[0.0, \"#0d0887\"], [0.1111111111111111, \"#46039f\"], [0.2222222222222222, \"#7201a8\"], [0.3333333333333333, \"#9c179e\"], [0.4444444444444444, \"#bd3786\"], [0.5555555555555556, \"#d8576b\"], [0.6666666666666666, \"#ed7953\"], [0.7777777777777778, \"#fb9f3a\"], [0.8888888888888888, \"#fdca26\"], [1.0, \"#f0f921\"]], \"type\": \"contour\"}], \"contourcarpet\": [{\"colorbar\": {\"outlinewidth\": 0, \"ticks\": \"\"}, \"type\": \"contourcarpet\"}], \"heatmap\": [{\"colorbar\": {\"outlinewidth\": 0, \"ticks\": \"\"}, \"colorscale\": [[0.0, \"#0d0887\"], [0.1111111111111111, \"#46039f\"], [0.2222222222222222, \"#7201a8\"], [0.3333333333333333, \"#9c179e\"], [0.4444444444444444, \"#bd3786\"], [0.5555555555555556, \"#d8576b\"], [0.6666666666666666, \"#ed7953\"], [0.7777777777777778, \"#fb9f3a\"], [0.8888888888888888, \"#fdca26\"], [1.0, \"#f0f921\"]], \"type\": \"heatmap\"}], \"heatmapgl\": [{\"colorbar\": {\"outlinewidth\": 0, \"ticks\": \"\"}, \"colorscale\": [[0.0, \"#0d0887\"], [0.1111111111111111, \"#46039f\"], [0.2222222222222222, \"#7201a8\"], [0.3333333333333333, \"#9c179e\"], [0.4444444444444444, \"#bd3786\"], [0.5555555555555556, \"#d8576b\"], [0.6666666666666666, \"#ed7953\"], [0.7777777777777778, \"#fb9f3a\"], [0.8888888888888888, \"#fdca26\"], [1.0, \"#f0f921\"]], \"type\": \"heatmapgl\"}], \"histogram\": [{\"marker\": {\"colorbar\": {\"outlinewidth\": 0, \"ticks\": \"\"}}, \"type\": \"histogram\"}], \"histogram2d\": [{\"colorbar\": {\"outlinewidth\": 0, \"ticks\": \"\"}, \"colorscale\": [[0.0, \"#0d0887\"], [0.1111111111111111, \"#46039f\"], [0.2222222222222222, \"#7201a8\"], [0.3333333333333333, \"#9c179e\"], [0.4444444444444444, \"#bd3786\"], [0.5555555555555556, \"#d8576b\"], [0.6666666666666666, \"#ed7953\"], [0.7777777777777778, \"#fb9f3a\"], [0.8888888888888888, \"#fdca26\"], [1.0, \"#f0f921\"]], \"type\": \"histogram2d\"}], \"histogram2dcontour\": [{\"colorbar\": {\"outlinewidth\": 0, \"ticks\": \"\"}, \"colorscale\": [[0.0, \"#0d0887\"], [0.1111111111111111, \"#46039f\"], [0.2222222222222222, \"#7201a8\"], [0.3333333333333333, \"#9c179e\"], [0.4444444444444444, \"#bd3786\"], [0.5555555555555556, \"#d8576b\"], [0.6666666666666666, \"#ed7953\"], [0.7777777777777778, \"#fb9f3a\"], [0.8888888888888888, \"#fdca26\"], [1.0, \"#f0f921\"]], \"type\": \"histogram2dcontour\"}], \"mesh3d\": [{\"colorbar\": {\"outlinewidth\": 0, \"ticks\": \"\"}, \"type\": \"mesh3d\"}], \"parcoords\": [{\"line\": {\"colorbar\": {\"outlinewidth\": 0, \"ticks\": \"\"}}, \"type\": \"parcoords\"}], \"pie\": [{\"automargin\": true, \"type\": \"pie\"}], \"scatter\": [{\"marker\": {\"colorbar\": {\"outlinewidth\": 0, \"ticks\": \"\"}}, \"type\": \"scatter\"}], \"scatter3d\": [{\"line\": {\"colorbar\": {\"outlinewidth\": 0, \"ticks\": \"\"}}, \"marker\": {\"colorbar\": {\"outlinewidth\": 0, \"ticks\": \"\"}}, \"type\": \"scatter3d\"}], \"scattercarpet\": [{\"marker\": {\"colorbar\": {\"outlinewidth\": 0, \"ticks\": \"\"}}, \"type\": \"scattercarpet\"}], \"scattergeo\": [{\"marker\": {\"colorbar\": {\"outlinewidth\": 0, \"ticks\": \"\"}}, \"type\": \"scattergeo\"}], \"scattergl\": [{\"marker\": {\"colorbar\": {\"outlinewidth\": 0, \"ticks\": \"\"}}, \"type\": \"scattergl\"}], \"scattermapbox\": [{\"marker\": {\"colorbar\": {\"outlinewidth\": 0, \"ticks\": \"\"}}, \"type\": \"scattermapbox\"}], \"scatterpolar\": [{\"marker\": {\"colorbar\": {\"outlinewidth\": 0, \"ticks\": \"\"}}, \"type\": \"scatterpolar\"}], \"scatterpolargl\": [{\"marker\": {\"colorbar\": {\"outlinewidth\": 0, \"ticks\": \"\"}}, \"type\": \"scatterpolargl\"}], \"scatterternary\": [{\"marker\": {\"colorbar\": {\"outlinewidth\": 0, \"ticks\": \"\"}}, \"type\": \"scatterternary\"}], \"surface\": [{\"colorbar\": {\"outlinewidth\": 0, \"ticks\": \"\"}, \"colorscale\": [[0.0, \"#0d0887\"], [0.1111111111111111, \"#46039f\"], [0.2222222222222222, \"#7201a8\"], [0.3333333333333333, \"#9c179e\"], [0.4444444444444444, \"#bd3786\"], [0.5555555555555556, \"#d8576b\"], [0.6666666666666666, \"#ed7953\"], [0.7777777777777778, \"#fb9f3a\"], [0.8888888888888888, \"#fdca26\"], [1.0, \"#f0f921\"]], \"type\": \"surface\"}], \"table\": [{\"cells\": {\"fill\": {\"color\": \"#EBF0F8\"}, \"line\": {\"color\": \"white\"}}, \"header\": {\"fill\": {\"color\": \"#C8D4E3\"}, \"line\": {\"color\": \"white\"}}, \"type\": \"table\"}]}, \"layout\": {\"annotationdefaults\": {\"arrowcolor\": \"#2a3f5f\", \"arrowhead\": 0, \"arrowwidth\": 1}, \"coloraxis\": {\"colorbar\": {\"outlinewidth\": 0, \"ticks\": \"\"}}, \"colorscale\": {\"diverging\": [[0, \"#8e0152\"], [0.1, \"#c51b7d\"], [0.2, \"#de77ae\"], [0.3, \"#f1b6da\"], [0.4, \"#fde0ef\"], [0.5, \"#f7f7f7\"], [0.6, \"#e6f5d0\"], [0.7, \"#b8e186\"], [0.8, \"#7fbc41\"], [0.9, \"#4d9221\"], [1, \"#276419\"]], \"sequential\": [[0.0, \"#0d0887\"], [0.1111111111111111, \"#46039f\"], [0.2222222222222222, \"#7201a8\"], [0.3333333333333333, \"#9c179e\"], [0.4444444444444444, \"#bd3786\"], [0.5555555555555556, \"#d8576b\"], [0.6666666666666666, \"#ed7953\"], [0.7777777777777778, \"#fb9f3a\"], [0.8888888888888888, \"#fdca26\"], [1.0, \"#f0f921\"]], \"sequentialminus\": [[0.0, \"#0d0887\"], [0.1111111111111111, \"#46039f\"], [0.2222222222222222, \"#7201a8\"], [0.3333333333333333, \"#9c179e\"], [0.4444444444444444, \"#bd3786\"], [0.5555555555555556, \"#d8576b\"], [0.6666666666666666, \"#ed7953\"], [0.7777777777777778, \"#fb9f3a\"], [0.8888888888888888, \"#fdca26\"], [1.0, \"#f0f921\"]]}, \"colorway\": [\"#636efa\", \"#EF553B\", \"#00cc96\", \"#ab63fa\", \"#FFA15A\", \"#19d3f3\", \"#FF6692\", \"#B6E880\", \"#FF97FF\", \"#FECB52\"], \"font\": {\"color\": \"#2a3f5f\"}, \"geo\": {\"bgcolor\": \"white\", \"lakecolor\": \"white\", \"landcolor\": \"#E5ECF6\", \"showlakes\": true, \"showland\": true, \"subunitcolor\": \"white\"}, \"hoverlabel\": {\"align\": \"left\"}, \"hovermode\": \"closest\", \"mapbox\": {\"style\": \"light\"}, \"paper_bgcolor\": \"white\", \"plot_bgcolor\": \"#E5ECF6\", \"polar\": {\"angularaxis\": {\"gridcolor\": \"white\", \"linecolor\": \"white\", \"ticks\": \"\"}, \"bgcolor\": \"#E5ECF6\", \"radialaxis\": {\"gridcolor\": \"white\", \"linecolor\": \"white\", \"ticks\": \"\"}}, \"scene\": {\"xaxis\": {\"backgroundcolor\": \"#E5ECF6\", \"gridcolor\": \"white\", \"gridwidth\": 2, \"linecolor\": \"white\", \"showbackground\": true, \"ticks\": \"\", \"zerolinecolor\": \"white\"}, \"yaxis\": {\"backgroundcolor\": \"#E5ECF6\", \"gridcolor\": \"white\", \"gridwidth\": 2, \"linecolor\": \"white\", \"showbackground\": true, \"ticks\": \"\", \"zerolinecolor\": \"white\"}, \"zaxis\": {\"backgroundcolor\": \"#E5ECF6\", \"gridcolor\": \"white\", \"gridwidth\": 2, \"linecolor\": \"white\", \"showbackground\": true, \"ticks\": \"\", \"zerolinecolor\": \"white\"}}, \"shapedefaults\": {\"line\": {\"color\": \"#2a3f5f\"}}, \"ternary\": {\"aaxis\": {\"gridcolor\": \"white\", \"linecolor\": \"white\", \"ticks\": \"\"}, \"baxis\": {\"gridcolor\": \"white\", \"linecolor\": \"white\", \"ticks\": \"\"}, \"bgcolor\": \"#E5ECF6\", \"caxis\": {\"gridcolor\": \"white\", \"linecolor\": \"white\", \"ticks\": \"\"}}, \"title\": {\"x\": 0.05}, \"xaxis\": {\"automargin\": true, \"gridcolor\": \"white\", \"linecolor\": \"white\", \"ticks\": \"\", \"title\": {\"standoff\": 15}, \"zerolinecolor\": \"white\", \"zerolinewidth\": 2}, \"yaxis\": {\"automargin\": true, \"gridcolor\": \"white\", \"linecolor\": \"white\", \"ticks\": \"\", \"title\": {\"standoff\": 15}, \"zerolinecolor\": \"white\", \"zerolinewidth\": 2}}}, \"title\": {\"text\": \"USA Spread of Covid 19\", \"x\": 0.5}, \"updatemenus\": [{\"buttons\": [{\"args\": [null, {\"frame\": {\"duration\": 500, \"redraw\": true}, \"fromcurrent\": true, \"mode\": \"immediate\", \"transition\": {\"duration\": 500, \"easing\": \"linear\"}}], \"label\": \"&#9654;\", \"method\": \"animate\"}, {\"args\": [[null], {\"frame\": {\"duration\": 0, \"redraw\": true}, \"fromcurrent\": true, \"mode\": \"immediate\", \"transition\": {\"duration\": 0, \"easing\": \"linear\"}}], \"label\": \"&#9724;\", \"method\": \"animate\"}], \"direction\": \"left\", \"pad\": {\"r\": 10, \"t\": 70}, \"showactive\": false, \"type\": \"buttons\", \"x\": 0.1, \"xanchor\": \"right\", \"y\": 0, \"yanchor\": \"top\"}]},\n",
       "                        {\"responsive\": true}\n",
       "                    ).then(function(){\n",
       "                            Plotly.addFrames('b7b16535-e086-4e6f-a88c-871807c5c564', [{\"data\": [{\"coloraxis\": \"coloraxis\", \"geo\": \"geo\", \"hoverlabel\": {\"namelength\": 0}, \"hovertemplate\": \"Date=1/22/20<br>FIPS=%{location}<br>Confirmed=%{z}\", \"locations\": [53033.0], \"name\": \"\", \"z\": [1], \"type\": \"choropleth\"}], \"name\": \"1/22/20\"}, {\"data\": [{\"coloraxis\": \"coloraxis\", \"geo\": \"geo\", \"hoverlabel\": {\"namelength\": 0}, \"hovertemplate\": \"Date=1/23/20<br>FIPS=%{location}<br>Confirmed=%{z}\", \"locations\": [53033.0], \"name\": \"\", \"z\": [1], \"type\": \"choropleth\"}], \"name\": \"1/23/20\"}, {\"data\": [{\"coloraxis\": \"coloraxis\", \"geo\": \"geo\", \"hoverlabel\": {\"namelength\": 0}, \"hovertemplate\": \"Date=1/24/20<br>FIPS=%{location}<br>Confirmed=%{z}\", \"locations\": [17031.0, 53033.0], \"name\": \"\", \"z\": [1, 1], \"type\": \"choropleth\"}], \"name\": \"1/24/20\"}, {\"data\": [{\"coloraxis\": \"coloraxis\", \"geo\": \"geo\", \"hoverlabel\": {\"namelength\": 0}, \"hovertemplate\": \"Date=1/25/20<br>FIPS=%{location}<br>Confirmed=%{z}\", \"locations\": [17031.0, 53033.0], \"name\": \"\", \"z\": [1, 1], \"type\": \"choropleth\"}], \"name\": \"1/25/20\"}, {\"data\": [{\"coloraxis\": \"coloraxis\", \"geo\": \"geo\", \"hoverlabel\": {\"namelength\": 0}, \"hovertemplate\": \"Date=1/26/20<br>FIPS=%{location}<br>Confirmed=%{z}\", \"locations\": [4013.0, 12096.0, 17031.0, 53033.0], \"name\": \"\", \"z\": [1, 2, 1, 1], \"type\": \"choropleth\"}], \"name\": \"1/26/20\"}, {\"data\": [{\"coloraxis\": \"coloraxis\", \"geo\": \"geo\", \"hoverlabel\": {\"namelength\": 0}, \"hovertemplate\": \"Date=1/27/20<br>FIPS=%{location}<br>Confirmed=%{z}\", \"locations\": [4013.0, 12096.0, 17031.0, 53033.0], \"name\": \"\", \"z\": [1, 2, 1, 1], \"type\": \"choropleth\"}], \"name\": \"1/27/20\"}, {\"data\": [{\"coloraxis\": \"coloraxis\", \"geo\": \"geo\", \"hoverlabel\": {\"namelength\": 0}, \"hovertemplate\": \"Date=1/28/20<br>FIPS=%{location}<br>Confirmed=%{z}\", \"locations\": [4013.0, 12096.0, 17031.0, 53033.0], \"name\": \"\", \"z\": [1, 2, 1, 1], \"type\": \"choropleth\"}], \"name\": \"1/28/20\"}, {\"data\": [{\"coloraxis\": \"coloraxis\", \"geo\": \"geo\", \"hoverlabel\": {\"namelength\": 0}, \"hovertemplate\": \"Date=1/29/20<br>FIPS=%{location}<br>Confirmed=%{z}\", \"locations\": [4013.0, 12096.0, 17031.0, 53033.0], \"name\": \"\", \"z\": [1, 2, 1, 1], \"type\": \"choropleth\"}], \"name\": \"1/29/20\"}, {\"data\": [{\"coloraxis\": \"coloraxis\", \"geo\": \"geo\", \"hoverlabel\": {\"namelength\": 0}, \"hovertemplate\": \"Date=1/30/20<br>FIPS=%{location}<br>Confirmed=%{z}\", \"locations\": [4013.0, 12096.0, 17031.0, 53033.0], \"name\": \"\", \"z\": [1, 2, 1, 1], \"type\": \"choropleth\"}], \"name\": \"1/30/20\"}, {\"data\": [{\"coloraxis\": \"coloraxis\", \"geo\": \"geo\", \"hoverlabel\": {\"namelength\": 0}, \"hovertemplate\": \"Date=1/31/20<br>FIPS=%{location}<br>Confirmed=%{z}\", \"locations\": [4013.0, 18181.0, 17031.0, 53033.0], \"name\": \"\", \"z\": [1, 3, 2, 1], \"type\": \"choropleth\"}], \"name\": \"1/31/20\"}, {\"data\": [{\"coloraxis\": \"coloraxis\", \"geo\": \"geo\", \"hoverlabel\": {\"namelength\": 0}, \"hovertemplate\": \"Date=2/1/20<br>FIPS=%{location}<br>Confirmed=%{z}\", \"locations\": [4013.0, 18181.0, 17031.0, 25025.0, 53033.0], \"name\": \"\", \"z\": [1, 3, 2, 1, 1], \"type\": \"choropleth\"}], \"name\": \"2/1/20\"}, {\"data\": [{\"coloraxis\": \"coloraxis\", \"geo\": \"geo\", \"hoverlabel\": {\"namelength\": 0}, \"hovertemplate\": \"Date=2/10/20<br>FIPS=%{location}<br>Confirmed=%{z}\", \"locations\": [4013.0, 24250.0, 17031.0, 25025.0, 53033.0], \"name\": \"\", \"z\": [1, 6, 2, 1, 1], \"type\": \"choropleth\"}], \"name\": \"2/10/20\"}, {\"data\": [{\"coloraxis\": \"coloraxis\", \"geo\": \"geo\", \"hoverlabel\": {\"namelength\": 0}, \"hovertemplate\": \"Date=2/11/20<br>FIPS=%{location}<br>Confirmed=%{z}\", \"locations\": [4013.0, 30323.0, 17031.0, 25025.0, 53033.0], \"name\": \"\", \"z\": [1, 7, 2, 1, 1], \"type\": \"choropleth\"}], \"name\": \"2/11/20\"}, {\"data\": [{\"coloraxis\": \"coloraxis\", \"geo\": \"geo\", \"hoverlabel\": {\"namelength\": 0}, \"hovertemplate\": \"Date=2/12/20<br>FIPS=%{location}<br>Confirmed=%{z}\", \"locations\": [4013.0, 30323.0, 17031.0, 25025.0, 53033.0], \"name\": \"\", \"z\": [1, 7, 2, 1, 1], \"type\": \"choropleth\"}], \"name\": \"2/12/20\"}, {\"data\": [{\"coloraxis\": \"coloraxis\", \"geo\": \"geo\", \"hoverlabel\": {\"namelength\": 0}, \"hovertemplate\": \"Date=2/13/20<br>FIPS=%{location}<br>Confirmed=%{z}\", \"locations\": [4013.0, 30323.0, 17031.0, 25025.0, 53033.0], \"name\": \"\", \"z\": [1, 8, 2, 1, 1], \"type\": \"choropleth\"}], \"name\": \"2/13/20\"}, {\"data\": [{\"coloraxis\": \"coloraxis\", \"geo\": \"geo\", \"hoverlabel\": {\"namelength\": 0}, \"hovertemplate\": \"Date=2/14/20<br>FIPS=%{location}<br>Confirmed=%{z}\", \"locations\": [4013.0, 30323.0, 17031.0, 25025.0, 53033.0], \"name\": \"\", \"z\": [1, 8, 2, 1, 1], \"type\": \"choropleth\"}], \"name\": \"2/14/20\"}, {\"data\": [{\"coloraxis\": \"coloraxis\", \"geo\": \"geo\", \"hoverlabel\": {\"namelength\": 0}, \"hovertemplate\": \"Date=2/15/20<br>FIPS=%{location}<br>Confirmed=%{z}\", \"locations\": [4013.0, 30323.0, 17031.0, 25025.0, 53033.0], \"name\": \"\", \"z\": [1, 8, 2, 1, 1], \"type\": \"choropleth\"}], \"name\": \"2/15/20\"}, {\"data\": [{\"coloraxis\": \"coloraxis\", \"geo\": \"geo\", \"hoverlabel\": {\"namelength\": 0}, \"hovertemplate\": \"Date=2/16/20<br>FIPS=%{location}<br>Confirmed=%{z}\", \"locations\": [4013.0, 30323.0, 17031.0, 25025.0, 53033.0], \"name\": \"\", \"z\": [1, 8, 2, 1, 1], \"type\": \"choropleth\"}], \"name\": \"2/16/20\"}, {\"data\": [{\"coloraxis\": \"coloraxis\", \"geo\": \"geo\", \"hoverlabel\": {\"namelength\": 0}, \"hovertemplate\": \"Date=2/17/20<br>FIPS=%{location}<br>Confirmed=%{z}\", \"locations\": [4013.0, 30323.0, 17031.0, 25025.0, 53033.0], \"name\": \"\", \"z\": [1, 8, 2, 1, 1], \"type\": \"choropleth\"}], \"name\": \"2/17/20\"}, {\"data\": [{\"coloraxis\": \"coloraxis\", \"geo\": \"geo\", \"hoverlabel\": {\"namelength\": 0}, \"hovertemplate\": \"Date=2/18/20<br>FIPS=%{location}<br>Confirmed=%{z}\", \"locations\": [4013.0, 30323.0, 17031.0, 25025.0, 53033.0], \"name\": \"\", \"z\": [1, 8, 2, 1, 1], \"type\": \"choropleth\"}], \"name\": \"2/18/20\"}, {\"data\": [{\"coloraxis\": \"coloraxis\", \"geo\": \"geo\", \"hoverlabel\": {\"namelength\": 0}, \"hovertemplate\": \"Date=2/19/20<br>FIPS=%{location}<br>Confirmed=%{z}\", \"locations\": [4013.0, 30323.0, 17031.0, 25025.0, 53033.0], \"name\": \"\", \"z\": [1, 8, 2, 1, 1], \"type\": \"choropleth\"}], \"name\": \"2/19/20\"}, {\"data\": [{\"coloraxis\": \"coloraxis\", \"geo\": \"geo\", \"hoverlabel\": {\"namelength\": 0}, \"hovertemplate\": \"Date=2/2/20<br>FIPS=%{location}<br>Confirmed=%{z}\", \"locations\": [4013.0, 18181.0, 17031.0, 25025.0, 53033.0], \"name\": \"\", \"z\": [1, 3, 2, 1, 1], \"type\": \"choropleth\"}], \"name\": \"2/2/20\"}, {\"data\": [{\"coloraxis\": \"coloraxis\", \"geo\": \"geo\", \"hoverlabel\": {\"namelength\": 0}, \"hovertemplate\": \"Date=2/20/20<br>FIPS=%{location}<br>Confirmed=%{z}\", \"locations\": [4013.0, 30323.0, 17031.0, 25025.0, 53033.0], \"name\": \"\", \"z\": [1, 8, 2, 1, 1], \"type\": \"choropleth\"}], \"name\": \"2/20/20\"}, {\"data\": [{\"coloraxis\": \"coloraxis\", \"geo\": \"geo\", \"hoverlabel\": {\"namelength\": 0}, \"hovertemplate\": \"Date=2/21/20<br>FIPS=%{location}<br>Confirmed=%{z}\", \"locations\": [4013.0, 42413.0, 17031.0, 25025.0, 53033.0], \"name\": \"\", \"z\": [1, 10, 2, 1, 1], \"type\": \"choropleth\"}], \"name\": \"2/21/20\"}, {\"data\": [{\"coloraxis\": \"coloraxis\", \"geo\": \"geo\", \"hoverlabel\": {\"namelength\": 0}, \"hovertemplate\": \"Date=2/22/20<br>FIPS=%{location}<br>Confirmed=%{z}\", \"locations\": [4013.0, 42413.0, 17031.0, 25025.0, 53033.0], \"name\": \"\", \"z\": [1, 10, 2, 1, 1], \"type\": \"choropleth\"}], \"name\": \"2/22/20\"}, {\"data\": [{\"coloraxis\": \"coloraxis\", \"geo\": \"geo\", \"hoverlabel\": {\"namelength\": 0}, \"hovertemplate\": \"Date=2/23/20<br>FIPS=%{location}<br>Confirmed=%{z}\", \"locations\": [4013.0, 42413.0, 17031.0, 25025.0, 53033.0], \"name\": \"\", \"z\": [1, 10, 2, 1, 1], \"type\": \"choropleth\"}], \"name\": \"2/23/20\"}, {\"data\": [{\"coloraxis\": \"coloraxis\", \"geo\": \"geo\", \"hoverlabel\": {\"namelength\": 0}, \"hovertemplate\": \"Date=2/24/20<br>FIPS=%{location}<br>Confirmed=%{z}\", \"locations\": [4013.0, 42413.0, 17031.0, 25025.0, 53033.0], \"name\": \"\", \"z\": [1, 10, 2, 1, 1], \"type\": \"choropleth\"}], \"name\": \"2/24/20\"}, {\"data\": [{\"coloraxis\": \"coloraxis\", \"geo\": \"geo\", \"hoverlabel\": {\"namelength\": 0}, \"hovertemplate\": \"Date=2/25/20<br>FIPS=%{location}<br>Confirmed=%{z}\", \"locations\": [4013.0, 42413.0, 17031.0, 25025.0, 53033.0], \"name\": \"\", \"z\": [1, 10, 2, 1, 1], \"type\": \"choropleth\"}], \"name\": \"2/25/20\"}, {\"data\": [{\"coloraxis\": \"coloraxis\", \"geo\": \"geo\", \"hoverlabel\": {\"namelength\": 0}, \"hovertemplate\": \"Date=2/26/20<br>FIPS=%{location}<br>Confirmed=%{z}\", \"locations\": [4013.0, 42413.0, 17031.0, 25025.0, 53033.0], \"name\": \"\", \"z\": [1, 10, 2, 1, 1], \"type\": \"choropleth\"}], \"name\": \"2/26/20\"}, {\"data\": [{\"coloraxis\": \"coloraxis\", \"geo\": \"geo\", \"hoverlabel\": {\"namelength\": 0}, \"hovertemplate\": \"Date=2/27/20<br>FIPS=%{location}<br>Confirmed=%{z}\", \"locations\": [4013.0, 42413.0, 17031.0, 25025.0, 53033.0], \"name\": \"\", \"z\": [1, 11, 2, 1, 1], \"type\": \"choropleth\"}], \"name\": \"2/27/20\"}, {\"data\": [{\"coloraxis\": \"coloraxis\", \"geo\": \"geo\", \"hoverlabel\": {\"namelength\": 0}, \"hovertemplate\": \"Date=2/28/20<br>FIPS=%{location}<br>Confirmed=%{z}\", \"locations\": [4013.0, 42413.0, 17031.0, 25025.0, 53033.0], \"name\": \"\", \"z\": [1, 11, 2, 1, 1], \"type\": \"choropleth\"}], \"name\": \"2/28/20\"}, {\"data\": [{\"coloraxis\": \"coloraxis\", \"geo\": \"geo\", \"hoverlabel\": {\"namelength\": 0}, \"hovertemplate\": \"Date=2/29/20<br>FIPS=%{location}<br>Confirmed=%{z}\", \"locations\": [4013.0, 42413.0, 17031.0, 25025.0, 41067.0, 106094.0], \"name\": \"\", \"z\": [1, 12, 2, 1, 1, 7], \"type\": \"choropleth\"}], \"name\": \"2/29/20\"}, {\"data\": [{\"coloraxis\": \"coloraxis\", \"geo\": \"geo\", \"hoverlabel\": {\"namelength\": 0}, \"hovertemplate\": \"Date=2/3/20<br>FIPS=%{location}<br>Confirmed=%{z}\", \"locations\": [4013.0, 24250.0, 17031.0, 25025.0, 53033.0], \"name\": \"\", \"z\": [1, 6, 2, 1, 1], \"type\": \"choropleth\"}], \"name\": \"2/3/20\"}, {\"data\": [{\"coloraxis\": \"coloraxis\", \"geo\": \"geo\", \"hoverlabel\": {\"namelength\": 0}, \"hovertemplate\": \"Date=2/4/20<br>FIPS=%{location}<br>Confirmed=%{z}\", \"locations\": [4013.0, 24250.0, 17031.0, 25025.0, 53033.0], \"name\": \"\", \"z\": [1, 6, 2, 1, 1], \"type\": \"choropleth\"}], \"name\": \"2/4/20\"}, {\"data\": [{\"coloraxis\": \"coloraxis\", \"geo\": \"geo\", \"hoverlabel\": {\"namelength\": 0}, \"hovertemplate\": \"Date=2/5/20<br>FIPS=%{location}<br>Confirmed=%{z}\", \"locations\": [4013.0, 24250.0, 17031.0, 25025.0, 53033.0], \"name\": \"\", \"z\": [1, 6, 2, 1, 1], \"type\": \"choropleth\"}], \"name\": \"2/5/20\"}, {\"data\": [{\"coloraxis\": \"coloraxis\", \"geo\": \"geo\", \"hoverlabel\": {\"namelength\": 0}, \"hovertemplate\": \"Date=2/6/20<br>FIPS=%{location}<br>Confirmed=%{z}\", \"locations\": [4013.0, 24250.0, 17031.0, 25025.0, 53033.0], \"name\": \"\", \"z\": [1, 6, 2, 1, 1], \"type\": \"choropleth\"}], \"name\": \"2/6/20\"}, {\"data\": [{\"coloraxis\": \"coloraxis\", \"geo\": \"geo\", \"hoverlabel\": {\"namelength\": 0}, \"hovertemplate\": \"Date=2/7/20<br>FIPS=%{location}<br>Confirmed=%{z}\", \"locations\": [4013.0, 24250.0, 17031.0, 25025.0, 53033.0], \"name\": \"\", \"z\": [1, 6, 2, 1, 1], \"type\": \"choropleth\"}], \"name\": \"2/7/20\"}, {\"data\": [{\"coloraxis\": \"coloraxis\", \"geo\": \"geo\", \"hoverlabel\": {\"namelength\": 0}, \"hovertemplate\": \"Date=2/8/20<br>FIPS=%{location}<br>Confirmed=%{z}\", \"locations\": [4013.0, 24250.0, 17031.0, 25025.0, 53033.0], \"name\": \"\", \"z\": [1, 6, 2, 1, 1], \"type\": \"choropleth\"}], \"name\": \"2/8/20\"}, {\"data\": [{\"coloraxis\": \"coloraxis\", \"geo\": \"geo\", \"hoverlabel\": {\"namelength\": 0}, \"hovertemplate\": \"Date=2/9/20<br>FIPS=%{location}<br>Confirmed=%{z}\", \"locations\": [4013.0, 24250.0, 17031.0, 25025.0, 53033.0], \"name\": \"\", \"z\": [1, 6, 2, 1, 1], \"type\": \"choropleth\"}], \"name\": \"2/9/20\"}, {\"data\": [{\"coloraxis\": \"coloraxis\", \"geo\": \"geo\", \"hoverlabel\": {\"namelength\": 0}, \"hovertemplate\": \"Date=3/1/20<br>FIPS=%{location}<br>Confirmed=%{z}\", \"locations\": [4013.0, 42413.0, 17031.0, 25025.0, 41067.0, 44007.0, 106094.0], \"name\": \"\", \"z\": [1, 12, 3, 1, 1, 1, 11], \"type\": \"choropleth\"}], \"name\": \"3/1/20\"}, {\"data\": [{\"coloraxis\": \"coloraxis\", \"geo\": \"geo\", \"hoverlabel\": {\"namelength\": 0}, \"hovertemplate\": \"Date=3/10/20<br>FIPS=%{location}<br>Confirmed=%{z}\", \"locations\": [12053.0, 139455.0, 64328.0, 9001.0, 96566.0, 104930.0, 30004.0, 34120.0, 90285.0, 38258.0, 20091.0, 63275.0, 72089.0, 125093.0, 54142.0, 29189.0, 31055.0, 64034.0, 66024.0, 238127.0, 252631.0, 74220.0, 39035.0, 40143.0, 246256.0, 210453.0, 44007.0, 135157.0, 141381.0, 192626.0, 49011.0, 50003.0, 256066.0, 514339.0, 110118.0], \"name\": \"\", \"z\": [6, 144, 17, 1, 15, 17, 3, 12, 6, 8, 1, 5, 8, 41, 2, 1, 3, 4, 4, 15, 150, 7, 3, 2, 14, 12, 3, 7, 3, 16, 2, 1, 8, 167, 3], \"type\": \"choropleth\"}], \"name\": \"3/10/20\"}, {\"data\": [{\"coloraxis\": \"coloraxis\", \"geo\": \"geo\", \"hoverlabel\": {\"namelength\": 0}, \"hovertemplate\": \"Date=3/11/20<br>FIPS=%{location}<br>Confirmed=%{z}\", \"locations\": [12053.0, 157640.0, 72425.0, 18006.0, 10003.0, 156881.0, 117979.0, 15003.0, 68328.0, 144574.0, 38258.0, 20091.0, 63275.0, 22071.0, 72089.0, 150102.0, 52288.0, 108254.0, 29189.0, 62162.0, 64034.0, 66024.0, 272150.0, 70054.0, 252631.0, 74220.0, 78186.0, 40143.0, 369377.0, 252470.0, 44007.0, 180214.0, 276274.0, 188544.0, 337517.0, 98054.0, 50003.0, 307151.0, 636512.0, 110118.0], \"name\": \"\", \"z\": [9, 178, 34, 3, 1, 24, 23, 2, 25, 11, 13, 1, 8, 5, 9, 92, 2, 5, 1, 5, 7, 5, 23, 3, 220, 7, 4, 2, 19, 16, 5, 10, 8, 9, 21, 3, 1, 9, 282, 4], \"type\": \"choropleth\"}], \"name\": \"3/11/20\"}, {\"data\": [{\"coloraxis\": \"coloraxis\", \"geo\": \"geo\", \"hoverlabel\": {\"namelength\": 0}, \"hovertemplate\": \"Date=3/12/20<br>FIPS=%{location}<br>Confirmed=%{z}\", \"locations\": [12053.0, 163717.0, 80426.0, 18006.0, 10003.0, 193193.0, 157356.0, 15003.0, 68328.0, 162633.0, 38258.0, 20091.0, 63275.0, 110287.0, 23001.0, 96094.0, 150102.0, 78309.0, 189489.0, 28035.0, 29189.0, 62162.0, 64034.0, 66024.0, 374225.0, 105103.0, 468853.0, 222570.0, 38101.0, 117341.0, 80208.0, 451425.0, 336668.0, 44007.0, 180214.0, 230239.0, 235637.0, 337517.0, 98054.0, 100010.0, 306634.0, 726565.0, 220290.0, 56033.0], \"name\": \"\", \"z\": [9, 221, 49, 5, 1, 30, 31, 2, 32, 13, 14, 4, 10, 19, 1, 12, 107, 3, 9, 1, 1, 10, 10, 6, 29, 5, 327, 15, 1, 5, 3, 24, 22, 3, 7, 7, 18, 27, 3, 2, 12, 442, 8, 1], \"type\": \"choropleth\"}], \"name\": \"3/12/20\"}, {\"data\": [{\"coloraxis\": \"coloraxis\", \"geo\": \"geo\", \"hoverlabel\": {\"namelength\": 0}, \"hovertemplate\": \"Date=3/13/20<br>FIPS=%{location}<br>Confirmed=%{z}\", \"locations\": [92175.0, 90002.0, 12053.0, 90005.0, 163717.0, 120893.0, 18006.0, 10003.0, 331469.0, 196601.0, 15003.0, 90016.0, 68328.0, 162633.0, 76370.0, 60473.0, 174469.0, 66191.0, 113024.0, 168127.0, 150102.0, 325017.0, 306687.0, 146146.0, 148295.0, 90030.0, 93187.0, 64034.0, 66024.0, 442275.0, 105103.0, 540953.0, 333919.0, 38101.0, 195507.0, 80208.0, 451425.0, 462863.0, 134051.0, 180214.0, 276326.0, 376940.0, 482422.0, 237138.0, 100010.0, 550547.0, 885682.0, 385587.0, 56033.0], \"name\": \"\", \"z\": [5, 1, 9, 9, 281, 78, 11, 4, 50, 42, 2, 1, 46, 13, 17, 6, 14, 29, 3, 18, 123, 24, 14, 6, 4, 1, 14, 18, 6, 49, 10, 421, 17, 1, 12, 3, 30, 41, 12, 8, 8, 26, 44, 9, 2, 27, 568, 19, 1], \"type\": \"choropleth\"}], \"name\": \"3/13/20\"}, {\"data\": [{\"coloraxis\": \"coloraxis\", \"geo\": \"geo\", \"hoverlabel\": {\"namelength\": 0}, \"hovertemplate\": \"Date=3/14/20<br>FIPS=%{location}<br>Confirmed=%{z}\", \"locations\": [96523.0, 2020.0, 16062.0, 95074.0, 253723.0, 136983.0, 36018.0, 10003.0, 343552.0, 209808.0, 30010.0, 32014.0, 153801.0, 198903.0, 76370.0, 80374.0, 105627.0, 288629.0, 113024.0, 258151.0, 200108.0, 403162.0, 243789.0, 112256.0, 87349.0, 210314.0, 93187.0, 64034.0, 66024.0, 442275.0, 140146.0, 739234.0, 445072.0, 38101.0, 312666.0, 120317.0, 451425.0, 504866.0, 44007.0, 270290.0, 276326.0, 423953.0, 723081.0, 237138.0, 200060.0, 511537.0, 938745.0, 440726.0, 112046.0], \"name\": \"\", \"z\": [7, 1, 12, 12, 372, 103, 23, 6, 76, 73, 4, 2, 64, 16, 17, 8, 16, 77, 3, 27, 138, 36, 21, 6, 4, 5, 18, 20, 7, 69, 13, 613, 25, 1, 26, 4, 36, 47, 20, 19, 8, 32, 60, 10, 5, 37, 642, 27, 2], \"type\": \"choropleth\"}], \"name\": \"3/14/20\"}, {\"data\": [{\"coloraxis\": \"coloraxis\", \"geo\": \"geo\", \"hoverlabel\": {\"namelength\": 0}, \"hovertemplate\": \"Date=3/15/20<br>FIPS=%{location}<br>Confirmed=%{z}\", \"locations\": [6436.0, 2020.0, 16062.0, 5069.0, 169796.0, 145028.0, 36018.0, 10003.0, 277666.0, 249147.0, 45019.0, 48095.0, 170968.0, 216960.0, 95419.0, 80374.0, 105627.0, 198607.0, 46006.0, 192637.0, 200108.0, 339251.0, 243789.0, 112256.0, 87349.0, 150347.0, 93187.0, 64034.0, 66024.0, 476294.0, 140146.0, 649198.0, 482261.0, 38101.0, 390918.0, 120317.0, 451425.0, 504866.0, 44007.0, 270290.0, 276326.0, 423953.0, 771290.0, 147089.0, 200060.0, 511537.0, 848692.0, 440726.0, 112046.0], \"name\": \"\", \"z\": [11, 1, 12, 3, 373, 136, 24, 6, 100, 99, 6, 4, 66, 20, 18, 8, 18, 87, 2, 24, 138, 45, 21, 6, 5, 6, 17, 20, 7, 72, 13, 615, 32, 1, 30, 4, 36, 47, 20, 19, 8, 32, 63, 18, 5, 37, 603, 28, 2], \"type\": \"choropleth\"}], \"name\": \"3/15/20\"}, {\"data\": [{\"coloraxis\": \"coloraxis\", \"geo\": \"geo\", \"hoverlabel\": {\"namelength\": 0}, \"hovertemplate\": \"Date=3/16/20<br>FIPS=%{location}<br>Confirmed=%{z}\", \"locations\": [8634.0, 2020.0, 16062.0, 5069.0, 188007.0, 145028.0, 36018.0, 10003.0, 11001.0, 289699.0, 301911.0, 99999.0, 66.0, 45019.0, 48095.0, 188155.0, 253008.0, 133577.0, 80374.0, 147693.0, 242699.0, 92034.0, 264726.0, 250144.0, 391465.0, 325122.0, 196445.0, 116859.0, 150347.0, 93187.0, 96544.0, 132038.0, 476294.0, 140146.0, 865512.0, 556553.0, 38101.0, 469076.0, 280551.0, 492496.0, 589022.0, 72999.0, 44007.0, 405393.0, 322361.0, 471108.0, 915769.0, 245185.0, 250077.0, 78.0, 717484.0, 1007791.0, 606013.0, 112046.0], \"name\": \"\", \"z\": [29, 1, 18, 3, 557, 161, 41, 8, 22, 101, 121, 20, 3, 8, 4, 83, 25, 23, 11, 21, 115, 17, 42, 187, 76, 53, 12, 8, 6, 18, 45, 17, 176, 21, 967, 39, 1, 50, 10, 39, 79, 5, 21, 30, 10, 52, 85, 28, 12, 1, 49, 779, 48, 2], \"type\": \"choropleth\"}], \"name\": \"3/16/20\"}, {\"data\": [{\"coloraxis\": \"coloraxis\", \"geo\": \"geo\", \"hoverlabel\": {\"namelength\": 0}, \"hovertemplate\": \"Date=3/17/20<br>FIPS=%{location}<br>Confirmed=%{z}\", \"locations\": [10838.0, 4110.0, 20079.0, 5069.0, 200089.0, 145028.0, 36018.0, 20008.0, 88888.0, 11001.0, 325882.0, 328411.0, 99999.0, 66.0, 45019.0, 64160.0, 256721.0, 271085.0, 133577.0, 120476.0, 168836.0, 286849.0, 161093.0, 264726.0, 250144.0, 443691.0, 325122.0, 252551.0, 233061.0, 150305.0, 124340.0, 96544.0, 132038.0, 510309.0, 175201.0, 1081936.0, 705041.0, 76118.0, 625328.0, 320668.0, 533499.0, 631029.0, 72999.0, 44007.0, 585619.0, 322361.0, 471108.0, 1060690.0, 245185.0, 250077.0, 78.0, 922767.0, 1113837.0, 606013.0, 168067.0], \"name\": \"\", \"z\": [39, 3, 20, 3, 700, 183, 68, 16, 47, 22, 190, 146, 21, 3, 10, 8, 161, 30, 23, 18, 26, 196, 26, 60, 217, 90, 59, 21, 14, 8, 23, 55, 26, 250, 23, 1578, 64, 3, 67, 17, 66, 112, 5, 23, 47, 11, 74, 110, 39, 12, 2, 67, 955, 73, 11], \"type\": \"choropleth\"}], \"name\": \"3/17/20\"}, {\"data\": [{\"coloraxis\": \"coloraxis\", \"geo\": \"geo\", \"hoverlabel\": {\"namelength\": 0}, \"hovertemplate\": \"Date=3/18/20<br>FIPS=%{location}<br>Confirmed=%{z}\", \"locations\": [11853.0, 4110.0, 20079.0, 10212.0, 200089.0, 153153.0, 45025.0, 30009.0, 88888.0, 11001.0, 325888.0, 367708.0, 99999.0, 66.0, 45019.0, 64160.0, 290933.0, 325224.0, 209965.0, 140579.0, 168836.0, 286849.0, 161099.0, 264726.0, 275155.0, 469784.0, 433468.0, 364733.0, 233061.0, 150305.0, 155451.0, 96544.0, 165051.0, 578351.0, 175201.0, 1262259.0, 890524.0, 152192.0, 781564.0, 320668.0, 574538.0, 841362.0, 72999.0, 44007.0, 630680.0, 322361.0, 612441.0, 1687569.0, 294234.0, 300078.0, 78.0, 1128953.0, 1219903.0, 54037.0, 826343.0, 224096.0], \"name\": \"\", \"z\": [51, 5, 27, 4, 831, 216, 96, 19, 47, 31, 306, 197, 21, 5, 15, 9, 272, 38, 38, 22, 28, 257, 35, 85, 252, 159, 77, 34, 21, 10, 24, 55, 37, 397, 28, 3038, 92, 6, 89, 17, 75, 155, 5, 33, 60, 11, 100, 196, 47, 13, 2, 79, 1022, 1, 111, 16], \"type\": \"choropleth\"}], \"name\": \"3/18/20\"}, {\"data\": [{\"coloraxis\": \"coloraxis\", \"geo\": \"geo\", \"hoverlabel\": {\"namelength\": 0}, \"hovertemplate\": \"Date=3/19/20<br>FIPS=%{location}<br>Confirmed=%{z}\", \"locations\": [16215.0, 6240.0, 24084.0, 100217.0, 206134.0, 177314.0, 144047.0, 30009.0, 88888.0, 11001.0, 422506.0, 536583.0, 99999.0, 66.0, 135034.0, 96298.0, 466605.0, 452047.0, 248165.0, 200862.0, 322134.0, 465215.0, 274131.0, 288735.0, 390195.0, 611892.0, 514857.0, 617766.0, 410485.0, 240335.0, 186452.0, 186576.0, 255084.0, 736431.0, 210248.0, 1424453.0, 1076077.0, 152192.0, 937896.0, 521075.0, 574538.0, 925566.0, 72999.0, 44007.0, 765797.0, 322361.0, 749523.0, 1874501.0, 343239.0, 390128.0, 78.0, 1423903.0, 1309956.0, 108092.0, 1266763.0, 280135.0], \"name\": \"\", \"z\": [78, 8, 45, 62, 1009, 278, 159, 30, 47, 40, 432, 287, 22, 12, 25, 23, 422, 60, 44, 35, 50, 392, 52, 107, 328, 314, 89, 50, 42, 11, 29, 95, 42, 741, 35, 5704, 136, 19, 119, 44, 88, 206, 5, 44, 80, 14, 154, 306, 62, 22, 3, 103, 1374, 2, 159, 18], \"type\": \"choropleth\"}], \"name\": \"3/19/20\"}, {\"data\": [{\"coloraxis\": \"coloraxis\", \"geo\": \"geo\", \"hoverlabel\": {\"namelength\": 0}, \"hovertemplate\": \"Date=3/2/20<br>FIPS=%{location}<br>Confirmed=%{z}\", \"locations\": [4013.0, 60652.0, 12057.0, 17031.0, 25025.0, 33009.0, 36061.0, 82126.0, 44007.0, 106094.0], \"name\": \"\", \"z\": [1, 21, 1, 4, 1, 1, 1, 3, 2, 18], \"type\": \"choropleth\"}], \"name\": \"3/2/20\"}, {\"data\": [{\"coloraxis\": \"coloraxis\", \"geo\": \"geo\", \"hoverlabel\": {\"namelength\": 0}, \"hovertemplate\": \"Date=3/20/20<br>FIPS=%{location}<br>Confirmed=%{z}\", \"locations\": [20567.0, 6240.0, 40162.0, 100217.0, 206134.0, 201534.0, 72064.0, 30009.0, 88888.0, 11001.0, 434593.0, 787302.0, 99999.0, 66.0, 45019.0, 144379.0, 500719.0, 506338.0, 248165.0, 261351.0, 400977.0, 707852.0, 251122.0, 336827.0, 390195.0, 547915.0, 541750.0, 898636.0, 468755.0, 360555.0, 338719.0, 218583.0, 288089.0, 770442.0, 245279.0, 1532692.0, 1372539.0, 228332.0, 1211499.0, 561124.0, 656622.0, 1093754.0, 72999.0, 134051.0, 1126151.0, 322361.0, 1267248.0, 2356747.0, 343239.0, 390128.0, 78.0, 1538220.0, 1415970.0, 324320.0, 1597089.0, 336140.0], \"name\": \"\", \"z\": [106, 11, 68, 100, 1243, 364, 194, 39, 49, 71, 564, 485, 23, 14, 36, 36, 585, 86, 45, 48, 64, 537, 56, 149, 413, 471, 113, 80, 79, 20, 37, 161, 53, 890, 42, 8403, 189, 26, 173, 49, 114, 311, 14, 54, 126, 14, 223, 429, 95, 29, 3, 123, 1524, 8, 219, 21], \"type\": \"choropleth\"}], \"name\": \"3/20/20\"}, {\"data\": [{\"coloraxis\": \"coloraxis\", \"geo\": \"geo\", \"hoverlabel\": {\"namelength\": 0}, \"hovertemplate\": \"Date=3/21/20<br>FIPS=%{location}<br>Confirmed=%{z}\", \"locations\": [22703.0, 6240.0, 44163.0, 100217.0, 218190.0, 323734.0, 72064.0, 30009.0, 88888.0, 11001.0, 584914.0, 826679.0, 99999.0, 66.0, 45019.0, 128336.0, 534777.0, 596739.0, 343762.0, 281474.0, 490998.0, 862125.0, 274145.0, 408912.0, 390195.0, 782418.0, 677293.0, 1072771.0, 436824.0, 390636.0, 279707.0, 218583.0, 264080.0, 770442.0, 280304.0, 1550787.0, 1558042.0, 228332.0, 1289577.0, 561124.0, 697655.0, 1219909.0, 72999.0, 310069.0, 1396437.0, 322361.0, 1554139.0, 2550367.0, 343239.0, 450135.0, 78.0, 1640418.0, 1575161.0, 378371.0, 1597089.0, 448172.0], \"name\": \"\", \"z\": [131, 13, 104, 122, 1412, 475, 194, 45, 49, 98, 763, 555, 23, 15, 36, 42, 753, 128, 69, 57, 87, 763, 70, 193, 523, 625, 134, 140, 89, 27, 38, 161, 61, 1327, 55, 11727, 256, 28, 247, 53, 137, 399, 21, 66, 174, 14, 304, 582, 118, 49, 6, 157, 1793, 12, 282, 23], \"type\": \"choropleth\"}], \"name\": \"3/21/20\"}, {\"data\": [{\"coloraxis\": \"coloraxis\", \"geo\": \"geo\", \"hoverlabel\": {\"namelength\": 0}, \"hovertemplate\": \"Date=3/22/20<br>FIPS=%{location}<br>Confirmed=%{z}\", \"locations\": [22703.0, 6240.0, 44163.0, 227078.0, 242460.0, 331809.0, 72064.0, 30009.0, 88888.0, 11001.0, 645061.0, 879123.0, 99999.0, 66.0, 45019.0, 128336.0, 603305.0, 723592.0, 458592.0, 281474.0, 490998.0, 862125.0, 274145.0, 456992.0, 390195.0, 912871.0, 731393.0, 1460458.0, 494938.0, 420649.0, 279707.0, 218583.0, 264092.0, 804475.0, 315317.0, 1676846.0, 1669423.0, 228332.0, 1680425.0, 641328.0, 697655.0, 1388189.0, 72999.0, 310069.0, 1486539.0, 368374.0, 1930811.0, 2845749.0, 343239.0, 450135.0, 78.0, 1997821.0, 1681259.0, 432450.0, 1597089.0, 448172.0], \"name\": \"\", \"z\": [157, 18, 152, 165, 1651, 595, 327, 56, 49, 102, 1004, 621, 30, 27, 53, 42, 1049, 204, 90, 65, 103, 837, 89, 244, 640, 1131, 167, 207, 122, 34, 51, 190, 73, 1914, 57, 15800, 305, 28, 356, 67, 161, 509, 23, 83, 196, 21, 393, 643, 162, 52, 6, 220, 1997, 16, 381, 26], \"type\": \"choropleth\"}], \"name\": \"3/22/20\"}, {\"data\": [{\"coloraxis\": \"coloraxis\", \"geo\": \"geo\", \"hoverlabel\": {\"namelength\": 0}, \"hovertemplate\": \"Date=3/23/20<br>FIPS=%{location}<br>Confirmed=%{z}\", \"locations\": [25954.0, 10472.0, 44163.0, 262613.0, 254524.0, 339928.0, 72064.0, 30009.0, 88888.0, 11001.0, 555049.0, 971444.0, 99999.0, 66.0, 60020.0, 176457.0, 620438.0, 831759.0, 496852.0, 341621.0, 639003.0, 994385.0, 297158.0, 505030.0, 390195.0, 1097303.0, 902617.0, 1544757.0, 876083.0, 420649.0, 279707.0, 218583.0, 387126.0, 804475.0, 385367.0, 1821066.0, 1892251.0, 228332.0, 1797730.0, 681451.0, 738682.0, 1430210.0, 72999.0, 310069.0, 1531560.0, 506553.0, 2289287.0, 3376382.0, 472341.0, 600174.0, 78.0, 1998422.0, 1734254.0, 432450.0, 1652116.0, 448172.0], \"name\": \"\", \"z\": [196, 30, 235, 192, 2113, 723, 415, 68, 49, 120, 1227, 772, 28, 29, 56, 68, 1285, 270, 105, 84, 123, 1172, 107, 290, 777, 1454, 234, 249, 225, 34, 51, 245, 101, 2844, 83, 20884, 353, 30, 443, 81, 191, 698, 31, 106, 298, 28, 614, 758, 257, 75, 7, 254, 2221, 16, 425, 26], \"type\": \"choropleth\"}], \"name\": \"3/23/20\"}, {\"data\": [{\"coloraxis\": \"coloraxis\", \"geo\": \"geo\", \"hoverlabel\": {\"namelength\": 0}, \"hovertemplate\": \"Date=3/24/20<br>FIPS=%{location}<br>Confirmed=%{z}\", \"locations\": [28058.0, 10472.0, 44163.0, 277816.0, 254524.0, 372122.0, 72064.0, 30009.0, 88888.0, 11001.0, 555049.0, 1207878.0, 99999.0, 66.0, 150035.0, 192508.0, 530285.0, 904374.0, 663201.0, 381871.0, 808121.0, 1038599.0, 230162.0, 505030.0, 390195.0, 1253805.0, 812590.0, 1628980.0, 963512.0, 420649.0, 404225.0, 282611.0, 297093.0, 804475.0, 455382.0, 1839143.0, 2114585.0, 304456.0, 1953976.0, 721548.0, 779689.0, 1682466.0, 72999.0, 310069.0, 1621654.0, 552564.0, 2383411.0, 3714521.0, 472341.0, 600174.0, 78.0, 2254430.0, 1734254.0, 486483.0, 1707165.0, 448172.0], \"name\": \"\", \"z\": [242, 34, 326, 219, 2542, 912, 618, 104, 49, 141, 1412, 1026, 28, 32, 90, 81, 1537, 368, 124, 100, 162, 1388, 118, 349, 1159, 1942, 261, 320, 291, 51, 66, 278, 101, 3675, 100, 25681, 495, 36, 567, 106, 210, 946, 39, 124, 342, 30, 772, 955, 298, 95, 17, 293, 2328, 22, 481, 29], \"type\": \"choropleth\"}], \"name\": \"3/24/20\"}, {\"data\": [{\"coloraxis\": \"coloraxis\", \"geo\": \"geo\", \"hoverlabel\": {\"namelength\": 0}, \"hovertemplate\": \"Date=3/25/20<br>FIPS=%{location}<br>Confirmed=%{z}\", \"locations\": [41811.0, 10472.0, 44163.0, 277800.0, 254436.0, 380211.0, 72064.0, 30009.0, 88888.0, 11001.0, 555049.0, 1366190.0, 99999.0, 66.0, 150035.0, 208577.0, 671573.0, 958605.0, 611250.0, 422181.0, 829124.0, 1149006.0, 320185.0, 529059.0, 390195.0, 1384370.0, 866808.0, 1713115.0, 1106419.0, 390703.0, 404225.0, 314630.0, 297093.0, 804475.0, 525436.0, 1875176.0, 2225812.0, 380576.0, 2149515.0, 1082179.0, 820730.0, 1850802.0, 72999.0, 310069.0, 1756897.0, 644740.0, 2571773.0, 4342432.0, 423336.0, 690224.0, 78.0, 2716741.0, 1734254.0, 648670.0, 1872308.0, 560210.0], \"name\": \"\", \"z\": [381, 41, 401, 280, 3009, 1087, 875, 119, 49, 187, 1682, 1247, 28, 37, 91, 91, 1865, 477, 146, 134, 197, 1795, 142, 425, 1838, 2468, 286, 377, 382, 65, 71, 323, 108, 4402, 113, 30841, 590, 45, 704, 164, 266, 1260, 51, 132, 424, 41, 916, 1229, 340, 125, 17, 396, 2591, 39, 621, 44], \"type\": \"choropleth\"}], \"name\": \"3/25/20\"}, {\"data\": [{\"coloraxis\": \"coloraxis\", \"geo\": \"geo\", \"hoverlabel\": {\"namelength\": 0}, \"hovertemplate\": \"Date=3/26/20<br>FIPS=%{location}<br>Confirmed=%{z}\", \"locations\": [51272.0, 10472.0, 52190.0, 298124.0, 266652.0, 404500.0, 72064.0, 30009.0, 88888.0, 11001.0, 555049.0, 1366382.0, 99999.0, 66.0, 150035.0, 272781.0, 671573.0, 1085516.0, 706701.0, 482620.0, 829124.0, 1237298.0, 343192.0, 529059.0, 390195.0, 1514875.0, 948185.0, 1825479.0, 1280811.0, 480916.0, 404225.0, 314630.0, 297093.0, 804475.0, 525436.0, 1911249.0, 2300104.0, 418625.0, 2345048.0, 1322687.0, 902852.0, 2019032.0, 72999.0, 310069.0, 1756897.0, 644740.0, 2760025.0, 4825096.0, 423336.0, 690224.0, 78.0, 3075715.0, 1840320.0, 918943.0, 2092722.0, 616229.0], \"name\": \"\", \"z\": [517, 56, 508, 335, 3910, 1430, 1012, 130, 49, 231, 2357, 1525, 28, 45, 95, 146, 2538, 645, 179, 172, 247, 2304, 155, 583, 2417, 3032, 344, 485, 577, 90, 74, 420, 137, 6876, 113, 37877, 738, 51, 868, 248, 316, 1795, 64, 165, 424, 46, 1097, 1563, 396, 158, 17, 466, 3207, 52, 728, 53], \"type\": \"choropleth\"}], \"name\": \"3/26/20\"}, {\"data\": [{\"coloraxis\": \"coloraxis\", \"geo\": \"geo\", \"hoverlabel\": {\"namelength\": 0}, \"hovertemplate\": \"Date=3/27/20<br>FIPS=%{location}<br>Confirmed=%{z}\", \"locations\": [55628.0, 10472.0, 52190.0, 303141.0, 356658.0, 436608.0, 72064.0, 30009.0, 88888.0, 11001.0, 579303.0, 1432111.0, 99999.0, 66.0, 150035.0, 272781.0, 667079.0, 1212063.0, 878654.0, 623215.0, 829124.0, 1237298.0, 343192.0, 529059.0, 390195.0, 1619087.0, 1056403.0, 1909830.0, 1455653.0, 541030.0, 525355.0, 346643.0, 387126.0, 804475.0, 525436.0, 1911249.0, 2411509.0, 456676.0, 2384099.0, 1522944.0, 984910.0, 2061151.0, 72999.0, 310069.0, 1756897.0, 875121.0, 2854355.0, 5308418.0, 423336.0, 690224.0, 78.0, 3588672.0, 1840320.0, 973064.0, 2292903.0, 728287.0], \"name\": \"\", \"z\": [587, 58, 665, 381, 4679, 1738, 1291, 163, 49, 271, 2900, 2000, 28, 51, 106, 205, 3024, 979, 235, 206, 301, 2744, 168, 775, 3240, 3848, 396, 579, 744, 109, 82, 536, 158, 8825, 136, 44876, 887, 68, 1137, 322, 416, 2345, 79, 203, 542, 58, 1318, 1937, 472, 184, 19, 607, 3477, 76, 926, 70], \"type\": \"choropleth\"}], \"name\": \"3/27/20\"}, {\"data\": [{\"coloraxis\": \"coloraxis\", \"geo\": \"geo\", \"hoverlabel\": {\"namelength\": 0}, \"hovertemplate\": \"Date=3/28/20<br>FIPS=%{location}<br>Confirmed=%{z}\", \"locations\": [57780.0, 12642.0, 56197.0, 313221.0, 278694.0, 444689.0, 72064.0, 30009.0, 88888.0, 11001.0, 591378.0, 1511269.0, 99999.0, 66.0, 150035.0, 320908.0, 825376.0, 1338868.0, 955114.0, 643272.0, 871364.0, 1325558.0, 343192.0, 529059.0, 390195.0, 1709213.0, 1110505.0, 1993887.0, 1484662.0, 541030.0, 528503.0, 346643.0, 297093.0, 804475.0, 595538.0, 1983355.0, 2745248.0, 684960.0, 2579528.0, 1603128.0, 984910.0, 2355652.0, 72999.0, 310069.0, 1801956.0, 1059419.0, 3278184.0, 5645223.0, 521378.0, 690224.0, 78.0, 3793630.0, 1803326.0, 1135191.0, 2313036.0, 840331.0], \"name\": \"\", \"z\": [694, 85, 773, 409, 5110, 2061, 1524, 214, 49, 304, 3763, 2366, 103, 55, 149, 234, 3491, 1233, 298, 266, 380, 3315, 211, 995, 4257, 4890, 441, 663, 864, 129, 96, 626, 187, 11124, 208, 52410, 1020, 94, 1406, 377, 479, 2845, 100, 239, 660, 68, 1511, 2455, 602, 211, 22, 740, 4030, 96, 1055, 82], \"type\": \"choropleth\"}], \"name\": \"3/28/20\"}, {\"data\": [{\"coloraxis\": \"coloraxis\", \"geo\": \"geo\", \"hoverlabel\": {\"namelength\": 0}, \"hovertemplate\": \"Date=3/29/20<br>FIPS=%{location}<br>Confirmed=%{z}\", \"locations\": [58867.0, 12642.0, 56197.0, 323323.0, 284715.0, 460851.0, 72064.0, 30009.0, 88888.0, 11001.0, 603429.0, 1576684.0, 99999.0, 66.0, 150035.0, 352998.0, 893740.0, 1411178.0, 955114.0, 703771.0, 1314803.0, 1391745.0, 366217.0, 529059.0, 390195.0, 1709213.0, 1218749.0, 2106077.0, 1572187.0, 571053.0, 649607.0, 346643.0, 297093.0, 804475.0, 595538.0, 1983355.0, 2819488.0, 684960.0, 2579528.0, 1763578.0, 984910.0, 2439860.0, 72999.0, 310069.0, 1801956.0, 1289752.0, 3560700.0, 5741809.0, 717436.0, 690224.0, 78.0, 4102388.0, 1893379.0, 1135191.0, 2313036.0, 840331.0], \"name\": \"\", \"z\": [825, 102, 919, 426, 5863, 2308, 1993, 232, 49, 342, 4246, 2651, 103, 56, 149, 281, 4596, 1513, 336, 330, 438, 3540, 253, 1239, 4955, 5753, 503, 759, 934, 154, 108, 920, 214, 13386, 237, 59648, 1191, 98, 1653, 429, 548, 3432, 127, 294, 774, 90, 1720, 2792, 720, 235, 23, 890, 4465, 113, 1164, 86], \"type\": \"choropleth\"}], \"name\": \"3/29/20\"}, {\"data\": [{\"coloraxis\": \"coloraxis\", \"geo\": \"geo\", \"hoverlabel\": {\"namelength\": 0}, \"hovertemplate\": \"Date=3/3/20<br>FIPS=%{location}<br>Confirmed=%{z}\", \"locations\": [4013.0, 66653.0, 12057.0, 13121.0, 17031.0, 50046.0, 33009.0, 72180.0, 37183.0, 82126.0, 44007.0, 106094.0], \"name\": \"\", \"z\": [1, 25, 2, 2, 4, 2, 2, 2, 1, 3, 2, 27], \"type\": \"choropleth\"}], \"name\": \"3/3/20\"}, {\"data\": [{\"coloraxis\": \"coloraxis\", \"geo\": \"geo\", \"hoverlabel\": {\"namelength\": 0}, \"hovertemplate\": \"Date=3/30/20<br>FIPS=%{location}<br>Confirmed=%{z}\", \"locations\": [61996.0, 12642.0, 60208.0, 338486.0, 284715.0, 468858.0, 162073.0, 30009.0, 88888.0, 11001.0, 717613.0, 1668555.0, 99999.0, 66.0, 150035.0, 352998.0, 979239.0, 1429195.0, 1069626.0, 764000.0, 1314803.0, 1391745.0, 366217.0, 529059.0, 390195.0, 1813569.0, 1300068.0, 2168102.0, 1834362.0, 571053.0, 712023.0, 346643.0, 387126.0, 804475.0, 595538.0, 1983355.0, 2856711.0, 723003.0, 2735894.0, 1883705.0, 984910.0, 2481979.0, 72999.0, 310069.0, 1846967.0, 1381862.0, 3607755.0, 6080116.0, 472373.0, 690224.0, 78.0, 4410086.0, 1893379.0, 1459645.0, 2423166.0, 840331.0], \"name\": \"\", \"z\": [899, 114, 1157, 473, 7155, 2627, 2571, 264, 49, 401, 5473, 2808, 103, 58, 175, 340, 5056, 1786, 424, 372, 479, 4025, 275, 1413, 5752, 6803, 576, 847, 1289, 171, 145, 1012, 314, 16636, 237, 66663, 1313, 109, 1933, 481, 606, 4155, 174, 408, 925, 101, 1917, 3147, 798, 256, 30, 1020, 4923, 145, 1230, 94], \"type\": \"choropleth\"}], \"name\": \"3/30/20\"}, {\"data\": [{\"coloraxis\": \"coloraxis\", \"geo\": \"geo\", \"hoverlabel\": {\"namelength\": 0}, \"hovertemplate\": \"Date=3/31/20<br>FIPS=%{location}<br>Confirmed=%{z}\", \"locations\": [63115.0, 12642.0, 60208.0, 348710.0, 290824.0, 493127.0, 162073.0, 30009.0, 88888.0, 11001.0, 753810.0, 1905795.0, 99999.0, 66.0, 150035.0, 417182.0, 996292.0, 1447272.0, 1159645.0, 824127.0, 1505194.0, 1413844.0, 366217.0, 529059.0, 390195.0, 1943924.0, 1408338.0, 2134218.0, 1921854.0, 601118.0, 743026.0, 378676.0, 297093.0, 804475.0, 630595.0, 2019404.0, 3005035.0, 799145.0, 69.0, 2775021.0, 1963745.0, 1067018.0, 2523988.0, 72999.0, 310069.0, 1891976.0, 1381920.0, 3937720.0, 6563138.0, 717482.0, 690224.0, 78.0, 4871063.0, 1893379.0, 1513676.0, 2643292.0, 840331.0], \"name\": \"\", \"z\": [987, 119, 1289, 523, 8233, 2966, 3128, 319, 49, 495, 6741, 3929, 103, 69, 204, 515, 5994, 2158, 497, 434, 628, 5237, 303, 1660, 6620, 7951, 629, 937, 1550, 198, 172, 1114, 357, 18696, 315, 75833, 1535, 122, 2, 2199, 568, 690, 4963, 239, 488, 1083, 108, 2391, 3809, 888, 293, 30, 1249, 5432, 162, 1412, 109], \"type\": \"choropleth\"}], \"name\": \"3/31/20\"}, {\"data\": [{\"coloraxis\": \"coloraxis\", \"geo\": \"geo\", \"hoverlabel\": {\"namelength\": 0}, \"hovertemplate\": \"Date=3/4/20<br>FIPS=%{location}<br>Confirmed=%{z}\", \"locations\": [4013.0, 72666.0, 12057.0, 13121.0, 17031.0, 50046.0, 33009.0, 72180.0, 37183.0, 82126.0, 44007.0, 106094.0], \"name\": \"\", \"z\": [1, 35, 2, 2, 4, 2, 2, 11, 1, 3, 2, 39], \"type\": \"choropleth\"}], \"name\": \"3/4/20\"}, {\"data\": [{\"coloraxis\": \"coloraxis\", \"geo\": \"geo\", \"hoverlabel\": {\"namelength\": 0}, \"hovertemplate\": \"Date=3/5/20<br>FIPS=%{location}<br>Confirmed=%{z}\", \"locations\": [4013.0, 78741.0, 16094.0, 24170.0, 13121.0, 17031.0, 50046.0, 32003.0, 33009.0, 34003.0, 108239.0, 37183.0, 82126.0, 44007.0, 47187.0, 96358.0, 159119.0], \"name\": \"\", \"z\": [1, 51, 2, 3, 2, 5, 2, 1, 2, 2, 23, 1, 3, 2, 1, 3, 70], \"type\": \"choropleth\"}], \"name\": \"3/5/20\"}, {\"data\": [{\"coloraxis\": \"coloraxis\", \"geo\": \"geo\", \"hoverlabel\": {\"namelength\": 0}, \"hovertemplate\": \"Date=3/6/20<br>FIPS=%{location}<br>Confirmed=%{z}\", \"locations\": [4013.0, 84854.0, 40203.0, 24170.0, 26354.0, 17031.0, 18097.0, 21067.0, 24031.0, 75063.0, 27123.0, 31055.0, 64034.0, 33009.0, 34003.0, 108239.0, 74220.0, 82126.0, 84172.0, 44007.0, 47187.0, 96358.0, 159119.0], \"name\": \"\", \"z\": [2, 59, 8, 3, 3, 5, 1, 1, 3, 6, 1, 1, 2, 2, 2, 31, 2, 3, 2, 2, 1, 4, 78], \"type\": \"choropleth\"}], \"name\": \"3/6/20\"}, {\"data\": [{\"coloraxis\": \"coloraxis\", \"geo\": \"geo\", \"hoverlabel\": {\"namelength\": 0}, \"hovertemplate\": \"Date=3/7/20<br>FIPS=%{location}<br>Confirmed=%{z}\", \"locations\": [8034.0, 90893.0, 40203.0, 48252.0, 39421.0, 15003.0, 17031.0, 18097.0, 21067.0, 24031.0, 75063.0, 27123.0, 31055.0, 64034.0, 33009.0, 34003.0, 180417.0, 74220.0, 40143.0, 164190.0, 84172.0, 44007.0, 90074.0, 47187.0, 96358.0, 49011.0, 318214.0], \"name\": \"\", \"z\": [4, 81, 8, 7, 5, 1, 6, 1, 1, 3, 6, 1, 1, 2, 2, 4, 76, 2, 1, 6, 2, 3, 2, 1, 8, 1, 102], \"type\": \"choropleth\"}], \"name\": \"3/7/20\"}, {\"data\": [{\"coloraxis\": \"coloraxis\", \"geo\": \"geo\", \"hoverlabel\": {\"namelength\": 0}, \"hovertemplate\": \"Date=3/8/20<br>FIPS=%{location}<br>Confirmed=%{z}\", \"locations\": [8034.0, 102977.0, 40203.0, 84551.0, 39421.0, 15003.0, 17031.0, 36160.0, 20091.0, 21067.0, 48056.0, 100066.0, 27123.0, 29189.0, 31055.0, 64034.0, 66024.0, 68020.0, 252631.0, 74220.0, 40143.0, 246256.0, 126263.0, 44007.0, 90074.0, 141381.0, 96358.0, 49011.0, 50003.0, 51059.0, 371251.0], \"name\": \"\", \"z\": [4, 95, 8, 10, 5, 1, 7, 2, 1, 1, 5, 22, 1, 1, 1, 4, 4, 5, 106, 2, 1, 14, 6, 3, 2, 3, 11, 1, 1, 2, 122], \"type\": \"choropleth\"}], \"name\": \"3/8/20\"}, {\"data\": [{\"coloraxis\": \"coloraxis\", \"geo\": \"geo\", \"hoverlabel\": {\"namelength\": 0}, \"hovertemplate\": \"Date=3/9/20<br>FIPS=%{location}<br>Confirmed=%{z}\", \"locations\": [8034.0, 109066.0, 56277.0, 96566.0, 52478.0, 15003.0, 17031.0, 36160.0, 19103.0, 20091.0, 63275.0, 48056.0, 100066.0, 54142.0, 29189.0, 31055.0, 64034.0, 66024.0, 68020.0, 252631.0, 74220.0, 40143.0, 246256.0, 126263.0, 44007.0, 135157.0, 141381.0, 144443.0, 49011.0, 50003.0, 51059.0, 371251.0], \"name\": \"\", \"z\": [4, 101, 12, 13, 10, 1, 7, 3, 3, 1, 4, 5, 22, 2, 1, 3, 4, 4, 5, 142, 2, 1, 14, 7, 3, 3, 3, 13, 1, 1, 2, 122], \"type\": \"choropleth\"}], \"name\": \"3/9/20\"}, {\"data\": [{\"coloraxis\": \"coloraxis\", \"geo\": \"geo\", \"hoverlabel\": {\"namelength\": 0}, \"hovertemplate\": \"Date=4/1/20<br>FIPS=%{location}<br>Confirmed=%{z}\", \"locations\": [63115.0, 12642.0, 60208.0, 358928.0, 302890.0, 493127.0, 162073.0, 30009.0, 88888.0, 11001.0, 765855.0, 1919090.0, 99999.0, 66.0, 150035.0, 433239.0, 996304.0, 1483354.0, 1126919.0, 824221.0, 1505194.0, 1413844.0, 366217.0, 553078.0, 390195.0, 1943868.0, 1489593.0, 2162279.0, 2038038.0, 631169.0, 805170.0, 378676.0, 297093.0, 804475.0, 665630.0, 2055503.0, 3042204.0, 913290.0, 69.0, 2814138.0, 2003800.0, 1067018.0, 2523988.0, 72999.0, 310069.0, 1936981.0, 1335843.0, 4125982.0, 6707455.0, 717482.0, 690224.0, 78.0, 4973241.0, 1893379.0, 1567677.0, 2698315.0, 840331.0], \"name\": \"\", \"z\": [1060, 132, 1413, 584, 9410, 3342, 3557, 368, 49, 586, 6956, 4638, 103, 77, 224, 566, 6980, 2564, 547, 485, 632, 6424, 303, 1986, 7738, 9717, 689, 1073, 1803, 208, 210, 1279, 367, 22255, 327, 83948, 1675, 142, 6, 2547, 721, 736, 6009, 286, 566, 1293, 129, 2933, 4355, 888, 321, 30, 1483, 5608, 191, 1556, 130], \"type\": \"choropleth\"}], \"name\": \"4/1/20\"}, {\"data\": [{\"coloraxis\": \"coloraxis\", \"geo\": \"geo\", \"hoverlabel\": {\"namelength\": 0}, \"hovertemplate\": \"Date=4/10/20<br>FIPS=%{location}<br>Confirmed=%{z}\", \"locations\": [70428.0, 21417.0, 60208.0, 440234.0, 411047.0, 541565.0, 162073.0, 120019.0, 88888.0, 11001.0, 886485.0, 2129982.0, 99999.0, 66.0, 230050.0, 513482.0, 1509500.0, 1628332.0, 1547165.0, 1165992.0, 2032969.0, 1480011.0, 435258.0, 577079.0, 390195.0, 2100494.0, 1877801.0, 2274669.0, 2533431.0, 811395.0, 1181586.0, 410693.0, 420133.0, 804475.0, 840712.0, 2091626.0, 3450299.0, 1141616.0, 69.0, 3283304.0, 2484852.0, 1190101.0, 2818489.0, 72999.0, 310069.0, 2072116.0, 1612340.0, 4314342.0, 8588642.0, 833493.0, 790246.0, 78.0, 6254573.0, 2052502.0, 2378484.0, 3414321.0, 1064433.0], \"name\": \"\", \"z\": [2947, 246, 3112, 1171, 21081, 6513, 10538, 1326, 49, 1660, 17531, 11485, 103, 130, 442, 1354, 17887, 6907, 1388, 1117, 1693, 19253, 586, 6968, 20974, 23279, 1336, 2469, 4149, 365, 635, 2722, 819, 54588, 1081, 172348, 3965, 278, 11, 5878, 1794, 1322, 20051, 725, 1727, 3067, 536, 4891, 12105, 2103, 679, 50, 4509, 10119, 574, 3068, 239], \"type\": \"choropleth\"}], \"name\": \"4/10/20\"}, {\"data\": [{\"coloraxis\": \"coloraxis\", \"geo\": \"geo\", \"hoverlabel\": {\"namelength\": 0}, \"hovertemplate\": \"Date=4/11/20<br>FIPS=%{location}<br>Confirmed=%{z}\", \"locations\": [70428.0, 23615.0, 60208.0, 445323.0, 411047.0, 541565.0, 162073.0, 120019.0, 88888.0, 11001.0, 898562.0, 2129982.0, 99999.0, 66.0, 230050.0, 513482.0, 1560941.0, 1628332.0, 1547165.0, 1226217.0, 2032969.0, 1502118.0, 435258.0, 577079.0, 390195.0, 2100468.0, 1877801.0, 2274669.0, 2591527.0, 841432.0, 1337013.0, 410693.0, 330100.0, 804475.0, 910764.0, 2091626.0, 3413126.0, 1179695.0, 69.0, 3322377.0, 2484852.0, 1190101.0, 2818489.0, 72999.0, 310069.0, 2072116.0, 1658451.0, 4314342.0, 8636769.0, 833493.0, 790246.0, 78.0, 6305636.0, 2105551.0, 2378484.0, 3469420.0, 1120450.0], \"name\": \"\", \"z\": [3217, 257, 3393, 1228, 21717, 6893, 11510, 1479, 49, 1778, 18494, 12159, 103, 133, 465, 1396, 19180, 7435, 1510, 1275, 1693, 20014, 616, 7694, 22860, 24500, 1427, 2642, 4395, 377, 699, 2702, 885, 58151, 1091, 181026, 4354, 293, 11, 6250, 1868, 1371, 21719, 788, 2349, 3211, 626, 5132, 13023, 2207, 711, 51, 5077, 10434, 577, 3213, 261], \"type\": \"choropleth\"}], \"name\": \"4/11/20\"}, {\"data\": [{\"coloraxis\": \"coloraxis\", \"geo\": \"geo\", \"hoverlabel\": {\"namelength\": 0}, \"hovertemplate\": \"Date=4/12/20<br>FIPS=%{location}<br>Confirmed=%{z}\", \"locations\": [71489.0, 23615.0, 60208.0, 445323.0, 411047.0, 541565.0, 162073.0, 30009.0, 88888.0, 11001.0, 898562.0, 2143191.0, 99999.0, 66.0, 230050.0, 513482.0, 1560941.0, 1664464.0, 1547165.0, 1266497.0, 2201991.0, 1502118.0, 435258.0, 577079.0, 390195.0, 2100468.0, 1986217.0, 2274669.0, 2591527.0, 841432.0, 1427044.0, 410693.0, 420133.0, 804475.0, 910778.0, 2091626.0, 3413126.0, 1179695.0, 69.0, 3412416.0, 2484852.0, 1280142.0, 2818489.0, 72999.0, 310069.0, 2072116.0, 1796714.0, 4314342.0, 8636769.0, 923542.0, 790246.0, 78.0, 6357246.0, 2105551.0, 2432573.0, 3469420.0, 1176453.0], \"name\": \"\", \"z\": [3563, 272, 3542, 1280, 22800, 7307, 12035, 1625, 49, 1875, 19895, 12452, 103, 133, 499, 1407, 20852, 7928, 1587, 1344, 1963, 20595, 633, 8225, 25475, 25183, 1621, 2781, 4534, 387, 791, 2836, 929, 61850, 1245, 189033, 4570, 308, 11, 6604, 1970, 1527, 22938, 897, 2665, 3320, 730, 5508, 13677, 2303, 727, 51, 5274, 10609, 593, 3341, 270], \"type\": \"choropleth\"}], \"name\": \"4/12/20\"}, {\"data\": [{\"coloraxis\": \"coloraxis\", \"geo\": \"geo\", \"hoverlabel\": {\"namelength\": 0}, \"hovertemplate\": \"Date=4/13/20<br>FIPS=%{location}<br>Confirmed=%{z}\", \"locations\": [71489.0, 23615.0, 60208.0, 445323.0, 321041.0, 541565.0, 162073.0, 30009.0, 88888.0, 11001.0, 898562.0, 2156300.0, 99999.0, 66.0, 230050.0, 529503.0, 1578028.0, 1664464.0, 1566194.0, 1266497.0, 2201991.0, 1502118.0, 435258.0, 577079.0, 390195.0, 2126587.0, 1986217.0, 2274669.0, 2591527.0, 841432.0, 1458087.0, 320661.0, 420133.0, 804475.0, 910778.0, 2091626.0, 3413126.0, 1179695.0, 69.0, 3361514.0, 2524855.0, 1231112.0, 2818489.0, 72999.0, 310069.0, 2072116.0, 1842783.0, 4408612.0, 8733529.0, 833493.0, 790246.0, 78.0, 6357246.0, 2105551.0, 2540655.0, 3524467.0, 1176453.0], \"name\": \"\", \"z\": [3734, 277, 3705, 1410, 23934, 7696, 13381, 1758, 49, 1955, 21019, 13315, 103, 133, 504, 1426, 22025, 8359, 1710, 1390, 2018, 21016, 698, 8936, 26867, 26622, 1621, 2942, 4714, 394, 814, 2990, 985, 64584, 1262, 195749, 4886, 331, 11, 6975, 2069, 1584, 24292, 903, 2665, 3391, 868, 5610, 14275, 2363, 748, 51, 5747, 10635, 611, 3428, 275], \"type\": \"choropleth\"}], \"name\": \"4/13/20\"}, {\"data\": [{\"coloraxis\": \"coloraxis\", \"geo\": \"geo\", \"hoverlabel\": {\"namelength\": 0}, \"hovertemplate\": \"Date=4/14/20<br>FIPS=%{location}<br>Confirmed=%{z}\", \"locations\": [71489.0, 23615.0, 60208.0, 450390.0, 321041.0, 541565.0, 162073.0, 120019.0, 88888.0, 11001.0, 898562.0, 2236313.0, 99999.0, 66.0, 150035.0, 529503.0, 1595053.0, 1664464.0, 1566194.0, 1266625.0, 2265576.0, 1502118.0, 435258.0, 577079.0, 390195.0, 2178621.0, 1986217.0, 2274669.0, 2681556.0, 841432.0, 1458087.0, 320661.0, 420133.0, 804475.0, 910778.0, 2091626.0, 3450303.0, 1179695.0, 69.0, 3361514.0, 2564924.0, 1272143.0, 2818489.0, 72999.0, 310069.0, 2072116.0, 1842783.0, 4408612.0, 8830035.0, 833493.0, 790246.0, 78.0, 6357246.0, 2105551.0, 2540655.0, 3614522.0, 1176453.0], \"name\": \"\", \"z\": [3953, 285, 3809, 1498, 25389, 7950, 13989, 1926, 49, 2058, 21628, 14578, 103, 133, 511, 1464, 23248, 8527, 1899, 1441, 2048, 21518, 735, 9472, 28164, 28042, 1695, 3087, 4880, 399, 897, 3134, 922, 68824, 1345, 203020, 5113, 341, 11, 7285, 2184, 1633, 25465, 923, 3251, 3553, 988, 5827, 15006, 2417, 752, 51, 6182, 10799, 640, 3555, 282], \"type\": \"choropleth\"}], \"name\": \"4/14/20\"}, {\"data\": [{\"coloraxis\": \"coloraxis\", \"geo\": \"geo\", \"hoverlabel\": {\"namelength\": 0}, \"hovertemplate\": \"Date=4/15/20<br>FIPS=%{location}<br>Confirmed=%{z}\", \"locations\": [71489.0, 25795.0, 60208.0, 450390.0, 321041.0, 541565.0, 162073.0, 120019.0, 88888.0, 11001.0, 898562.0, 2236313.0, 99999.0, 66.0, 150035.0, 513482.0, 1612234.0, 1664464.0, 1566194.0, 1266625.0, 2307768.0, 1502118.0, 435258.0, 577079.0, 390195.0, 2178621.0, 2013324.0, 2274669.0, 2591527.0, 871505.0, 1489238.0, 410693.0, 330100.0, 804475.0, 910778.0, 2091626.0, 3450303.0, 1179695.0, 69.0, 3361514.0, 2564924.0, 1272143.0, 2818489.0, 72999.0, 310069.0, 2072116.0, 1796768.0, 4408612.0, 8974354.0, 833493.0, 790246.0, 78.0, 6254036.0, 2105551.0, 2594698.0, 3614522.0, 1176453.0], \"name\": \"\", \"z\": [4075, 293, 3964, 1569, 26686, 8280, 14755, 2014, 49, 2197, 22511, 14987, 103, 135, 524, 1473, 24593, 8960, 1995, 1504, 2210, 21951, 770, 10032, 29919, 29144, 1809, 3360, 5005, 404, 901, 3211, 1139, 71030, 1484, 214454, 5340, 365, 13, 7794, 2263, 1663, 26753, 974, 3251, 3656, 1168, 5827, 15907, 2548, 759, 51, 6500, 10942, 702, 3721, 287], \"type\": \"choropleth\"}], \"name\": \"4/15/20\"}, {\"data\": [{\"coloraxis\": \"coloraxis\", \"geo\": \"geo\", \"hoverlabel\": {\"namelength\": 0}, \"hovertemplate\": \"Date=4/16/20<br>FIPS=%{location}<br>Confirmed=%{z}\", \"locations\": [71489.0, 27945.0, 60208.0, 450390.0, 321041.0, 541565.0, 162073.0, 120019.0, 88888.0, 11001.0, 898562.0, 2236313.0, 99999.0, 66.0, 230050.0, 513482.0, 1612234.0, 1664464.0, 1566194.0, 1286806.0, 2328839.0, 1502118.0, 435258.0, 577079.0, 390195.0, 2178621.0, 2013324.0, 2274669.0, 2620614.0, 871505.0, 1520361.0, 442694.0, 330100.0, 804475.0, 910778.0, 2091626.0, 3450303.0, 1179695.0, 69.0, 3400581.0, 2564924.0, 1272143.0, 2818489.0, 72999.0, 310069.0, 2072116.0, 1842869.0, 4455739.0, 9216135.0, 833493.0, 790246.0, 78.0, 6305093.0, 2105551.0, 2594698.0, 3579596.0, 1176453.0], \"name\": \"\", \"z\": [4345, 300, 4237, 1620, 27677, 8675, 15884, 2070, 49, 2350, 23343, 15669, 103, 135, 530, 1587, 25734, 9542, 2141, 1615, 2435, 22532, 796, 10784, 32181, 29966, 1809, 3624, 5308, 415, 952, 3214, 1139, 75317, 1484, 223691, 5639, 393, 13, 8414, 2357, 1736, 28258, 1043, 3529, 3931, 1311, 6166, 16876, 2683, 774, 51, 6889, 11057, 728, 3875, 296], \"type\": \"choropleth\"}], \"name\": \"4/16/20\"}, {\"data\": [{\"coloraxis\": \"coloraxis\", \"geo\": \"geo\", \"hoverlabel\": {\"namelength\": 0}, \"hovertemplate\": \"Date=4/17/20<br>FIPS=%{location}<br>Confirmed=%{z}\", \"locations\": [71489.0, 27945.0, 60208.0, 450390.0, 321041.0, 541565.0, 162073.0, 120019.0, 88888.0, 11001.0, 898562.0, 2236313.0, 99999.0, 66.0, 230050.0, 513482.0, 1646308.0, 1664464.0, 1656213.0, 1327028.0, 2328839.0, 1502118.0, 435258.0, 577079.0, 390195.0, 2178621.0, 1977393.0, 2274669.0, 2678806.0, 871505.0, 1582579.0, 410677.0, 420133.0, 804475.0, 910778.0, 2091626.0, 3450303.0, 1179695.0, 69.0, 3400581.0, 2654964.0, 1272143.0, 2818489.0, 72999.0, 310069.0, 2072116.0, 1842869.0, 4455739.0, 9313063.0, 392324.0, 790246.0, 78.0, 6356693.0, 2105551.0, 2594698.0, 3579596.0, 1176453.0], \"name\": \"\", \"z\": [4571, 309, 4511, 1695, 29157, 9047, 16809, 2317, 49, 2476, 24759, 17194, 103, 136, 541, 1609, 27578, 10154, 2332, 1730, 2522, 23118, 827, 11572, 34985, 31225, 2070, 3793, 5520, 422, 1066, 3524, 1287, 78467, 1597, 230597, 6045, 393, 13, 9107, 2465, 1785, 29888, 1068, 4177, 4099, 1411, 6263, 17849, 2793, 779, 51, 7491, 11517, 775, 4053, 305], \"type\": \"choropleth\"}], \"name\": \"4/17/20\"}, {\"data\": [{\"coloraxis\": \"coloraxis\", \"geo\": \"geo\", \"hoverlabel\": {\"namelength\": 0}, \"hovertemplate\": \"Date=4/18/20<br>FIPS=%{location}<br>Confirmed=%{z}\", \"locations\": [71489.0, 27945.0, 60208.0, 450390.0, 321041.0, 541565.0, 162073.0, 120019.0, 88888.0, 11001.0, 898562.0, 2236313.0, 99999.0, 66.0, 140035.0, 513482.0, 1680564.0, 1664464.0, 1656213.0, 1327028.0, 2328839.0, 1502118.0, 435258.0, 577079.0, 390195.0, 2204640.0, 2004462.0, 2274669.0, 2678806.0, 871505.0, 1644747.0, 410677.0, 330100.0, 804475.0, 945797.0, 2091626.0, 3450303.0, 1179695.0, 69.0, 3400581.0, 2654964.0, 1272143.0, 2818489.0, 72999.0, 310069.0, 2072116.0, 1888906.0, 4502882.0, 9361288.0, 392324.0, 790246.0, 78.0, 6408413.0, 2105551.0, 2594698.0, 3579596.0, 1176453.0], \"name\": \"\", \"z\": [4712, 314, 4724, 1744, 30511, 9440, 17550, 2538, 49, 2666, 25492, 17669, 103, 136, 574, 1655, 29160, 10641, 2513, 1821, 2707, 23580, 847, 12326, 36963, 32031, 2209, 3974, 5713, 426, 1249, 3626, 1342, 81420, 1798, 237474, 6328, 528, 14, 10222, 2465, 1844, 31652, 1118, 4491, 4248, 1542, 6589, 18704, 2917, 803, 53, 8053, 11776, 785, 4199, 309], \"type\": \"choropleth\"}], \"name\": \"4/18/20\"}, {\"data\": [{\"coloraxis\": \"coloraxis\", \"geo\": \"geo\", \"hoverlabel\": {\"namelength\": 0}, \"hovertemplate\": \"Date=4/19/20<br>FIPS=%{location}<br>Confirmed=%{z}\", \"locations\": [71489.0, 27945.0, 60208.0, 450390.0, 321041.0, 541565.0, 162073.0, 120019.0, 88888.0, 11001.0, 898562.0, 2236313.0, 99999.0, 66.0, 140035.0, 513482.0, 1680564.0, 1664464.0, 1656213.0, 1367190.0, 2370965.0, 1502118.0, 458279.0, 577079.0, 390195.0, 2204640.0, 2148675.0, 2274669.0, 2678806.0, 871505.0, 1706985.0, 410677.0, 330100.0, 804475.0, 945797.0, 2091626.0, 3540340.0, 1217758.0, 69.0, 3400581.0, 2605027.0, 1272143.0, 2818489.0, 72999.0, 310069.0, 2072116.0, 1842869.0, 4549915.0, 9602503.0, 343271.0, 790246.0, 78.0, 6408413.0, 2105551.0, 2594698.0, 3579596.0, 1176453.0], \"name\": \"\", \"z\": [4888, 319, 4933, 1781, 31431, 9730, 17962, 2538, 49, 2793, 26314, 18301, 103, 136, 580, 1668, 30357, 11211, 2902, 1905, 2960, 23928, 867, 12847, 38674, 32688, 2356, 4274, 5881, 433, 1474, 3728, 1390, 85301, 1845, 243382, 6601, 585, 14, 11602, 2567, 1910, 32902, 1213, 4706, 4377, 1635, 7070, 19260, 3069, 813, 53, 8542, 11978, 890, 4346, 313], \"type\": \"choropleth\"}], \"name\": \"4/19/20\"}, {\"data\": [{\"coloraxis\": \"coloraxis\", \"geo\": \"geo\", \"hoverlabel\": {\"namelength\": 0}, \"hovertemplate\": \"Date=4/2/20<br>FIPS=%{location}<br>Confirmed=%{z}\", \"locations\": [67251.0, 12642.0, 60208.0, 369020.0, 302890.0, 501154.0, 162073.0, 30009.0, 88888.0, 11001.0, 802076.0, 1958791.0, 99999.0, 66.0, 150035.0, 555305.0, 1133384.0, 1501503.0, 1203233.0, 884288.0, 1505194.0, 1413844.0, 389226.0, 577079.0, 390195.0, 1969911.0, 1516664.0, 2190432.0, 2096272.0, 661178.0, 898449.0, 378676.0, 297093.0, 804475.0, 790682.0, 2091626.0, 3227535.0, 875211.0, 69.0, 2892262.0, 2164106.0, 1067018.0, 2608172.0, 72999.0, 310069.0, 2072116.0, 1428037.0, 4125978.0, 6900251.0, 815520.0, 690224.0, 78.0, 5178898.0, 1893379.0, 1567677.0, 2863515.0, 896372.0], \"name\": \"\", \"z\": [1233, 143, 1596, 643, 10790, 3728, 3824, 393, 49, 653, 9008, 5348, 103, 82, 256, 776, 7695, 3038, 614, 553, 770, 9149, 376, 2331, 8966, 11230, 742, 1177, 2003, 241, 246, 1463, 479, 25590, 373, 92506, 1977, 159, 6, 2901, 881, 826, 7268, 316, 645, 1554, 165, 3013, 5069, 1086, 338, 30, 1706, 6389, 216, 1748, 150], \"type\": \"choropleth\"}], \"name\": \"4/2/20\"}, {\"data\": [{\"coloraxis\": \"coloraxis\", \"geo\": \"geo\", \"hoverlabel\": {\"namelength\": 0}, \"hovertemplate\": \"Date=4/20/20<br>FIPS=%{location}<br>Confirmed=%{z}\", \"locations\": [71489.0, 27945.0, 60208.0, 450390.0, 321041.0, 541565.0, 162073.0, 120019.0, 88888.0, 11001.0, 898562.0, 2236313.0, 99999.0, 66.0, 140035.0, 513482.0, 1680564.0, 1664464.0, 1656213.0, 1427497.0, 2370965.0, 1502118.0, 458279.0, 577079.0, 390195.0, 2204640.0, 2175698.0, 2274669.0, 2678806.0, 871505.0, 1706863.0, 410677.0, 420133.0, 804475.0, 945797.0, 2091626.0, 3450303.0, 1217758.0, 69.0, 3400581.0, 2725294.0, 1272143.0, 2818489.0, 72999.0, 310069.0, 2072116.0, 1842869.0, 4549915.0, 9602503.0, 343271.0, 790246.0, 78.0, 6460023.0, 2105551.0, 2594698.0, 3579596.0, 1176453.0], \"name\": \"\", \"z\": [5079, 321, 5068, 1973, 33686, 10112, 19815, 2745, 49, 2927, 27059, 19407, 103, 136, 584, 1672, 31513, 11688, 3159, 2048, 3050, 24523, 875, 13684, 40252, 33324, 2470, 4512, 6043, 433, 1648, 3830, 1447, 88722, 1971, 248416, 6895, 627, 14, 12919, 2680, 1957, 33914, 1252, 5090, 4446, 1685, 7238, 19751, 3213, 816, 53, 8990, 12114, 902, 4499, 317], \"type\": \"choropleth\"}], \"name\": \"4/20/20\"}, {\"data\": [{\"coloraxis\": \"coloraxis\", \"geo\": \"geo\", \"hoverlabel\": {\"namelength\": 0}, \"hovertemplate\": \"Date=4/21/20<br>FIPS=%{location}<br>Confirmed=%{z}\", \"locations\": [71489.0, 27945.0, 60208.0, 450390.0, 321041.0, 541565.0, 162073.0, 120019.0, 88888.0, 11001.0, 898562.0, 2236313.0, 99999.0, 66.0, 140035.0, 513482.0, 1714774.0, 1664464.0, 1694339.0, 1407428.0, 2370965.0, 1502118.0, 458279.0, 577079.0, 390195.0, 2204640.0, 2202811.0, 2274669.0, 2766051.0, 871505.0, 1616832.0, 410677.0, 420133.0, 804475.0, 945797.0, 2091626.0, 3450303.0, 1217758.0, 69.0, 3400581.0, 2765319.0, 1272143.0, 2818489.0, 72999.0, 310069.0, 2072116.0, 1842869.0, 4549915.0, 9602503.0, 343271.0, 790246.0, 78.0, 6511164.0, 2105551.0, 2594698.0, 3579596.0, 1176453.0], \"name\": \"\", \"z\": [5317, 329, 5256, 1990, 35480, 10473, 20360, 2931, 49, 3098, 27869, 19881, 103, 136, 586, 1736, 33059, 12097, 3641, 2164, 3204, 24854, 888, 14193, 41832, 34048, 2567, 4716, 6242, 437, 1685, 3937, 1490, 92387, 1971, 253519, 7134, 644, 14, 13725, 2807, 2004, 35249, 1298, 5500, 4439, 1755, 7394, 20664, 3297, 818, 53, 9630, 12392, 908, 4625, 443], \"type\": \"choropleth\"}], \"name\": \"4/21/20\"}, {\"data\": [{\"coloraxis\": \"coloraxis\", \"geo\": \"geo\", \"hoverlabel\": {\"namelength\": 0}, \"hovertemplate\": \"Date=4/22/20<br>FIPS=%{location}<br>Confirmed=%{z}\", \"locations\": [71489.0, 27945.0, 60208.0, 450390.0, 321041.0, 541565.0, 162073.0, 120019.0, 88888.0, 11001.0, 808550.0, 2236313.0, 99999.0, 66.0, 140035.0, 513482.0, 1731843.0, 1664464.0, 1694339.0, 1407428.0, 2392070.0, 1502118.0, 458279.0, 577079.0, 390195.0, 2204640.0, 2202811.0, 2274669.0, 2824217.0, 871505.0, 1737922.0, 474713.0, 420133.0, 804475.0, 945797.0, 2091626.0, 3450303.0, 1255861.0, 69.0, 3400581.0, 2765319.0, 1272143.0, 2818489.0, 72999.0, 310069.0, 2072116.0, 1842869.0, 4549915.0, 9699033.0, 343271.0, 790246.0, 78.0, 6562255.0, 2105551.0, 2594698.0, 3579596.0, 1176453.0], \"name\": \"\", \"z\": [5593, 335, 5473, 2276, 37352, 10891, 22469, 3200, 49, 3206, 28309, 21214, 103, 136, 592, 1766, 35107, 12438, 3748, 2331, 3378, 25258, 907, 14775, 43614, 35404, 2722, 4894, 6433, 439, 1813, 4081, 1588, 95914, 2210, 258222, 7495, 679, 14, 14117, 2894, 2059, 36082, 1252, 5841, 4761, 1858, 7394, 21321, 3445, 823, 54, 10266, 12596, 939, 4845, 447], \"type\": \"choropleth\"}], \"name\": \"4/22/20\"}, {\"data\": [{\"coloraxis\": \"coloraxis\", \"geo\": \"geo\", \"hoverlabel\": {\"namelength\": 0}, \"hovertemplate\": \"Date=4/23/20<br>FIPS=%{location}<br>Confirmed=%{z}\", \"locations\": [71489.0, 27945.0, 60208.0, 455439.0, 321041.0, 541565.0, 162073.0, 120019.0, 88888.0, 11001.0, 808550.0, 2236313.0, 99999.0, 66.0, 140035.0, 513482.0, 1731843.0, 1664464.0, 1694339.0, 1487778.0, 2413109.0, 1502118.0, 368256.0, 577079.0, 390195.0, 2204640.0, 2202811.0, 2274669.0, 2914246.0, 871505.0, 1800172.0, 474713.0, 420133.0, 804475.0, 980818.0, 2091626.0, 3450303.0, 1255861.0, 69.0, 3400581.0, 2765319.0, 1272143.0, 2818489.0, 72999.0, 310069.0, 2072116.0, 1842869.0, 4549915.0, 9795359.0, 343271.0, 790246.0, 78.0, 6562255.0, 2105551.0, 2594698.0, 3579596.0, 1176453.0], \"name\": \"\", \"z\": [5832, 337, 5772, 2599, 39561, 11278, 23100, 3308, 49, 3361, 29648, 21883, 103, 139, 596, 1836, 36937, 13039, 3924, 2721, 3479, 25739, 937, 15737, 46727, 36845, 2942, 5153, 6700, 442, 2202, 4208, 1670, 100025, 2379, 263460, 7820, 709, 14, 14694, 3017, 2127, 38379, 1416, 6256, 4917, 1956, 8266, 22650, 3612, 825, 54, 10998, 12753, 981, 5052, 453], \"type\": \"choropleth\"}], \"name\": \"4/23/20\"}, {\"data\": [{\"coloraxis\": \"coloraxis\", \"geo\": \"geo\", \"hoverlabel\": {\"namelength\": 0}, \"hovertemplate\": \"Date=4/24/20<br>FIPS=%{location}<br>Confirmed=%{z}\", \"locations\": [71489.0, 27945.0, 60208.0, 455439.0, 321041.0, 541565.0, 162073.0, 120019.0, 88888.0, 11001.0, 808550.0, 2236313.0, 99999.0, 66.0, 140035.0, 513482.0, 1731843.0, 1664464.0, 1694339.0, 1527964.0, 2413109.0, 1502118.0, 368256.0, 577079.0, 390195.0, 2204640.0, 2202811.0, 2274669.0, 2914246.0, 901612.0, 1710131.0, 474713.0, 420133.0, 804475.0, 980818.0, 2091626.0, 3450303.0, 1255861.0, 69.0, 3400581.0, 2805468.0, 1272143.0, 2818489.0, 72999.0, 310069.0, 2072116.0, 1888986.0, 4549915.0, 9940152.0, 343271.0, 790246.0, 78.0, 6562255.0, 2105551.0, 2594698.0, 3634719.0, 1176453.0], \"name\": \"\", \"z\": [6026, 339, 6045, 2810, 41355, 12256, 23936, 3442, 49, 3528, 30533, 22491, 103, 141, 601, 1870, 39658, 13681, 4445, 2959, 3779, 26140, 965, 16616, 51700, 38330, 3185, 5434, 6943, 444, 2424, 4398, 1720, 102196, 2521, 271590, 8290, 748, 14, 15169, 3121, 2177, 40208, 1276, 6699, 5070, 2040, 8728, 23642, 3782, 827, 54, 11594, 12977, 1010, 5356, 473], \"type\": \"choropleth\"}], \"name\": \"4/24/20\"}, {\"data\": [{\"coloraxis\": \"coloraxis\", \"geo\": \"geo\", \"hoverlabel\": {\"namelength\": 0}, \"hovertemplate\": \"Date=4/25/20<br>FIPS=%{location}<br>Confirmed=%{z}\", \"locations\": [71489.0, 27945.0, 60208.0, 455439.0, 321041.0, 541565.0, 162073.0, 120019.0, 88888.0, 11001.0, 898562.0, 2236313.0, 99999.0, 66.0, 140035.0, 529541.0, 1731843.0, 1664464.0, 1694339.0, 1527964.0, 2413109.0, 1502118.0, 368256.0, 577079.0, 390195.0, 2204640.0, 2202811.0, 2274669.0, 2914246.0, 901612.0, 1741304.0, 474713.0, 420133.0, 804475.0, 1015877.0, 2091626.0, 3614550.0, 1293928.0, 69.0, 3400581.0, 2805468.0, 1272143.0, 2818489.0, 72999.0, 310069.0, 2072116.0, 1935075.0, 4549915.0, 9940152.0, 343271.0, 790246.0, 78.0, 6562255.0, 2105551.0, 2594698.0, 3634719.0, 1176453.0], \"name\": \"\", \"z\": [6026, 339, 6286, 2911, 42368, 12968, 24583, 3576, 49, 3699, 30839, 23222, 103, 141, 605, 1887, 41777, 14399, 5092, 3135, 3915, 26512, 965, 17766, 54135, 38789, 3446, 5718, 7108, 445, 2719, 4539, 1797, 105498, 2660, 282143, 8768, 803, 14, 15587, 3194, 2253, 41153, 1307, 7129, 5253, 2147, 9189, 24153, 3948, 843, 55, 12366, 13319, 1010, 5687, 491], \"type\": \"choropleth\"}], \"name\": \"4/25/20\"}, {\"data\": [{\"coloraxis\": \"coloraxis\", \"geo\": \"geo\", \"hoverlabel\": {\"namelength\": 0}, \"hovertemplate\": \"Date=4/26/20<br>FIPS=%{location}<br>Confirmed=%{z}\", \"locations\": [71489.0, 27945.0, 60208.0, 455439.0, 321041.0, 549676.0, 162073.0, 120019.0, 88888.0, 11001.0, 898562.0, 2236313.0, 99999.0, 66.0, 140035.0, 529541.0, 1731843.0, 1664464.0, 1713402.0, 1527964.0, 2413109.0, 1502118.0, 458279.0, 577079.0, 390195.0, 2204640.0, 2202811.0, 2274669.0, 2914246.0, 901612.0, 1893475.0, 474713.0, 420133.0, 804475.0, 1015877.0, 2091626.0, 3614550.0, 1332001.0, 69.0, 3400581.0, 2805468.0, 1272143.0, 2818489.0, 72999.0, 310069.0, 2072116.0, 1981134.0, 4549915.0, 9940152.0, 343271.0, 790246.0, 78.0, 6562255.0, 2105551.0, 2648719.0, 3634719.0, 1176453.0], \"name\": \"\", \"z\": [6421, 340, 6534, 3001, 43559, 13441, 25269, 4034, 49, 3841, 31532, 23486, 103, 141, 606, 1897, 43903, 15012, 5476, 3277, 4085, 26773, 1015, 18581, 55753, 39540, 3602, 5911, 7275, 448, 3030, 4734, 1864, 109038, 2726, 288045, 8997, 867, 14, 15972, 3254, 2311, 42616, 1371, 7439, 5498, 2212, 9667, 24967, 4123, 851, 57, 12970, 13521, 1055, 5912, 502], \"type\": \"choropleth\"}], \"name\": \"4/26/20\"}, {\"data\": [{\"coloraxis\": \"coloraxis\", \"geo\": \"geo\", \"hoverlabel\": {\"namelength\": 0}, \"hovertemplate\": \"Date=4/27/20<br>FIPS=%{location}<br>Confirmed=%{z}\", \"locations\": [71489.0, 30165.0, 60208.0, 455439.0, 321041.0, 541565.0, 162073.0, 120019.0, 88888.0, 11001.0, 898562.0, 2236313.0, 99999.0, 66.0, 140035.0, 529541.0, 1731843.0, 1664464.0, 1713490.0, 1548095.0, 2413109.0, 1502118.0, 458279.0, 577079.0, 390195.0, 2204640.0, 2112784.0, 2274669.0, 2914246.0, 901612.0, 1924632.0, 384681.0, 420133.0, 804475.0, 1015877.0, 2091626.0, 3651579.0, 1332001.0, 69.0, 3400581.0, 2845595.0, 1272143.0, 2818489.0, 72999.0, 310069.0, 2072116.0, 1981134.0, 4549915.0, 9988253.0, 343271.0, 790246.0, 78.0, 6562255.0, 2105551.0, 2702794.0, 3634719.0, 1176453.0], \"name\": \"\", \"z\": [6539, 345, 6725, 3069, 44972, 13879, 25997, 4162, 49, 3892, 32138, 24302, 103, 141, 607, 1897, 45883, 15961, 5868, 3473, 4156, 27068, 1023, 19487, 57295, 40034, 3811, 6094, 7444, 449, 3358, 4700, 1938, 111188, 2825, 291996, 9321, 942, 14, 16325, 3281, 2354, 43558, 1389, 7708, 5613, 2244, 9918, 25412, 4236, 855, 57, 13538, 13686, 1063, 6081, 520], \"type\": \"choropleth\"}], \"name\": \"4/27/20\"}, {\"data\": [{\"coloraxis\": \"coloraxis\", \"geo\": \"geo\", \"hoverlabel\": {\"namelength\": 0}, \"hovertemplate\": \"Date=4/28/20<br>FIPS=%{location}<br>Confirmed=%{z}\", \"locations\": [71489.0, 30165.0, 60208.0, 460536.0, 327084.0, 541565.0, 162073.0, 120019.0, 88888.0, 11001.0, 898562.0, 2236313.0, 99999.0, 66.0, 140035.0, 529541.0, 1731843.0, 1664464.0, 1713490.0, 1547947.0, 2434296.0, 1502118.0, 458279.0, 577079.0, 390195.0, 2204640.0, 2229970.0, 2274669.0, 2914246.0, 901612.0, 1924632.0, 384681.0, 420133.0, 804475.0, 1015877.0, 2091626.0, 3598617.0, 1332001.0, 69.0, 3439744.0, 2805446.0, 1313168.0, 2818489.0, 72999.0, 310069.0, 2072116.0, 2073194.0, 4549915.0, 10036652.0, 343271.0, 790246.0, 78.0, 6665022.0, 2105551.0, 2702794.0, 3634719.0, 1176453.0], \"name\": \"\", \"z\": [6750, 351, 6955, 3127, 46164, 14316, 26312, 4575, 49, 3994, 32848, 24922, 103, 141, 609, 1952, 48102, 16588, 6376, 3652, 4375, 27286, 1040, 20113, 59193, 41166, 4181, 6342, 7591, 451, 3517, 4821, 2010, 113856, 2974, 295106, 9755, 991, 14, 16769, 3410, 2385, 45137, 1400, 7927, 5735, 2313, 10052, 26357, 4345, 862, 57, 14339, 13842, 1095, 6289, 536], \"type\": \"choropleth\"}], \"name\": \"4/28/20\"}, {\"data\": [{\"coloraxis\": \"coloraxis\", \"geo\": \"geo\", \"hoverlabel\": {\"namelength\": 0}, \"hovertemplate\": \"Date=4/29/20<br>FIPS=%{location}<br>Confirmed=%{z}\", \"locations\": [71489.0, 30165.0, 60208.0, 460536.0, 327084.0, 541565.0, 162073.0, 120019.0, 88888.0, 11001.0, 898562.0, 2236313.0, 99999.0, 66.0, 140035.0, 529541.0, 1731843.0, 1664464.0, 1732541.0, 1567996.0, 2455465.0, 1502118.0, 458279.0, 577079.0, 390195.0, 2114614.0, 2229970.0, 2274669.0, 2914246.0, 901612.0, 1924632.0, 384681.0, 420133.0, 804475.0, 1050928.0, 2091626.0, 3635790.0, 1332001.0, 69.0, 3439744.0, 2805446.0, 1313168.0, 2818489.0, 72999.0, 310069.0, 2072116.0, 2119231.0, 4549915.0, 10084947.0, 343271.0, 790246.0, 78.0, 6665022.0, 2105551.0, 2702794.0, 3634719.0, 1176453.0], \"name\": \"\", \"z\": [6912, 355, 7209, 3193, 48747, 14758, 26767, 4655, 49, 4106, 33193, 25775, 103, 141, 613, 1952, 50358, 17182, 6843, 3839, 4537, 27660, 1056, 20849, 61201, 42379, 4644, 6569, 7761, 451, 3851, 4934, 2058, 116365, 3213, 299691, 10180, 1033, 14, 17303, 3473, 2446, 46327, 1433, 8247, 5882, 2373, 10366, 27369, 4497, 862, 57, 14962, 14070, 1110, 6520, 545], \"type\": \"choropleth\"}], \"name\": \"4/29/20\"}, {\"data\": [{\"coloraxis\": \"coloraxis\", \"geo\": \"geo\", \"hoverlabel\": {\"namelength\": 0}, \"hovertemplate\": \"Date=4/3/20<br>FIPS=%{location}<br>Confirmed=%{z}\", \"locations\": [69323.0, 19367.0, 60208.0, 379208.0, 308905.0, 517328.0, 162073.0, 30009.0, 88888.0, 11001.0, 814113.0, 2024884.0, 99999.0, 66.0, 230050.0, 497437.0, 1184555.0, 1537789.0, 1241561.0, 924598.0, 1505194.0, 1435865.0, 435258.0, 577079.0, 390195.0, 2022147.0, 1516664.0, 2190432.0, 2125419.0, 691213.0, 929486.0, 378676.0, 297093.0, 804475.0, 790682.0, 2091626.0, 3338870.0, 951325.0, 69.0, 2931433.0, 2324490.0, 1108031.0, 2650207.0, 72999.0, 310069.0, 2072116.0, 1428037.0, 4173065.0, 7238496.0, 833493.0, 690224.0, 78.0, 5537646.0, 1999499.0, 1675805.0, 3028718.0, 952395.0], \"name\": \"\", \"z\": [1495, 157, 1769, 704, 12016, 4173, 4914, 450, 49, 757, 10268, 5831, 103, 84, 319, 891, 8904, 3437, 699, 629, 770, 10297, 432, 2758, 10402, 13221, 788, 1358, 2124, 243, 279, 1514, 479, 29895, 490, 102987, 2251, 173, 8, 3312, 990, 899, 8570, 316, 711, 1700, 187, 3067, 5734, 1248, 389, 37, 2012, 6846, 237, 2012, 162], \"type\": \"choropleth\"}], \"name\": \"4/3/20\"}, {\"data\": [{\"coloraxis\": \"coloraxis\", \"geo\": \"geo\", \"hoverlabel\": {\"namelength\": 0}, \"hovertemplate\": \"Date=4/30/20<br>FIPS=%{location}<br>Confirmed=%{z}\", \"locations\": [71489.0, 30165.0, 60208.0, 460536.0, 327084.0, 541565.0, 162073.0, 120019.0, 88888.0, 11001.0, 898562.0, 2236313.0, 99999.0, 66.0, 140035.0, 529541.0, 1731843.0, 1664464.0, 1732541.0, 1608274.0, 2455465.0, 1502118.0, 458279.0, 577079.0, 390195.0, 2204640.0, 2229970.0, 2274669.0, 2914246.0, 931639.0, 2017827.0, 384681.0, 420133.0, 804475.0, 1050928.0, 2091626.0, 3635790.0, 1332001.0, 69.0, 3439744.0, 2805446.0, 1313168.0, 2818489.0, 72999.0, 310069.0, 2072116.0, 2119231.0, 4549915.0, 10181289.0, 343271.0, 790246.0, 78.0, 6665022.0, 2105551.0, 2702794.0, 3634719.0, 1176453.0], \"name\": \"\", \"z\": [7088, 355, 7655, 3281, 50130, 15284, 27700, 4734, 49, 4323, 33690, 26264, 103, 145, 618, 1984, 52918, 17835, 7145, 4413, 4708, 28001, 1095, 21742, 63211, 43478, 5136, 6815, 7956, 453, 4281, 5053, 2146, 118652, 3411, 304372, 10754, 1067, 14, 18027, 3618, 2510, 47971, 1539, 8621, 6095, 2449, 10735, 28727, 4672, 866, 66, 15847, 14327, 1125, 6854, 559], \"type\": \"choropleth\"}], \"name\": \"4/30/20\"}, {\"data\": [{\"coloraxis\": \"coloraxis\", \"geo\": \"geo\", \"hoverlabel\": {\"namelength\": 0}, \"hovertemplate\": \"Date=4/4/20<br>FIPS=%{location}<br>Confirmed=%{z}\", \"locations\": [69323.0, 19367.0, 60208.0, 399636.0, 315008.0, 525419.0, 162073.0, 30009.0, 88888.0, 11001.0, 838207.0, 2024884.0, 99999.0, 66.0, 230050.0, 497437.0, 1253011.0, 1574051.0, 1317965.0, 984881.0, 1800574.0, 1435865.0, 435258.0, 577079.0, 390195.0, 1996006.0, 1660895.0, 2190432.0, 2273688.0, 721214.0, 991638.0, 378676.0, 330100.0, 804475.0, 825685.0, 2091626.0, 3376043.0, 951325.0, 69.0, 2970434.0, 2324482.0, 1108031.0, 2692320.0, 72999.0, 310069.0, 2072116.0, 1428037.0, 4220226.0, 7335048.0, 833493.0, 690224.0, 78.0, 5538119.0, 2052502.0, 1675805.0, 3083789.0, 952395.0], \"name\": \"\", \"z\": [1614, 171, 2019, 743, 12837, 4565, 5276, 593, 49, 902, 11537, 6160, 103, 93, 351, 1022, 10357, 3953, 787, 698, 917, 12496, 456, 3125, 11736, 14735, 865, 1455, 2472, 265, 321, 1742, 540, 34124, 506, 113833, 2486, 186, 8, 3739, 1161, 899, 10444, 452, 806, 1917, 212, 3322, 6567, 1428, 461, 40, 2407, 7247, 282, 2030, 187], \"type\": \"choropleth\"}], \"name\": \"4/4/20\"}, {\"data\": [{\"coloraxis\": \"coloraxis\", \"geo\": \"geo\", \"hoverlabel\": {\"namelength\": 0}, \"hovertemplate\": \"Date=4/5/20<br>FIPS=%{location}<br>Confirmed=%{z}\", \"locations\": [70428.0, 19367.0, 60208.0, 409892.0, 309003.0, 525419.0, 162073.0, 30009.0, 88888.0, 11001.0, 838207.0, 2051268.0, 99999.0, 66.0, 230050.0, 513466.0, 1321171.0, 1592078.0, 1375208.0, 1025139.0, 1800592.0, 1435865.0, 435258.0, 577079.0, 390195.0, 2048156.0, 1715067.0, 2218563.0, 2331924.0, 721214.0, 1085031.0, 378676.0, 420133.0, 804475.0, 805705.0, 2091626.0, 3376043.0, 989354.0, 69.0, 3009545.0, 2364573.0, 1149086.0, 2734377.0, 72999.0, 310069.0, 2072116.0, 1428037.0, 4267303.0, 7383055.0, 923542.0, 690224.0, 78.0, 5730524.0, 2052502.0, 1675805.0, 3138850.0, 952395.0], \"name\": \"\", \"z\": [1765, 185, 2269, 837, 15034, 4950, 5675, 673, 49, 1002, 12350, 6647, 103, 112, 371, 1078, 11259, 4411, 869, 751, 955, 13010, 470, 3617, 12500, 16268, 935, 1638, 2568, 286, 364, 1855, 621, 37505, 624, 123160, 2649, 207, 8, 4043, 1254, 1068, 11589, 475, 922, 2049, 240, 3633, 7209, 1601, 512, 42, 2640, 7825, 324, 2320, 197], \"type\": \"choropleth\"}], \"name\": \"4/5/20\"}, {\"data\": [{\"coloraxis\": \"coloraxis\", \"geo\": \"geo\", \"hoverlabel\": {\"namelength\": 0}, \"hovertemplate\": \"Date=4/6/20<br>FIPS=%{location}<br>Confirmed=%{z}\", \"locations\": [70428.0, 19367.0, 60208.0, 414931.0, 411047.0, 525419.0, 162073.0, 30009.0, 88888.0, 11001.0, 850254.0, 2090737.0, 99999.0, 66.0, 230050.0, 513466.0, 1338356.0, 1682096.0, 1432503.0, 1065425.0, 1800592.0, 1457988.0, 435258.0, 577079.0, 390195.0, 2048278.0, 1769295.0, 2246604.0, 2419233.0, 721214.0, 1178288.0, 378676.0, 420133.0, 804475.0, 805705.0, 2091626.0, 3413196.0, 989354.0, 69.0, 3166067.0, 2404640.0, 1149086.0, 2734377.0, 72999.0, 310069.0, 2072116.0, 1428037.0, 4267303.0, 7624344.0, 833493.0, 690224.0, 78.0, 5793722.0, 2052502.0, 1783937.0, 3249048.0, 1008406.0], \"name\": \"\", \"z\": [1952, 190, 2460, 875, 16024, 5183, 6906, 783, 49, 1097, 13324, 7314, 103, 113, 387, 1101, 12262, 4956, 946, 849, 955, 14867, 499, 4045, 13837, 17820, 986, 1738, 3030, 299, 417, 1953, 715, 41090, 686, 131815, 2962, 225, 8, 4453, 1329, 1068, 13127, 513, 1082, 2232, 288, 3802, 8043, 1678, 543, 43, 2878, 8311, 345, 2449, 210], \"type\": \"choropleth\"}], \"name\": \"4/6/20\"}, {\"data\": [{\"coloraxis\": \"coloraxis\", \"geo\": \"geo\", \"hoverlabel\": {\"namelength\": 0}, \"hovertemplate\": \"Date=4/7/20<br>FIPS=%{location}<br>Confirmed=%{z}\", \"locations\": [70428.0, 21417.0, 60208.0, 435147.0, 411047.0, 525419.0, 162073.0, 30009.0, 88888.0, 11001.0, 874418.0, 2129982.0, 99999.0, 66.0, 230050.0, 497405.0, 1406818.0, 1610209.0, 1451558.0, 1125778.0, 1863909.0, 1480011.0, 435258.0, 577079.0, 390195.0, 2022147.0, 1796446.0, 2246604.0, 2535837.0, 721214.0, 1178288.0, 378676.0, 420133.0, 804475.0, 805705.0, 2091626.0, 3450299.0, 1027365.0, 69.0, 3166035.0, 2524785.0, 1190101.0, 2818489.0, 72999.0, 310069.0, 2072116.0, 1428037.0, 4267303.0, 7913666.0, 833493.0, 740237.0, 78.0, 6049115.0, 2052502.0, 2108283.0, 3304113.0, 1064437.0], \"name\": \"\", \"z\": [2169, 213, 2575, 946, 17351, 5429, 7781, 928, 49, 1211, 14545, 8822, 103, 121, 410, 1170, 13553, 5510, 1046, 912, 1149, 16284, 519, 4371, 15202, 19644, 1069, 1915, 3327, 319, 447, 2124, 715, 44416, 794, 139875, 3299, 237, 8, 4782, 1474, 1132, 14853, 573, 1229, 2417, 320, 4139, 8925, 1739, 575, 43, 3335, 8692, 412, 2578, 216], \"type\": \"choropleth\"}], \"name\": \"4/7/20\"}, {\"data\": [{\"coloraxis\": \"coloraxis\", \"geo\": \"geo\", \"hoverlabel\": {\"namelength\": 0}, \"hovertemplate\": \"Date=4/8/20<br>FIPS=%{location}<br>Confirmed=%{z}\", \"locations\": [70384.0, 111419.0, 60208.0, 435147.0, 411047.0, 525419.0, 162073.0, 30009.0, 88888.0, 11001.0, 874418.0, 2129982.0, 99999.0, 66.0, 230050.0, 513482.0, 1441060.0, 1610209.0, 1508847.0, 1145941.0, 1863909.0, 1480011.0, 435258.0, 577079.0, 390195.0, 2048300.0, 1823581.0, 2246604.0, 2535837.0, 751297.0, 1088241.0, 288644.0, 420133.0, 804475.0, 805705.0, 2091626.0, 3450299.0, 1065458.0, 69.0, 3244183.0, 2524785.0, 1190101.0, 2818489.0, 72999.0, 310069.0, 2072116.0, 1474139.0, 4314342.0, 8057919.0, 833493.0, 740237.0, 78.0, 6100685.0, 2052502.0, 2360376.0, 3304113.0, 1008406.0], \"name\": \"\", \"z\": [2328, 226, 2726, 1000, 18897, 5655, 7781, 1116, 49, 1440, 15456, 9901, 103, 121, 410, 1210, 15078, 5943, 1145, 1046, 1149, 17030, 537, 5529, 16790, 21076, 1154, 2003, 3511, 332, 519, 2259, 747, 47437, 821, 151061, 3499, 251, 11, 5148, 1526, 1181, 16631, 620, 1450, 2417, 393, 4363, 9777, 1848, 605, 45, 3645, 9276, 483, 2710, 221], \"type\": \"choropleth\"}], \"name\": \"4/8/20\"}, {\"data\": [{\"coloraxis\": \"coloraxis\", \"geo\": \"geo\", \"hoverlabel\": {\"namelength\": 0}, \"hovertemplate\": \"Date=4/9/20<br>FIPS=%{location}<br>Confirmed=%{z}\", \"locations\": [71489.0, 21417.0, 60208.0, 440234.0, 411047.0, 541565.0, 162073.0, 30009.0, 88888.0, 11001.0, 886485.0, 2129982.0, 99999.0, 66.0, 230050.0, 513482.0, 1475382.0, 1610209.0, 1508847.0, 1145941.0, 2032969.0, 1480011.0, 435258.0, 577079.0, 390195.0, 2048300.0, 1823581.0, 2274669.0, 2475029.0, 781392.0, 1150405.0, 410693.0, 420133.0, 804475.0, 805705.0, 2091626.0, 3450299.0, 1103535.0, 69.0, 3283304.0, 2524785.0, 1190101.0, 2818489.0, 72999.0, 310069.0, 2072116.0, 1566243.0, 4314342.0, 8395526.0, 833493.0, 790246.0, 78.0, 6202867.0, 2052502.0, 2270322.0, 3359226.0, 1008406.0], \"name\": \"\", \"z\": [2703, 235, 3018, 1119, 19710, 6202, 9784, 1209, 49, 1523, 16364, 10566, 103, 128, 442, 1232, 16422, 6351, 1270, 1116, 1341, 18283, 560, 6185, 18941, 22297, 1240, 2260, 3754, 354, 568, 2456, 819, 51027, 865, 161779, 3736, 269, 11, 5512, 1686, 1321, 18300, 683, 1727, 2793, 447, 4634, 11208, 1856, 628, 45, 4042, 9639, 514, 2886, 230], \"type\": \"choropleth\"}], \"name\": \"4/9/20\"}, {\"data\": [{\"coloraxis\": \"coloraxis\", \"geo\": \"geo\", \"hoverlabel\": {\"namelength\": 0}, \"hovertemplate\": \"Date=5/1/20<br>FIPS=%{location}<br>Confirmed=%{z}\", \"locations\": [71489.0, 30165.0, 60208.0, 460536.0, 327084.0, 541565.0, 162073.0, 120019.0, 88888.0, 11001.0, 898562.0, 2236313.0, 99999.0, 66.0, 140035.0, 529541.0, 1748852.0, 1664464.0, 1828032.0, 1648582.0, 2455465.0, 1502118.0, 368256.0, 577079.0, 390195.0, 2230653.0, 2257035.0, 2274669.0, 2824217.0, 931639.0, 1896751.0, 384681.0, 420133.0, 804475.0, 1050928.0, 2091626.0, 3635790.0, 1370076.0, 69.0, 3439744.0, 2805446.0, 1313168.0, 2818489.0, 72999.0, 310069.0, 2072116.0, 2165272.0, 4549915.0, 10229332.0, 343271.0, 790246.0, 78.0, 6665022.0, 2105551.0, 2702794.0, 3689788.0, 1176453.0], \"name\": \"\", \"z\": [7294, 364, 7969, 3337, 52026, 15793, 28764, 4918, 49, 4658, 34728, 27489, 103, 145, 619, 2015, 56055, 18630, 7884, 4634, 4882, 28711, 1123, 23472, 65388, 44524, 5730, 7212, 8190, 453, 5008, 5248, 2310, 121190, 3513, 308314, 11070, 1107, 14, 18743, 3748, 2579, 49579, 1575, 8962, 6258, 2525, 11891, 29692, 4828, 879, 66, 16902, 14637, 1152, 7314, 566], \"type\": \"choropleth\"}], \"name\": \"5/1/20\"}, {\"data\": [{\"coloraxis\": \"coloraxis\", \"geo\": \"geo\", \"hoverlabel\": {\"namelength\": 0}, \"hovertemplate\": \"Date=5/10/20<br>FIPS=%{location}<br>Confirmed=%{z}\", \"locations\": [71489.0, 30165.0, 60208.0, 460536.0, 333189.0, 573725.0, 162073.0, 120019.0, 88888.0, 11001.0, 898562.0, 2262703.0, 99999.0, 66.0, 140035.0, 529541.0, 1846020.0, 1664464.0, 1776313.0, 1668401.0, 2476560.0, 1502118.0, 458279.0, 577079.0, 390195.0, 2230653.0, 2365431.0, 2274669.0, 2911642.0, 901612.0, 2052168.0, 416698.0, 420133.0, 714441.0, 1140963.0, 2091626.0, 3672989.0, 1484235.0, 69.0, 3439744.0, 2845457.0, 1354169.0, 2818489.0, 5550840.0, 310069.0, 2072116.0, 2211419.0, 4597052.0, 10566637.0, 343271.0, 790246.0, 78.0, 6665022.0, 2105551.0, 2810894.0, 3744829.0, 1176453.0], \"name\": \"\", \"z\": [9889, 379, 11119, 4012, 67600, 19703, 33554, 6277, 49, 6272, 40596, 33580, 103, 151, 632, 2230, 77741, 24126, 11959, 6951, 6440, 31600, 1436, 32587, 79676, 50086, 11271, 9501, 10105, 458, 8171, 6120, 3071, 138754, 4863, 335395, 14938, 1491, 16, 24081, 4589, 3228, 59939, 2198, 11274, 7653, 3517, 14985, 39258, 6251, 927, 69, 24081, 16891, 1360, 10219, 662], \"type\": \"choropleth\"}], \"name\": \"5/10/20\"}, {\"data\": [{\"coloraxis\": \"coloraxis\", \"geo\": \"geo\", \"hoverlabel\": {\"namelength\": 0}, \"hovertemplate\": \"Date=5/11/20<br>FIPS=%{location}<br>Confirmed=%{z}\", \"locations\": [71489.0, 30165.0, 60208.0, 460536.0, 333189.0, 573725.0, 162073.0, 120019.0, 88888.0, 11001.0, 898562.0, 2262703.0, 99999.0, 66.0, 140035.0, 529541.0, 1846020.0, 1664464.0, 1866332.0, 1668401.0, 2476560.0, 1502118.0, 458279.0, 577079.0, 390195.0, 2230653.0, 2365431.0, 2274669.0, 2911642.0, 901612.0, 2052168.0, 506730.0, 420133.0, 714441.0, 1140963.0, 2091626.0, 3672989.0, 1484235.0, 69.0, 3439744.0, 2845457.0, 1354169.0, 2818489.0, 5550840.0, 310069.0, 2072116.0, 2211419.0, 4597052.0, 10566637.0, 343271.0, 790246.0, 78.0, 6665022.0, 2105551.0, 2810894.0, 3744829.0, 1176453.0], \"name\": \"\", \"z\": [10164, 379, 11383, 4043, 69329, 19879, 33765, 6565, 49, 6389, 40982, 34002, 103, 151, 634, 2260, 79007, 24627, 12373, 7159, 6677, 31815, 1462, 33373, 80409, 50631, 11799, 9674, 10212, 459, 8407, 6152, 3160, 140206, 5069, 337055, 15274, 1518, 19, 24777, 4613, 3286, 60459, 2256, 11450, 7792, 3614, 15544, 40555, 6362, 926, 69, 25070, 17122, 1366, 10418, 669], \"type\": \"choropleth\"}], \"name\": \"5/11/20\"}, {\"data\": [{\"coloraxis\": \"coloraxis\", \"geo\": \"geo\", \"hoverlabel\": {\"namelength\": 0}, \"hovertemplate\": \"Date=5/12/20<br>FIPS=%{location}<br>Confirmed=%{z}\", \"locations\": [71489.0, 120167.0, 60208.0, 460536.0, 333189.0, 573725.0, 162073.0, 120019.0, 88888.0, 11001.0, 898562.0, 2262703.0, 99999.0, 66.0, 140035.0, 529541.0, 1846020.0, 1664464.0, 1885425.0, 1668401.0, 2476560.0, 1502118.0, 458279.0, 577079.0, 390195.0, 2230653.0, 2365431.0, 2274669.0, 2911642.0, 901612.0, 2083239.0, 506730.0, 420133.0, 714441.0, 1140963.0, 2091626.0, 3672989.0, 1484235.0, 69.0, 3439744.0, 2935497.0, 1354169.0, 2818489.0, 5550840.0, 310069.0, 2072116.0, 2211419.0, 4597052.0, 10614970.0, 343271.0, 790246.0, 78.0, 6665022.0, 2105551.0, 2810894.0, 3744829.0, 1176453.0], \"name\": \"\", \"z\": [10464, 383, 11736, 4164, 70980, 20157, 34333, 6741, 49, 6485, 41923, 34924, 103, 152, 635, 2293, 83021, 25127, 12912, 7240, 6853, 32050, 1477, 34061, 81370, 51263, 12494, 9908, 10329, 461, 8532, 6313, 3239, 140917, 5212, 338485, 15622, 1571, 19, 25250, 4732, 3358, 61310, 2299, 11614, 7927, 3663, 16111, 41668, 6432, 927, 69, 25800, 17330, 1378, 10611, 675], \"type\": \"choropleth\"}], \"name\": \"5/12/20\"}, {\"data\": [{\"coloraxis\": \"coloraxis\", \"geo\": \"geo\", \"hoverlabel\": {\"namelength\": 0}, \"hovertemplate\": \"Date=5/13/20<br>FIPS=%{location}<br>Confirmed=%{z}\", \"locations\": [71489.0, 120167.0, 60208.0, 460536.0, 333189.0, 573725.0, 162073.0, 120019.0, 88888.0, 11001.0, 898562.0, 2262703.0, 99999.0, 66.0, 140035.0, 529541.0, 1863067.0, 1664464.0, 1904488.0, 1668401.0, 2476560.0, 1502118.0, 458279.0, 577079.0, 390195.0, 2230653.0, 2365431.0, 2274669.0, 2940707.0, 901612.0, 2083315.0, 416698.0, 420133.0, 804475.0, 1140963.0, 2091626.0, 3672989.0, 1484235.0, 69.0, 3439744.0, 2935497.0, 1354169.0, 2818489.0, 5550840.0, 310069.0, 2072116.0, 2211419.0, 4597052.0, 10614970.0, 343271.0, 790246.0, 78.0, 6665022.0, 2105551.0, 2810894.0, 3744829.0, 1176453.0], \"name\": \"\", \"z\": [10700, 383, 12216, 4236, 72798, 20475, 34855, 6952, 49, 6584, 42402, 35427, 103, 152, 638, 2293, 84694, 25473, 13289, 7518, 6853, 32662, 1515, 34812, 82657, 51819, 12917, 10090, 10520, 462, 8912, 6476, 3299, 141560, 5364, 340661, 16352, 1647, 19, 25721, 4858, 3416, 62101, 2329, 11835, 8030, 3732, 16370, 43020, 6620, 929, 69, 26746, 17512, 1398, 10902, 688], \"type\": \"choropleth\"}], \"name\": \"5/13/20\"}, {\"data\": [{\"coloraxis\": \"coloraxis\", \"geo\": \"geo\", \"hoverlabel\": {\"namelength\": 0}, \"hovertemplate\": \"Date=5/14/20<br>FIPS=%{location}<br>Confirmed=%{z}\", \"locations\": [71489.0, 120167.0, 60208.0, 460536.0, 333189.0, 573725.0, 162073.0, 120019.0, 88888.0, 11001.0, 898562.0, 2262703.0, 99999.0, 66.0, 140035.0, 529541.0, 1863067.0, 1664464.0, 1904488.0, 1668401.0, 2476560.0, 1502118.0, 458279.0, 577079.0, 390195.0, 2230653.0, 2365431.0, 2274669.0, 2940707.0, 901612.0, 2083315.0, 448727.0, 420133.0, 804475.0, 1140963.0, 2091626.0, 3672989.0, 1484235.0, 69.0, 3439744.0, 2975646.0, 1354169.0, 2818489.0, 5550840.0, 310069.0, 2072116.0, 2257542.0, 4507005.0, 10614970.0, 343271.0, 790246.0, 78.0, 6665022.0, 2105551.0, 2810894.0, 3854933.0, 1176453.0], \"name\": \"\", \"z\": [11101, 383, 12674, 4366, 74871, 20838, 35464, 7223, 49, 6736, 43210, 35977, 103, 152, 637, 2351, 87937, 26053, 13675, 7705, 7225, 33489, 1565, 35903, 84460, 53167, 13435, 10483, 10684, 462, 9260, 6504, 3382, 142704, 5503, 343051, 16968, 1712, 19, 26357, 4963, 3479, 63105, 2427, 12016, 8189, 3792, 16699, 44480, 6749, 932, 69, 27813, 17773, 1427, 11275, 701], \"type\": \"choropleth\"}], \"name\": \"5/14/20\"}, {\"data\": [{\"coloraxis\": \"coloraxis\", \"geo\": \"geo\", \"hoverlabel\": {\"namelength\": 0}, \"hovertemplate\": \"Date=5/15/20<br>FIPS=%{location}<br>Confirmed=%{z}\", \"locations\": [71489.0, 120167.0, 60208.0, 460536.0, 333189.0, 573725.0, 162073.0, 120019.0, 88888.0, 11001.0, 898562.0, 2262703.0, 99999.0, 66.0, 140035.0, 529541.0, 1880112.0, 1664464.0, 1904488.0, 1688604.0, 2476560.0, 1502118.0, 458279.0, 577079.0, 390195.0, 2230653.0, 2365431.0, 2274669.0, 2940707.0, 901612.0, 2114484.0, 448727.0, 420133.0, 714441.0, 1140963.0, 2091626.0, 3672989.0, 1484235.0, 69.0, 3439744.0, 2975646.0, 1354169.0, 2818489.0, 5550840.0, 310069.0, 2072116.0, 2257542.0, 4507005.0, 10759337.0, 343271.0, 790246.0, 78.0, 6665022.0, 2105551.0, 2810894.0, 3854933.0, 1176453.0], \"name\": \"\", \"z\": [11373, 388, 13169, 4463, 76693, 21232, 36085, 7373, 49, 6871, 44138, 36772, 103, 154, 638, 2351, 90369, 26656, 14049, 7886, 7444, 33837, 1603, 36986, 85786, 53810, 14240, 10801, 10873, 466, 9610, 6733, 3453, 143984, 5662, 345813, 17494, 1761, 19, 26954, 5087, 3541, 64136, 2542, 12219, 8407, 3887, 16960, 45721, 6913, 933, 69, 28672, 17951, 1447, 11685, 716], \"type\": \"choropleth\"}], \"name\": \"5/15/20\"}, {\"data\": [{\"coloraxis\": \"coloraxis\", \"geo\": \"geo\", \"hoverlabel\": {\"namelength\": 0}, \"hovertemplate\": \"Date=5/16/20<br>FIPS=%{location}<br>Confirmed=%{z}\", \"locations\": [71489.0, 120167.0, 60208.0, 465617.0, 333189.0, 573725.0, 162073.0, 120019.0, 88888.0, 11001.0, 898562.0, 2262703.0, 99999.0, 66.0, 140035.0, 529541.0, 1880222.0, 1664464.0, 1904488.0, 1688604.0, 2497713.0, 1502118.0, 458279.0, 577079.0, 390195.0, 2230653.0, 2338282.0, 2274669.0, 2940707.0, 901612.0, 2204475.0, 448727.0, 420133.0, 804475.0, 1140963.0, 2091626.0, 3672989.0, 1484235.0, 69.0, 3439744.0, 2885606.0, 1354169.0, 2818489.0, 5622933.0, 310069.0, 2072116.0, 2257542.0, 4507005.0, 10759337.0, 343271.0, 790246.0, 78.0, 6665022.0, 2105551.0, 2864907.0, 3854933.0, 1176453.0], \"name\": \"\", \"z\": [11674, 388, 13666, 4578, 78725, 21633, 36703, 7547, 49, 7042, 44811, 37212, 103, 154, 639, 2419, 92457, 27280, 14328, 7939, 7688, 34117, 1648, 37968, 87374, 54315, 14969, 11123, 11049, 468, 10220, 6813, 3556, 145089, 5847, 348232, 18130, 1848, 21, 27474, 5237, 3612, 65185, 2589, 12434, 8661, 3959, 17263, 47452, 7068, 934, 69, 29683, 18288, 1470, 12187, 741], \"type\": \"choropleth\"}], \"name\": \"5/16/20\"}, {\"data\": [{\"coloraxis\": \"coloraxis\", \"geo\": \"geo\", \"hoverlabel\": {\"namelength\": 0}, \"hovertemplate\": \"Date=5/17/20<br>FIPS=%{location}<br>Confirmed=%{z}\", \"locations\": [71489.0, 120167.0, 60208.0, 465617.0, 333189.0, 573725.0, 162073.0, 120019.0, 88888.0, 11001.0, 898562.0, 2262703.0, 99999.0, 66.0, 140035.0, 529541.0, 1880222.0, 1664464.0, 1942608.0, 1688604.0, 2497713.0, 1502118.0, 458279.0, 577079.0, 390195.0, 2230653.0, 2338282.0, 2274669.0, 2940707.0, 901612.0, 2114444.0, 448727.0, 420133.0, 714441.0, 1140963.0, 2091626.0, 3672989.0, 1522326.0, 69.0, 3439744.0, 2885606.0, 1354169.0, 2818489.0, 5622933.0, 310069.0, 2072116.0, 2257542.0, 4507005.0, 10759337.0, 343271.0, 790246.0, 78.0, 6665022.0, 2105551.0, 2864907.0, 3854933.0, 1176453.0], \"name\": \"\", \"z\": [11771, 388, 13945, 4759, 80166, 21938, 37419, 7670, 49, 7123, 45588, 37579, 103, 154, 640, 2419, 94191, 27778, 14651, 7953, 7688, 34432, 1687, 38804, 88500, 54963, 15668, 11296, 11172, 468, 10177, 6949, 3596, 146504, 5938, 350121, 18673, 1900, 21, 27923, 5310, 3623, 65700, 2646, 12674, 8816, 3987, 17359, 48396, 7238, 940, 69, 30388, 18433, 1492, 12543, 754], \"type\": \"choropleth\"}], \"name\": \"5/17/20\"}, {\"data\": [{\"coloraxis\": \"coloraxis\", \"geo\": \"geo\", \"hoverlabel\": {\"namelength\": 0}, \"hovertemplate\": \"Date=5/18/20<br>FIPS=%{location}<br>Confirmed=%{z}\", \"locations\": [71489.0, 120167.0, 60208.0, 465617.0, 333189.0, 573725.0, 162073.0, 120019.0, 88888.0, 11001.0, 898562.0, 2262703.0, 99999.0, 66.0, 140035.0, 529541.0, 1880222.0, 1664464.0, 1942608.0, 1688536.0, 2518726.0, 1502118.0, 458279.0, 577079.0, 390195.0, 2230653.0, 2338282.0, 2274669.0, 2940707.0, 901612.0, 2204475.0, 448727.0, 420133.0, 714441.0, 1175986.0, 2091626.0, 3672989.0, 1522326.0, 69.0, 3439744.0, 2885606.0, 1354169.0, 2818489.0, 5622933.0, 310069.0, 2072116.0, 2257542.0, 4597052.0, 10759337.0, 343271.0, 790246.0, 78.0, 6665022.0, 2105551.0, 2864907.0, 3854933.0, 1176453.0], \"name\": \"\", \"z\": [12086, 388, 14208, 4813, 81518, 22202, 38116, 7869, 49, 7270, 46442, 38283, 103, 154, 640, 2455, 96485, 28255, 14955, 8303, 7935, 34709, 1713, 39762, 89566, 55855, 16372, 11432, 11320, 470, 10625, 7061, 3652, 148240, 6096, 351371, 19207, 1931, 21, 28454, 5398, 3687, 66669, 2710, 12795, 8942, 4027, 18011, 49177, 7384, 940, 69, 31140, 18611, 1502, 12687, 766], \"type\": \"choropleth\"}], \"name\": \"5/18/20\"}, {\"data\": [{\"coloraxis\": \"coloraxis\", \"geo\": \"geo\", \"hoverlabel\": {\"namelength\": 0}, \"hovertemplate\": \"Date=5/19/20<br>FIPS=%{location}<br>Confirmed=%{z}\", \"locations\": [71489.0, 120167.0, 60208.0, 465617.0, 333189.0, 573725.0, 162073.0, 120019.0, 88888.0, 11001.0, 898562.0, 2262703.0, 99999.0, 66.0, 140035.0, 529541.0, 1880222.0, 1664464.0, 1961767.0, 1688536.0, 2539963.0, 1502118.0, 458279.0, 577079.0, 390195.0, 2230653.0, 2338282.0, 2274669.0, 2940707.0, 901612.0, 2204475.0, 448727.0, 420133.0, 714441.0, 1175986.0, 2091626.0, 3710000.0, 1560335.0, 69.0, 3439744.0, 2885606.0, 1354169.0, 2818489.0, 5622933.0, 310069.0, 2072116.0, 2257542.0, 4644119.0, 10807748.0, 343271.0, 790246.0, 78.0, 6665022.0, 2105551.0, 2864907.0, 3854933.0, 1176453.0], \"name\": \"\", \"z\": [12376, 400, 14576, 4923, 83764, 22482, 38430, 8037, 49, 7434, 46944, 38855, 103, 154, 641, 2455, 98030, 28705, 15296, 8353, 8069, 35038, 1741, 41546, 90521, 56465, 17029, 11704, 11452, 471, 10854, 7096, 3721, 149356, 6192, 352845, 19239, 1994, 21, 28952, 5489, 3726, 67311, 2805, 12951, 9056, 4085, 18412, 50552, 7518, 944, 69, 32145, 18811, 1502, 12885, 776], \"type\": \"choropleth\"}], \"name\": \"5/19/20\"}, {\"data\": [{\"coloraxis\": \"coloraxis\", \"geo\": \"geo\", \"hoverlabel\": {\"namelength\": 0}, \"hovertemplate\": \"Date=5/2/20<br>FIPS=%{location}<br>Confirmed=%{z}\", \"locations\": [71489.0, 30165.0, 60208.0, 460536.0, 327084.0, 541565.0, 162073.0, 120019.0, 88888.0, 11001.0, 898562.0, 2236313.0, 99999.0, 66.0, 140035.0, 529541.0, 1748852.0, 1664464.0, 1828032.0, 1608332.0, 2455465.0, 1502118.0, 368256.0, 577079.0, 390195.0, 2230653.0, 2194059.0, 2274669.0, 2824217.0, 931639.0, 1958943.0, 384681.0, 420133.0, 804475.0, 1050928.0, 2091626.0, 3635790.0, 1370076.0, 69.0, 3439744.0, 2805446.0, 1313168.0, 2818489.0, 72999.0, 310069.0, 2072116.0, 2165272.0, 4549915.0, 10277377.0, 343271.0, 790246.0, 78.0, 6665022.0, 2105551.0, 2702794.0, 3689788.0, 1176453.0], \"name\": \"\", \"z\": [7611, 365, 8364, 3372, 53347, 16225, 29287, 5038, 49, 4797, 35463, 28331, 103, 145, 620, 2061, 58505, 19295, 8643, 4885, 4879, 29140, 1153, 24473, 67438, 45424, 6232, 7441, 8449, 455, 5317, 5389, 2429, 123717, 3732, 312977, 11588, 1153, 14, 19335, 3851, 2635, 50494, 1757, 9289, 6489, 2588, 12661, 30917, 4985, 886, 66, 17738, 15003, 1185, 7660, 579], \"type\": \"choropleth\"}], \"name\": \"5/2/20\"}, {\"data\": [{\"coloraxis\": \"coloraxis\", \"geo\": \"geo\", \"hoverlabel\": {\"namelength\": 0}, \"hovertemplate\": \"Date=5/20/20<br>FIPS=%{location}<br>Confirmed=%{z}\", \"locations\": [71489.0, 32353.0, 60208.0, 465617.0, 333189.0, 573725.0, 162073.0, 120019.0, 88888.0, 11001.0, 898562.0, 2262703.0, 99999.0, 66.0, 140035.0, 529541.0, 1880222.0, 1664464.0, 1961767.0, 1708637.0, 2561026.0, 1502118.0, 458279.0, 577079.0, 390195.0, 2230653.0, 2338282.0, 2274669.0, 2940707.0, 901612.0, 2235578.0, 448727.0, 420133.0, 714441.0, 1175986.0, 2091626.0, 3710000.0, 1560335.0, 69.0, 3439744.0, 2925635.0, 1354169.0, 2818489.0, 5622933.0, 310069.0, 2072116.0, 2257542.0, 4644119.0, 10855939.0, 343271.0, 790246.0, 78.0, 6665022.0, 2105551.0, 2864907.0, 3854933.0, 1176453.0], \"name\": \"\", \"z\": [13052, 401, 14906, 5003, 86018, 22797, 39017, 8194, 49, 7551, 47471, 39801, 103, 154, 643, 2506, 100418, 29274, 15620, 8507, 8167, 35316, 1819, 42323, 91654, 57322, 17670, 11967, 11628, 478, 11122, 7388, 3868, 150776, 6317, 354370, 20262, 2095, 21, 29436, 5532, 3801, 68126, 2866, 13356, 9175, 4177, 18412, 51859, 7710, 944, 69, 32908, 18971, 1567, 13413, 787], \"type\": \"choropleth\"}], \"name\": \"5/20/20\"}, {\"data\": [{\"coloraxis\": \"coloraxis\", \"geo\": \"geo\", \"hoverlabel\": {\"namelength\": 0}, \"hovertemplate\": \"Date=5/21/20<br>FIPS=%{location}<br>Confirmed=%{z}\", \"locations\": [71489.0, 32353.0, 60208.0, 465617.0, 333189.0, 573725.0, 162073.0, 120019.0, 88888.0, 11001.0, 898562.0, 2262703.0, 99999.0, 66.0, 140035.0, 529541.0, 1880222.0, 1664464.0, 1961767.0, 1708637.0, 2561026.0, 1502118.0, 458279.0, 577079.0, 390195.0, 2230653.0, 2338282.0, 2274669.0, 2940707.0, 901612.0, 2235578.0, 448727.0, 420133.0, 714441.0, 1175986.0, 2091626.0, 3710000.0, 1560335.0, 69.0, 3439744.0, 2925635.0, 1354169.0, 2818489.0, 5622933.0, 310069.0, 2072116.0, 2257542.0, 4644119.0, 10855939.0, 343271.0, 790246.0, 78.0, 6665022.0, 2105551.0, 2864907.0, 3965119.0, 1232484.0], \"name\": \"\", \"z\": [13288, 401, 15348, 5458, 88056, 23191, 39208, 8386, 49, 7788, 48675, 40663, 103, 165, 647, 2506, 102688, 29936, 16170, 8625, 8286, 36504, 1877, 43531, 92860, 57988, 18200, 12222, 11775, 479, 11427, 7400, 3935, 151586, 6472, 356458, 20512, 2229, 22, 30167, 5680, 3817, 69252, 2913, 13571, 9381, 4177, 18961, 53053, 7874, 950, 69, 34137, 19117, 1593, 13885, 801], \"type\": \"choropleth\"}], \"name\": \"5/21/20\"}, {\"data\": [{\"coloraxis\": \"coloraxis\", \"geo\": \"geo\", \"hoverlabel\": {\"namelength\": 0}, \"hovertemplate\": \"Date=5/22/20<br>FIPS=%{location}<br>Confirmed=%{z}\", \"locations\": [71489.0, 32353.0, 60208.0, 465617.0, 339280.0, 573725.0, 162073.0, 120019.0, 88888.0, 11001.0, 898562.0, 2262703.0, 99999.0, 66.0, 140035.0, 529541.0, 1880222.0, 1664464.0, 1961767.0, 1788949.0, 2561026.0, 1502118.0, 458279.0, 577079.0, 390195.0, 2230653.0, 2338282.0, 2274669.0, 2940707.0, 901612.0, 2235558.0, 448727.0, 420133.0, 714441.0, 1175986.0, 2091626.0, 3710000.0, 1598374.0, 69.0, 3439744.0, 2925635.0, 1354169.0, 2818489.0, 5622933.0, 310069.0, 2072116.0, 2257542.0, 4644119.0, 10855939.0, 343271.0, 790246.0, 78.0, 6665022.0, 2105551.0, 2954961.0, 3965119.0, 1232484.0], \"name\": \"\", \"z\": [13670, 403, 15624, 5612, 90281, 23487, 39640, 8529, 49, 7893, 49451, 41482, 103, 165, 642, 2595, 105444, 30409, 16492, 8909, 8426, 36925, 1948, 44424, 93796, 58543, 19005, 12625, 11986, 479, 11662, 7525, 4014, 152579, 6625, 358154, 22110, 2317, 22, 30794, 5849, 3864, 70211, 3030, 13736, 9638, 4356, 19394, 53539, 8057, 952, 69, 34950, 19265, 1705, 14396, 803], \"type\": \"choropleth\"}], \"name\": \"5/22/20\"}, {\"data\": [{\"coloraxis\": \"coloraxis\", \"geo\": \"geo\", \"hoverlabel\": {\"namelength\": 0}, \"hovertemplate\": \"Date=5/23/20<br>FIPS=%{location}<br>Confirmed=%{z}\", \"locations\": [71489.0, 32353.0, 60208.0, 465617.0, 345315.0, 573725.0, 162073.0, 120019.0, 88888.0, 11001.0, 898562.0, 2262703.0, 99999.0, 66.0, 140035.0, 529541.0, 1880222.0, 1664464.0, 1980820.0, 1788949.0, 2561026.0, 1502118.0, 368256.0, 577079.0, 390195.0, 2230653.0, 2365339.0, 2274669.0, 2940707.0, 901612.0, 2235558.0, 448727.0, 420133.0, 714441.0, 1175986.0, 2091626.0, 3710000.0, 1598374.0, 69.0, 3439744.0, 2925635.0, 1354169.0, 2818489.0, 5622933.0, 310069.0, 2072116.0, 2257542.0, 4644119.0, 10855939.0, 343271.0, 790246.0, 78.0, 6665022.0, 2105551.0, 2954961.0, 3965119.0, 1232484.0], \"name\": \"\", \"z\": [14117, 407, 16053, 5775, 92564, 23964, 40022, 8529, 49, 7966, 50127, 42242, 103, 165, 643, 2595, 107796, 30901, 16898, 8946, 8571, 36925, 2013, 45495, 94641, 59046, 19845, 13005, 12145, 479, 11963, 7526, 4089, 153140, 6625, 359926, 22864, 2365, 22, 31408, 5960, 3888, 71009, 3100, 13952, 9895, 4464, 19785, 54776, 8260, 954, 69, 35749, 19265, 1705, 14877, 813], \"type\": \"choropleth\"}], \"name\": \"5/23/20\"}, {\"data\": [{\"coloraxis\": \"coloraxis\", \"geo\": \"geo\", \"hoverlabel\": {\"namelength\": 0}, \"hovertemplate\": \"Date=5/24/20<br>FIPS=%{location}<br>Confirmed=%{z}\", \"locations\": [71489.0, 32353.0, 60208.0, 465617.0, 345315.0, 573725.0, 162073.0, 120019.0, 88888.0, 11001.0, 898562.0, 2262703.0, 99999.0, 66.0, 140035.0, 529541.0, 1880222.0, 1664464.0, 1961767.0, 1788949.0, 2561026.0, 1502118.0, 458279.0, 577079.0, 390195.0, 2230653.0, 2365339.0, 2274669.0, 2940707.0, 901612.0, 2266587.0, 448727.0, 420133.0, 804475.0, 1175986.0, 2091626.0, 3710000.0, 1598374.0, 69.0, 3439744.0, 2925635.0, 1354169.0, 2818489.0, 5622933.0, 310069.0, 2072116.0, 2303613.0, 4644119.0, 10952611.0, 343271.0, 790246.0, 78.0, 6665022.0, 2105551.0, 2864907.0, 3965119.0, 1232484.0], \"name\": \"\", \"z\": [14478, 407, 16377, 5922, 94069, 24174, 40468, 8809, 49, 8110, 50867, 42902, 103, 166, 643, 2626, 110304, 31376, 17251, 9004, 8571, 37169, 2055, 46313, 95708, 59395, 20573, 13260, 12394, 479, 12134, 7881, 4149, 154154, 6943, 361515, 23365, 2418, 22, 31911, 6037, 3927, 71563, 3189, 14065, 10096, 4563, 20111, 55861, 8392, 956, 69, 36244, 19828, 1759, 15277, 838], \"type\": \"choropleth\"}], \"name\": \"5/24/20\"}, {\"data\": [{\"coloraxis\": \"coloraxis\", \"geo\": \"geo\", \"hoverlabel\": {\"namelength\": 0}, \"hovertemplate\": \"Date=5/25/20<br>FIPS=%{location}<br>Confirmed=%{z}\", \"locations\": [71489.0, 32353.0, 60208.0, 465617.0, 345315.0, 483717.0, 162073.0, 120019.0, 88888.0, 11001.0, 898562.0, 2262703.0, 99999.0, 66.0, 140035.0, 529541.0, 1880222.0, 1664464.0, 1961767.0, 1788949.0, 2561026.0, 1502118.0, 368256.0, 577079.0, 390195.0, 2230653.0, 2365339.0, 2274669.0, 2940707.0, 901612.0, 2266587.0, 448727.0, 420133.0, 804475.0, 1175986.0, 2091626.0, 3710000.0, 1598374.0, 69.0, 3439744.0, 2925635.0, 1354169.0, 2818489.0, 5622933.0, 310069.0, 2072116.0, 2303613.0, 4644119.0, 11000988.0, 343271.0, 790246.0, 78.0, 6665022.0, 2105551.0, 2864907.0, 3965119.0, 1232484.0], \"name\": \"\", \"z\": [14986, 408, 16575, 6029, 96470, 24256, 40873, 8965, 49, 8225, 51746, 43400, 103, 166, 643, 2626, 112017, 31715, 17557, 9125, 8571, 37809, 2074, 47152, 96366, 59621, 21315, 13458, 12549, 479, 12362, 7956, 4197, 155092, 7026, 362764, 24057, 2457, 22, 32477, 6090, 3949, 71925, 3260, 14065, 10178, 4586, 20535, 56409, 8521, 962, 69, 37727, 20065, 1774, 15584, 843], \"type\": \"choropleth\"}], \"name\": \"5/25/20\"}, {\"data\": [{\"coloraxis\": \"coloraxis\", \"geo\": \"geo\", \"hoverlabel\": {\"namelength\": 0}, \"hovertemplate\": \"Date=5/26/20<br>FIPS=%{location}<br>Confirmed=%{z}\", \"locations\": [71489.0, 32353.0, 60208.0, 465617.0, 345315.0, 483717.0, 162073.0, 120019.0, 88888.0, 11001.0, 898562.0, 2262703.0, 99999.0, 66.0, 140035.0, 529541.0, 1880222.0, 1664464.0, 1961767.0, 1788949.0, 2561026.0, 1502118.0, 368256.0, 577079.0, 390195.0, 2230653.0, 2365339.0, 2274669.0, 2940707.0, 901612.0, 2266587.0, 448727.0, 420133.0, 804475.0, 1175986.0, 2091626.0, 3710000.0, 1598374.0, 69.0, 3439744.0, 2925635.0, 1354169.0, 2818489.0, 5622933.0, 310069.0, 2072116.0, 2393659.0, 4644119.0, 11049217.0, 343271.0, 790246.0, 78.0, 6665022.0, 2105551.0, 2864907.0, 3965119.0, 1232484.0], \"name\": \"\", \"z\": [15650, 410, 16864, 6180, 99492, 24552, 41303, 9066, 49, 8334, 52255, 43983, 103, 167, 643, 2626, 113195, 32078, 17703, 9199, 8951, 38054, 2109, 47687, 96826, 59974, 21960, 13731, 12721, 479, 12619, 8057, 4231, 155764, 7130, 363836, 24455, 2422, 22, 33006, 6138, 3967, 72778, 3324, 14210, 10416, 4653, 20895, 57230, 8620, 967, 69, 39342, 20181, 1774, 15863, 850], \"type\": \"choropleth\"}], \"name\": \"5/26/20\"}, {\"data\": [{\"coloraxis\": \"coloraxis\", \"geo\": \"geo\", \"hoverlabel\": {\"namelength\": 0}, \"hovertemplate\": \"Date=5/27/20<br>FIPS=%{location}<br>Confirmed=%{z}\", \"locations\": [71489.0, 32353.0, 60208.0, 465617.0, 345315.0, 483717.0, 162073.0, 120019.0, 88888.0, 11001.0, 898562.0, 2262703.0, 99999.0, 66.0, 140035.0, 635566.0, 1880222.0, 1664464.0, 1980820.0, 1788949.0, 2561026.0, 1502118.0, 458279.0, 577079.0, 390195.0, 2230653.0, 2365339.0, 2274669.0, 2940707.0, 901612.0, 2266587.0, 448727.0, 420133.0, 804475.0, 1175986.0, 2091626.0, 3710000.0, 1598374.0, 69.0, 3439744.0, 2925635.0, 1395206.0, 2818489.0, 5622933.0, 310069.0, 2072116.0, 2393659.0, 4644119.0, 11097600.0, 343271.0, 790246.0, 78.0, 6665022.0, 2105551.0, 2864907.0, 3965119.0, 1288529.0], \"name\": \"\", \"z\": [16032, 411, 17318, 6277, 101071, 24754, 41288, 9096, 49, 8406, 52634, 44638, 103, 170, 644, 2699, 114306, 32437, 18369, 9291, 9077, 38497, 2137, 48423, 97428, 60592, 22464, 14044, 12872, 481, 12984, 8150, 4286, 156628, 7252, 364965, 24916, 2439, 22, 33439, 6229, 4038, 73557, 3397, 14353, 10623, 4710, 21285, 58542, 8706, 971, 69, 40249, 20406, 1899, 16462, 860], \"type\": \"choropleth\"}], \"name\": \"5/27/20\"}, {\"data\": [{\"coloraxis\": \"coloraxis\", \"geo\": \"geo\", \"hoverlabel\": {\"namelength\": 0}, \"hovertemplate\": \"Date=5/28/20<br>FIPS=%{location}<br>Confirmed=%{z}\", \"locations\": [71489.0, 34538.0, 60208.0, 465617.0, 345315.0, 483717.0, 162073.0, 120019.0, 88888.0, 11001.0, 898562.0, 2262703.0, 99999.0, 66.0, 140035.0, 635566.0, 1880222.0, 1664464.0, 1980820.0, 1788949.0, 2582155.0, 1502118.0, 458279.0, 577079.0, 390195.0, 2230653.0, 2392488.0, 2274669.0, 2940707.0, 901612.0, 2266587.0, 448727.0, 420133.0, 804475.0, 1175986.0, 2091626.0, 3710000.0, 1598374.0, 69.0, 3439744.0, 2925635.0, 1395206.0, 2818489.0, 5622933.0, 310069.0, 2072116.0, 2303613.0, 4644119.0, 11097600.0, 343271.0, 790246.0, 78.0, 6665022.0, 2105551.0, 2954961.0, 3965119.0, 1288529.0], \"name\": \"\", \"z\": [16530, 424, 17877, 6538, 103813, 25107, 41559, 9171, 49, 8492, 53285, 45266, 103, 171, 647, 2770, 115833, 33068, 18586, 9371, 9185, 38802, 2189, 49709, 98198, 61116, 22947, 14372, 13083, 485, 13249, 8248, 4389, 157185, 7364, 366733, 25800, 2481, 22, 33915, 6273, 4086, 74220, 3486, 14494, 10788, 4793, 21679, 60395, 8921, 974, 69, 41401, 20764, 1935, 16974, 876], \"type\": \"choropleth\"}], \"name\": \"5/28/20\"}, {\"data\": [{\"coloraxis\": \"coloraxis\", \"geo\": \"geo\", \"hoverlabel\": {\"namelength\": 0}, \"hovertemplate\": \"Date=5/29/20<br>FIPS=%{location}<br>Confirmed=%{z}\", \"locations\": [71489.0, 34538.0, 60208.0, 465617.0, 345315.0, 483717.0, 162073.0, 120019.0, 88888.0, 11001.0, 898562.0, 2262703.0, 99999.0, 66.0, 140035.0, 635566.0, 1897267.0, 1664464.0, 1980820.0, 1788949.0, 2582155.0, 1502118.0, 458279.0, 577079.0, 390195.0, 2230653.0, 2392488.0, 2274669.0, 2969922.0, 901612.0, 2297744.0, 448727.0, 420133.0, 804475.0, 1175986.0, 2091626.0, 3710000.0, 1598374.0, 69.0, 3439744.0, 2965698.0, 1395206.0, 2818489.0, 5694982.0, 310069.0, 2072116.0, 2395735.0, 4644119.0, 11097600.0, 343271.0, 790246.0, 78.0, 6665022.0, 2105551.0, 2864907.0, 3965119.0, 1288529.0], \"name\": \"\", \"z\": [17031, 429, 18472, 6777, 106638, 25598, 41762, 9236, 49, 8538, 54497, 45881, 103, 172, 649, 2770, 117455, 33558, 18957, 9662, 9464, 38802, 2226, 50988, 98880, 61833, 23531, 14793, 13233, 493, 13648, 8376, 4492, 158844, 7493, 368284, 26885, 2520, 22, 34566, 6338, 4131, 74984, 3647, 14635, 11131, 4866, 22063, 60901, 9264, 975, 69, 42533, 21071, 1951, 17707, 891], \"type\": \"choropleth\"}], \"name\": \"5/29/20\"}, {\"data\": [{\"coloraxis\": \"coloraxis\", \"geo\": \"geo\", \"hoverlabel\": {\"namelength\": 0}, \"hovertemplate\": \"Date=5/3/20<br>FIPS=%{location}<br>Confirmed=%{z}\", \"locations\": [71489.0, 30165.0, 60208.0, 460536.0, 327084.0, 541565.0, 162073.0, 120019.0, 88888.0, 11001.0, 898562.0, 2249578.0, 99999.0, 66.0, 140035.0, 529541.0, 1748852.0, 1664464.0, 1847167.0, 1628345.0, 2455465.0, 1502118.0, 368256.0, 577079.0, 390195.0, 2230653.0, 2284086.0, 2274669.0, 2824217.0, 931639.0, 1958941.0, 384681.0, 420133.0, 804475.0, 1050928.0, 2091626.0, 3672989.0, 1370076.0, 69.0, 3439744.0, 2805446.0, 1313168.0, 2818489.0, 72999.0, 310069.0, 2072116.0, 2165272.0, 4549915.0, 10277377.0, 343271.0, 790246.0, 78.0, 6665022.0, 2105551.0, 2756879.0, 3689788.0, 1176453.0], \"name\": \"\", \"z\": [7888, 368, 8640, 3437, 54903, 16635, 29287, 5208, 49, 5016, 36078, 28665, 103, 145, 620, 2061, 61499, 19933, 9175, 5156, 5130, 29340, 1185, 25462, 69318, 46047, 6663, 7550, 8712, 455, 5661, 5472, 2518, 126744, 3850, 316415, 11770, 1191, 14, 19914, 3972, 2680, 51225, 1808, 9477, 6626, 2631, 13177, 31998, 5175, 897, 66, 18672, 15185, 1195, 7964, 586], \"type\": \"choropleth\"}], \"name\": \"5/3/20\"}, {\"data\": [{\"coloraxis\": \"coloraxis\", \"geo\": \"geo\", \"hoverlabel\": {\"namelength\": 0}, \"hovertemplate\": \"Date=5/30/20<br>FIPS=%{location}<br>Confirmed=%{z}\", \"locations\": [71489.0, 34538.0, 60208.0, 465617.0, 345315.0, 483717.0, 162073.0, 120019.0, 88888.0, 11001.0, 898562.0, 2262703.0, 99999.0, 66.0, 140035.0, 561591.0, 1897267.0, 1664464.0, 1980820.0, 1788949.0, 2582155.0, 1502118.0, 458279.0, 577079.0, 390195.0, 2230653.0, 2392488.0, 2274669.0, 2998989.0, 901612.0, 2266673.0, 448727.0, 420133.0, 804475.0, 1175986.0, 2091626.0, 3710000.0, 1598374.0, 69.0, 3439744.0, 2965698.0, 1395206.0, 2818489.0, 5694982.0, 310069.0, 2072116.0, 2395735.0, 4644119.0, 11145871.0, 343271.0, 790246.0, 78.0, 6665022.0, 2105551.0, 2864907.0, 3965119.0, 1288529.0], \"name\": \"\", \"z\": [17359, 433, 19258, 7013, 109895, 26084, 42022, 9422, 49, 8717, 55424, 46331, 103, 172, 651, 2803, 118917, 34211, 19244, 9690, 9704, 39577, 2282, 52015, 99773, 62225, 24190, 15229, 13400, 505, 13905, 8517, 4492, 159608, 7624, 369660, 27794, 2554, 22, 35033, 6418, 4185, 75697, 3718, 14819, 11394, 4960, 22566, 62894, 9533, 977, 69, 43611, 21349, 1989, 18230, 898], \"type\": \"choropleth\"}], \"name\": \"5/30/20\"}, {\"data\": [{\"coloraxis\": \"coloraxis\", \"geo\": \"geo\", \"hoverlabel\": {\"namelength\": 0}, \"hovertemplate\": \"Date=5/31/20<br>FIPS=%{location}<br>Confirmed=%{z}\", \"locations\": [71489.0, 34538.0, 60208.0, 465617.0, 345315.0, 483717.0, 162073.0, 120019.0, 88888.0, 11001.0, 898562.0, 2262703.0, 99999.0, 66.0, 140035.0, 561591.0, 1897267.0, 1664464.0, 1980820.0, 1788949.0, 2582155.0, 1502118.0, 458279.0, 577079.0, 390195.0, 2230653.0, 2392488.0, 2274669.0, 2998989.0, 901612.0, 2266673.0, 448727.0, 420133.0, 804475.0, 1175986.0, 2091626.0, 3710000.0, 1598374.0, 69.0, 3439744.0, 2965698.0, 1395206.0, 2818489.0, 5694982.0, 310069.0, 2072116.0, 2441788.0, 4644119.0, 11145871.0, 343271.0, 790246.0, 78.0, 6665022.0, 2105551.0, 2864907.0, 3965119.0, 1288529.0], \"name\": \"\", \"z\": [17952, 459, 19936, 7253, 111951, 26364, 42201, 9498, 49, 8801, 56163, 47063, 103, 172, 652, 2839, 120260, 34574, 19552, 9700, 9704, 39916, 2325, 52778, 100468, 62711, 24850, 15523, 13573, 515, 14101, 8628, 4651, 160445, 7689, 370770, 28785, 2577, 22, 35513, 6418, 4243, 76129, 3776, 14928, 11861, 4993, 22566, 64652, 9797, 981, 69, 44607, 21702, 2010, 18403, 903], \"type\": \"choropleth\"}], \"name\": \"5/31/20\"}, {\"data\": [{\"coloraxis\": \"coloraxis\", \"geo\": \"geo\", \"hoverlabel\": {\"namelength\": 0}, \"hovertemplate\": \"Date=5/4/20<br>FIPS=%{location}<br>Confirmed=%{z}\", \"locations\": [71489.0, 30165.0, 60208.0, 460536.0, 327084.0, 541565.0, 162073.0, 120019.0, 88888.0, 11001.0, 898562.0, 2249578.0, 99999.0, 66.0, 140035.0, 529541.0, 1748852.0, 1664464.0, 1828114.0, 1628345.0, 2455465.0, 1502118.0, 458279.0, 577079.0, 390195.0, 2230653.0, 2284086.0, 2274669.0, 2824217.0, 931639.0, 1958941.0, 384681.0, 420133.0, 804475.0, 1085939.0, 2091626.0, 3672989.0, 1370076.0, 69.0, 3439744.0, 2845457.0, 1313168.0, 2818489.0, 72999.0, 310069.0, 2072116.0, 2165272.0, 4549915.0, 10325768.0, 343271.0, 790246.0, 78.0, 6665022.0, 2105551.0, 2756879.0, 3689788.0, 1176453.0], \"name\": \"\", \"z\": [8112, 370, 8924, 3491, 55884, 16918, 29973, 5288, 49, 5170, 36897, 29451, 103, 145, 621, 2106, 63777, 20507, 9703, 5383, 5245, 29673, 1205, 26408, 70388, 46348, 7234, 7877, 8998, 457, 6037, 5630, 2588, 128269, 4031, 318953, 11971, 1225, 14, 20474, 4044, 2759, 52816, 1843, 9652, 6757, 2668, 13571, 32783, 5317, 902, 66, 19493, 15462, 1224, 8236, 596], \"type\": \"choropleth\"}], \"name\": \"5/4/20\"}, {\"data\": [{\"coloraxis\": \"coloraxis\", \"geo\": \"geo\", \"hoverlabel\": {\"namelength\": 0}, \"hovertemplate\": \"Date=5/5/20<br>FIPS=%{location}<br>Confirmed=%{z}\", \"locations\": [71489.0, 30165.0, 60208.0, 460536.0, 327084.0, 541565.0, 162073.0, 120019.0, 88888.0, 11001.0, 898562.0, 2249578.0, 99999.0, 66.0, 140035.0, 529541.0, 1748852.0, 1664464.0, 1738095.0, 1648398.0, 2455465.0, 1502118.0, 368256.0, 577079.0, 390195.0, 2230653.0, 2311207.0, 2274669.0, 2882537.0, 901612.0, 1989952.0, 384681.0, 420133.0, 804475.0, 1085939.0, 2091626.0, 3672989.0, 1408133.0, 69.0, 3439744.0, 2845457.0, 1313168.0, 2818489.0, 72999.0, 310069.0, 2072116.0, 2165272.0, 4549915.0, 10469953.0, 343271.0, 790246.0, 78.0, 6665022.0, 2105551.0, 2756879.0, 3689788.0, 1176453.0], \"name\": \"\", \"z\": [8437, 371, 9305, 3525, 58456, 17367, 30621, 5371, 49, 5322, 37439, 29998, 103, 145, 625, 2127, 65889, 21033, 10111, 5648, 5822, 29996, 1226, 27117, 71654, 46914, 7851, 8207, 9195, 456, 6373, 5660, 2636, 130593, 4138, 321192, 12510, 1266, 14, 20969, 4127, 2839, 53864, 1924, 9933, 6841, 2721, 13690, 33912, 5449, 907, 66, 20257, 15594, 1246, 8566, 604], \"type\": \"choropleth\"}], \"name\": \"5/5/20\"}, {\"data\": [{\"coloraxis\": \"coloraxis\", \"geo\": \"geo\", \"hoverlabel\": {\"namelength\": 0}, \"hovertemplate\": \"Date=5/6/20<br>FIPS=%{location}<br>Confirmed=%{z}\", \"locations\": [71489.0, 30165.0, 60208.0, 460536.0, 327084.0, 549676.0, 162073.0, 120019.0, 88888.0, 11001.0, 898562.0, 2249578.0, 99999.0, 66.0, 140035.0, 529541.0, 1828869.0, 1664464.0, 1828114.0, 1648398.0, 2455465.0, 1502118.0, 368256.0, 577079.0, 390195.0, 2230653.0, 2311207.0, 2274669.0, 2882537.0, 901612.0, 2052240.0, 416698.0, 420133.0, 804475.0, 1085939.0, 2091626.0, 3672989.0, 1408133.0, 69.0, 3439744.0, 2845457.0, 1354169.0, 2818489.0, 5478693.0, 310069.0, 2072116.0, 2257460.0, 4549915.0, 10469953.0, 343271.0, 790246.0, 78.0, 6613442.0, 2105551.0, 2756879.0, 3744829.0, 1176453.0], \"name\": \"\", \"z\": [8691, 372, 9707, 3611, 60616, 17832, 30995, 5778, 49, 5461, 38002, 30743, 103, 149, 626, 2158, 68232, 21870, 10404, 5993, 5934, 30399, 1254, 28163, 73538, 47738, 8579, 8424, 9447, 456, 6689, 5741, 2741, 131890, 4291, 323978, 13053, 1323, 15, 21576, 4202, 2916, 54800, 1968, 10205, 6936, 2780, 13938, 34928, 5595, 908, 66, 20985, 15905, 1242, 8901, 631], \"type\": \"choropleth\"}], \"name\": \"5/6/20\"}, {\"data\": [{\"coloraxis\": \"coloraxis\", \"geo\": \"geo\", \"hoverlabel\": {\"namelength\": 0}, \"hovertemplate\": \"Date=5/7/20<br>FIPS=%{location}<br>Confirmed=%{z}\", \"locations\": [71489.0, 30165.0, 60208.0, 460536.0, 327084.0, 549676.0, 162073.0, 120019.0, 88888.0, 11001.0, 898562.0, 2262703.0, 99999.0, 66.0, 140035.0, 529541.0, 1828869.0, 1664464.0, 1828114.0, 1648398.0, 2476560.0, 1502118.0, 458279.0, 577079.0, 390195.0, 2230653.0, 2365431.0, 2274669.0, 2882537.0, 901612.0, 2111154.0, 416698.0, 420133.0, 714441.0, 1085939.0, 2091626.0, 3672989.0, 1484235.0, 69.0, 3439744.0, 2845457.0, 1354169.0, 2818489.0, 5550840.0, 310069.0, 2072116.0, 2257460.0, 4549915.0, 10518370.0, 343271.0, 790246.0, 78.0, 6613442.0, 2105551.0, 2756879.0, 3744829.0, 1176453.0], \"name\": \"\", \"z\": [9046, 374, 9945, 3703, 62148, 18370, 31784, 5939, 49, 5654, 38828, 31618, 103, 149, 629, 2178, 70871, 22503, 11059, 6332, 6129, 30652, 1330, 29374, 75338, 48412, 9365, 8686, 9683, 456, 7334, 5855, 2843, 133991, 4493, 327469, 13540, 1371, 15, 22131, 4330, 2989, 55956, 2031, 10530, 7142, 2906, 14096, 36036, 5724, 916, 66, 21570, 16231, 1287, 9215, 635], \"type\": \"choropleth\"}], \"name\": \"5/7/20\"}, {\"data\": [{\"coloraxis\": \"coloraxis\", \"geo\": \"geo\", \"hoverlabel\": {\"namelength\": 0}, \"hovertemplate\": \"Date=5/8/20<br>FIPS=%{location}<br>Confirmed=%{z}\", \"locations\": [71489.0, 30165.0, 60208.0, 460536.0, 327084.0, 565714.0, 162073.0, 120019.0, 88888.0, 11001.0, 898562.0, 2262703.0, 99999.0, 66.0, 140035.0, 529541.0, 1846020.0, 1664464.0, 1866332.0, 1648398.0, 2476560.0, 1502118.0, 458279.0, 577079.0, 390195.0, 2230653.0, 2365431.0, 2274669.0, 2882537.0, 901612.0, 2111154.0, 506730.0, 420133.0, 714441.0, 1050928.0, 2091626.0, 3672989.0, 1484235.0, 69.0, 3439744.0, 2845457.0, 1354169.0, 2818489.0, 5550840.0, 310069.0, 2072116.0, 2257460.0, 4549915.0, 10566637.0, 343271.0, 790246.0, 78.0, 6613442.0, 2105551.0, 2810894.0, 3744829.0, 1176453.0], \"name\": \"\", \"z\": [9385, 377, 10526, 3747, 63800, 18827, 32411, 6111, 49, 5899, 39199, 32181, 103, 151, 629, 2178, 73760, 23146, 11457, 6667, 6288, 30855, 1374, 30485, 77090, 49170, 10088, 9090, 9829, 458, 7818, 5920, 2947, 135840, 4673, 330407, 14006, 1425, 15, 23016, 4424, 3068, 57371, 2156, 10779, 7367, 3145, 14441, 37246, 5919, 919, 68, 22342, 16388, 1323, 9590, 644], \"type\": \"choropleth\"}], \"name\": \"5/8/20\"}, {\"data\": [{\"coloraxis\": \"coloraxis\", \"geo\": \"geo\", \"hoverlabel\": {\"namelength\": 0}, \"hovertemplate\": \"Date=5/9/20<br>FIPS=%{location}<br>Confirmed=%{z}\", \"locations\": [71489.0, 30165.0, 60208.0, 460536.0, 333189.0, 565714.0, 162073.0, 120019.0, 88888.0, 11001.0, 898562.0, 2262703.0, 99999.0, 66.0, 140035.0, 529541.0, 1846020.0, 1664464.0, 1866332.0, 1648398.0, 2476560.0, 1502118.0, 458279.0, 577079.0, 390195.0, 2230653.0, 2365431.0, 2274669.0, 2911642.0, 901612.0, 2052168.0, 506730.0, 420133.0, 714441.0, 1140963.0, 2091626.0, 3672989.0, 1484235.0, 69.0, 3439744.0, 2845457.0, 1354169.0, 2818489.0, 5550840.0, 310069.0, 2072116.0, 2211419.0, 4549915.0, 10566637.0, 343271.0, 790246.0, 78.0, 6665022.0, 2105551.0, 2810894.0, 3744829.0, 1176453.0], \"name\": \"\", \"z\": [9668, 378, 10960, 3747, 66572, 19375, 32984, 6277, 49, 6102, 40001, 32588, 103, 151, 631, 2205, 76085, 23732, 11671, 6829, 6440, 31417, 1408, 31534, 78561, 49676, 10790, 9378, 9988, 458, 8093, 6171, 3011, 137397, 4778, 333122, 14478, 1464, 16, 23697, 4490, 3160, 58560, 2173, 10989, 7531, 3393, 14768, 38394, 6103, 921, 68, 23196, 16674, 1323, 9939, 653], \"type\": \"choropleth\"}], \"name\": \"5/9/20\"}, {\"data\": [{\"coloraxis\": \"coloraxis\", \"geo\": \"geo\", \"hoverlabel\": {\"namelength\": 0}, \"hovertemplate\": \"Date=6/1/20<br>FIPS=%{location}<br>Confirmed=%{z}\", \"locations\": [161490.0, 34538.0, 60208.0, 465617.0, 345315.0, 483717.0, 162073.0, 120019.0, 88888.0, 11001.0, 898562.0, 2262703.0, 99999.0, 66.0, 140035.0, 561591.0, 1897267.0, 1664464.0, 1980820.0, 1788949.0, 2582155.0, 1502118.0, 458279.0, 577079.0, 390195.0, 2230653.0, 2392488.0, 2274669.0, 2998989.0, 901612.0, 2328757.0, 448727.0, 420133.0, 804475.0, 1175986.0, 2091626.0, 3710000.0, 1598374.0, 69.0, 3439744.0, 3055738.0, 1395206.0, 2818489.0, 5694982.0, 310069.0, 2072116.0, 2441788.0, 4644119.0, 11145871.0, 343271.0, 790246.0, 78.0, 6665022.0, 2105551.0, 2864907.0, 3965119.0, 1288529.0], \"name\": \"\", \"z\": [18630, 466, 20129, 7443, 114733, 26563, 42740, 9605, 49, 8857, 56830, 47902, 103, 175, 652, 2839, 121234, 34830, 19699, 9920, 10046, 40341, 2349, 53327, 100805, 62928, 25208, 15752, 13787, 519, 14345, 8702, 4685, 160918, 7800, 371711, 29592, 2625, 22, 35984, 6573, 4302, 76646, 3873, 14991, 12148, 5034, 22566, 65593, 9999, 983, 70, 45398, 21977, 2028, 18543, 910], \"type\": \"choropleth\"}], \"name\": \"6/1/20\"}, {\"data\": [{\"coloraxis\": \"coloraxis\", \"geo\": \"geo\", \"hoverlabel\": {\"namelength\": 0}, \"hovertemplate\": \"Date=6/10/20<br>FIPS=%{location}<br>Confirmed=%{z}\", \"locations\": [161490.0, 38913.0, 60208.0, 465617.0, 345315.0, 483717.0, 162073.0, 120019.0, 88888.0, 11001.0, 898562.0, 2262703.0, 99999.0, 66.0, 140035.0, 561591.0, 1897267.0, 1664464.0, 1980820.0, 1829295.0, 2603220.0, 1502118.0, 458279.0, 577079.0, 390195.0, 2308810.0, 2392488.0, 2274669.0, 2998989.0, 931699.0, 2359828.0, 480754.0, 420133.0, 804475.0, 1175986.0, 2091626.0, 3710000.0, 1750566.0, 69.0, 3439744.0, 2965698.0, 1395206.0, 2818489.0, 5694982.0, 310069.0, 2072116.0, 2625938.0, 4644119.0, 11435491.0, 343271.0, 790246.0, 78.0, 6665022.0, 2105551.0, 2864907.0, 3965119.0, 1288529.0], \"name\": \"\", \"z\": [21989, 592, 29852, 10368, 139715, 28484, 44347, 10056, 49, 9537, 67371, 53980, 103, 180, 685, 3260, 129837, 38337, 22626, 10750, 11883, 44030, 2637, 59465, 104156, 65182, 28869, 18483, 15754, 561, 16058, 10218, 5178, 165346, 9250, 380156, 38473, 2941, 30, 39575, 7483, 5060, 81316, 5329, 15756, 15759, 5604, 27930, 80777, 12864, 1095, 72, 52177, 24354, 2194, 21593, 980], \"type\": \"choropleth\"}], \"name\": \"6/10/20\"}, {\"data\": [{\"coloraxis\": \"coloraxis\", \"geo\": \"geo\", \"hoverlabel\": {\"namelength\": 0}, \"hovertemplate\": \"Date=6/11/20<br>FIPS=%{location}<br>Confirmed=%{z}\", \"locations\": [161490.0, 38913.0, 60208.0, 465617.0, 345315.0, 483717.0, 162073.0, 120019.0, 88888.0, 11001.0, 898562.0, 2262703.0, 99999.0, 66.0, 140035.0, 561591.0, 1897267.0, 1664464.0, 1980820.0, 1829295.0, 2603220.0, 1502118.0, 458279.0, 577079.0, 390195.0, 2308810.0, 2392488.0, 2274669.0, 2998989.0, 931699.0, 2422000.0, 480754.0, 420133.0, 804475.0, 1175986.0, 2091626.0, 3710000.0, 1750566.0, 69.0, 3439744.0, 2965698.0, 1395206.0, 2818489.0, 5694982.0, 310069.0, 2072116.0, 2625938.0, 4644119.0, 11435491.0, 343271.0, 790246.0, 78.0, 6665022.0, 2105551.0, 2864907.0, 3965119.0, 1288529.0], \"name\": \"\", \"z\": [22845, 609, 31267, 10816, 143439, 28632, 44461, 10106, 49, 9589, 69069, 54973, 103, 183, 692, 3260, 130603, 38748, 22973, 10823, 11945, 44472, 2667, 60197, 104667, 65449, 29316, 18483, 15946, 563, 16315, 10473, 5209, 165816, 9367, 380892, 39584, 2980, 30, 40004, 7626, 5237, 81848, 5352, 15862, 16441, 5665, 28340, 82658, 13252, 1110, 72, 52647, 24779, 2217, 21926, 1009], \"type\": \"choropleth\"}], \"name\": \"6/11/20\"}, {\"data\": [{\"coloraxis\": \"coloraxis\", \"geo\": \"geo\", \"hoverlabel\": {\"namelength\": 0}, \"hovertemplate\": \"Date=6/12/20<br>FIPS=%{location}<br>Confirmed=%{z}\", \"locations\": [161490.0, 38913.0, 60208.0, 465617.0, 345315.0, 483717.0, 162073.0, 120019.0, 88888.0, 11001.0, 898562.0, 2262703.0, 99999.0, 66.0, 140035.0, 561591.0, 1897267.0, 1664464.0, 1980820.0, 1829295.0, 2603220.0, 1502118.0, 458279.0, 577079.0, 390195.0, 2308810.0, 2392488.0, 2274669.0, 3322048.0, 961716.0, 2422000.0, 480754.0, 420133.0, 804475.0, 1175986.0, 2091626.0, 3710000.0, 1750566.0, 69.0, 3439744.0, 2965698.0, 1395206.0, 2818489.0, 5694982.0, 310069.0, 2072116.0, 2625938.0, 4644119.0, 11435491.0, 343271.0, 790246.0, 78.0, 6665022.0, 2105551.0, 2864907.0, 3965119.0, 1288529.0], \"name\": \"\", \"z\": [23710, 624, 33039, 11547, 146659, 28807, 44689, 10173, 49, 9654, 70971, 55783, 103, 183, 706, 3353, 131198, 39146, 23350, 10973, 12166, 44995, 2721, 60613, 105059, 65672, 29795, 19091, 15997, 573, 16522, 10704, 5251, 166164, 9526, 381714, 41417, 3016, 30, 40424, 7849, 5377, 82481, 5536, 15947, 17170, 5742, 29118, 84927, 13577, 1119, 72, 53211, 25171, 2249, 22246, 1027], \"type\": \"choropleth\"}], \"name\": \"6/12/20\"}, {\"data\": [{\"coloraxis\": \"coloraxis\", \"geo\": \"geo\", \"hoverlabel\": {\"namelength\": 0}, \"hovertemplate\": \"Date=6/13/20<br>FIPS=%{location}<br>Confirmed=%{z}\", \"locations\": [161490.0, 38913.0, 60208.0, 465617.0, 345315.0, 483717.0, 162073.0, 120019.0, 88888.0, 11001.0, 898562.0, 2262703.0, 99999.0, 66.0, 140035.0, 561591.0, 1897267.0, 1664464.0, 1980820.0, 1829295.0, 2603220.0, 1502118.0, 458279.0, 577079.0, 390195.0, 2308810.0, 2419519.0, 2274669.0, 3322048.0, 961716.0, 2422000.0, 480754.0, 420133.0, 804475.0, 1175986.0, 2091626.0, 3710000.0, 1750566.0, 69.0, 3439744.0, 2965698.0, 1395206.0, 2818489.0, 5694982.0, 310069.0, 2072116.0, 2672033.0, 4644119.0, 11483904.0, 343271.0, 790246.0, 78.0, 6665022.0, 2105551.0, 2864907.0, 3965119.0, 1288529.0], \"name\": \"\", \"z\": [24601, 653, 34660, 12095, 150034, 29002, 44994, 10229, 49, 9709, 73552, 56804, 103, 183, 723, 3353, 131871, 39543, 23717, 11020, 12445, 46283, 2757, 61305, 105395, 65836, 30172, 19348, 16232, 588, 16640, 10997, 5299, 166605, 9621, 382630, 42845, 3058, 30, 40851, 8073, 5377, 82944, 5690, 15947, 17955, 5833, 29549, 86915, 13981, 1125, 72, 53869, 25538, 2274, 22518, 1050], \"type\": \"choropleth\"}], \"name\": \"6/13/20\"}, {\"data\": [{\"coloraxis\": \"coloraxis\", \"geo\": \"geo\", \"hoverlabel\": {\"namelength\": 0}, \"hovertemplate\": \"Date=6/14/20<br>FIPS=%{location}<br>Confirmed=%{z}\", \"locations\": [161490.0, 38913.0, 60208.0, 465617.0, 345315.0, 483717.0, 162073.0, 120019.0, 88888.0, 11001.0, 898562.0, 2262703.0, 99999.0, 66.0, 140035.0, 561591.0, 1897267.0, 1664464.0, 1980820.0, 1829295.0, 2603220.0, 1502118.0, 458279.0, 577079.0, 390195.0, 2308810.0, 2419519.0, 2274669.0, 3322048.0, 961716.0, 2422000.0, 480754.0, 420133.0, 804475.0, 1175986.0, 2091626.0, 3710000.0, 1750566.0, 69.0, 3439744.0, 2965698.0, 1395206.0, 2818489.0, 5694982.0, 310069.0, 2072116.0, 2672033.0, 4644119.0, 11483904.0, 343271.0, 790246.0, 78.0, 6665022.0, 2105551.0, 2864907.0, 3965119.0, 1288529.0], \"name\": \"\", \"z\": [25615, 660, 35706, 12501, 152349, 29115, 45088, 10264, 49, 9767, 75568, 57681, 103, 183, 728, 3399, 132543, 39909, 23926, 11101, 12445, 46619, 2793, 61701, 105603, 66054, 30471, 19516, 16262, 601, 16730, 11201, 5318, 166881, 9723, 383324, 44264, 3080, 30, 41148, 8231, 5636, 83203, 5811, 15947, 18795, 5898, 30343, 88523, 14313, 1127, 72, 54506, 25834, 2290, 22758, 1060], \"type\": \"choropleth\"}], \"name\": \"6/14/20\"}, {\"data\": [{\"coloraxis\": \"coloraxis\", \"geo\": \"geo\", \"hoverlabel\": {\"namelength\": 0}, \"hovertemplate\": \"Date=6/15/20<br>FIPS=%{location}<br>Confirmed=%{z}\", \"locations\": [161490.0, 38913.0, 60208.0, 465617.0, 345315.0, 483717.0, 162073.0, 120019.0, 88888.0, 11001.0, 898562.0, 2262703.0, 99999.0, 66.0, 140035.0, 561591.0, 1897267.0, 1664464.0, 1980820.0, 1829295.0, 2603220.0, 1502118.0, 458279.0, 577079.0, 440221.0, 2308810.0, 2419519.0, 2274669.0, 3351105.0, 961716.0, 2422000.0, 480754.0, 420133.0, 804475.0, 1175986.0, 2091626.0, 3710000.0, 1750566.0, 69.0, 3439744.0, 2965698.0, 1395206.0, 2818489.0, 5694982.0, 310069.0, 2072116.0, 2718040.0, 4644119.0, 11532365.0, 343271.0, 790246.0, 78.0, 6665022.0, 2105551.0, 2954961.0, 3965119.0, 1288529.0], \"name\": \"\", \"z\": [26272, 663, 36844, 12917, 155726, 29284, 45235, 10340, 49, 9799, 77326, 58414, 103, 185, 736, 3399, 133016, 40430, 24082, 11319, 12647, 47172, 2810, 62032, 105690, 66085, 30693, 19799, 16611, 609, 16851, 11315, 5345, 167103, 9845, 383944, 45114, 3101, 30, 41576, 8417, 5820, 83589, 5890, 16093, 19378, 5928, 31004, 90211, 14608, 1128, 72, 54886, 26158, 2322, 22932, 1079], \"type\": \"choropleth\"}], \"name\": \"6/15/20\"}, {\"data\": [{\"coloraxis\": \"coloraxis\", \"geo\": \"geo\", \"hoverlabel\": {\"namelength\": 0}, \"hovertemplate\": \"Date=6/16/20<br>FIPS=%{location}<br>Confirmed=%{z}\", \"locations\": [161490.0, 38913.0, 60208.0, 465617.0, 345315.0, 483717.0, 162073.0, 120019.0, 88888.0, 11001.0, 898562.0, 2262703.0, 99999.0, 66.0, 140035.0, 561591.0, 1897267.0, 1664464.0, 1980820.0, 1829295.0, 2603220.0, 1502118.0, 458279.0, 577079.0, 390195.0, 2308810.0, 2419519.0, 2274669.0, 3351105.0, 961716.0, 2422000.0, 480754.0, 420133.0, 804475.0, 1175986.0, 2091626.0, 3710000.0, 1750566.0, 69.0, 3439744.0, 2965698.0, 1395206.0, 2818489.0, 5694982.0, 310069.0, 2072116.0, 2718040.0, 4644119.0, 11532365.0, 343271.0, 790246.0, 78.0, 6716073.0, 2105551.0, 2954961.0, 3965119.0, 1288529.0], \"name\": \"\", \"z\": [26912, 675, 39185, 13191, 158961, 29427, 45349, 10403, 49, 9818, 80109, 59078, 103, 186, 736, 3462, 133639, 40786, 24179, 11411, 12647, 47706, 2819, 62409, 105885, 66269, 30882, 20152, 16857, 614, 17038, 11683, 5364, 167426, 9933, 384575, 45907, 3124, 30, 42010, 8645, 6098, 83978, 5951, 16164, 19990, 5966, 31751, 93569, 14937, 1131, 72, 55331, 26531, 2341, 23198, 1089], \"type\": \"choropleth\"}], \"name\": \"6/16/20\"}, {\"data\": [{\"coloraxis\": \"coloraxis\", \"geo\": \"geo\", \"hoverlabel\": {\"namelength\": 0}, \"hovertemplate\": \"Date=6/17/20<br>FIPS=%{location}<br>Confirmed=%{z}\", \"locations\": [161490.0, 38913.0, 60208.0, 465617.0, 345315.0, 483717.0, 162073.0, 120019.0, 88888.0, 11001.0, 898562.0, 2262703.0, 99999.0, 66.0, 140035.0, 561591.0, 1897267.0, 1664464.0, 1980820.0, 1829295.0, 2603220.0, 1502118.0, 458279.0, 577079.0, 390195.0, 2308810.0, 2419519.0, 2274669.0, 3261076.0, 961716.0, 2422000.0, 480754.0, 420133.0, 804475.0, 1175986.0, 2091626.0, 3710000.0, 1750566.0, 69.0, 3439744.0, 3005755.0, 1395206.0, 2818489.0, 5694982.0, 310069.0, 2162161.0, 2718040.0, 4644119.0, 11532365.0, 343271.0, 790246.0, 78.0, 6716073.0, 2105551.0, 2864907.0, 3965119.0, 1288529.0], \"name\": \"\", \"z\": [27312, 695, 40937, 13606, 162798, 29656, 45429, 10444, 49, 9847, 82719, 60030, 103, 188, 744, 3632, 134185, 41013, 24460, 11644, 12995, 48634, 2836, 62969, 106151, 66497, 31296, 20641, 17069, 630, 17231, 11854, 5436, 167703, 10065, 385142, 46934, 3166, 30, 42422, 8904, 6218, 84289, 6003, 16213, 20556, 6050, 32114, 97699, 15344, 1130, 73, 55775, 26784, 2376, 23456, 1114], \"type\": \"choropleth\"}], \"name\": \"6/17/20\"}, {\"data\": [{\"coloraxis\": \"coloraxis\", \"geo\": \"geo\", \"hoverlabel\": {\"namelength\": 0}, \"hovertemplate\": \"Date=6/18/20<br>FIPS=%{location}<br>Confirmed=%{z}\", \"locations\": [161490.0, 38913.0, 60208.0, 465617.0, 345315.0, 483717.0, 162073.0, 120019.0, 88888.0, 11001.0, 898562.0, 2262703.0, 99999.0, 66.0, 140035.0, 561591.0, 1897267.0, 1664464.0, 1980820.0, 1829295.0, 2603220.0, 1502118.0, 458279.0, 577079.0, 390195.0, 2308810.0, 2419519.0, 2274669.0, 3261076.0, 1021848.0, 2422000.0, 480754.0, 420133.0, 804475.0, 1175986.0, 2091626.0, 3710000.0, 1750566.0, 69.0, 3439744.0, 3005755.0, 1395206.0, 2818489.0, 5694982.0, 310069.0, 2072116.0, 2718040.0, 4644119.0, 11532365.0, 343271.0, 790246.0, 78.0, 6716073.0, 2105551.0, 2864907.0, 3965119.0, 1288529.0], \"name\": \"\", \"z\": [28206, 707, 43445, 13928, 167133, 29886, 45440, 10499, 49, 9903, 85926, 60912, 103, 192, 762, 3743, 134778, 41438, 24861, 11753, 13197, 48634, 2878, 63229, 106422, 66798, 31675, 20641, 17371, 655, 17414, 12169, 5450, 168107, 10153, 385760, 48167, 3193, 30, 43122, 9355, 6366, 84683, 6111, 16269, 21533, 6109, 32770, 101259, 15839, 1135, 73, 56238, 27192, 2418, 23876, 1144], \"type\": \"choropleth\"}], \"name\": \"6/18/20\"}, {\"data\": [{\"coloraxis\": \"coloraxis\", \"geo\": \"geo\", \"hoverlabel\": {\"namelength\": 0}, \"hovertemplate\": \"Date=6/19/20<br>FIPS=%{location}<br>Confirmed=%{z}\", \"locations\": [161490.0, 38913.0, 60208.0, 465617.0, 345315.0, 483717.0, 162073.0, 120019.0, 88888.0, 11001.0, 898562.0, 2262703.0, 99999.0, 66.0, 140035.0, 561591.0, 1897267.0, 1664464.0, 1980820.0, 1829295.0, 2603220.0, 1502118.0, 458279.0, 577079.0, 390195.0, 2308810.0, 2419519.0, 2274669.0, 3351105.0, 1021848.0, 2422000.0, 480754.0, 420133.0, 804475.0, 1175986.0, 2091626.0, 3710000.0, 1750566.0, 69.0, 3439744.0, 3005755.0, 1395206.0, 2818489.0, 5694982.0, 310069.0, 2072116.0, 2718040.0, 4644119.0, 11580800.0, 343271.0, 790246.0, 78.0, 6767094.0, 2105551.0, 2864907.0, 3965119.0, 1288529.0], \"name\": \"\", \"z\": [29002, 720, 46910, 14631, 170862, 30172, 45557, 10611, 49, 9952, 89748, 62009, 103, 200, 789, 3871, 135470, 41746, 25274, 12021, 13454, 48515, 2913, 63548, 106650, 67097, 32031, 20641, 17667, 666, 17588, 12524, 5486, 168496, 10260, 386556, 49785, 3226, 30, 43731, 9707, 6572, 85199, 6195, 16337, 22608, 6158, 34017, 105394, 16425, 1144, 73, 56793, 27601, 2468, 24154, 1173], \"type\": \"choropleth\"}], \"name\": \"6/19/20\"}, {\"data\": [{\"coloraxis\": \"coloraxis\", \"geo\": \"geo\", \"hoverlabel\": {\"namelength\": 0}, \"hovertemplate\": \"Date=6/2/20<br>FIPS=%{location}<br>Confirmed=%{z}\", \"locations\": [161490.0, 34538.0, 60208.0, 465617.0, 345315.0, 483717.0, 162073.0, 120019.0, 88888.0, 11001.0, 898562.0, 2262703.0, 99999.0, 66.0, 140035.0, 561591.0, 1897267.0, 1664464.0, 1980820.0, 1788949.0, 2603220.0, 1502118.0, 458279.0, 577079.0, 390195.0, 2256724.0, 2392488.0, 2274669.0, 2998989.0, 931699.0, 2328757.0, 480754.0, 420133.0, 804475.0, 1175986.0, 2091626.0, 3710000.0, 1636395.0, 69.0, 3439744.0, 2965698.0, 1395206.0, 2818489.0, 5694982.0, 310069.0, 2072116.0, 2487829.0, 4644119.0, 11194106.0, 343271.0, 790246.0, 78.0, 6665022.0, 2105551.0, 2864907.0, 3965119.0, 1288529.0], \"name\": \"\", \"z\": [18766, 486, 21264, 7818, 117215, 26774, 42979, 9685, 49, 8886, 57447, 48207, 103, 175, 653, 2933, 122848, 35237, 20019, 9965, 10185, 40746, 2377, 54175, 101163, 63240, 25508, 16041, 14055, 523, 14616, 8858, 4749, 161545, 8024, 373040, 30023, 2646, 23, 36350, 6692, 4335, 77225, 3935, 15112, 12419, 5067, 24342, 67310, 10202, 988, 70, 46239, 22157, 2056, 18917, 912], \"type\": \"choropleth\"}], \"name\": \"6/2/20\"}, {\"data\": [{\"coloraxis\": \"coloraxis\", \"geo\": \"geo\", \"hoverlabel\": {\"namelength\": 0}, \"hovertemplate\": \"Date=6/20/20<br>FIPS=%{location}<br>Confirmed=%{z}\", \"locations\": [161490.0, 38913.0, 60208.0, 465617.0, 345315.0, 483717.0, 162073.0, 120019.0, 88888.0, 11001.0, 898562.0, 2262703.0, 99999.0, 66.0, 140035.0, 561591.0, 1897267.0, 1664464.0, 1980820.0, 1829295.0, 2603220.0, 1502118.0, 458279.0, 577079.0, 390195.0, 2308810.0, 2419519.0, 2274669.0, 3319452.0, 1051869.0, 2422000.0, 480754.0, 420133.0, 804475.0, 1175986.0, 2091626.0, 3710000.0, 1826592.0, 69.0, 3439744.0, 3005755.0, 1395206.0, 2818489.0, 5694982.0, 310069.0, 2072116.0, 2718040.0, 4644119.0, 11628909.0, 343271.0, 790246.0, 78.0, 6767094.0, 2105551.0, 2864907.0, 3965119.0, 1288529.0], \"name\": \"\", \"z\": [29549, 741, 50127, 15142, 175243, 30333, 45715, 10681, 49, 9984, 93797, 63809, 103, 222, 789, 4004, 136104, 42061, 25496, 12097, 13630, 49385, 2938, 63956, 106936, 67545, 32467, 20641, 18057, 698, 17707, 12976, 5518, 168834, 10430, 387272, 51390, 3251, 30, 44261, 10038, 6750, 85590, 6463, 16337, 23756, 6225, 34446, 109581, 17068, 1147, 73, 57443, 28225, 2500, 24539, 1179], \"type\": \"choropleth\"}], \"name\": \"6/20/20\"}, {\"data\": [{\"coloraxis\": \"coloraxis\", \"geo\": \"geo\", \"hoverlabel\": {\"namelength\": 0}, \"hovertemplate\": \"Date=6/21/20<br>FIPS=%{location}<br>Confirmed=%{z}\", \"locations\": [161490.0, 38913.0, 60208.0, 465617.0, 345315.0, 483717.0, 162073.0, 120019.0, 88888.0, 11001.0, 898562.0, 2262703.0, 99999.0, 66.0, 140035.0, 651607.0, 1897267.0, 1664464.0, 1980820.0, 1829295.0, 2603220.0, 1502118.0, 458279.0, 577079.0, 390195.0, 2308810.0, 2419519.0, 2274669.0, 3319452.0, 1051869.0, 2422000.0, 480754.0, 420133.0, 804475.0, 1175986.0, 2091626.0, 3710000.0, 1826592.0, 69.0, 3439744.0, 3005755.0, 1395206.0, 2818489.0, 5694982.0, 310069.0, 2072116.0, 2718040.0, 4644119.0, 11628909.0, 343271.0, 790246.0, 78.0, 6767094.0, 2105551.0, 2864907.0, 3965119.0, 1288529.0], \"name\": \"\", \"z\": [30021, 752, 52591, 15561, 178657, 30524, 45755, 10775, 49, 10020, 97291, 64701, 103, 222, 814, 4006, 136762, 42423, 25963, 12136, 13750, 49778, 2957, 64306, 107061, 67711, 32920, 20641, 18460, 717, 17812, 13240, 5544, 169142, 10565, 387936, 52801, 3288, 30, 44808, 10516, 6937, 85935, 6525, 16337, 24661, 6297, 35102, 112944, 17462, 1159, 76, 57994, 28680, 2533, 24819, 1197], \"type\": \"choropleth\"}], \"name\": \"6/21/20\"}, {\"data\": [{\"coloraxis\": \"coloraxis\", \"geo\": \"geo\", \"hoverlabel\": {\"namelength\": 0}, \"hovertemplate\": \"Date=6/22/20<br>FIPS=%{location}<br>Confirmed=%{z}\", \"locations\": [161490.0, 38913.0, 60208.0, 465617.0, 345315.0, 483717.0, 162073.0, 120019.0, 88888.0, 11001.0, 898562.0, 2262703.0, 99999.0, 66.0, 140035.0, 651607.0, 1897267.0, 1664464.0, 1980820.0, 1849488.0, 2603220.0, 1502118.0, 458279.0, 577079.0, 390195.0, 2308810.0, 2419519.0, 2274669.0, 3319452.0, 1051869.0, 2422000.0, 480754.0, 420133.0, 804475.0, 1175986.0, 2091626.0, 3710000.0, 1826592.0, 69.0, 3439744.0, 3045800.0, 1395206.0, 2818489.0, 5694982.0, 310069.0, 2072116.0, 2718040.0, 4644119.0, 11677236.0, 343271.0, 790246.0, 78.0, 6767094.0, 2105551.0, 2954961.0, 3965119.0, 1288529.0], \"name\": \"\", \"z\": [30454, 758, 54599, 16083, 184765, 30689, 45782, 10820, 49, 10058, 100217, 65928, 103, 222, 816, 4256, 137224, 42633, 26146, 12428, 13839, 50239, 2971, 64603, 107210, 67957, 33227, 22329, 18593, 734, 17963, 13528, 5558, 169415, 10694, 388488, 53964, 3313, 30, 45537, 10734, 7083, 86576, 6564, 16459, 25666, 6326, 35553, 117790, 17906, 1163, 76, 58465, 28870, 2552, 25068, 1230], \"type\": \"choropleth\"}], \"name\": \"6/22/20\"}, {\"data\": [{\"coloraxis\": \"coloraxis\", \"geo\": \"geo\", \"hoverlabel\": {\"namelength\": 0}, \"hovertemplate\": \"Date=6/23/20<br>FIPS=%{location}<br>Confirmed=%{z}\", \"locations\": [161490.0, 38913.0, 60208.0, 465617.0, 345315.0, 483717.0, 162073.0, 120019.0, 88888.0, 11001.0, 898562.0, 2262703.0, 99999.0, 66.0, 140035.0, 561591.0, 1897267.0, 1664464.0, 1980820.0, 1869597.0, 2603220.0, 1502118.0, 458279.0, 577079.0, 390195.0, 2308810.0, 2419519.0, 2274669.0, 3319452.0, 1051869.0, 2484186.0, 480754.0, 420133.0, 804475.0, 1175986.0, 2091626.0, 3710000.0, 1826592.0, 69.0, 3439744.0, 3045800.0, 1395206.0, 2818489.0, 5694982.0, 310069.0, 2072116.0, 2718040.0, 4644119.0, 11725679.0, 343271.0, 790246.0, 78.0, 6767094.0, 2105551.0, 2954961.0, 3965119.0, 1288529.0], \"name\": \"\", \"z\": [31097, 760, 58378, 16678, 191477, 30877, 45899, 10847, 49, 10094, 103503, 67810, 103, 225, 819, 4254, 137825, 42871, 26469, 12537, 14141, 51595, 2996, 65007, 107439, 68197, 33469, 22898, 19005, 743, 18099, 13997, 5571, 169734, 10838, 389085, 54639, 3320, 30, 46127, 11031, 7274, 87208, 6685, 16533, 26572, 6353, 36303, 122932, 18300, 1164, 76, 58994, 29386, 2593, 25331, 1254], \"type\": \"choropleth\"}], \"name\": \"6/23/20\"}, {\"data\": [{\"coloraxis\": \"coloraxis\", \"geo\": \"geo\", \"hoverlabel\": {\"namelength\": 0}, \"hovertemplate\": \"Date=6/24/20<br>FIPS=%{location}<br>Confirmed=%{z}\", \"locations\": [161490.0, 38913.0, 60208.0, 465617.0, 345315.0, 483717.0, 162073.0, 120019.0, 88888.0, 11001.0, 898562.0, 2262703.0, 99999.0, 66.0, 140035.0, 651607.0, 1897267.0, 1664464.0, 1980820.0, 1889714.0, 2603220.0, 1502118.0, 458279.0, 577079.0, 390195.0, 2308810.0, 2419519.0, 2274669.0, 3319452.0, 1141899.0, 2515347.0, 480754.0, 420133.0, 804475.0, 1175986.0, 2091626.0, 3710000.0, 1826592.0, 69.0, 3439744.0, 3045800.0, 1395206.0, 2818489.0, 5694982.0, 310069.0, 2072116.0, 2718040.0, 4644119.0, 11725679.0, 343271.0, 790246.0, 78.0, 6767094.0, 2105551.0, 2954961.0, 3965119.0, 1288529.0], \"name\": \"\", \"z\": [32064, 789, 60190, 17375, 196024, 31139, 45913, 10889, 49, 10128, 109014, 69381, 103, 226, 835, 4402, 138540, 43140, 26601, 12930, 14363, 52477, 3017, 65337, 107611, 68555, 33763, 23424, 19123, 766, 18221, 14362, 5598, 169892, 10990, 389666, 56527, 3362, 30, 46759, 11510, 7444, 87685, 6820, 16606, 27897, 6419, 37235, 128132, 18784, 1184, 76, 59514, 29869, 2631, 25763, 1282], \"type\": \"choropleth\"}], \"name\": \"6/24/20\"}, {\"data\": [{\"coloraxis\": \"coloraxis\", \"geo\": \"geo\", \"hoverlabel\": {\"namelength\": 0}, \"hovertemplate\": \"Date=6/25/20<br>FIPS=%{location}<br>Confirmed=%{z}\", \"locations\": [161490.0, 41174.0, 60208.0, 465617.0, 345315.0, 491774.0, 162073.0, 120019.0, 88888.0, 11001.0, 898562.0, 2262703.0, 99999.0, 66.0, 140035.0, 667622.0, 1817250.0, 1664464.0, 1980820.0, 1909763.0, 2603220.0, 1502118.0, 458279.0, 577079.0, 390195.0, 2308810.0, 2419519.0, 2302724.0, 3319452.0, 1112011.0, 2484232.0, 480754.0, 420133.0, 804475.0, 1175986.0, 2091626.0, 3710000.0, 1826592.0, 69.0, 3439744.0, 3045800.0, 1395206.0, 2818489.0, 5694982.0, 310069.0, 2072116.0, 2718040.0, 4644119.0, 11773816.0, 343271.0, 790246.0, 78.0, 6767094.0, 2105551.0, 2919008.0, 3965119.0, 1288529.0], \"name\": \"\", \"z\": [33206, 813, 63281, 18062, 201112, 31463, 45994, 10980, 49, 10159, 114018, 71095, 103, 231, 851, 4865, 139434, 43655, 27373, 13107, 14617, 53415, 3070, 65777, 107837, 68989, 34123, 24516, 19637, 803, 18346, 14859, 5638, 170196, 11192, 390415, 57472, 3393, 30, 47651, 11948, 7568, 88141, 6877, 16640, 29022, 6479, 38034, 134558, 19374, 1191, 80, 59946, 30367, 2694, 26227, 1326], \"type\": \"choropleth\"}], \"name\": \"6/25/20\"}, {\"data\": [{\"coloraxis\": \"coloraxis\", \"geo\": \"geo\", \"hoverlabel\": {\"namelength\": 0}, \"hovertemplate\": \"Date=6/26/20<br>FIPS=%{location}<br>Confirmed=%{z}\", \"locations\": [161490.0, 41174.0, 60208.0, 465617.0, 345315.0, 491774.0, 162073.0, 120019.0, 88888.0, 11001.0, 898562.0, 2262703.0, 99999.0, 66.0, 140035.0, 667622.0, 1897267.0, 1664464.0, 1980820.0, 1909763.0, 2513199.0, 1502118.0, 458279.0, 577079.0, 390195.0, 2308810.0, 2419519.0, 2302724.0, 3319452.0, 1112011.0, 2515393.0, 512765.0, 420133.0, 804475.0, 1175986.0, 2091626.0, 3710000.0, 1864633.0, 69.0, 3439744.0, 3045800.0, 1395206.0, 2818489.0, 5694982.0, 310069.0, 2072116.0, 2718040.0, 4644119.0, 11822059.0, 343271.0, 790246.0, 78.0, 6767094.0, 2105551.0, 2919008.0, 3965119.0, 1288529.0], \"name\": \"\", \"z\": [34183, 833, 66659, 18740, 206844, 31780, 46059, 11017, 49, 10185, 122960, 72995, 103, 247, 866, 4865, 140291, 44140, 27717, 13462, 14859, 54769, 3102, 66115, 108070, 69329, 34616, 25066, 20216, 829, 18524, 15240, 5671, 170584, 11408, 391220, 59158, 3421, 30, 48638, 12347, 7818, 88860, 6922, 16661, 30335, 6535, 39444, 140173, 20050, 1198, 81, 60570, 30855, 2730, 26747, 1368], \"type\": \"choropleth\"}], \"name\": \"6/26/20\"}, {\"data\": [{\"coloraxis\": \"coloraxis\", \"geo\": \"geo\", \"hoverlabel\": {\"namelength\": 0}, \"hovertemplate\": \"Date=6/27/20<br>FIPS=%{location}<br>Confirmed=%{z}\", \"locations\": [161490.0, 41174.0, 150212.0, 465617.0, 345315.0, 491774.0, 162073.0, 120019.0, 88888.0, 11001.0, 898562.0, 2262703.0, 99999.0, 66.0, 140035.0, 699678.0, 1817250.0, 1664464.0, 1980820.0, 1909763.0, 2603220.0, 1502118.0, 458279.0, 577079.0, 390195.0, 2308810.0, 2419519.0, 2302724.0, 3319452.0, 1112011.0, 2515393.0, 512765.0, 420133.0, 804475.0, 1175986.0, 2091626.0, 3710000.0, 1864633.0, 69.0, 3439744.0, 3045800.0, 1395206.0, 2818489.0, 5694982.0, 310069.0, 2072116.0, 2718040.0, 4644119.0, 11822059.0, 343271.0, 790246.0, 78.0, 6767094.0, 2105551.0, 2919008.0, 3965119.0, 1288529.0], \"name\": \"\", \"z\": [35083, 851, 70124, 19310, 210692, 32006, 46206, 11091, 49, 10216, 132545, 74985, 103, 247, 872, 5322, 141077, 44575, 28073, 13617, 15167, 54769, 3154, 66450, 108443, 69679, 35033, 25531, 20572, 852, 18775, 16339, 5717, 170873, 11619, 391923, 60812, 3458, 30, 49455, 12646, 8094, 89446, 7066, 16661, 31939, 6626, 40172, 145894, 20628, 1200, 81, 61247, 31404, 2782, 27286, 1392], \"type\": \"choropleth\"}], \"name\": \"6/27/20\"}, {\"data\": [{\"coloraxis\": \"coloraxis\", \"geo\": \"geo\", \"hoverlabel\": {\"namelength\": 0}, \"hovertemplate\": \"Date=6/28/20<br>FIPS=%{location}<br>Confirmed=%{z}\", \"locations\": [161490.0, 41174.0, 150212.0, 465617.0, 345315.0, 491774.0, 162073.0, 120019.0, 88888.0, 11001.0, 898562.0, 2262703.0, 99999.0, 66.0, 140035.0, 699678.0, 1817250.0, 1664464.0, 1980820.0, 1909763.0, 2603220.0, 1502118.0, 458279.0, 577079.0, 390195.0, 2308810.0, 2419519.0, 2302724.0, 3319452.0, 1112011.0, 2515393.0, 512765.0, 420133.0, 804475.0, 1175986.0, 2091626.0, 3710000.0, 1864633.0, 69.0, 3439744.0, 3045800.0, 1395206.0, 2818489.0, 5694982.0, 310069.0, 2072116.0, 2718040.0, 4644119.0, 11822059.0, 343271.0, 790246.0, 78.0, 6767094.0, 2105551.0, 2919008.0, 3965119.0, 1288529.0], \"name\": \"\", \"z\": [35441, 880, 73920, 19818, 215487, 32290, 46303, 11226, 49, 10248, 141075, 77210, 103, 247, 899, 5322, 141723, 44930, 28520, 13847, 15232, 56236, 3191, 66777, 108667, 69946, 35549, 25892, 20796, 863, 18899, 17160, 5747, 171182, 11809, 392539, 62248, 3495, 30, 50309, 12947, 8341, 89863, 7189, 16661, 33320, 6681, 40172, 150722, 21100, 1202, 81, 61736, 31752, 2832, 27743, 1417], \"type\": \"choropleth\"}], \"name\": \"6/28/20\"}, {\"data\": [{\"coloraxis\": \"coloraxis\", \"geo\": \"geo\", \"hoverlabel\": {\"namelength\": 0}, \"hovertemplate\": \"Date=6/29/20<br>FIPS=%{location}<br>Confirmed=%{z}\", \"locations\": [161490.0, 41174.0, 60208.0, 465617.0, 345315.0, 491774.0, 162073.0, 120019.0, 88888.0, 11001.0, 898562.0, 2262703.0, 99999.0, 66.0, 140035.0, 609662.0, 1897267.0, 1664464.0, 1980820.0, 1950033.0, 2603220.0, 1502118.0, 458279.0, 577079.0, 390195.0, 2308810.0, 2419519.0, 2302724.0, 3319452.0, 1112011.0, 2515393.0, 512765.0, 420133.0, 804475.0, 1175986.0, 2091626.0, 3710000.0, 1864633.0, 69.0, 3439744.0, 3045800.0, 1395206.0, 2818489.0, 5694982.0, 310069.0, 2072116.0, 2718040.0, 4644119.0, 11822059.0, 343271.0, 790246.0, 78.0, 6767094.0, 2105551.0, 2919008.0, 3965119.0, 1288529.0], \"name\": \"\", \"z\": [37175, 901, 74545, 20257, 223646, 32494, 46362, 11376, 49, 10292, 146341, 79417, 103, 253, 900, 5752, 142461, 45228, 28845, 14209, 15347, 57081, 3219, 67254, 108768, 70223, 35861, 26567, 21315, 919, 19042, 17894, 5760, 171272, 11982, 392930, 63736, 3539, 30, 51046, 13175, 8485, 90467, 7250, 16764, 34644, 6716, 42297, 156706, 21664, 1208, 81, 62189, 32253, 2870, 28058, 1450], \"type\": \"choropleth\"}], \"name\": \"6/29/20\"}, {\"data\": [{\"coloraxis\": \"coloraxis\", \"geo\": \"geo\", \"hoverlabel\": {\"namelength\": 0}, \"hovertemplate\": \"Date=6/3/20<br>FIPS=%{location}<br>Confirmed=%{z}\", \"locations\": [161490.0, 34538.0, 60208.0, 465617.0, 345315.0, 483717.0, 162073.0, 120019.0, 88888.0, 11001.0, 898562.0, 2262703.0, 99999.0, 66.0, 140035.0, 561591.0, 1897267.0, 1664464.0, 1890801.0, 1809094.0, 2603220.0, 1502118.0, 458279.0, 577079.0, 390195.0, 2256724.0, 2392488.0, 2274669.0, 2998989.0, 931699.0, 2328757.0, 480754.0, 420133.0, 804475.0, 1175986.0, 2091626.0, 3710000.0, 1636395.0, 69.0, 3439744.0, 2965698.0, 1395206.0, 2818489.0, 5694982.0, 310069.0, 2072116.0, 2579905.0, 4644119.0, 11194106.0, 343271.0, 790246.0, 78.0, 6665022.0, 2105551.0, 2864907.0, 3965119.0, 1288529.0], \"name\": \"\", \"z\": [18851, 504, 22356, 8067, 119374, 27046, 43091, 9712, 49, 9016, 58764, 48894, 103, 177, 653, 2933, 123830, 35712, 20300, 10092, 10410, 41133, 2418, 54982, 101592, 63657, 25870, 16322, 14298, 525, 14885, 8951, 4795, 162068, 8140, 374085, 31276, 2679, 24, 36792, 6805, 4399, 77780, 4023, 15219, 12470, 5162, 24833, 68877, 10497, 990, 70, 46905, 22484, 2077, 19400, 915], \"type\": \"choropleth\"}], \"name\": \"6/3/20\"}, {\"data\": [{\"coloraxis\": \"coloraxis\", \"geo\": \"geo\", \"hoverlabel\": {\"namelength\": 0}, \"hovertemplate\": \"Date=6/30/20<br>FIPS=%{location}<br>Confirmed=%{z}\", \"locations\": [161490.0, 41174.0, 150212.0, 465617.0, 345315.0, 491774.0, 162073.0, 120019.0, 88888.0, 11001.0, 898562.0, 2262703.0, 99999.0, 66.0, 230050.0, 731756.0, 1897267.0, 1664464.0, 1980820.0, 1950033.0, 2603220.0, 1502118.0, 458279.0, 577079.0, 390195.0, 2308810.0, 2419519.0, 2302724.0, 3319452.0, 1112011.0, 2515393.0, 512765.0, 420133.0, 804475.0, 1175986.0, 2091626.0, 3710000.0, 1864633.0, 69.0, 3439744.0, 3045800.0, 1395206.0, 2818489.0, 5694982.0, 310069.0, 2072116.0, 2718040.0, 4644119.0, 11822059.0, 343271.0, 790246.0, 78.0, 6767094.0, 2105551.0, 3009062.0, 3965119.0, 1288529.0], \"name\": \"\", \"z\": [38045, 937, 79228, 20777, 231418, 32698, 46514, 11474, 49, 10327, 152434, 81291, 103, 257, 917, 6117, 143185, 45594, 29074, 14370, 15624, 58095, 3253, 67559, 108882, 70728, 36303, 27247, 21812, 967, 19177, 18456, 5782, 171667, 12147, 393454, 65327, 3576, 30, 51789, 13757, 8656, 91139, 7465, 16813, 36399, 6764, 43509, 163060, 22217, 1208, 81, 62787, 32824, 2905, 28659, 1487], \"type\": \"choropleth\"}], \"name\": \"6/30/20\"}, {\"data\": [{\"coloraxis\": \"coloraxis\", \"geo\": \"geo\", \"hoverlabel\": {\"namelength\": 0}, \"hovertemplate\": \"Date=6/4/20<br>FIPS=%{location}<br>Confirmed=%{z}\", \"locations\": [161490.0, 34538.0, 60208.0, 465617.0, 345315.0, 483717.0, 162073.0, 120019.0, 88888.0, 11001.0, 898562.0, 2262703.0, 99999.0, 66.0, 140035.0, 561591.0, 1897267.0, 1664464.0, 1890801.0, 1809094.0, 2603220.0, 1502118.0, 458279.0, 577079.0, 390195.0, 2256724.0, 2392488.0, 2274669.0, 2998989.0, 931699.0, 2328757.0, 480754.0, 420133.0, 804475.0, 1175986.0, 2091626.0, 3710000.0, 1636395.0, 69.0, 3439744.0, 2965698.0, 1395206.0, 2818489.0, 5694982.0, 310069.0, 2072116.0, 2579897.0, 4644119.0, 11194106.0, 343271.0, 790246.0, 78.0, 6665022.0, 2105551.0, 2864907.0, 3965119.0, 1288529.0], \"name\": \"\", \"z\": [19072, 512, 22886, 8425, 122194, 27346, 43239, 9746, 49, 9120, 60183, 49859, 103, 179, 655, 2990, 124759, 36096, 20806, 10167, 10705, 41562, 2446, 55858, 102063, 63979, 26273, 16560, 14586, 539, 15139, 9129, 4876, 162530, 8353, 375133, 32075, 2706, 26, 37282, 6907, 4474, 78335, 4508, 15325, 12526, 5247, 25190, 70555, 10813, 1026, 71, 47856, 22729, 2102, 19892, 921], \"type\": \"choropleth\"}], \"name\": \"6/4/20\"}, {\"data\": [{\"coloraxis\": \"coloraxis\", \"geo\": \"geo\", \"hoverlabel\": {\"namelength\": 0}, \"hovertemplate\": \"Date=6/5/20<br>FIPS=%{location}<br>Confirmed=%{z}\", \"locations\": [161490.0, 34538.0, 60208.0, 465617.0, 345315.0, 483717.0, 162073.0, 120019.0, 88888.0, 11001.0, 898562.0, 2262703.0, 99999.0, 66.0, 140035.0, 561591.0, 1897267.0, 1664464.0, 1980820.0, 1809094.0, 2603220.0, 1502118.0, 458279.0, 577079.0, 390195.0, 2256724.0, 2392488.0, 2274669.0, 2998989.0, 931699.0, 2359828.0, 480754.0, 420133.0, 804475.0, 1175986.0, 2091626.0, 3710000.0, 1636395.0, 69.0, 3439744.0, 2965698.0, 1395206.0, 2818489.0, 5694982.0, 310069.0, 2072116.0, 2579897.0, 4644119.0, 11387066.0, 343271.0, 790246.0, 78.0, 6665022.0, 2105551.0, 2864907.0, 3965119.0, 1288529.0], \"name\": \"\", \"z\": [19387, 523, 24439, 8651, 125783, 27601, 43460, 9773, 49, 9199, 61488, 50621, 103, 179, 664, 3111, 125915, 36578, 21154, 10306, 10977, 41989, 2482, 56770, 102557, 64821, 26980, 16769, 14753, 541, 15406, 9309, 4953, 163336, 8672, 376208, 33295, 2745, 26, 37758, 7007, 4570, 78815, 4620, 15441, 13458, 5277, 25664, 72548, 11252, 1027, 71, 48532, 22993, 2119, 20249, 933], \"type\": \"choropleth\"}], \"name\": \"6/5/20\"}, {\"data\": [{\"coloraxis\": \"coloraxis\", \"geo\": \"geo\", \"hoverlabel\": {\"namelength\": 0}, \"hovertemplate\": \"Date=6/6/20<br>FIPS=%{location}<br>Confirmed=%{z}\", \"locations\": [161490.0, 34538.0, 60208.0, 465617.0, 345315.0, 483717.0, 162073.0, 120019.0, 88888.0, 11001.0, 898562.0, 2262703.0, 99999.0, 66.0, 140035.0, 561591.0, 1897267.0, 1664464.0, 1980820.0, 1809094.0, 2603220.0, 1502118.0, 368256.0, 577079.0, 390195.0, 2256724.0, 2392488.0, 2274669.0, 2998989.0, 931699.0, 2359828.0, 480754.0, 420133.0, 804475.0, 1175986.0, 2091626.0, 3710000.0, 1712523.0, 69.0, 3439744.0, 2965698.0, 1395206.0, 2818489.0, 5694982.0, 310069.0, 2072116.0, 2625938.0, 4644119.0, 11387066.0, 343271.0, 790246.0, 78.0, 6665022.0, 2105551.0, 2864907.0, 3965119.0, 1288529.0], \"name\": \"\", \"z\": [20043, 535, 25451, 9101, 128606, 27834, 43818, 9845, 49, 9269, 62758, 51359, 103, 179, 673, 3139, 126890, 36997, 21478, 10361, 11287, 42486, 2524, 57482, 103132, 64914, 27501, 17039, 15042, 540, 15572, 9491, 5019, 163893, 8800, 377316, 34718, 2816, 26, 38111, 7059, 4570, 79505, 4915, 15441, 13538, 5367, 26177, 74470, 11798, 1046, 71, 49397, 23442, 2136, 20571, 939], \"type\": \"choropleth\"}], \"name\": \"6/6/20\"}, {\"data\": [{\"coloraxis\": \"coloraxis\", \"geo\": \"geo\", \"hoverlabel\": {\"namelength\": 0}, \"hovertemplate\": \"Date=6/7/20<br>FIPS=%{location}<br>Confirmed=%{z}\", \"locations\": [161490.0, 34538.0, 60208.0, 465617.0, 345315.0, 483717.0, 162073.0, 120019.0, 88888.0, 11001.0, 898562.0, 2262703.0, 99999.0, 66.0, 140035.0, 561591.0, 1897267.0, 1664464.0, 1980820.0, 1809094.0, 2603220.0, 1502118.0, 458279.0, 577079.0, 390195.0, 2256724.0, 2392488.0, 2274669.0, 2998989.0, 931699.0, 2359828.0, 480754.0, 420133.0, 804475.0, 1175986.0, 2091626.0, 3710000.0, 1712523.0, 69.0, 3439744.0, 2965698.0, 1395206.0, 2818489.0, 5694982.0, 310069.0, 2072116.0, 2625938.0, 4644119.0, 11387066.0, 343271.0, 790246.0, 78.0, 6665022.0, 2105551.0, 2864907.0, 3965119.0, 1288529.0], \"name\": \"\", \"z\": [20500, 543, 26989, 9426, 130657, 27987, 43968, 9942, 49, 9332, 63938, 51898, 103, 179, 675, 3139, 127757, 37397, 21712, 10406, 11287, 42816, 2570, 57973, 103436, 64969, 27886, 17270, 15132, 545, 15664, 9669, 5043, 164164, 8940, 378097, 35625, 2861, 27, 38476, 7150, 4662, 79908, 4985, 15441, 14302, 5438, 26493, 75408, 12066, 1063, 71, 50681, 23729, 2144, 20835, 947], \"type\": \"choropleth\"}], \"name\": \"6/7/20\"}, {\"data\": [{\"coloraxis\": \"coloraxis\", \"geo\": \"geo\", \"hoverlabel\": {\"namelength\": 0}, \"hovertemplate\": \"Date=6/8/20<br>FIPS=%{location}<br>Confirmed=%{z}\", \"locations\": [161490.0, 36813.0, 60208.0, 465617.0, 345315.0, 483717.0, 162073.0, 120019.0, 88888.0, 11001.0, 898562.0, 2262703.0, 99999.0, 66.0, 140035.0, 561591.0, 1897267.0, 1664464.0, 1980820.0, 1809094.0, 2603220.0, 1502118.0, 458279.0, 577079.0, 390195.0, 2282727.0, 2392488.0, 2274669.0, 2998989.0, 931699.0, 2359828.0, 480754.0, 420133.0, 804475.0, 1175986.0, 2091626.0, 3710000.0, 1712523.0, 69.0, 3439744.0, 2965698.0, 1395206.0, 2818489.0, 5694982.0, 310069.0, 2072116.0, 2625938.0, 4644119.0, 11387066.0, 343271.0, 790246.0, 78.0, 6665022.0, 2105551.0, 2864907.0, 3965119.0, 1288529.0], \"name\": \"\", \"z\": [20925, 562, 27678, 9740, 133816, 28169, 44092, 9972, 49, 9389, 64904, 52497, 103, 179, 676, 3189, 128415, 37623, 22007, 10544, 11476, 43050, 2588, 58404, 103626, 65104, 28224, 17768, 15355, 548, 15786, 9816, 5079, 164497, 9062, 378799, 36517, 2880, 28, 38837, 7205, 4922, 80339, 5046, 15642, 14800, 5471, 27005, 76463, 12322, 1075, 71, 51251, 24041, 2161, 21038, 960], \"type\": \"choropleth\"}], \"name\": \"6/8/20\"}, {\"data\": [{\"coloraxis\": \"coloraxis\", \"geo\": \"geo\", \"hoverlabel\": {\"namelength\": 0}, \"hovertemplate\": \"Date=6/9/20<br>FIPS=%{location}<br>Confirmed=%{z}\", \"locations\": [161490.0, 38913.0, 60208.0, 465617.0, 345315.0, 483717.0, 162073.0, 120019.0, 88888.0, 11001.0, 898562.0, 2262703.0, 99999.0, 66.0, 140035.0, 561591.0, 1897267.0, 1664464.0, 1980820.0, 1829295.0, 2603220.0, 1502118.0, 458279.0, 577079.0, 390195.0, 2308810.0, 2392488.0, 2274669.0, 2998989.0, 931699.0, 2359828.0, 480754.0, 420133.0, 804475.0, 1175986.0, 2091626.0, 3710000.0, 1750566.0, 69.0, 3439744.0, 2965698.0, 1395206.0, 2818489.0, 5694982.0, 310069.0, 2072116.0, 2625938.0, 4644119.0, 11435491.0, 343271.0, 790246.0, 78.0, 6665022.0, 2105551.0, 2864907.0, 3965119.0, 1288529.0], \"name\": \"\", \"z\": [21422, 572, 28296, 10080, 136681, 28333, 44179, 10020, 49, 9474, 66000, 53249, 103, 180, 682, 3221, 129212, 38033, 22237, 10609, 11707, 43612, 2606, 58904, 103889, 65167, 28523, 18123, 15566, 554, 15918, 10045, 5079, 164796, 9105, 379482, 37227, 2901, 30, 39162, 7363, 4988, 80870, 5185, 15691, 15228, 5523, 27575, 78208, 12559, 1084, 71, 51738, 24354, 2169, 21308, 970], \"type\": \"choropleth\"}], \"name\": \"6/9/20\"}, {\"data\": [{\"coloraxis\": \"coloraxis\", \"geo\": \"geo\", \"hoverlabel\": {\"namelength\": 0}, \"hovertemplate\": \"Date=7/1/20<br>FIPS=%{location}<br>Confirmed=%{z}\", \"locations\": [161490.0, 41174.0, 60208.0, 465617.0, 345315.0, 491774.0, 162073.0, 120019.0, 88888.0, 11001.0, 898562.0, 2262703.0, 99999.0, 66.0, 140035.0, 731756.0, 1897267.0, 1664464.0, 1980820.0, 1970200.0, 2624421.0, 1502118.0, 458279.0, 577079.0, 390195.0, 2308810.0, 2419519.0, 2302724.0, 3319452.0, 1112011.0, 2546484.0, 512765.0, 420133.0, 804475.0, 1175986.0, 2091626.0, 3710000.0, 1864633.0, 69.0, 3439744.0, 3045800.0, 1395206.0, 2818489.0, 5694982.0, 310069.0, 2072116.0, 2718040.0, 4644119.0, 11822059.0, 343271.0, 790246.0, 78.0, 6767094.0, 2105551.0, 2919008.0, 3965119.0, 1288529.0], \"name\": \"\", \"z\": [38962, 975, 84105, 21197, 238681, 33012, 46572, 11510, 49, 10365, 158997, 84242, 103, 267, 926, 6370, 144013, 45952, 29514, 14830, 15842, 60178, 3294, 67918, 109143, 71089, 36716, 27900, 22104, 1016, 19310, 19101, 5802, 171928, 12276, 394079, 66751, 3615, 30, 52865, 14119, 8931, 91775, 7537, 16853, 37919, 6826, 45315, 172368, 22716, 1210, 90, 63203, 33435, 2979, 29199, 1514], \"type\": \"choropleth\"}], \"name\": \"7/1/20\"}, {\"data\": [{\"coloraxis\": \"coloraxis\", \"geo\": \"geo\", \"hoverlabel\": {\"namelength\": 0}, \"hovertemplate\": \"Date=7/10/20<br>FIPS=%{location}<br>Confirmed=%{z}\", \"locations\": [161490.0, 47408.0, 60208.0, 470630.0, 345315.0, 491774.0, 162073.0, 120019.0, 88888.0, 11001.0, 898562.0, 2262703.0, 99999.0, 66.0, 140035.0, 763896.0, 1914438.0, 1664464.0, 1980820.0, 2010360.0, 2624421.0, 1502118.0, 458279.0, 577079.0, 390195.0, 2334941.0, 2419519.0, 2302724.0, 3348537.0, 1172201.0, 2577601.0, 512765.0, 420133.0, 804475.0, 1211019.0, 2091626.0, 3710000.0, 1940775.0, 69.0, 3439744.0, 3085929.0, 1436227.0, 2818489.0, 5694982.0, 310069.0, 2072116.0, 2902210.0, 4644119.0, 11966906.0, 343271.0, 790246.0, 78.0, 6818111.0, 2105551.0, 2919008.0, 3965119.0, 1288529.0], \"name\": \"\", \"z\": [50508, 1323, 116892, 26803, 310885, 36173, 47287, 12652, 49, 10743, 244151, 111217, 103, 310, 1158, 9929, 152899, 50300, 34172, 18303, 18672, 74636, 3499, 71910, 111110, 75685, 40767, 34622, 27069, 1593, 20777, 25908, 5991, 174628, 14549, 400299, 82032, 4155, 31, 62856, 19092, 11454, 98482, 9137, 17312, 52419, 7401, 59546, 245920, 28223, 1277, 153, 68931, 39218, 3983, 34753, 1790], \"type\": \"choropleth\"}], \"name\": \"7/10/20\"}, {\"data\": [{\"coloraxis\": \"coloraxis\", \"geo\": \"geo\", \"hoverlabel\": {\"namelength\": 0}, \"hovertemplate\": \"Date=7/11/20<br>FIPS=%{location}<br>Confirmed=%{z}\", \"locations\": [161490.0, 47408.0, 60208.0, 470630.0, 345315.0, 491774.0, 162073.0, 120019.0, 88888.0, 11001.0, 898562.0, 2262703.0, 99999.0, 66.0, 140035.0, 763896.0, 1834421.0, 1664464.0, 1980820.0, 2010360.0, 2624421.0, 1502118.0, 458279.0, 577079.0, 390195.0, 2334941.0, 2419519.0, 2302724.0, 3348537.0, 1172201.0, 2608734.0, 512765.0, 420133.0, 804475.0, 1211019.0, 2091626.0, 3710000.0, 1902728.0, 69.0, 3439744.0, 3085929.0, 1436227.0, 2818489.0, 5694982.0, 310069.0, 2072116.0, 2948315.0, 4644119.0, 11966906.0, 343271.0, 790246.0, 78.0, 6818111.0, 2105551.0, 2919008.0, 3965119.0, 1288529.0], \"name\": \"\", \"z\": [51947, 1385, 119930, 27864, 318761, 36573, 47287, 12743, 49, 10801, 254511, 114401, 103, 310, 1200, 10506, 154094, 51079, 34658, 18687, 19121, 76803, 3520, 72467, 111398, 76370, 41571, 35419, 27606, 1677, 20998, 26838, 6024, 174959, 14773, 401029, 83906, 4243, 33, 64214, 19779, 11851, 99216, 9366, 17312, 54699, 7454, 61006, 254415, 28855, 1283, 167, 69782, 39218, 4146, 35679, 1839], \"type\": \"choropleth\"}], \"name\": \"7/11/20\"}, {\"data\": [{\"coloraxis\": \"coloraxis\", \"geo\": \"geo\", \"hoverlabel\": {\"namelength\": 0}, \"hovertemplate\": \"Date=7/12/20<br>FIPS=%{location}<br>Confirmed=%{z}\", \"locations\": [161490.0, 47408.0, 60208.0, 470630.0, 345315.0, 491774.0, 162073.0, 120019.0, 88888.0, 11001.0, 898562.0, 2262703.0, 99999.0, 66.0, 140035.0, 763896.0, 1834421.0, 1664464.0, 1980820.0, 2030431.0, 2624421.0, 1502118.0, 458279.0, 577079.0, 390195.0, 2334941.0, 2419519.0, 2302724.0, 3348537.0, 1202226.0, 2608734.0, 512765.0, 420133.0, 804475.0, 1211019.0, 2091626.0, 3710000.0, 1940775.0, 69.0, 3439744.0, 3085929.0, 1436227.0, 2818489.0, 5694982.0, 310069.0, 2072116.0, 2948315.0, 4644119.0, 11966906.0, 343271.0, 790246.0, 78.0, 6818111.0, 2158574.0, 2919008.0, 3965119.0, 1288529.0], \"name\": \"\", \"z\": [53587, 1479, 122467, 28367, 324543, 36895, 47287, 12804, 49, 10847, 269811, 116935, 103, 310, 1220, 10903, 155048, 51612, 35410, 18981, 19389, 78122, 3539, 73109, 111597, 76776, 42281, 36287, 27880, 1758, 21172, 27683, 6054, 175298, 15028, 401706, 85771, 4334, 33, 65592, 20235, 12170, 99794, 9654, 17312, 56648, 7499, 61960, 262762, 29484, 1296, 181, 70670, 40656, 4244, 36448, 1862], \"type\": \"choropleth\"}], \"name\": \"7/12/20\"}, {\"data\": [{\"coloraxis\": \"coloraxis\", \"geo\": \"geo\", \"hoverlabel\": {\"namelength\": 0}, \"hovertemplate\": \"Date=7/13/20<br>FIPS=%{location}<br>Confirmed=%{z}\", \"locations\": [161490.0, 47408.0, 60208.0, 470630.0, 345315.0, 491774.0, 162073.0, 120019.0, 88888.0, 11001.0, 898562.0, 2262703.0, 99999.0, 66.0, 140035.0, 763896.0, 1914438.0, 1664464.0, 1980820.0, 2050470.0, 2624421.0, 1502118.0, 458279.0, 577079.0, 390195.0, 2334941.0, 2419519.0, 2302724.0, 3348537.0, 1232259.0, 2608734.0, 512765.0, 420133.0, 804475.0, 1211019.0, 2091626.0, 3710000.0, 1940775.0, 69.0, 3439744.0, 3085929.0, 1436227.0, 2818489.0, 5694982.0, 310069.0, 2072116.0, 2948315.0, 4644119.0, 11966906.0, 343271.0, 790246.0, 78.0, 6818111.0, 2158574.0, 2919008.0, 3965119.0, 1288529.0], \"name\": \"\", \"z\": [55545, 1539, 123824, 28939, 333357, 37218, 47510, 12879, 49, 10906, 282435, 120572, 103, 312, 1243, 11404, 155931, 52037, 35631, 19645, 19653, 79827, 3558, 73527, 111827, 77198, 42772, 36680, 28289, 1843, 21399, 28515, 6068, 175522, 15291, 402263, 87669, 4442, 33, 66853, 20746, 12438, 100330, 10010, 17487, 58168, 7524, 65274, 269778, 30030, 1301, 206, 71642, 41757, 4313, 36942, 1903], \"type\": \"choropleth\"}], \"name\": \"7/13/20\"}, {\"data\": [{\"coloraxis\": \"coloraxis\", \"geo\": \"geo\", \"hoverlabel\": {\"namelength\": 0}, \"hovertemplate\": \"Date=7/14/20<br>FIPS=%{location}<br>Confirmed=%{z}\", \"locations\": [161490.0, 47408.0, 60208.0, 470630.0, 345315.0, 499889.0, 162073.0, 120019.0, 88888.0, 11001.0, 898562.0, 2262703.0, 99999.0, 66.0, 140035.0, 763896.0, 1914438.0, 1664464.0, 1980820.0, 2050470.0, 2624421.0, 1412096.0, 458279.0, 577079.0, 390195.0, 2334941.0, 2419519.0, 2302724.0, 3348537.0, 1292457.0, 2639783.0, 512765.0, 330100.0, 804475.0, 1211019.0, 2091626.0, 3710000.0, 1978808.0, 69.0, 3439744.0, 3085929.0, 1436227.0, 2818489.0, 5694982.0, 310069.0, 2072116.0, 2948315.0, 4644119.0, 12063480.0, 343271.0, 790246.0, 78.0, 6818111.0, 2158574.0, 2919008.0, 3965119.0, 1288529.0], \"name\": \"\", \"z\": [57255, 1579, 128097, 29812, 346211, 37668, 47530, 12969, 49, 10946, 291629, 123963, 103, 312, 1264, 11720, 156638, 52685, 35866, 19887, 20223, 82042, 3566, 74260, 112130, 77864, 43170, 37542, 29240, 1952, 21717, 29619, 6091, 175915, 15514, 403175, 90000, 4493, 36, 67995, 21740, 12805, 101266, 10123, 17588, 60389, 7572, 66788, 279577, 30478, 1305, 206, 72443, 42304, 4407, 37906, 1950], \"type\": \"choropleth\"}], \"name\": \"7/14/20\"}, {\"data\": [{\"coloraxis\": \"coloraxis\", \"geo\": \"geo\", \"hoverlabel\": {\"namelength\": 0}, \"hovertemplate\": \"Date=7/15/20<br>FIPS=%{location}<br>Confirmed=%{z}\", \"locations\": [161490.0, 47408.0, 60208.0, 470630.0, 345315.0, 499889.0, 162073.0, 120019.0, 88888.0, 11001.0, 898562.0, 2262703.0, 99999.0, 66.0, 140035.0, 763896.0, 1914438.0, 1664464.0, 1980820.0, 2050470.0, 2624421.0, 1502118.0, 458279.0, 577079.0, 390195.0, 2334941.0, 2419519.0, 2302724.0, 3348537.0, 1322554.0, 2639783.0, 512765.0, 330100.0, 804475.0, 1211019.0, 2091626.0, 3710000.0, 1978808.0, 69.0, 3439744.0, 3085929.0, 1436227.0, 2818489.0, 5694982.0, 310069.0, 2072116.0, 2948315.0, 4644119.0, 12063480.0, 343271.0, 790246.0, 78.0, 6818111.0, 2158574.0, 2919008.0, 3965119.0, 1288529.0], \"name\": \"\", \"z\": [59067, 1631, 131354, 30297, 354885, 38137, 47636, 13050, 49, 11026, 301810, 127838, 103, 313, 1292, 12449, 157825, 53370, 36536, 20349, 20677, 84131, 3578, 75016, 112347, 78913, 43742, 38567, 30057, 2096, 21979, 30468, 6113, 176278, 15841, 404006, 91837, 4565, 36, 69311, 22814, 13081, 102269, 10379, 17640, 62245, 7652, 69061, 290892, 30891, 1318, 243, 73527, 43046, 4557, 38727, 1985], \"type\": \"choropleth\"}], \"name\": \"7/15/20\"}, {\"data\": [{\"coloraxis\": \"coloraxis\", \"geo\": \"geo\", \"hoverlabel\": {\"namelength\": 0}, \"hovertemplate\": \"Date=7/16/20<br>FIPS=%{location}<br>Confirmed=%{z}\", \"locations\": [161490.0, 49478.0, 60208.0, 470630.0, 345315.0, 499889.0, 162073.0, 120019.0, 88888.0, 11001.0, 898562.0, 2262703.0, 99999.0, 66.0, 230050.0, 673880.0, 1914438.0, 1664464.0, 1980820.0, 2050470.0, 2624421.0, 1502118.0, 458279.0, 577079.0, 390195.0, 2334941.0, 2419519.0, 2302724.0, 3348537.0, 1352559.0, 2639783.0, 512765.0, 330100.0, 804475.0, 1211019.0, 2091626.0, 3710000.0, 1978808.0, 69.0, 3439744.0, 3085929.0, 1436227.0, 2818489.0, 5694982.0, 310069.0, 2072116.0, 2948315.0, 4644119.0, 12063480.0, 343271.0, 790246.0, 78.0, 6818111.0, 2158574.0, 2919008.0, 3965119.0, 1288529.0], \"name\": \"\", \"z\": [61088, 1693, 134613, 31114, 364706, 38708, 47750, 13114, 49, 11076, 315775, 131287, 103, 314, 1311, 13134, 159082, 54080, 37350, 20817, 21083, 86411, 3598, 75664, 112581, 79839, 44347, 39797, 30873, 2231, 22134, 31915, 6139, 176501, 16138, 404775, 93708, 4668, 37, 70601, 23440, 13509, 103075, 10574, 17711, 64083, 7694, 71540, 305854, 31845, 1325, 249, 74431, 44313, 4657, 39627, 2026], \"type\": \"choropleth\"}], \"name\": \"7/16/20\"}, {\"data\": [{\"coloraxis\": \"coloraxis\", \"geo\": \"geo\", \"hoverlabel\": {\"namelength\": 0}, \"hovertemplate\": \"Date=7/17/20<br>FIPS=%{location}<br>Confirmed=%{z}\", \"locations\": [161490.0, 49478.0, 60208.0, 470630.0, 345315.0, 507922.0, 162073.0, 120019.0, 88888.0, 11001.0, 898562.0, 2262703.0, 99999.0, 66.0, 140035.0, 673880.0, 1914438.0, 1664464.0, 1980820.0, 2050470.0, 2534400.0, 1502118.0, 458279.0, 577079.0, 390195.0, 2334941.0, 2419519.0, 2302724.0, 3348537.0, 1352559.0, 2670840.0, 512765.0, 330100.0, 804475.0, 1211019.0, 2091626.0, 3710000.0, 1978808.0, 69.0, 3439744.0, 3085929.0, 1436227.0, 2818489.0, 5694982.0, 310069.0, 2072116.0, 2948315.0, 4644119.0, 12063480.0, 343271.0, 790246.0, 78.0, 6818111.0, 2158574.0, 2919008.0, 3965119.0, 1288529.0], \"name\": \"\", \"z\": [63091, 1734, 138523, 31762, 373259, 39326, 47893, 13337, 49, 11115, 327241, 135192, 103, 314, 1334, 13753, 160509, 54813, 37903, 21388, 21605, 88590, 3636, 76371, 112879, 80593, 45013, 40829, 31738, 2366, 22361, 33295, 6165, 176551, 16456, 405551, 95570, 4792, 37, 72280, 24140, 13802, 104079, 11120, 17793, 66060, 7789, 73819, 317768, 32572, 1334, 263, 75433, 45067, 4783, 40507, 2069], \"type\": \"choropleth\"}], \"name\": \"7/17/20\"}, {\"data\": [{\"coloraxis\": \"coloraxis\", \"geo\": \"geo\", \"hoverlabel\": {\"namelength\": 0}, \"hovertemplate\": \"Date=7/18/20<br>FIPS=%{location}<br>Confirmed=%{z}\", \"locations\": [161490.0, 49478.0, 60208.0, 470630.0, 345315.0, 507922.0, 162073.0, 120019.0, 88888.0, 11001.0, 898562.0, 2262703.0, 99999.0, 66.0, 230050.0, 673880.0, 1834421.0, 1664464.0, 1980820.0, 2050470.0, 2624421.0, 1502118.0, 458279.0, 577079.0, 390195.0, 2334941.0, 2419519.0, 2302724.0, 3348537.0, 1352559.0, 2670840.0, 512765.0, 330100.0, 804475.0, 1211019.0, 2091626.0, 3710000.0, 1978808.0, 69.0, 3439744.0, 3085929.0, 1436227.0, 2818489.0, 5767870.0, 310069.0, 2072116.0, 2948315.0, 4644119.0, 12111913.0, 343271.0, 790246.0, 78.0, 6818111.0, 2158574.0, 2919008.0, 3965119.0, 1288529.0], \"name\": \"\", \"z\": [65234, 1796, 141265, 32533, 380745, 39770, 47893, 13429, 49, 11194, 337569, 139880, 103, 314, 1354, 14303, 161785, 55654, 38313, 21693, 22184, 88590, 3645, 77206, 113238, 81338, 45470, 41846, 32704, 2471, 22481, 34477, 6188, 176814, 16736, 406305, 98092, 4907, 37, 73821, 25057, 14149, 104780, 11453, 17793, 67612, 7862, 76336, 327106, 33332, 1338, 283, 76373, 46026, 4894, 41485, 2108], \"type\": \"choropleth\"}], \"name\": \"7/18/20\"}, {\"data\": [{\"coloraxis\": \"coloraxis\", \"geo\": \"geo\", \"hoverlabel\": {\"namelength\": 0}, \"hovertemplate\": \"Date=7/19/20<br>FIPS=%{location}<br>Confirmed=%{z}\", \"locations\": [161490.0, 49478.0, 60208.0, 470630.0, 345315.0, 507922.0, 162073.0, 120019.0, 88888.0, 11001.0, 898562.0, 2262703.0, 99999.0, 66.0, 230050.0, 689913.0, 1914438.0, 1664464.0, 1980820.0, 2050470.0, 2624421.0, 1502118.0, 458279.0, 577079.0, 390195.0, 2334941.0, 2419519.0, 2302724.0, 3348537.0, 1352559.0, 2670840.0, 512765.0, 330100.0, 804475.0, 1211019.0, 2091626.0, 3710000.0, 1978808.0, 69.0, 3439744.0, 3085929.0, 1436227.0, 2818489.0, 5767870.0, 310069.0, 2072116.0, 2948315.0, 4644119.0, 12111913.0, 343271.0, 790246.0, 78.0, 6818111.0, 2158574.0, 2919008.0, 3965119.0, 1288529.0], \"name\": \"\", \"z\": [67011, 1875, 143624, 33228, 386906, 40124, 47893, 13519, 49, 11261, 350047, 143129, 103, 314, 1381, 14874, 162750, 56571, 38813, 21996, 23161, 91706, 3687, 78131, 113534, 81868, 46204, 42638, 33521, 2533, 22583, 35765, 6203, 176783, 16971, 406807, 99803, 5019, 37, 74932, 25266, 14579, 105384, 12063, 17793, 69986, 7906, 78115, 335257, 34117, 1350, 283, 77430, 46946, 4990, 42315, 2126], \"type\": \"choropleth\"}], \"name\": \"7/19/20\"}, {\"data\": [{\"coloraxis\": \"coloraxis\", \"geo\": \"geo\", \"hoverlabel\": {\"namelength\": 0}, \"hovertemplate\": \"Date=7/2/20<br>FIPS=%{location}<br>Confirmed=%{z}\", \"locations\": [161490.0, 41174.0, 60208.0, 470630.0, 345315.0, 491774.0, 162073.0, 120019.0, 88888.0, 11001.0, 898562.0, 2262703.0, 99999.0, 66.0, 140035.0, 731756.0, 1897267.0, 1664464.0, 1980820.0, 1970200.0, 2624421.0, 1502118.0, 458279.0, 577079.0, 390195.0, 2308810.0, 2419519.0, 2302724.0, 3409481.0, 1142110.0, 2546484.0, 512765.0, 420133.0, 804475.0, 1175986.0, 2091626.0, 3710000.0, 1864633.0, 69.0, 3529783.0, 3045800.0, 1395206.0, 2818489.0, 5694982.0, 310069.0, 2072116.0, 2718040.0, 4644119.0, 11822059.0, 343271.0, 790246.0, 78.0, 6767094.0, 2105551.0, 2864907.0, 3965119.0, 1288529.0], \"name\": \"\", \"z\": [40111, 1014, 87445, 22075, 246550, 33335, 46646, 11731, 49, 10390, 169106, 87709, 103, 280, 946, 6593, 144882, 46387, 30259, 15002, 16079, 61561, 3328, 68423, 109338, 71678, 37210, 28770, 22636, 1083, 19452, 19733, 5822, 172356, 12520, 394954, 68216, 3657, 31, 54166, 14531, 9294, 92612, 7608, 16941, 39701, 6893, 46890, 179137, 23270, 1227, 92, 63735, 34151, 3053, 29738, 1550], \"type\": \"choropleth\"}], \"name\": \"7/2/20\"}, {\"data\": [{\"coloraxis\": \"coloraxis\", \"geo\": \"geo\", \"hoverlabel\": {\"namelength\": 0}, \"hovertemplate\": \"Date=7/20/20<br>FIPS=%{location}<br>Confirmed=%{z}\", \"locations\": [161490.0, 51546.0, 60208.0, 470630.0, 345315.0, 507922.0, 162073.0, 120019.0, 88888.0, 11001.0, 898562.0, 2262703.0, 99999.0, 66.0, 140035.0, 689913.0, 1914438.0, 1664464.0, 1980820.0, 2050470.0, 2624421.0, 1502118.0, 458279.0, 577079.0, 390195.0, 2334941.0, 2419519.0, 2302724.0, 3348537.0, 1352559.0, 2701975.0, 512765.0, 330100.0, 804475.0, 1211019.0, 2091626.0, 3710000.0, 1978808.0, 69.0, 3439744.0, 3085929.0, 1436227.0, 2818489.0, 5767870.0, 310069.0, 2072116.0, 2948315.0, 4644119.0, 12111913.0, 343271.0, 790246.0, 78.0, 6818111.0, 2158574.0, 2919008.0, 3965119.0, 1288529.0], \"name\": \"\", \"z\": [68891, 1950, 145183, 33927, 397870, 40548, 48055, 13624, 49, 11339, 360394, 145582, 103, 319, 1393, 15268, 163922, 57206, 39343, 22656, 23414, 94892, 3711, 78685, 113789, 82395, 47107, 43889, 34102, 2620, 22847, 36713, 6249, 176963, 17215, 407326, 101231, 5126, 38, 76168, 25436, 14847, 106405, 12461, 17904, 71445, 7943, 79754, 343783, 34526, 1360, 304, 78375, 47743, 5084, 43018, 2187], \"type\": \"choropleth\"}], \"name\": \"7/20/20\"}, {\"data\": [{\"coloraxis\": \"coloraxis\", \"geo\": \"geo\", \"hoverlabel\": {\"namelength\": 0}, \"hovertemplate\": \"Date=7/21/20<br>FIPS=%{location}<br>Confirmed=%{z}\", \"locations\": [161490.0, 53559.0, 60208.0, 470630.0, 345315.0, 507922.0, 162073.0, 120019.0, 88888.0, 11001.0, 898562.0, 2262703.0, 99999.0, 66.0, 140035.0, 689913.0, 1914438.0, 1664464.0, 1980820.0, 2070673.0, 2624421.0, 1502118.0, 458279.0, 577079.0, 390195.0, 2334941.0, 2419519.0, 2302724.0, 3348537.0, 1382574.0, 2701975.0, 512765.0, 330100.0, 804475.0, 1211019.0, 2091626.0, 3710000.0, 1978808.0, 69.0, 3439744.0, 3085929.0, 1436227.0, 2818489.0, 5767870.0, 310069.0, 2072116.0, 2948315.0, 4644119.0, 12111913.0, 343271.0, 790246.0, 78.0, 6818111.0, 2158574.0, 2919008.0, 3965119.0, 1288529.0], \"name\": \"\", \"z\": [70358, 2042, 148683, 34655, 409305, 41041, 48096, 13746, 49, 11427, 369834, 148988, 103, 319, 1418, 15823, 164864, 57916, 39721, 22929, 24060, 96583, 3723, 79545, 114033, 83059, 47457, 45524, 35194, 2711, 23190, 37528, 6262, 177256, 17517, 408181, 103216, 5207, 38, 77215, 26326, 15139, 107460, 12940, 17986, 73337, 8019, 81944, 351071, 35012, 1366, 304, 79371, 48575, 5172, 44135, 2238], \"type\": \"choropleth\"}], \"name\": \"7/21/20\"}, {\"data\": [{\"coloraxis\": \"coloraxis\", \"geo\": \"geo\", \"hoverlabel\": {\"namelength\": 0}, \"hovertemplate\": \"Date=7/22/20<br>FIPS=%{location}<br>Confirmed=%{z}\", \"locations\": [161490.0, 53559.0, 60208.0, 470630.0, 345315.0, 507922.0, 162073.0, 120019.0, 88888.0, 11001.0, 898562.0, 2262703.0, 99999.0, 66.0, 140035.0, 689913.0, 1914438.0, 1664464.0, 1980820.0, 2070673.0, 2534400.0, 1502118.0, 458279.0, 577079.0, 390195.0, 2334941.0, 2419519.0, 2302724.0, 3348537.0, 1412619.0, 2701975.0, 512765.0, 330100.0, 804475.0, 1211019.0, 2091626.0, 3710000.0, 1978808.0, 69.0, 3439744.0, 3085929.0, 1436227.0, 2818489.0, 5767870.0, 310069.0, 2072116.0, 2948315.0, 4644119.0, 12111913.0, 343271.0, 790246.0, 78.0, 6818111.0, 2158574.0, 2919008.0, 3965119.0, 1288529.0], \"name\": \"\", \"z\": [71813, 2131, 150609, 35246, 421286, 41680, 48223, 13792, 49, 11529, 379619, 152302, 103, 330, 1435, 16322, 166475, 58673, 40208, 23481, 24540, 99354, 3722, 80172, 114320, 83730, 47961, 47071, 36497, 2812, 23486, 38657, 6295, 177645, 17828, 408886, 105276, 5367, 38, 78742, 27298, 15393, 108223, 13038, 18062, 75042, 8077, 84417, 363615, 35578, 1366, 320, 80393, 49247, 5212, 44847, 2288], \"type\": \"choropleth\"}], \"name\": \"7/22/20\"}, {\"data\": [{\"coloraxis\": \"coloraxis\", \"geo\": \"geo\", \"hoverlabel\": {\"namelength\": 0}, \"hovertemplate\": \"Date=7/23/20<br>FIPS=%{location}<br>Confirmed=%{z}\", \"locations\": [161490.0, 53559.0, 60208.0, 470630.0, 345315.0, 507922.0, 162073.0, 120019.0, 88888.0, 11001.0, 898562.0, 2262703.0, 99999.0, 66.0, 140035.0, 689913.0, 1834421.0, 1664464.0, 1980820.0, 2070673.0, 2624421.0, 1502118.0, 458279.0, 577079.0, 390195.0, 2334941.0, 2419519.0, 2302724.0, 3348537.0, 1442694.0, 2701975.0, 512765.0, 330100.0, 804475.0, 1211019.0, 2091626.0, 3710000.0, 1978808.0, 69.0, 3439744.0, 3085929.0, 1436227.0, 2818489.0, 5767870.0, 310069.0, 2072116.0, 2994422.0, 4644119.0, 12111913.0, 343271.0, 790246.0, 78.0, 6818111.0, 2158574.0, 2919008.0, 3965119.0, 1288529.0], \"name\": \"\", \"z\": [74212, 2193, 152944, 36259, 430773, 42295, 48232, 13924, 49, 11571, 389868, 156607, 103, 337, 1490, 16737, 168096, 59602, 40796, 23956, 25147, 101650, 3737, 80836, 114647, 84431, 48721, 48053, 38060, 2909, 23818, 39919, 6318, 177887, 18163, 409697, 107125, 5493, 38, 80186, 27969, 15713, 109105, 13473, 18148, 76606, 8143, 86987, 373037, 36099, 1377, 336, 81237, 50009, 5452, 45899, 2347], \"type\": \"choropleth\"}], \"name\": \"7/23/20\"}, {\"data\": [{\"coloraxis\": \"coloraxis\", \"geo\": \"geo\", \"hoverlabel\": {\"namelength\": 0}, \"hovertemplate\": \"Date=7/24/20<br>FIPS=%{location}<br>Confirmed=%{z}\", \"locations\": [161490.0, 55841.0, 150212.0, 470630.0, 345315.0, 507922.0, 162073.0, 120019.0, 88888.0, 11001.0, 898562.0, 2262703.0, 99999.0, 66.0, 140035.0, 689913.0, 1914438.0, 1664464.0, 1980820.0, 2070673.0, 2624421.0, 1502118.0, 458279.0, 577079.0, 390195.0, 2334941.0, 2419519.0, 2302724.0, 3348537.0, 1442694.0, 2670918.0, 512765.0, 330100.0, 804475.0, 1211019.0, 2091626.0, 3710000.0, 1978808.0, 69.0, 3439744.0, 3085929.0, 1436227.0, 2818489.0, 5767870.0, 310069.0, 2072116.0, 2994422.0, 4644119.0, 12111913.0, 343271.0, 790246.0, 78.0, 6818111.0, 2158574.0, 2919008.0, 3965119.0, 1288529.0], \"name\": \"\", \"z\": [76005, 2249, 156301, 37249, 440185, 42962, 48776, 14202, 49, 11649, 402312, 161420, 103, 337, 1549, 17265, 169696, 60598, 41434, 24554, 25932, 103734, 3757, 81766, 114985, 85072, 49488, 49585, 39635, 3038, 24174, 40885, 6375, 178345, 18475, 410450, 109728, 5614, 38, 81746, 29116, 16104, 110292, 13967, 18224, 78607, 8200, 89078, 380364, 36962, 1385, 352, 82364, 50824, 5653, 46917, 2405], \"type\": \"choropleth\"}], \"name\": \"7/24/20\"}, {\"data\": [{\"coloraxis\": \"coloraxis\", \"geo\": \"geo\", \"hoverlabel\": {\"namelength\": 0}, \"hovertemplate\": \"Date=7/25/20<br>FIPS=%{location}<br>Confirmed=%{z}\", \"locations\": [161490.0, 55841.0, 60208.0, 470630.0, 345315.0, 507922.0, 162073.0, 120019.0, 88888.0, 11001.0, 898562.0, 2262703.0, 99999.0, 66.0, 140035.0, 689913.0, 1914438.0, 1664464.0, 1980820.0, 2070673.0, 2624421.0, 1502118.0, 458279.0, 577079.0, 390195.0, 2334941.0, 2446596.0, 2302724.0, 3348537.0, 1472713.0, 2702101.0, 512765.0, 330100.0, 804475.0, 1211019.0, 2091626.0, 3710000.0, 1978808.0, 69.0, 3439744.0, 3085929.0, 1436227.0, 2818489.0, 5767870.0, 310069.0, 2072116.0, 2994422.0, 4644119.0, 12111913.0, 343271.0, 790246.0, 78.0, 6818111.0, 2158574.0, 2919008.0, 3965119.0, 1378585.0], \"name\": \"\", \"z\": [78130, 2339, 160041, 37981, 446452, 43771, 48776, 14175, 49, 11717, 414511, 165188, 103, 337, 1620, 17826, 171122, 61520, 41886, 25009, 26764, 103734, 3790, 83054, 115268, 85622, 50291, 50981, 41034, 3259, 24395, 41816, 6415, 178858, 18788, 411200, 111421, 5736, 40, 83184, 30081, 16492, 111115, 14540, 18224, 80008, 8305, 90796, 390286, 37623, 1396, 352, 83609, 51849, 5775, 47870, 2446], \"type\": \"choropleth\"}], \"name\": \"7/25/20\"}, {\"data\": [{\"coloraxis\": \"coloraxis\", \"geo\": \"geo\", \"hoverlabel\": {\"namelength\": 0}, \"hovertemplate\": \"Date=7/26/20<br>FIPS=%{location}<br>Confirmed=%{z}\", \"locations\": [161490.0, 55841.0, 60208.0, 470630.0, 345315.0, 507922.0, 162073.0, 120019.0, 88888.0, 11001.0, 898562.0, 2262703.0, 99999.0, 66.0, 140035.0, 689913.0, 1834421.0, 1664464.0, 1980820.0, 2070673.0, 2624421.0, 1502118.0, 458279.0, 577079.0, 390195.0, 2334941.0, 2446596.0, 2302724.0, 3348537.0, 1472713.0, 2702101.0, 512765.0, 330100.0, 804475.0, 1211019.0, 2091626.0, 3710000.0, 1978808.0, 69.0, 3439744.0, 3085929.0, 1436227.0, 2818489.0, 5767870.0, 310069.0, 2072116.0, 2994422.0, 4644119.0, 12111913.0, 343271.0, 790246.0, 78.0, 6818111.0, 2158574.0, 2973025.0, 3965119.0, 1288529.0], \"name\": \"\", \"z\": [79294, 2525, 162014, 38623, 452288, 44318, 48776, 14290, 49, 11780, 423855, 167953, 103, 337, 1683, 18178, 172663, 62372, 42357, 25290, 27082, 107574, 3814, 83748, 115637, 86661, 51153, 52154, 42160, 3341, 24618, 42843, 6436, 179363, 19042, 411736, 112937, 5876, 40, 84073, 31285, 16758, 111745, 15143, 18224, 81199, 8395, 93936, 394084, 37973, 1400, 352, 84567, 52635, 5889, 48827, 2475], \"type\": \"choropleth\"}], \"name\": \"7/26/20\"}, {\"data\": [{\"coloraxis\": \"coloraxis\", \"geo\": \"geo\", \"hoverlabel\": {\"namelength\": 0}, \"hovertemplate\": \"Date=7/27/20<br>FIPS=%{location}<br>Confirmed=%{z}\", \"locations\": [161490.0, 55841.0, 60208.0, 470630.0, 345315.0, 507922.0, 162073.0, 120019.0, 88888.0, 11001.0, 898562.0, 2262703.0, 99999.0, 66.0, 140035.0, 689913.0, 1914438.0, 1664464.0, 1980820.0, 2070673.0, 2624421.0, 1502118.0, 458279.0, 577079.0, 390195.0, 2334941.0, 2446596.0, 2302724.0, 3348537.0, 1472713.0, 2702101.0, 512765.0, 330100.0, 804475.0, 1211019.0, 2091626.0, 3710000.0, 1978808.0, 69.0, 3439744.0, 3175969.0, 1436227.0, 2818489.0, 5767870.0, 310069.0, 2072116.0, 2994422.0, 4644119.0, 12111913.0, 343271.0, 790246.0, 78.0, 6818111.0, 2158574.0, 2973025.0, 3965119.0, 1288529.0], \"name\": \"\", \"z\": [81115, 2623, 163827, 39447, 458121, 44547, 48983, 14406, 49, 11780, 432747, 170843, 103, 349, 1711, 18692, 173894, 62907, 42696, 25804, 27586, 109917, 3832, 84876, 115926, 87173, 51803, 52781, 43489, 3380, 24899, 43831, 6441, 179812, 19502, 412344, 114916, 5986, 40, 85177, 32685, 17088, 112995, 15431, 18515, 82417, 8444, 96489, 400336, 38409, 1402, 364, 86072, 53321, 5999, 49417, 2520], \"type\": \"choropleth\"}], \"name\": \"7/27/20\"}, {\"data\": [{\"coloraxis\": \"coloraxis\", \"geo\": \"geo\", \"hoverlabel\": {\"namelength\": 0}, \"hovertemplate\": \"Date=7/3/20<br>FIPS=%{location}<br>Confirmed=%{z}\", \"locations\": [161490.0, 43332.0, 60208.0, 470630.0, 345315.0, 491774.0, 162073.0, 120019.0, 88888.0, 11001.0, 898562.0, 2262703.0, 99999.0, 66.0, 140035.0, 747835.0, 1834421.0, 1664464.0, 1980820.0, 1970200.0, 2624421.0, 1502118.0, 458279.0, 577079.0, 390195.0, 2308810.0, 2419519.0, 2302724.0, 3319452.0, 1172201.0, 2546484.0, 512765.0, 420133.0, 804475.0, 1175986.0, 2091626.0, 3710000.0, 1864633.0, 69.0, 3439744.0, 3045800.0, 1395206.0, 2818489.0, 5694982.0, 310069.0, 2072116.0, 2764061.0, 4644119.0, 11870320.0, 343271.0, 790246.0, 78.0, 6767094.0, 2105551.0, 2864907.0, 3965119.0, 1288529.0], \"name\": \"\", \"z\": [41865, 1060, 91872, 22622, 250514, 33595, 46717, 11923, 49, 10435, 178594, 90493, 103, 280, 975, 6994, 145750, 46915, 30463, 15659, 16376, 63289, 3373, 68961, 109628, 72175, 37624, 29684, 23160, 1128, 19660, 20718, 5857, 172742, 12776, 395872, 70262, 3722, 31, 55257, 15069, 9636, 93392, 7683, 16991, 41532, 6978, 48712, 186799, 23866, 1236, 98, 64393, 34778, 3126, 30317, 1582], \"type\": \"choropleth\"}], \"name\": \"7/3/20\"}, {\"data\": [{\"coloraxis\": \"coloraxis\", \"geo\": \"geo\", \"hoverlabel\": {\"namelength\": 0}, \"hovertemplate\": \"Date=7/4/20<br>FIPS=%{location}<br>Confirmed=%{z}\", \"locations\": [161490.0, 43332.0, 60208.0, 470630.0, 345315.0, 491774.0, 162073.0, 120019.0, 88888.0, 11001.0, 898562.0, 2262703.0, 99999.0, 66.0, 140035.0, 747835.0, 1834421.0, 1664464.0, 1980820.0, 1970200.0, 2624421.0, 1502118.0, 458279.0, 577079.0, 390195.0, 2334941.0, 2419519.0, 2302724.0, 3319452.0, 1172201.0, 2577619.0, 512765.0, 420133.0, 804475.0, 1175986.0, 2091626.0, 3710000.0, 1864633.0, 69.0, 3439744.0, 3045800.0, 1436227.0, 2818489.0, 5694982.0, 310069.0, 2072116.0, 2764061.0, 4644119.0, 11870320.0, 343271.0, 790246.0, 78.0, 6767094.0, 2105551.0, 2864907.0, 3965119.0, 1288529.0], \"name\": \"\", \"z\": [42862, 1107, 94567, 23209, 252895, 33849, 46717, 11996, 49, 10447, 190052, 93319, 103, 280, 999, 7370, 146612, 47432, 31061, 15911, 16376, 63289, 3397, 69341, 109838, 72581, 37624, 30674, 23583, 1167, 19827, 21575, 5872, 173033, 13063, 396598, 71670, 3779, 31, 56183, 15648, 9930, 93922, 7787, 16991, 43386, 7028, 50140, 193958, 24542, 1238, 111, 65109, 35247, 3205, 31055, 1606], \"type\": \"choropleth\"}], \"name\": \"7/4/20\"}, {\"data\": [{\"coloraxis\": \"coloraxis\", \"geo\": \"geo\", \"hoverlabel\": {\"namelength\": 0}, \"hovertemplate\": \"Date=7/5/20<br>FIPS=%{location}<br>Confirmed=%{z}\", \"locations\": [161490.0, 43332.0, 60208.0, 470630.0, 345315.0, 491774.0, 162073.0, 120019.0, 88888.0, 11001.0, 898562.0, 2262703.0, 99999.0, 66.0, 140035.0, 747835.0, 1834421.0, 1754482.0, 1980820.0, 1970200.0, 2624421.0, 1502118.0, 458279.0, 577079.0, 390195.0, 2334941.0, 2419519.0, 2302724.0, 3319452.0, 1172201.0, 2577619.0, 512765.0, 420133.0, 804475.0, 1175986.0, 2091626.0, 3710000.0, 1864633.0, 69.0, 3439744.0, 3045800.0, 1436227.0, 2818489.0, 5694982.0, 310069.0, 2072116.0, 2764061.0, 4644119.0, 11918751.0, 343271.0, 790246.0, 78.0, 6767094.0, 2105551.0, 2864907.0, 3965119.0, 1288529.0], \"name\": \"\", \"z\": [43953, 1134, 98103, 23814, 264681, 34048, 46717, 12128, 49, 10482, 200111, 95516, 103, 280, 1023, 7733, 147251, 48201, 31517, 16081, 16376, 65226, 3415, 69632, 109974, 72941, 38136, 30900, 23816, 1212, 19929, 22418, 5897, 173402, 13256, 397131, 72992, 3816, 31, 57150, 15931, 10230, 94403, 7916, 16991, 44847, 7063, 51316, 197421, 24952, 1249, 111, 65748, 35898, 3262, 31577, 1634], \"type\": \"choropleth\"}], \"name\": \"7/5/20\"}, {\"data\": [{\"coloraxis\": \"coloraxis\", \"geo\": \"geo\", \"hoverlabel\": {\"namelength\": 0}, \"hovertemplate\": \"Date=7/6/20<br>FIPS=%{location}<br>Confirmed=%{z}\", \"locations\": [161490.0, 43332.0, 60208.0, 470630.0, 345315.0, 491774.0, 162073.0, 120019.0, 88888.0, 11001.0, 898562.0, 2262703.0, 99999.0, 66.0, 140035.0, 763896.0, 1914438.0, 1754482.0, 1980820.0, 2010360.0, 2624421.0, 1502118.0, 458279.0, 577079.0, 390195.0, 2334941.0, 2419519.0, 2302724.0, 3409481.0, 1172201.0, 2577619.0, 512765.0, 420133.0, 804475.0, 1175986.0, 2091626.0, 3710000.0, 1864633.0, 69.0, 3439744.0, 3045800.0, 1436227.0, 2818489.0, 5694982.0, 310069.0, 2072116.0, 2810116.0, 4644119.0, 11918751.0, 343271.0, 790246.0, 78.0, 6767094.0, 2105551.0, 2919008.0, 3965119.0, 1288529.0], \"name\": \"\", \"z\": [44878, 1162, 101455, 24253, 271035, 34240, 46976, 12293, 49, 10515, 206447, 97064, 103, 301, 1030, 8052, 147865, 48524, 31758, 16638, 17152, 66327, 3423, 69904, 110137, 73267, 38569, 31257, 24211, 1249, 20046, 22909, 5914, 173611, 13507, 397649, 74775, 3849, 31, 57956, 16362, 10395, 95100, 8585, 16991, 46380, 7105, 52039, 205642, 25469, 1251, 112, 66102, 36985, 3442, 32061, 1675], \"type\": \"choropleth\"}], \"name\": \"7/6/20\"}, {\"data\": [{\"coloraxis\": \"coloraxis\", \"geo\": \"geo\", \"hoverlabel\": {\"namelength\": 0}, \"hovertemplate\": \"Date=7/7/20<br>FIPS=%{location}<br>Confirmed=%{z}\", \"locations\": [161490.0, 43332.0, 60208.0, 470630.0, 345315.0, 491774.0, 162073.0, 120019.0, 88888.0, 11001.0, 898562.0, 2262703.0, 99999.0, 66.0, 140035.0, 763896.0, 1834421.0, 1664464.0, 1980820.0, 2010360.0, 2534400.0, 1502118.0, 458279.0, 577079.0, 390195.0, 2334941.0, 2419519.0, 2302724.0, 3409481.0, 1172201.0, 2546484.0, 512765.0, 420133.0, 804475.0, 1175986.0, 2091626.0, 3710000.0, 1902728.0, 69.0, 3439744.0, 3045800.0, 1436227.0, 2818489.0, 5694982.0, 310069.0, 2072116.0, 2810116.0, 4644119.0, 11918751.0, 343271.0, 790246.0, 78.0, 6767094.0, 2105551.0, 2919008.0, 3965119.0, 1288529.0], \"name\": \"\", \"z\": [45785, 1180, 105094, 24512, 284012, 34647, 47033, 12414, 49, 10569, 213794, 100470, 103, 303, 1071, 8539, 149574, 48626, 32153, 16860, 17519, 68263, 3440, 70396, 110338, 73900, 39133, 32214, 24918, 1327, 20201, 23785, 5932, 173878, 13727, 398237, 76290, 3898, 31, 58904, 17220, 10605, 95898, 8714, 17154, 47352, 7163, 53514, 216026, 26033, 1254, 116, 66740, 37420, 3505, 32556, 1709], \"type\": \"choropleth\"}], \"name\": \"7/7/20\"}, {\"data\": [{\"coloraxis\": \"coloraxis\", \"geo\": \"geo\", \"hoverlabel\": {\"namelength\": 0}, \"hovertemplate\": \"Date=7/8/20<br>FIPS=%{location}<br>Confirmed=%{z}\", \"locations\": [161490.0, 45348.0, 60208.0, 470630.0, 345315.0, 491774.0, 162073.0, 120019.0, 88888.0, 11001.0, 898562.0, 2262703.0, 99999.0, 66.0, 140035.0, 763896.0, 1914438.0, 1664464.0, 1980820.0, 2010360.0, 2624421.0, 1412096.0, 458279.0, 577079.0, 390195.0, 2334941.0, 2419519.0, 2302724.0, 3438566.0, 1172201.0, 2546484.0, 512765.0, 420133.0, 804475.0, 1175986.0, 2091626.0, 3710000.0, 1940775.0, 69.0, 3439744.0, 3045800.0, 1436227.0, 2818489.0, 5694982.0, 310069.0, 2072116.0, 2902210.0, 4644119.0, 11918751.0, 343271.0, 790246.0, 78.0, 6818111.0, 2105551.0, 2919008.0, 3965119.0, 1288529.0], \"name\": \"\", \"z\": [46962, 1222, 108614, 25246, 292560, 35099, 47108, 12462, 49, 10642, 223783, 103890, 103, 307, 1094, 8969, 150554, 49063, 32624, 17332, 17919, 70151, 3460, 70861, 110602, 74551, 39589, 32888, 25590, 1371, 20425, 24301, 5952, 174039, 14017, 398929, 77687, 3971, 31, 60181, 17894, 10817, 96725, 8745, 17204, 48909, 7242, 55986, 224929, 26755, 1256, 122, 67375, 37941, 3707, 33154, 1740], \"type\": \"choropleth\"}], \"name\": \"7/8/20\"}, {\"data\": [{\"coloraxis\": \"coloraxis\", \"geo\": \"geo\", \"hoverlabel\": {\"namelength\": 0}, \"hovertemplate\": \"Date=7/9/20<br>FIPS=%{location}<br>Confirmed=%{z}\", \"locations\": [161490.0, 45348.0, 60208.0, 470630.0, 345315.0, 491774.0, 162073.0, 120019.0, 88888.0, 11001.0, 898562.0, 2262703.0, 99999.0, 66.0, 140035.0, 763896.0, 1914438.0, 1664464.0, 1980820.0, 2010360.0, 2624421.0, 1412096.0, 458279.0, 577079.0, 390195.0, 2334941.0, 2419519.0, 2302724.0, 3438566.0, 1172201.0, 2546484.0, 512765.0, 420133.0, 804475.0, 1175986.0, 2091626.0, 3710000.0, 1940775.0, 69.0, 3439744.0, 3045800.0, 1436227.0, 2818489.0, 5694982.0, 310069.0, 2072116.0, 2902210.0, 4644119.0, 11918751.0, 343271.0, 790246.0, 78.0, 6818111.0, 2105551.0, 2919008.0, 3965119.0, 1288529.0], \"name\": \"\", \"z\": [49174, 1268, 112671, 26052, 302484, 35507, 47209, 12531, 49, 10679, 232718, 106727, 103, 309, 1130, 9429, 151572, 49575, 33254, 17785, 18245, 71994, 3486, 71447, 110897, 75063, 40163, 33591, 26410, 1466, 20623, 24904, 5973, 174270, 14251, 399513, 79656, 4071, 31, 61331, 18497, 11188, 97542, 8862, 17243, 50691, 7336, 57591, 236541, 27356, 1272, 144, 67988, 38581, 3826, 33908, 1769], \"type\": \"choropleth\"}], \"name\": \"7/9/20\"}]);\n",
       "                        }).then(function(){\n",
       "                            \n",
       "var gd = document.getElementById('b7b16535-e086-4e6f-a88c-871807c5c564');\n",
       "var x = new MutationObserver(function (mutations, observer) {{\n",
       "        var display = window.getComputedStyle(gd).display;\n",
       "        if (!display || display === 'none') {{\n",
       "            console.log([gd, 'removed!']);\n",
       "            Plotly.purge(gd);\n",
       "            observer.disconnect();\n",
       "        }}\n",
       "}});\n",
       "\n",
       "// Listen for the removal of the full notebook cells\n",
       "var notebookContainer = gd.closest('#notebook-container');\n",
       "if (notebookContainer) {{\n",
       "    x.observe(notebookContainer, {childList: true});\n",
       "}}\n",
       "\n",
       "// Listen for the clearing of the current output cell\n",
       "var outputEl = gd.closest('.output');\n",
       "if (outputEl) {{\n",
       "    x.observe(outputEl, {childList: true});\n",
       "}}\n",
       "\n",
       "                        })\n",
       "                };\n",
       "                });\n",
       "            </script>\n",
       "        </div>"
      ]
     },
     "metadata": {},
     "output_type": "display_data"
    }
   ],
   "source": [
    "# Manipulating the original dataframe\n",
    "df_usadate = usa_df[usa_df['Confirmed']>0]\n",
    "df_usadate = df_usadate.groupby(['Date','USA-states']).sum().reset_index()\n",
    "df_usadate\n",
    "# Creating the visualization\n",
    "fig = px.choropleth(df_usadate, \n",
    "                    locations=\"FIPS\", \n",
    "                    color=\"Confirmed\", \n",
    "#                    hover_name=\"USA-states\", \n",
    "                    animation_frame=\"Date\"\n",
    "                   )\n",
    "fig.update_layout(\n",
    "    title_text = 'USA Spread of Covid 19',\n",
    "    title_x = 0.5,\n",
    ")\n",
    "    \n",
    "fig.show()"
   ]
  },
  {
   "cell_type": "code",
   "execution_count": null,
   "metadata": {},
   "outputs": [],
   "source": []
  }
 ],
 "metadata": {
  "kernelspec": {
   "display_name": "PythonData",
   "language": "python",
   "name": "pythondata"
  },
  "language_info": {
   "codemirror_mode": {
    "name": "ipython",
    "version": 3
   },
   "file_extension": ".py",
   "mimetype": "text/x-python",
   "name": "python",
   "nbconvert_exporter": "python",
   "pygments_lexer": "ipython3",
   "version": "3.7.6"
  }
 },
 "nbformat": 4,
 "nbformat_minor": 4
}
